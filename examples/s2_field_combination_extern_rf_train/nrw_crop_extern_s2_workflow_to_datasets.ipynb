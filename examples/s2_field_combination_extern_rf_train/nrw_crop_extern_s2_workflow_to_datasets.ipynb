{
 "cells": [
  {
   "attachments": {},
   "cell_type": "markdown",
   "metadata": {},
   "source": [
    "# Multi step join of monthly Sentinel-2 data to points of interest"
   ]
  },
  {
   "attachments": {},
   "cell_type": "markdown",
   "metadata": {},
   "source": [
    "This notebook rquires the following packages:"
   ]
  },
  {
   "cell_type": "code",
   "execution_count": null,
   "metadata": {},
   "outputs": [],
   "source": [
    "import geopandas as gpd\n",
    "import geoengine as ge"
   ]
  },
  {
   "attachments": {},
   "cell_type": "markdown",
   "metadata": {},
   "source": [
    "First, connect to the Geo Engine instance:"
   ]
  },
  {
   "cell_type": "code",
   "execution_count": 2,
   "metadata": {},
   "outputs": [],
   "source": [
    "ge.initialize(\"http://localhost:3030/api\", credentials=(\"admin@localhost\", \"admin1234\"))"
   ]
  },
  {
   "cell_type": "code",
   "execution_count": 3,
   "metadata": {},
   "outputs": [
    {
     "data": {
      "text/plain": [
       "Server:              http://localhost:3030/api\n",
       "User Id:             d5328854-6190-4af9-ad69-4e74b0961ac9\n",
       "Session Id:          1c740831-66ef-42a4-8829-622358f2ae2c\n",
       "Session valid until: 2023-03-31T22:29:52.497Z"
      ]
     },
     "execution_count": 3,
     "metadata": {},
     "output_type": "execute_result"
    }
   ],
   "source": [
    "session = ge.get_session()\n",
    "user_id = session.user_id\n",
    "session"
   ]
  },
  {
   "attachments": {},
   "cell_type": "markdown",
   "metadata": {},
   "source": [
    "To track how much work is done, get the used quota:"
   ]
  },
  {
   "cell_type": "code",
   "execution_count": 4,
   "metadata": {},
   "outputs": [
    {
     "data": {
      "text/plain": [
       "0"
      ]
     },
     "execution_count": 4,
     "metadata": {},
     "output_type": "execute_result"
    }
   ],
   "source": [
    "used_quota_start = ge.get_quota(user_id)['used']\n",
    "used_quota_start"
   ]
  },
  {
   "attachments": {},
   "cell_type": "markdown",
   "metadata": {},
   "source": [
    "Set the area of interest. It is defined as a bounding box in EPSG:32632.\n",
    "It is locted in NRW, Germany and covers the area between Willingen, Lippstadt and Werl."
   ]
  },
  {
   "cell_type": "code",
   "execution_count": 5,
   "metadata": {},
   "outputs": [
    {
     "data": {
      "text/plain": [
       "(421395, 5681078, 476201, 5727833)"
      ]
     },
     "execution_count": 5,
     "metadata": {},
     "output_type": "execute_result"
    }
   ],
   "source": [
    "bounds_array = [421395,  5681078, 476201, 5727833]\n",
    "xmin = bounds_array[0]\n",
    "ymin = bounds_array[1]\n",
    "xmax = bounds_array[2]\n",
    "ymax = bounds_array[3]\n",
    "\n",
    "(xmin, ymin, xmax, ymax)"
   ]
  },
  {
   "attachments": {},
   "cell_type": "markdown",
   "metadata": {},
   "source": [
    "Using the bounding box, a time interval and a resolution, we define the area of interest as a temporal raster space-time cube."
   ]
  },
  {
   "cell_type": "code",
   "execution_count": 6,
   "metadata": {},
   "outputs": [
    {
     "data": {
      "text/plain": [
       "{'spatialBounds': {'upperLeftCoordinate': {'x': 421395, 'y': 5727833},\n",
       "  'lowerRightCoordinate': {'x': 476201, 'y': 5681078}},\n",
       " 'timeInterval': {'start': '2021-01-01T00:00:00.000+00:00',\n",
       "  'end': '2021-12-31T00:00:00.000+00:00'},\n",
       " 'spatialResolution': {'x': 10.0, 'y': 10.0}}"
      ]
     },
     "execution_count": 6,
     "metadata": {},
     "output_type": "execute_result"
    }
   ],
   "source": [
    "from datetime import datetime\n",
    "time_start = datetime(2021, 1, 1)\n",
    "time_end = datetime(2021, 12, 31)\n",
    "\n",
    "study_area = ge.api.RasterQueryRectangle(\n",
    "    spatialBounds=ge.SpatialPartition2D(xmin, ymin, xmax, ymax).to_api_dict(),\n",
    "    timeInterval=ge.TimeInterval(time_start, time_end).to_api_dict(),\n",
    "    spatialResolution=ge.SpatialResolution(10.0, 10.0).to_api_dict(),\n",
    ")\n",
    "study_area"
   ]
  },
  {
   "attachments": {},
   "cell_type": "markdown",
   "metadata": {},
   "source": [
    "For the training, we use the Sentinel-2 data of the bands 02, 03, 04, and 08. The NDVI is calculated using an expression on band 4 and 8.\n",
    "\n",
    "For each band as well as the mask (SCL), we create a workflow, that downloads the Sentinel-2 data for the area of interest and stores it as a new dataset."
   ]
  },
  {
   "cell_type": "code",
   "execution_count": 7,
   "metadata": {},
   "outputs": [
    {
     "name": "stdout",
     "output_type": "stream",
     "text": [
      "B02\n",
      "status=completed, time_started=2023-03-31 21:29:52.914000+00:00, info={'dataset': 'c5b7184d-6f64-400b-a12a-14db8955e32a', 'upload': '9e2ff289-1038-4fea-9aa8-cf4f8bb6e540'}, time_total=00:40:04\n",
      "B03\n",
      "status=completed, time_started=2023-03-31 22:10:01.207000+00:00, info={'dataset': '4cb8f322-4308-40c4-96f4-14d7178bc2b0', 'upload': '7caa690c-2472-432e-a6b2-90d9c3d98506'}, time_total=00:40:12\n",
      "B04\n",
      "status=completed, time_started=2023-03-31 22:50:14.504000+00:00, info={'dataset': '707454bb-c6f6-474a-86fb-50ffd1fa822e', 'upload': '58914921-2acc-418c-bce7-8a37c18c8042'}, time_total=00:40:17\n",
      "B08\n",
      "status=completed, time_started=2023-03-31 23:30:32.830000+00:00, info={'dataset': '0f11c660-e9d6-458c-a9a5-67ea99f864b0', 'upload': 'c56b98e8-bd30-4723-b70d-05021e03b115'}, time_total=00:41:20\n",
      "SCL\n",
      "status=completed, time_started=2023-04-01 00:11:56.178000+00:00, info={'dataset': '8554cc40-8825-4da9-94c1-7148f3399bba', 'upload': 'cc694f72-093d-4ea7-9793-4db0ed6156e5'}, time_total=00:04:31\n"
     ]
    },
    {
     "data": {
      "text/plain": [
       "{'B02': TaskStatusInfo(status='completed', time_started=datetime.datetime(2023, 3, 31, 21, 29, 52, 914000, tzinfo=datetime.timezone.utc),info = {'dataset': 'c5b7184d-6f64-400b-a12a-14db8955e32a', 'upload': '9e2ff289-1038-4fea-9aa8-cf4f8bb6e540'}, time_total = '00:40:04'),\n",
       " 'B03': TaskStatusInfo(status='completed', time_started=datetime.datetime(2023, 3, 31, 22, 10, 1, 207000, tzinfo=datetime.timezone.utc),info = {'dataset': '4cb8f322-4308-40c4-96f4-14d7178bc2b0', 'upload': '7caa690c-2472-432e-a6b2-90d9c3d98506'}, time_total = '00:40:12'),\n",
       " 'B04': TaskStatusInfo(status='completed', time_started=datetime.datetime(2023, 3, 31, 22, 50, 14, 504000, tzinfo=datetime.timezone.utc),info = {'dataset': '707454bb-c6f6-474a-86fb-50ffd1fa822e', 'upload': '58914921-2acc-418c-bce7-8a37c18c8042'}, time_total = '00:40:17'),\n",
       " 'B08': TaskStatusInfo(status='completed', time_started=datetime.datetime(2023, 3, 31, 23, 30, 32, 830000, tzinfo=datetime.timezone.utc),info = {'dataset': '0f11c660-e9d6-458c-a9a5-67ea99f864b0', 'upload': 'c56b98e8-bd30-4723-b70d-05021e03b115'}, time_total = '00:41:20'),\n",
       " 'SCL': TaskStatusInfo(status='completed', time_started=datetime.datetime(2023, 4, 1, 0, 11, 56, 178000, tzinfo=datetime.timezone.utc),info = {'dataset': '8554cc40-8825-4da9-94c1-7148f3399bba', 'upload': 'cc694f72-093d-4ea7-9793-4db0ed6156e5'}, time_total = '00:04:31')}"
      ]
     },
     "execution_count": 7,
     "metadata": {},
     "output_type": "execute_result"
    }
   ],
   "source": [
    "status_download = {}\n",
    "\n",
    "for b in [\"B02\", \"B03\", \"B04\", \"B08\", \"SCL\"]:\n",
    "    print(b)\n",
    "    sentinel2_band_workflow = ge.unstable.workflow_blueprints.sentinel2_band(b)\n",
    "    sentinel2_band_workflow_id = ge.register_workflow(sentinel2_band_workflow.to_workflow_dict())\n",
    "    sentinel2_band_workflow_dataset_task = sentinel2_band_workflow_id.save_as_dataset(study_area, f\"sentinel2_nrw_crop_10m_{b}\")\n",
    "    sentinel2_band_workflow_dataset_task.wait_for_finish(print_status=False)\n",
    "    print(sentinel2_band_workflow_dataset_task.get_status())\n",
    "    status_download[b] = sentinel2_band_workflow_dataset_task.get_status()\n",
    "\n",
    "status_download"
   ]
  },
  {
   "attachments": {},
   "cell_type": "markdown",
   "metadata": {},
   "source": [
    "Check the quota used for downloading the bands:"
   ]
  },
  {
   "cell_type": "code",
   "execution_count": 8,
   "metadata": {},
   "outputs": [
    {
     "data": {
      "text/plain": [
       "17460"
      ]
     },
     "execution_count": 8,
     "metadata": {},
     "output_type": "execute_result"
    }
   ],
   "source": [
    "used_quota_download = ge.get_quota(user_id)['used'] - used_quota_start\n",
    "used_quota_download"
   ]
  },
  {
   "attachments": {},
   "cell_type": "markdown",
   "metadata": {},
   "source": [
    "Using the bands dataset_ids, we create a map from band name to Geo Engine \"InternalDataId\". The \"InternalDataId\" is used to reference the datasets in the workflow."
   ]
  },
  {
   "cell_type": "code",
   "execution_count": 9,
   "metadata": {},
   "outputs": [
    {
     "data": {
      "text/plain": [
       "{'B02': {'type': 'internal',\n",
       "  'datasetId': 'c5b7184d-6f64-400b-a12a-14db8955e32a'},\n",
       " 'B03': {'type': 'internal',\n",
       "  'datasetId': '4cb8f322-4308-40c4-96f4-14d7178bc2b0'},\n",
       " 'B04': {'type': 'internal',\n",
       "  'datasetId': '707454bb-c6f6-474a-86fb-50ffd1fa822e'},\n",
       " 'B08': {'type': 'internal',\n",
       "  'datasetId': '0f11c660-e9d6-458c-a9a5-67ea99f864b0'},\n",
       " 'SCL': {'type': 'internal',\n",
       "  'datasetId': '8554cc40-8825-4da9-94c1-7148f3399bba'}}"
      ]
     },
     "execution_count": 9,
     "metadata": {},
     "output_type": "execute_result"
    }
   ],
   "source": [
    "## IF you ran the workflow, you can get the ids from the status\n",
    "band_data_map = { name: task_status.info['dataset'] for name, task_status in status_download.items() }\n",
    "## IF you have the data already added, youn simply define the ids.\n",
    "#band_data_map = {\n",
    "#    'b02': '48d30acd-a378-4f2a-89b3-d73430c0f29e',\n",
    "#    'b03': '200ed06c-fcd1-41a3-b2dd-68b5d0b338a9',\n",
    "#    'b04': 'b9ececef-5a0c-4294-be16-334e8017f60f',\n",
    "#    'b08': '8e635367-35ff-42f9-bb21-88ae9db8be8d',\n",
    "#    'scl': '64636605-10da-4576-bf21-a265cc1f7d9c'\n",
    "#    }\n",
    "\n",
    "band_data_id_map = {name: \n",
    "    ge.api.InternalDataId(\n",
    "        type=\"internal\",\n",
    "        datasetId=id) for name, id in band_data_map.items()\n",
    "} \n",
    "\n",
    "band_data_id_map"
   ]
  },
  {
   "attachments": {},
   "cell_type": "markdown",
   "metadata": {},
   "source": [
    "Now we create a workflow to aggregate each band to monthly means. We also create a monthly mean of the NDVI which is calculated using an expression on band 4 and 8. The resulting datasets are stored as new datasets."
   ]
  },
  {
   "cell_type": "code",
   "execution_count": 10,
   "metadata": {},
   "outputs": [
    {
     "name": "stdout",
     "output_type": "stream",
     "text": [
      "B02\n",
      "status=completed, time_started=2023-04-01 00:16:35.650000+00:00, info={'dataset': 'acda443c-30d3-4437-b0d1-49e36f94b977', 'upload': '799772f4-be57-4239-aa8e-7f8460607c1b'}, time_total=00:01:26\n",
      "B03\n",
      "status=completed, time_started=2023-04-01 00:18:05.762000+00:00, info={'dataset': '4b67722c-db22-404a-bb93-ab18c90251e3', 'upload': 'a240ec5d-8f2d-4fa1-a5ab-e4a3dc0d8b75'}, time_total=00:01:23\n",
      "B04\n",
      "status=completed, time_started=2023-04-01 00:19:30.871000+00:00, info={'dataset': '45cc22e0-37b2-48f4-bcb6-198ba6321114', 'upload': '6175db1e-fade-4bb1-9595-f15b5e2b19d7'}, time_total=00:01:25\n",
      "B08\n",
      "status=completed, time_started=2023-04-01 00:20:55.972000+00:00, info={'dataset': '920c598d-50e0-4c65-9b7f-da2e4c56dc93', 'upload': '7253607a-190b-4362-9e00-6253dd7ef067'}, time_total=00:01:27\n",
      "NDVI\n",
      "status=completed, time_started=2023-04-01 00:22:26.071000+00:00, info={'dataset': '12f35dbd-7188-4bb1-8296-db6ab15e8c84', 'upload': 'dc649734-6a61-4c12-bf58-697f3d3cf5af'}, time_total=00:01:54\n"
     ]
    },
    {
     "data": {
      "text/plain": [
       "{'B02': TaskStatusInfo(status='completed', time_started=datetime.datetime(2023, 4, 1, 0, 16, 35, 650000, tzinfo=datetime.timezone.utc),info = {'dataset': 'acda443c-30d3-4437-b0d1-49e36f94b977', 'upload': '799772f4-be57-4239-aa8e-7f8460607c1b'}, time_total = '00:01:26'),\n",
       " 'B03': TaskStatusInfo(status='completed', time_started=datetime.datetime(2023, 4, 1, 0, 18, 5, 762000, tzinfo=datetime.timezone.utc),info = {'dataset': '4b67722c-db22-404a-bb93-ab18c90251e3', 'upload': 'a240ec5d-8f2d-4fa1-a5ab-e4a3dc0d8b75'}, time_total = '00:01:23'),\n",
       " 'B04': TaskStatusInfo(status='completed', time_started=datetime.datetime(2023, 4, 1, 0, 19, 30, 871000, tzinfo=datetime.timezone.utc),info = {'dataset': '45cc22e0-37b2-48f4-bcb6-198ba6321114', 'upload': '6175db1e-fade-4bb1-9595-f15b5e2b19d7'}, time_total = '00:01:25'),\n",
       " 'B08': TaskStatusInfo(status='completed', time_started=datetime.datetime(2023, 4, 1, 0, 20, 55, 972000, tzinfo=datetime.timezone.utc),info = {'dataset': '920c598d-50e0-4c65-9b7f-da2e4c56dc93', 'upload': '7253607a-190b-4362-9e00-6253dd7ef067'}, time_total = '00:01:27'),\n",
       " 'NDVI': TaskStatusInfo(status='completed', time_started=datetime.datetime(2023, 4, 1, 0, 22, 26, 71000, tzinfo=datetime.timezone.utc),info = {'dataset': '12f35dbd-7188-4bb1-8296-db6ab15e8c84', 'upload': 'dc649734-6a61-4c12-bf58-697f3d3cf5af'}, time_total = '00:01:54')}"
      ]
     },
     "execution_count": 10,
     "metadata": {},
     "output_type": "execute_result"
    }
   ],
   "source": [
    "status_agg = {}\n",
    "\n",
    "for b in [\"B02\", \"B03\", \"B04\", \"B08\", \"NDVI\"]:\n",
    "    print(b)\n",
    "    sentinel2_band_workflow = ge.unstable.workflow_blueprints.s2_cloud_free_aggregated_band_custom_input(b, band_data_id_map, granularity=\"months\", window_size=1, aggregation_type=\"mean\")\n",
    "    sentinel2_band_workflow_id = ge.register_workflow(sentinel2_band_workflow.to_workflow_dict())\n",
    "    sentinel2_band_workflow_dataset_task = sentinel2_band_workflow_id.save_as_dataset(study_area, f\"sentinel2_nrw_crop_10m_cf_monthly_{b}\")\n",
    "    sentinel2_band_workflow_dataset_task.wait_for_finish(print_status=False)\n",
    "    print(sentinel2_band_workflow_dataset_task.get_status())\n",
    "    status_agg[b] = sentinel2_band_workflow_dataset_task.get_status()\n",
    "\n",
    "status_agg"
   ]
  },
  {
   "attachments": {},
   "cell_type": "markdown",
   "metadata": {},
   "source": [
    "Check the quota used for aggregating the bands (and calculating NDVI):"
   ]
  },
  {
   "cell_type": "code",
   "execution_count": 11,
   "metadata": {},
   "outputs": [
    {
     "data": {
      "text/plain": [
       "58704"
      ]
     },
     "execution_count": 11,
     "metadata": {},
     "output_type": "execute_result"
    }
   ],
   "source": [
    "used_quota_agg = ge.get_quota(user_id)['used'] - used_quota_download\n",
    "used_quota_agg"
   ]
  },
  {
   "attachments": {},
   "cell_type": "markdown",
   "metadata": {},
   "source": [
    "Again, we create a map from band name to Geo Engine \"InternalDataId\" for the aggregated bands."
   ]
  },
  {
   "cell_type": "code",
   "execution_count": 12,
   "metadata": {},
   "outputs": [],
   "source": [
    "monthly_band_data_map = { name: task_status.info['dataset'] for name, task_status in status_agg.items() }\n",
    "\n",
    "#monthly_band_data_map = {\n",
    "#    'b02': 'a291c42d-ec5a-4702-954e-a76b17154752',\n",
    "#    'b03': '8a15acd3-e135-4cc1-83b3-a883a52d69d7',\n",
    "#    'b04': '9d3f5b09-3cb6-4dac-a673-9e5ead88a221',\n",
    "#    'b08': 'd7775c4c-ab71-4f8e-8fac-ccedb154861a',\n",
    "#    'ndvi': '60fb38a6-9002-4254-8554-15ac293876c7'\n",
    "#    }\n",
    "\n",
    "monthly_band_data_id_map = {name: \n",
    "    ge.api.InternalDataId(\n",
    "        type=\"internal\",\n",
    "        datasetId=id) for name, id in monthly_band_data_map.items()\n",
    "} \n"
   ]
  },
  {
   "attachments": {},
   "cell_type": "markdown",
   "metadata": {},
   "source": [
    "Upload the points to the Geo Engine:"
   ]
  },
  {
   "cell_type": "code",
   "execution_count": 13,
   "metadata": {},
   "outputs": [
    {
     "data": {
      "text/plain": [
       "0b7ddaf2-27b8-4a66-8c36-56804be46f19"
      ]
     },
     "execution_count": 13,
     "metadata": {},
     "output_type": "execute_result"
    }
   ],
   "source": [
    "points_df = gpd.read_file(\"group_sample_frac1_inspireId_utm32n.gpkg\")\n",
    "points_id = ge.upload_dataframe(points_df, \"group_sample_frac1_inspireId\")\n",
    "points_id"
   ]
  },
  {
   "attachments": {},
   "cell_type": "markdown",
   "metadata": {},
   "source": [
    "Create a souce operator that provides the points to a workflow:"
   ]
  },
  {
   "cell_type": "code",
   "execution_count": 14,
   "metadata": {},
   "outputs": [
    {
     "data": {
      "text/plain": [
       "{'type': 'Vector',\n",
       " 'operator': {'type': 'OgrSource',\n",
       "  'params': {'data': {'type': 'internal',\n",
       "    'datasetId': '0b7ddaf2-27b8-4a66-8c36-56804be46f19'},\n",
       "   'attributeProjection': None,\n",
       "   'attributeFilters': None}}}"
      ]
     },
     "execution_count": 14,
     "metadata": {},
     "output_type": "execute_result"
    }
   ],
   "source": [
    "points_source_operator = ge.unstable.workflow_operators.OgrSource(str(points_id))\n",
    "points_source_operator.to_workflow_dict()"
   ]
  },
  {
   "attachments": {},
   "cell_type": "markdown",
   "metadata": {},
   "source": [
    "To attach the Sentinel-2 data to the points, we use the raster-vector join operator. It takes a vector source (the points) and raster sources (the aggregated bands) as input and creates a point-time-series as output."
   ]
  },
  {
   "cell_type": "code",
   "execution_count": 15,
   "metadata": {},
   "outputs": [
    {
     "data": {
      "text/plain": [
       "4a732008-56da-5f11-8972-cd2baf6688b8"
      ]
     },
     "execution_count": 15,
     "metadata": {},
     "output_type": "execute_result"
    }
   ],
   "source": [
    "# projected_points = ge.unstable.workflow_operators.Reprojection(points_source_operator, target_spatial_reference=\"EPSG:32632\") # only needed if input not projected\n",
    "\n",
    "points_with_s2_cloud_free = ge.unstable.workflow_operators.RasterVectorJoin(\n",
    "    raster_sources=[ge.unstable.workflow_operators.GdalSource(x) for x in monthly_band_data_id_map.values() ],\n",
    "    vector_source=points_source_operator, #projected_points,\n",
    "    new_column_names=[x for x in monthly_band_data_id_map.keys()],\n",
    ")\n",
    "\n",
    "points_with_s2_cloud_free.to_workflow_dict()\n",
    "\n",
    "workflow = ge.register_workflow(points_with_s2_cloud_free.to_workflow_dict())\n",
    "workflow"
   ]
  },
  {
   "attachments": {},
   "cell_type": "markdown",
   "metadata": {},
   "source": [
    "Create datetime objects for the start and end of the time interval we use to query the final wrkflow:"
   ]
  },
  {
   "cell_type": "code",
   "execution_count": 16,
   "metadata": {},
   "outputs": [
    {
     "data": {
      "text/plain": [
       "(datetime.datetime(2021, 1, 1, 0, 0), datetime.datetime(2022, 1, 1, 0, 0))"
      ]
     },
     "execution_count": 16,
     "metadata": {},
     "output_type": "execute_result"
    }
   ],
   "source": [
    "start_dt = datetime(2021, 1, 1, 0, 0, 0)\n",
    "end_dt = datetime(2022, 1, 1, 0, 0, 0)\n",
    "\n",
    "start_dt, end_dt"
   ]
  },
  {
   "attachments": {},
   "cell_type": "markdown",
   "metadata": {},
   "source": [
    "Now, we query the workflow that attaches the Sentinel-2 data to the points from python and store the result in a gpkg file."
   ]
  },
  {
   "cell_type": "code",
   "execution_count": 17,
   "metadata": {},
   "outputs": [
    {
     "data": {
      "text/html": [
       "<div>\n",
       "<style scoped>\n",
       "    .dataframe tbody tr th:only-of-type {\n",
       "        vertical-align: middle;\n",
       "    }\n",
       "\n",
       "    .dataframe tbody tr th {\n",
       "        vertical-align: top;\n",
       "    }\n",
       "\n",
       "    .dataframe thead th {\n",
       "        text-align: right;\n",
       "    }\n",
       "</style>\n",
       "<table border=\"1\" class=\"dataframe\">\n",
       "  <thead>\n",
       "    <tr style=\"text-align: right;\">\n",
       "      <th></th>\n",
       "      <th>INSPIRE_ID</th>\n",
       "      <th>B04</th>\n",
       "      <th>B03</th>\n",
       "      <th>CODE</th>\n",
       "      <th>ID</th>\n",
       "      <th>index</th>\n",
       "      <th>B02</th>\n",
       "      <th>B08</th>\n",
       "      <th>NDVI</th>\n",
       "      <th>geometry</th>\n",
       "      <th>time_start</th>\n",
       "      <th>time_end</th>\n",
       "    </tr>\n",
       "  </thead>\n",
       "  <tbody>\n",
       "    <tr>\n",
       "      <th>0</th>\n",
       "      <td>https://geodaten.nrw.de/id/inspire-lu-ts/exist...</td>\n",
       "      <td>NaN</td>\n",
       "      <td>NaN</td>\n",
       "      <td>311</td>\n",
       "      <td>0</td>\n",
       "      <td>0</td>\n",
       "      <td>NaN</td>\n",
       "      <td>NaN</td>\n",
       "      <td>0.033419</td>\n",
       "      <td>MULTIPOINT (428690.027 5711938.189)</td>\n",
       "      <td>2021-01-01 00:00:00+00:00</td>\n",
       "      <td>2021-02-01 00:00:00+00:00</td>\n",
       "    </tr>\n",
       "    <tr>\n",
       "      <th>1</th>\n",
       "      <td>https://geodaten.nrw.de/id/inspire-lu-ts/exist...</td>\n",
       "      <td>NaN</td>\n",
       "      <td>NaN</td>\n",
       "      <td>131</td>\n",
       "      <td>1</td>\n",
       "      <td>1</td>\n",
       "      <td>NaN</td>\n",
       "      <td>NaN</td>\n",
       "      <td>0.040039</td>\n",
       "      <td>MULTIPOINT (427819.337 5710040.545)</td>\n",
       "      <td>2021-01-01 00:00:00+00:00</td>\n",
       "      <td>2021-02-01 00:00:00+00:00</td>\n",
       "    </tr>\n",
       "    <tr>\n",
       "      <th>2</th>\n",
       "      <td>https://geodaten.nrw.de/id/inspire-lu-ts/exist...</td>\n",
       "      <td>NaN</td>\n",
       "      <td>NaN</td>\n",
       "      <td>115</td>\n",
       "      <td>2</td>\n",
       "      <td>2</td>\n",
       "      <td>NaN</td>\n",
       "      <td>NaN</td>\n",
       "      <td>0.043195</td>\n",
       "      <td>MULTIPOINT (427320.866 5710158.178)</td>\n",
       "      <td>2021-01-01 00:00:00+00:00</td>\n",
       "      <td>2021-02-01 00:00:00+00:00</td>\n",
       "    </tr>\n",
       "    <tr>\n",
       "      <th>3</th>\n",
       "      <td>https://geodaten.nrw.de/id/inspire-lu-ts/exist...</td>\n",
       "      <td>NaN</td>\n",
       "      <td>NaN</td>\n",
       "      <td>459</td>\n",
       "      <td>3</td>\n",
       "      <td>265</td>\n",
       "      <td>NaN</td>\n",
       "      <td>NaN</td>\n",
       "      <td>0.025341</td>\n",
       "      <td>MULTIPOINT (431527.388 5693772.886)</td>\n",
       "      <td>2021-01-01 00:00:00+00:00</td>\n",
       "      <td>2021-02-01 00:00:00+00:00</td>\n",
       "    </tr>\n",
       "    <tr>\n",
       "      <th>4</th>\n",
       "      <td>https://geodaten.nrw.de/id/inspire-lu-ts/exist...</td>\n",
       "      <td>NaN</td>\n",
       "      <td>NaN</td>\n",
       "      <td>459</td>\n",
       "      <td>4</td>\n",
       "      <td>266</td>\n",
       "      <td>NaN</td>\n",
       "      <td>NaN</td>\n",
       "      <td>0.016331</td>\n",
       "      <td>MULTIPOINT (431535.193 5693614.690)</td>\n",
       "      <td>2021-01-01 00:00:00+00:00</td>\n",
       "      <td>2021-02-01 00:00:00+00:00</td>\n",
       "    </tr>\n",
       "    <tr>\n",
       "      <th>...</th>\n",
       "      <td>...</td>\n",
       "      <td>...</td>\n",
       "      <td>...</td>\n",
       "      <td>...</td>\n",
       "      <td>...</td>\n",
       "      <td>...</td>\n",
       "      <td>...</td>\n",
       "      <td>...</td>\n",
       "      <td>...</td>\n",
       "      <td>...</td>\n",
       "      <td>...</td>\n",
       "      <td>...</td>\n",
       "    </tr>\n",
       "    <tr>\n",
       "      <th>593083</th>\n",
       "      <td>https://geodaten.nrw.de/id/inspire-lu-ts/exist...</td>\n",
       "      <td>623.0</td>\n",
       "      <td>780.0</td>\n",
       "      <td>115</td>\n",
       "      <td>49419</td>\n",
       "      <td>732423</td>\n",
       "      <td>596.0</td>\n",
       "      <td>3531.0</td>\n",
       "      <td>0.122704</td>\n",
       "      <td>MULTIPOINT (472357.075 5696612.529)</td>\n",
       "      <td>2021-12-01 00:00:00+00:00</td>\n",
       "      <td>2022-01-01 00:00:00+00:00</td>\n",
       "    </tr>\n",
       "    <tr>\n",
       "      <th>593084</th>\n",
       "      <td>https://geodaten.nrw.de/id/inspire-lu-ts/exist...</td>\n",
       "      <td>723.0</td>\n",
       "      <td>537.0</td>\n",
       "      <td>115</td>\n",
       "      <td>49420</td>\n",
       "      <td>732424</td>\n",
       "      <td>466.0</td>\n",
       "      <td>1102.0</td>\n",
       "      <td>0.093200</td>\n",
       "      <td>MULTIPOINT (472016.875 5697690.039)</td>\n",
       "      <td>2021-12-01 00:00:00+00:00</td>\n",
       "      <td>2022-01-01 00:00:00+00:00</td>\n",
       "    </tr>\n",
       "    <tr>\n",
       "      <th>593085</th>\n",
       "      <td>https://geodaten.nrw.de/id/inspire-lu-ts/exist...</td>\n",
       "      <td>463.0</td>\n",
       "      <td>530.0</td>\n",
       "      <td>115</td>\n",
       "      <td>49421</td>\n",
       "      <td>732425</td>\n",
       "      <td>354.0</td>\n",
       "      <td>2438.0</td>\n",
       "      <td>0.132107</td>\n",
       "      <td>MULTIPOINT (471981.413 5696219.338)</td>\n",
       "      <td>2021-12-01 00:00:00+00:00</td>\n",
       "      <td>2022-01-01 00:00:00+00:00</td>\n",
       "    </tr>\n",
       "    <tr>\n",
       "      <th>593086</th>\n",
       "      <td>https://geodaten.nrw.de/id/inspire-lu-ts/exist...</td>\n",
       "      <td>609.0</td>\n",
       "      <td>489.0</td>\n",
       "      <td>411</td>\n",
       "      <td>49422</td>\n",
       "      <td>732426</td>\n",
       "      <td>473.0</td>\n",
       "      <td>1214.0</td>\n",
       "      <td>0.088917</td>\n",
       "      <td>MULTIPOINT (471704.064 5697043.769)</td>\n",
       "      <td>2021-12-01 00:00:00+00:00</td>\n",
       "      <td>2022-01-01 00:00:00+00:00</td>\n",
       "    </tr>\n",
       "    <tr>\n",
       "      <th>593087</th>\n",
       "      <td>https://geodaten.nrw.de/id/inspire-lu-ts/exist...</td>\n",
       "      <td>NaN</td>\n",
       "      <td>NaN</td>\n",
       "      <td>459</td>\n",
       "      <td>49423</td>\n",
       "      <td>732802</td>\n",
       "      <td>NaN</td>\n",
       "      <td>NaN</td>\n",
       "      <td>0.182366</td>\n",
       "      <td>MULTIPOINT (472522.639 5708612.229)</td>\n",
       "      <td>2021-12-01 00:00:00+00:00</td>\n",
       "      <td>2022-01-01 00:00:00+00:00</td>\n",
       "    </tr>\n",
       "  </tbody>\n",
       "</table>\n",
       "<p>593088 rows × 12 columns</p>\n",
       "</div>"
      ],
      "text/plain": [
       "                                               INSPIRE_ID    B04    B03  CODE  \\\n",
       "0       https://geodaten.nrw.de/id/inspire-lu-ts/exist...    NaN    NaN   311   \n",
       "1       https://geodaten.nrw.de/id/inspire-lu-ts/exist...    NaN    NaN   131   \n",
       "2       https://geodaten.nrw.de/id/inspire-lu-ts/exist...    NaN    NaN   115   \n",
       "3       https://geodaten.nrw.de/id/inspire-lu-ts/exist...    NaN    NaN   459   \n",
       "4       https://geodaten.nrw.de/id/inspire-lu-ts/exist...    NaN    NaN   459   \n",
       "...                                                   ...    ...    ...   ...   \n",
       "593083  https://geodaten.nrw.de/id/inspire-lu-ts/exist...  623.0  780.0   115   \n",
       "593084  https://geodaten.nrw.de/id/inspire-lu-ts/exist...  723.0  537.0   115   \n",
       "593085  https://geodaten.nrw.de/id/inspire-lu-ts/exist...  463.0  530.0   115   \n",
       "593086  https://geodaten.nrw.de/id/inspire-lu-ts/exist...  609.0  489.0   411   \n",
       "593087  https://geodaten.nrw.de/id/inspire-lu-ts/exist...    NaN    NaN   459   \n",
       "\n",
       "           ID   index    B02     B08      NDVI  \\\n",
       "0           0       0    NaN     NaN  0.033419   \n",
       "1           1       1    NaN     NaN  0.040039   \n",
       "2           2       2    NaN     NaN  0.043195   \n",
       "3           3     265    NaN     NaN  0.025341   \n",
       "4           4     266    NaN     NaN  0.016331   \n",
       "...       ...     ...    ...     ...       ...   \n",
       "593083  49419  732423  596.0  3531.0  0.122704   \n",
       "593084  49420  732424  466.0  1102.0  0.093200   \n",
       "593085  49421  732425  354.0  2438.0  0.132107   \n",
       "593086  49422  732426  473.0  1214.0  0.088917   \n",
       "593087  49423  732802    NaN     NaN  0.182366   \n",
       "\n",
       "                                   geometry                time_start  \\\n",
       "0       MULTIPOINT (428690.027 5711938.189) 2021-01-01 00:00:00+00:00   \n",
       "1       MULTIPOINT (427819.337 5710040.545) 2021-01-01 00:00:00+00:00   \n",
       "2       MULTIPOINT (427320.866 5710158.178) 2021-01-01 00:00:00+00:00   \n",
       "3       MULTIPOINT (431527.388 5693772.886) 2021-01-01 00:00:00+00:00   \n",
       "4       MULTIPOINT (431535.193 5693614.690) 2021-01-01 00:00:00+00:00   \n",
       "...                                     ...                       ...   \n",
       "593083  MULTIPOINT (472357.075 5696612.529) 2021-12-01 00:00:00+00:00   \n",
       "593084  MULTIPOINT (472016.875 5697690.039) 2021-12-01 00:00:00+00:00   \n",
       "593085  MULTIPOINT (471981.413 5696219.338) 2021-12-01 00:00:00+00:00   \n",
       "593086  MULTIPOINT (471704.064 5697043.769) 2021-12-01 00:00:00+00:00   \n",
       "593087  MULTIPOINT (472522.639 5708612.229) 2021-12-01 00:00:00+00:00   \n",
       "\n",
       "                        time_end  \n",
       "0      2021-02-01 00:00:00+00:00  \n",
       "1      2021-02-01 00:00:00+00:00  \n",
       "2      2021-02-01 00:00:00+00:00  \n",
       "3      2021-02-01 00:00:00+00:00  \n",
       "4      2021-02-01 00:00:00+00:00  \n",
       "...                          ...  \n",
       "593083 2022-01-01 00:00:00+00:00  \n",
       "593084 2022-01-01 00:00:00+00:00  \n",
       "593085 2022-01-01 00:00:00+00:00  \n",
       "593086 2022-01-01 00:00:00+00:00  \n",
       "593087 2022-01-01 00:00:00+00:00  \n",
       "\n",
       "[593088 rows x 12 columns]"
      ]
     },
     "execution_count": 17,
     "metadata": {},
     "output_type": "execute_result"
    }
   ],
   "source": [
    "gp_res = await workflow.vector_stream_into_geopandas(\n",
    "    ge.QueryRectangle(\n",
    "        spatial_bounds=ge.BoundingBox2D(\n",
    "            xmin=xmin,\n",
    "            ymin=ymin,\n",
    "            xmax=xmax,\n",
    "            ymax=ymax,\n",
    "        ),\n",
    "        time_interval=ge.TimeInterval(\n",
    "            start=start_dt,\n",
    "            end=end_dt,\n",
    "        ),\n",
    "        resolution=ge.SpatialResolution(\n",
    "            10.0,\n",
    "            10.0,\n",
    "        ),\n",
    "        srs=\"EPSG:32632\",\n",
    "))\n",
    "\n",
    "gp_res.to_file(\"gp_res_10_frac1_monthly_utm32n_multi_steps.gpkg\", driver=\"GPKG\")\n",
    "gp_res"
   ]
  },
  {
   "attachments": {},
   "cell_type": "markdown",
   "metadata": {},
   "source": [
    "Check the quota used for querying the workflow:"
   ]
  },
  {
   "cell_type": "code",
   "execution_count": 18,
   "metadata": {},
   "outputs": [
    {
     "data": {
      "text/plain": [
       "29815"
      ]
     },
     "execution_count": 18,
     "metadata": {},
     "output_type": "execute_result"
    }
   ],
   "source": [
    "used_quota_rvjoin = ge.get_quota(user_id)['used'] - used_quota_agg\n",
    "used_quota_rvjoin"
   ]
  }
 ],
 "metadata": {
  "kernelspec": {
   "display_name": "env",
   "language": "python",
   "name": "python3"
  },
  "language_info": {
   "codemirror_mode": {
    "name": "ipython",
    "version": 3
   },
   "file_extension": ".py",
   "mimetype": "text/x-python",
   "name": "python",
   "nbconvert_exporter": "python",
   "pygments_lexer": "ipython3",
   "version": "3.10.6"
  },
  "orig_nbformat": 4
 },
 "nbformat": 4,
 "nbformat_minor": 2
}
