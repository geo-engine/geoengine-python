{
 "cells": [
  {
   "attachments": {},
   "cell_type": "markdown",
   "metadata": {},
   "source": [
    "# Multi step join of monthly Sentinel-2 data to points of interest"
   ]
  },
  {
   "attachments": {},
   "cell_type": "markdown",
   "metadata": {},
   "source": [
    "## 1. Setup\n"
   ]
  },
  {
   "attachments": {},
   "cell_type": "markdown",
   "metadata": {},
   "source": [
    "This notebook requires the following packages:"
   ]
  },
  {
   "cell_type": "code",
   "execution_count": null,
   "metadata": {},
   "outputs": [],
   "source": [
    "import geopandas as gpd\n",
    "import geoengine as ge"
   ]
  },
  {
   "attachments": {},
   "cell_type": "markdown",
   "metadata": {},
   "source": [
    "First, connect to the Geo Engine instance:"
   ]
  },
  {
   "cell_type": "code",
   "execution_count": 2,
   "metadata": {},
   "outputs": [],
   "source": [
    "ge.initialize(\"http://localhost:3030/api\", credentials=(\"admin@localhost\", \"admin1234\"))"
   ]
  },
  {
   "cell_type": "code",
   "execution_count": 3,
   "metadata": {},
   "outputs": [
    {
     "data": {
      "text/plain": [
       "Server:              http://localhost:3030/api\n",
       "User Id:             d5328854-6190-4af9-ad69-4e74b0961ac9\n",
       "Session Id:          0c7cd3ef-40bb-439f-a4b3-13049d1578e6\n",
       "Session valid until: 2023-04-08T19:25:16.699Z"
      ]
     },
     "execution_count": 3,
     "metadata": {},
     "output_type": "execute_result"
    }
   ],
   "source": [
    "session = ge.get_session()\n",
    "user_id = session.user_id\n",
    "session"
   ]
  },
  {
   "attachments": {},
   "cell_type": "markdown",
   "metadata": {},
   "source": [
    "## 2. Download Sentinel-2 data and store it in the Geo Engine\n",
    "\n",
    "Since the Sentinel-2 data is stored in the cloud (AWS S3), we create a workflow to store it as a local dataset. While this is not necessary, it allows us to use the data in the Geo Engine without the need to download it again."
   ]
  },
  {
   "attachments": {},
   "cell_type": "markdown",
   "metadata": {},
   "source": [
    "To track how much work is done, get the used quota:"
   ]
  },
  {
   "cell_type": "code",
   "execution_count": 4,
   "metadata": {},
   "outputs": [
    {
     "data": {
      "text/plain": [
       "0"
      ]
     },
     "execution_count": 4,
     "metadata": {},
     "output_type": "execute_result"
    }
   ],
   "source": [
    "used_quota_start = ge.get_quota(user_id)['used']\n",
    "used_quota_start"
   ]
  },
  {
   "attachments": {},
   "cell_type": "markdown",
   "metadata": {},
   "source": [
    "Set the area of interest. It is defined as a bounding box in UTM 32 N (EPSG:32632).\n",
    "It is located in NRW, Germany, and covers the area between Willingen, Lippstadt, and Werl."
   ]
  },
  {
   "cell_type": "code",
   "execution_count": 5,
   "metadata": {},
   "outputs": [
    {
     "data": {
      "text/plain": [
       "(421395, 5681078, 476201, 5727833)"
      ]
     },
     "execution_count": 5,
     "metadata": {},
     "output_type": "execute_result"
    }
   ],
   "source": [
    "bounds_array = [421395,  5681078, 476201, 5727833]\n",
    "xmin = bounds_array[0]\n",
    "ymin = bounds_array[1]\n",
    "xmax = bounds_array[2]\n",
    "ymax = bounds_array[3]\n",
    "\n",
    "(xmin, ymin, xmax, ymax)"
   ]
  },
  {
   "attachments": {},
   "cell_type": "markdown",
   "metadata": {},
   "source": [
    "Using the bounding box, a time interval and a resolution, we define the area of interest as a temporal raster space-time cube."
   ]
  },
  {
   "cell_type": "code",
   "execution_count": 6,
   "metadata": {},
   "outputs": [
    {
     "data": {
      "text/plain": [
       "{'spatialBounds': {'upperLeftCoordinate': {'x': 421395, 'y': 5727833},\n",
       "  'lowerRightCoordinate': {'x': 476201, 'y': 5681078}},\n",
       " 'timeInterval': {'start': '2021-01-01T00:00:00.000+00:00',\n",
       "  'end': '2021-12-31T00:00:00.000+00:00'},\n",
       " 'spatialResolution': {'x': 10.0, 'y': 10.0}}"
      ]
     },
     "execution_count": 6,
     "metadata": {},
     "output_type": "execute_result"
    }
   ],
   "source": [
    "from datetime import datetime\n",
    "time_start = datetime(2021, 1, 1)\n",
    "time_end = datetime(2021, 12, 31)\n",
    "\n",
    "study_area = ge.api.RasterQueryRectangle(\n",
    "    spatialBounds=ge.SpatialPartition2D(xmin, ymin, xmax, ymax).to_api_dict(),\n",
    "    timeInterval=ge.TimeInterval(time_start, time_end).to_api_dict(),\n",
    "    spatialResolution=ge.SpatialResolution(10.0, 10.0).to_api_dict(),\n",
    ")\n",
    "study_area"
   ]
  },
  {
   "attachments": {},
   "cell_type": "markdown",
   "metadata": {},
   "source": [
    "For each band (B02, B03, B04, B08) as well as the scene mask (SCL), we create a workflow, that downloads the Sentinel-2 data for the area of interest and stores it as a new dataset."
   ]
  },
  {
   "cell_type": "code",
   "execution_count": 7,
   "metadata": {},
   "outputs": [
    {
     "data": {
      "text/plain": [
       "{}"
      ]
     },
     "execution_count": 7,
     "metadata": {},
     "output_type": "execute_result"
    }
   ],
   "source": [
    "status_download = {}\n",
    "\n",
    "for b in [\"B02\", \"B03\", \"B04\", \"B08\", \"SCL\"]:\n",
    "    print(b)\n",
    "    sentinel2_band_workflow = ge.unstable.workflow_blueprints.sentinel2_band(b)\n",
    "    sentinel2_band_workflow_id = ge.register_workflow(sentinel2_band_workflow.to_workflow_dict())\n",
    "    sentinel2_band_workflow_dataset_task = sentinel2_band_workflow_id.save_as_dataset(study_area, f\"sentinel2_nrw_crop_10m_{b}\")\n",
    "    sentinel2_band_workflow_dataset_task.wait_for_finish(print_status=False)\n",
    "    print(sentinel2_band_workflow_dataset_task.get_status())\n",
    "    status_download[b] = sentinel2_band_workflow_dataset_task.get_status()\n",
    "\n",
    "status_download"
   ]
  },
  {
   "attachments": {},
   "cell_type": "markdown",
   "metadata": {},
   "source": [
    "Check the quota used for downloading the bands:"
   ]
  },
  {
   "cell_type": "code",
   "execution_count": 8,
   "metadata": {},
   "outputs": [
    {
     "data": {
      "text/plain": [
       "0"
      ]
     },
     "execution_count": 8,
     "metadata": {},
     "output_type": "execute_result"
    }
   ],
   "source": [
    "used_quota_download = ge.get_quota(user_id)['used'] - used_quota_start\n",
    "used_quota_download"
   ]
  },
  {
   "attachments": {},
   "cell_type": "markdown",
   "metadata": {},
   "source": [
    "## 3. Monthly, cloud-free aggregations of the Sentinel-2 bands & NDVI\n",
    "\n",
    "For the training, we use the Sentinel-2 data of the bands 02, 03, 04, and 08. The scene classification layer (SCL) is used to filter out cloudy pixels for each band using an expression. The NDVI is calculated using an expression on band 4 and 8. \n"
   ]
  },
  {
   "attachments": {},
   "cell_type": "markdown",
   "metadata": {},
   "source": [
    "Using the bands dataset_ids, we create a map from band name to Geo Engine \"InternalDataId\". The \"InternalDataId\" is used to reference the datasets in the workflow."
   ]
  },
  {
   "cell_type": "code",
   "execution_count": 9,
   "metadata": {},
   "outputs": [
    {
     "data": {
      "text/plain": [
       "{'B02': {'type': 'internal',\n",
       "  'datasetId': 'a0630d89-fe7d-4087-98e4-aa496e681d50'},\n",
       " 'B03': {'type': 'internal',\n",
       "  'datasetId': '1cfd9d51-6cbf-4490-9ce6-da224a6f5a83'},\n",
       " 'B04': {'type': 'internal',\n",
       "  'datasetId': '6441f1f3-a9fb-4298-9161-eab91f0825e2'},\n",
       " 'B08': {'type': 'internal',\n",
       "  'datasetId': '66479fef-4295-48f1-99bf-670f6b7ea540'},\n",
       " 'SCL': {'type': 'internal',\n",
       "  'datasetId': '4d243f03-f59b-4298-80e9-0fb5aa94926e'}}"
      ]
     },
     "execution_count": 9,
     "metadata": {},
     "output_type": "execute_result"
    }
   ],
   "source": [
    "## IF you ran the workflow, you can get the ids from the status\n",
    "band_data_map = { name: task_status.info['dataset'] for name, task_status in status_download.items() }\n",
    "## IF you have the data already added, youn simply define the ids.\n",
    "#band_data_map = {\n",
    "#    'B02': 'a0630d89-fe7d-4087-98e4-aa496e681d50',\n",
    "#    'B03': '1cfd9d51-6cbf-4490-9ce6-da224a6f5a83',\n",
    "#    'B04': '6441f1f3-a9fb-4298-9161-eab91f0825e2',\n",
    "#    'B08': '66479fef-4295-48f1-99bf-670f6b7ea540',\n",
    "#    'SCL': '4d243f03-f59b-4298-80e9-0fb5aa94926e'\n",
    "#    }\n",
    "\n",
    "band_data_id_map = {name: \n",
    "    ge.api.InternalDataId(\n",
    "        type=\"internal\",\n",
    "        datasetId=id) for name, id in band_data_map.items()\n",
    "} \n",
    "\n",
    "band_data_id_map"
   ]
  },
  {
   "attachments": {},
   "cell_type": "markdown",
   "metadata": {},
   "source": [
    "Now we create a workflow to aggregate each band to monthly means. We also create a monthly mean of the NDVI which is calculated using an expression on band 4 and 8. The resulting datasets are stored as new datasets."
   ]
  },
  {
   "cell_type": "code",
   "execution_count": 10,
   "metadata": {},
   "outputs": [
    {
     "name": "stdout",
     "output_type": "stream",
     "text": [
      "B02\n",
      "status=completed, time_started=2023-04-08 18:25:17.424000+00:00, info={'dataset': 'cf14cbe6-d747-48ca-abfe-bd9ea87618a4', 'upload': '26414c0d-e733-4fc8-98fa-7c5a99e91f5d'}, time_total=00:02:20\n",
      "B03\n",
      "status=completed, time_started=2023-04-08 18:27:42.743000+00:00, info={'dataset': 'a22225d9-1e96-4646-ad67-0efe41291361', 'upload': '83ee03c6-a7de-44b2-b967-1d2ca5634f76'}, time_total=00:02:22\n",
      "B04\n",
      "status=completed, time_started=2023-04-08 18:30:08.149000+00:00, info={'dataset': '47d9ee89-6d87-4228-824d-46c52c751db0', 'upload': '32ebe460-a501-4430-9555-bb0bfe074606'}, time_total=00:02:20\n",
      "B08\n",
      "status=completed, time_started=2023-04-08 18:32:33.585000+00:00, info={'dataset': '3db91688-19f2-4dca-9995-0f4097b3996a', 'upload': 'd1403fb3-969e-4171-9d48-053c42947dd3'}, time_total=00:02:19\n",
      "NDVI\n",
      "status=completed, time_started=2023-04-08 18:34:53.943000+00:00, info={'dataset': '2a36bca3-fbe9-4d24-854f-fa159b755bfb', 'upload': 'ebb5ec7b-fda1-4bfe-ae19-f2e73fa08c3a'}, time_total=00:03:20\n"
     ]
    },
    {
     "data": {
      "text/plain": [
       "{'B02': TaskStatusInfo(status='completed', time_started=datetime.datetime(2023, 4, 8, 18, 25, 17, 424000, tzinfo=datetime.timezone.utc),info = {'dataset': 'cf14cbe6-d747-48ca-abfe-bd9ea87618a4', 'upload': '26414c0d-e733-4fc8-98fa-7c5a99e91f5d'}, time_total = '00:02:20'),\n",
       " 'B03': TaskStatusInfo(status='completed', time_started=datetime.datetime(2023, 4, 8, 18, 27, 42, 743000, tzinfo=datetime.timezone.utc),info = {'dataset': 'a22225d9-1e96-4646-ad67-0efe41291361', 'upload': '83ee03c6-a7de-44b2-b967-1d2ca5634f76'}, time_total = '00:02:22'),\n",
       " 'B04': TaskStatusInfo(status='completed', time_started=datetime.datetime(2023, 4, 8, 18, 30, 8, 149000, tzinfo=datetime.timezone.utc),info = {'dataset': '47d9ee89-6d87-4228-824d-46c52c751db0', 'upload': '32ebe460-a501-4430-9555-bb0bfe074606'}, time_total = '00:02:20'),\n",
       " 'B08': TaskStatusInfo(status='completed', time_started=datetime.datetime(2023, 4, 8, 18, 32, 33, 585000, tzinfo=datetime.timezone.utc),info = {'dataset': '3db91688-19f2-4dca-9995-0f4097b3996a', 'upload': 'd1403fb3-969e-4171-9d48-053c42947dd3'}, time_total = '00:02:19'),\n",
       " 'NDVI': TaskStatusInfo(status='completed', time_started=datetime.datetime(2023, 4, 8, 18, 34, 53, 943000, tzinfo=datetime.timezone.utc),info = {'dataset': '2a36bca3-fbe9-4d24-854f-fa159b755bfb', 'upload': 'ebb5ec7b-fda1-4bfe-ae19-f2e73fa08c3a'}, time_total = '00:03:20')}"
      ]
     },
     "execution_count": 10,
     "metadata": {},
     "output_type": "execute_result"
    }
   ],
   "source": [
    "status_agg = {}\n",
    "\n",
    "for b in [\"B02\", \"B03\", \"B04\", \"B08\", \"NDVI\"]:\n",
    "    print(b)\n",
    "    sentinel2_band_workflow = ge.unstable.workflow_blueprints.s2_cloud_free_aggregated_band_custom_input(b, band_data_id_map, granularity=\"months\", window_size=1, aggregation_type=\"mean\")\n",
    "    sentinel2_band_workflow_id = ge.register_workflow(sentinel2_band_workflow.to_workflow_dict())\n",
    "    sentinel2_band_workflow_dataset_task = sentinel2_band_workflow_id.save_as_dataset(study_area, f\"sentinel2_nrw_crop_10m_cf_monthly_{b}\")\n",
    "    sentinel2_band_workflow_dataset_task.wait_for_finish(print_status=False)\n",
    "    print(sentinel2_band_workflow_dataset_task.get_status())\n",
    "    status_agg[b] = sentinel2_band_workflow_dataset_task.get_status()\n",
    "\n",
    "status_agg"
   ]
  },
  {
   "attachments": {},
   "cell_type": "markdown",
   "metadata": {},
   "source": [
    "Check the quota used for aggregating the bands (and calculating NDVI):"
   ]
  },
  {
   "cell_type": "code",
   "execution_count": 11,
   "metadata": {},
   "outputs": [
    {
     "data": {
      "text/plain": [
       "819360"
      ]
     },
     "execution_count": 11,
     "metadata": {},
     "output_type": "execute_result"
    }
   ],
   "source": [
    "used_quota_agg = ge.get_quota(user_id)['used'] - used_quota_download\n",
    "used_quota_agg"
   ]
  },
  {
   "attachments": {},
   "cell_type": "markdown",
   "metadata": {},
   "source": [
    "## 4. Join the monthly Sentinel-2 data to the points of interest\n",
    "\n",
    "This step combines the monthly Sentinel-2 data with the points of interest. The resulting dataset is then queried from the python client and stored as a pandas dataframe."
   ]
  },
  {
   "attachments": {},
   "cell_type": "markdown",
   "metadata": {},
   "source": [
    "Again, we create a map from band name to Geo Engine \"InternalDataId\" for the aggregated bands. The \"InternalDataId\" is used to reference the datasets in the workflow."
   ]
  },
  {
   "cell_type": "code",
   "execution_count": 12,
   "metadata": {},
   "outputs": [],
   "source": [
    "## IF you ran the workflow, you can get the ids from the status\n",
    "monthly_band_data_map = { name: task_status.info['dataset'] for name, task_status in status_agg.items() }\n",
    "## IF you have the data already added, youn simply define the ids.\n",
    "#monthly_band_data_map = {\n",
    "#    'B02': '6aea7c86-05a6-45fc-ab3f-cd1020a83026',\n",
    "#    'B03': '732bcff7-41b2-47a9-9a43-bb5d66feb8fd',\n",
    "#    'B04': '209ffd4e-d750-4d88-a68a-5c36d739eb75',\n",
    "#    'B08': 'ba469628-1c48-4172-af01-6bc460690600',\n",
    "#    'NDVI': 'a5fbef96-0de3-498e-9e38-ddaf3a9fe47a'\n",
    "#    }\n",
    "\n",
    "monthly_band_data_id_map = {name: \n",
    "    ge.api.InternalDataId(\n",
    "        type=\"internal\",\n",
    "        datasetId=id) for name, id in monthly_band_data_map.items()\n",
    "} \n"
   ]
  },
  {
   "attachments": {},
   "cell_type": "markdown",
   "metadata": {},
   "source": [
    "Upload the points to the Geo Engine:"
   ]
  },
  {
   "cell_type": "code",
   "execution_count": 13,
   "metadata": {},
   "outputs": [
    {
     "data": {
      "text/plain": [
       "829fbbf7-5445-4f31-8deb-720885f74bc8"
      ]
     },
     "execution_count": 13,
     "metadata": {},
     "output_type": "execute_result"
    }
   ],
   "source": [
    "points_df = gpd.read_file(\"group_sample_frac1_inspireId_use_utm32n.gpkg\")\n",
    "points_id = ge.upload_dataframe(points_df, \"group_sample_frac1_inspireId\")\n",
    "points_id"
   ]
  },
  {
   "attachments": {},
   "cell_type": "markdown",
   "metadata": {},
   "source": [
    "Create a souce operator that provides the points to a workflow:"
   ]
  },
  {
   "cell_type": "code",
   "execution_count": 14,
   "metadata": {},
   "outputs": [
    {
     "data": {
      "text/plain": [
       "{'type': 'Vector',\n",
       " 'operator': {'type': 'OgrSource',\n",
       "  'params': {'data': {'type': 'internal',\n",
       "    'datasetId': '829fbbf7-5445-4f31-8deb-720885f74bc8'},\n",
       "   'attributeProjection': None,\n",
       "   'attributeFilters': None}}}"
      ]
     },
     "execution_count": 14,
     "metadata": {},
     "output_type": "execute_result"
    }
   ],
   "source": [
    "points_source_operator = ge.unstable.workflow_operators.OgrSource(str(points_id))\n",
    "points_source_operator.to_workflow_dict()"
   ]
  },
  {
   "attachments": {},
   "cell_type": "markdown",
   "metadata": {},
   "source": [
    "Now, we create a workflow that joins the monthly Sentinel-2 data to the points of interest for the queried time-interval. This uses the `RasterVectorJoin` operator."
   ]
  },
  {
   "cell_type": "code",
   "execution_count": 15,
   "metadata": {},
   "outputs": [
    {
     "data": {
      "text/plain": [
       "{'type': 'Vector',\n",
       " 'operator': {'type': 'RasterVectorJoin',\n",
       "  'params': {'names': ['B02', 'B03', 'B04', 'B08', 'NDVI'],\n",
       "   'temporalAggregation': 'none',\n",
       "   'featureAggregation': 'mean'},\n",
       "  'sources': {'vector': {'type': 'OgrSource',\n",
       "    'params': {'data': {'type': 'internal',\n",
       "      'datasetId': '829fbbf7-5445-4f31-8deb-720885f74bc8'},\n",
       "     'attributeProjection': None,\n",
       "     'attributeFilters': None}},\n",
       "   'rasters': [{'type': 'GdalSource',\n",
       "     'params': {'data': {'type': 'internal',\n",
       "       'datasetId': 'cf14cbe6-d747-48ca-abfe-bd9ea87618a4'}}},\n",
       "    {'type': 'GdalSource',\n",
       "     'params': {'data': {'type': 'internal',\n",
       "       'datasetId': 'a22225d9-1e96-4646-ad67-0efe41291361'}}},\n",
       "    {'type': 'GdalSource',\n",
       "     'params': {'data': {'type': 'internal',\n",
       "       'datasetId': '47d9ee89-6d87-4228-824d-46c52c751db0'}}},\n",
       "    {'type': 'GdalSource',\n",
       "     'params': {'data': {'type': 'internal',\n",
       "       'datasetId': '3db91688-19f2-4dca-9995-0f4097b3996a'}}},\n",
       "    {'type': 'GdalSource',\n",
       "     'params': {'data': {'type': 'internal',\n",
       "       'datasetId': '2a36bca3-fbe9-4d24-854f-fa159b755bfb'}}}]}}}"
      ]
     },
     "execution_count": 15,
     "metadata": {},
     "output_type": "execute_result"
    }
   ],
   "source": [
    "points_with_s2_cloud_free = ge.unstable.workflow_operators.RasterVectorJoin(\n",
    "    raster_sources=[ge.unstable.workflow_operators.GdalSource(x) for x in monthly_band_data_id_map.values() ],\n",
    "    vector_source=points_source_operator,\n",
    "    new_column_names=[x for x in monthly_band_data_id_map.keys()],\n",
    ")\n",
    "\n",
    "points_with_s2_cloud_free.to_workflow_dict()"
   ]
  },
  {
   "attachments": {},
   "cell_type": "markdown",
   "metadata": {},
   "source": [
    "Since we want to train a Random-Forest on the monthly Sentinel-2 data, we need to attach all the months we are interested in to one point. The 'normal' way would be to query a time-interval and get points for each month with the respective values.\n",
    "However, the RF expects the monthly values as columns. We can archive this using the `TimeShift` operator. The `TimeShift` operator shifts the query time interval by a given amount of time. It also shifts the returned time stamps of the data by the same amount of time but in the opposite direction. This way we can create a workflow that queries all the months we are interested in and attaches them as new columns to the points.\n",
    "\n"
   ]
  },
  {
   "cell_type": "code",
   "execution_count": 34,
   "metadata": {},
   "outputs": [
    {
     "data": {
      "text/plain": [
       "{'type': 'Vector',\n",
       " 'operator': {'type': 'RasterVectorJoin',\n",
       "  'params': {'names': ['B02_-1', 'B03_-1', 'B04_-1', 'B08_-1', 'NDVI_-1'],\n",
       "   'temporalAggregation': 'none',\n",
       "   'featureAggregation': 'mean'},\n",
       "  'sources': {'vector': {'type': 'RasterVectorJoin',\n",
       "    'params': {'names': ['B02_-2', 'B03_-2', 'B04_-2', 'B08_-2', 'NDVI_-2'],\n",
       "     'temporalAggregation': 'none',\n",
       "     'featureAggregation': 'mean'},\n",
       "    'sources': {'vector': {'type': 'RasterVectorJoin',\n",
       "      'params': {'names': ['B02_-3', 'B03_-3', 'B04_-3', 'B08_-3', 'NDVI_-3'],\n",
       "       'temporalAggregation': 'none',\n",
       "       'featureAggregation': 'mean'},\n",
       "      'sources': {'vector': {'type': 'RasterVectorJoin',\n",
       "        'params': {'names': ['B02_-4',\n",
       "          'B03_-4',\n",
       "          'B04_-4',\n",
       "          'B08_-4',\n",
       "          'NDVI_-4'],\n",
       "         'temporalAggregation': 'none',\n",
       "         'featureAggregation': 'mean'},\n",
       "        'sources': {'vector': {'type': 'RasterVectorJoin',\n",
       "          'params': {'names': ['B02_-5',\n",
       "            'B03_-5',\n",
       "            'B04_-5',\n",
       "            'B08_-5',\n",
       "            'NDVI_-5'],\n",
       "           'temporalAggregation': 'none',\n",
       "           'featureAggregation': 'mean'},\n",
       "          'sources': {'vector': {'type': 'RasterVectorJoin',\n",
       "            'params': {'names': ['B02_-6',\n",
       "              'B03_-6',\n",
       "              'B04_-6',\n",
       "              'B08_-6',\n",
       "              'NDVI_-6'],\n",
       "             'temporalAggregation': 'none',\n",
       "             'featureAggregation': 'mean'},\n",
       "            'sources': {'vector': {'type': 'RasterVectorJoin',\n",
       "              'params': {'names': ['B02_-7',\n",
       "                'B03_-7',\n",
       "                'B04_-7',\n",
       "                'B08_-7',\n",
       "                'NDVI_-7'],\n",
       "               'temporalAggregation': 'none',\n",
       "               'featureAggregation': 'mean'},\n",
       "              'sources': {'vector': {'type': 'RasterVectorJoin',\n",
       "                'params': {'names': ['B02_-8',\n",
       "                  'B03_-8',\n",
       "                  'B04_-8',\n",
       "                  'B08_-8',\n",
       "                  'NDVI_-8'],\n",
       "                 'temporalAggregation': 'none',\n",
       "                 'featureAggregation': 'mean'},\n",
       "                'sources': {'vector': {'type': 'RasterVectorJoin',\n",
       "                  'params': {'names': ['B02', 'B03', 'B04', 'B08', 'NDVI'],\n",
       "                   'temporalAggregation': 'none',\n",
       "                   'featureAggregation': 'mean'},\n",
       "                  'sources': {'vector': {'type': 'OgrSource',\n",
       "                    'params': {'data': {'type': 'internal',\n",
       "                      'datasetId': '829fbbf7-5445-4f31-8deb-720885f74bc8'},\n",
       "                     'attributeProjection': None,\n",
       "                     'attributeFilters': None}},\n",
       "                   'rasters': [{'type': 'GdalSource',\n",
       "                     'params': {'data': {'type': 'internal',\n",
       "                       'datasetId': 'cf14cbe6-d747-48ca-abfe-bd9ea87618a4'}}},\n",
       "                    {'type': 'GdalSource',\n",
       "                     'params': {'data': {'type': 'internal',\n",
       "                       'datasetId': 'a22225d9-1e96-4646-ad67-0efe41291361'}}},\n",
       "                    {'type': 'GdalSource',\n",
       "                     'params': {'data': {'type': 'internal',\n",
       "                       'datasetId': '47d9ee89-6d87-4228-824d-46c52c751db0'}}},\n",
       "                    {'type': 'GdalSource',\n",
       "                     'params': {'data': {'type': 'internal',\n",
       "                       'datasetId': '3db91688-19f2-4dca-9995-0f4097b3996a'}}},\n",
       "                    {'type': 'GdalSource',\n",
       "                     'params': {'data': {'type': 'internal',\n",
       "                       'datasetId': '2a36bca3-fbe9-4d24-854f-fa159b755bfb'}}}]}},\n",
       "                 'rasters': [{'type': 'TimeShift',\n",
       "                   'params': {'type': 'relative',\n",
       "                    'granularity': 'months',\n",
       "                    'value': -8},\n",
       "                   'sources': {'source': {'type': 'GdalSource',\n",
       "                     'params': {'data': {'type': 'internal',\n",
       "                       'datasetId': 'cf14cbe6-d747-48ca-abfe-bd9ea87618a4'}}}}},\n",
       "                  {'type': 'TimeShift',\n",
       "                   'params': {'type': 'relative',\n",
       "                    'granularity': 'months',\n",
       "                    'value': -8},\n",
       "                   'sources': {'source': {'type': 'GdalSource',\n",
       "                     'params': {'data': {'type': 'internal',\n",
       "                       'datasetId': 'a22225d9-1e96-4646-ad67-0efe41291361'}}}}},\n",
       "                  {'type': 'TimeShift',\n",
       "                   'params': {'type': 'relative',\n",
       "                    'granularity': 'months',\n",
       "                    'value': -8},\n",
       "                   'sources': {'source': {'type': 'GdalSource',\n",
       "                     'params': {'data': {'type': 'internal',\n",
       "                       'datasetId': '47d9ee89-6d87-4228-824d-46c52c751db0'}}}}},\n",
       "                  {'type': 'TimeShift',\n",
       "                   'params': {'type': 'relative',\n",
       "                    'granularity': 'months',\n",
       "                    'value': -8},\n",
       "                   'sources': {'source': {'type': 'GdalSource',\n",
       "                     'params': {'data': {'type': 'internal',\n",
       "                       'datasetId': '3db91688-19f2-4dca-9995-0f4097b3996a'}}}}},\n",
       "                  {'type': 'TimeShift',\n",
       "                   'params': {'type': 'relative',\n",
       "                    'granularity': 'months',\n",
       "                    'value': -8},\n",
       "                   'sources': {'source': {'type': 'GdalSource',\n",
       "                     'params': {'data': {'type': 'internal',\n",
       "                       'datasetId': '2a36bca3-fbe9-4d24-854f-fa159b755bfb'}}}}}]}},\n",
       "               'rasters': [{'type': 'TimeShift',\n",
       "                 'params': {'type': 'relative',\n",
       "                  'granularity': 'months',\n",
       "                  'value': -7},\n",
       "                 'sources': {'source': {'type': 'GdalSource',\n",
       "                   'params': {'data': {'type': 'internal',\n",
       "                     'datasetId': 'cf14cbe6-d747-48ca-abfe-bd9ea87618a4'}}}}},\n",
       "                {'type': 'TimeShift',\n",
       "                 'params': {'type': 'relative',\n",
       "                  'granularity': 'months',\n",
       "                  'value': -7},\n",
       "                 'sources': {'source': {'type': 'GdalSource',\n",
       "                   'params': {'data': {'type': 'internal',\n",
       "                     'datasetId': 'a22225d9-1e96-4646-ad67-0efe41291361'}}}}},\n",
       "                {'type': 'TimeShift',\n",
       "                 'params': {'type': 'relative',\n",
       "                  'granularity': 'months',\n",
       "                  'value': -7},\n",
       "                 'sources': {'source': {'type': 'GdalSource',\n",
       "                   'params': {'data': {'type': 'internal',\n",
       "                     'datasetId': '47d9ee89-6d87-4228-824d-46c52c751db0'}}}}},\n",
       "                {'type': 'TimeShift',\n",
       "                 'params': {'type': 'relative',\n",
       "                  'granularity': 'months',\n",
       "                  'value': -7},\n",
       "                 'sources': {'source': {'type': 'GdalSource',\n",
       "                   'params': {'data': {'type': 'internal',\n",
       "                     'datasetId': '3db91688-19f2-4dca-9995-0f4097b3996a'}}}}},\n",
       "                {'type': 'TimeShift',\n",
       "                 'params': {'type': 'relative',\n",
       "                  'granularity': 'months',\n",
       "                  'value': -7},\n",
       "                 'sources': {'source': {'type': 'GdalSource',\n",
       "                   'params': {'data': {'type': 'internal',\n",
       "                     'datasetId': '2a36bca3-fbe9-4d24-854f-fa159b755bfb'}}}}}]}},\n",
       "             'rasters': [{'type': 'TimeShift',\n",
       "               'params': {'type': 'relative',\n",
       "                'granularity': 'months',\n",
       "                'value': -6},\n",
       "               'sources': {'source': {'type': 'GdalSource',\n",
       "                 'params': {'data': {'type': 'internal',\n",
       "                   'datasetId': 'cf14cbe6-d747-48ca-abfe-bd9ea87618a4'}}}}},\n",
       "              {'type': 'TimeShift',\n",
       "               'params': {'type': 'relative',\n",
       "                'granularity': 'months',\n",
       "                'value': -6},\n",
       "               'sources': {'source': {'type': 'GdalSource',\n",
       "                 'params': {'data': {'type': 'internal',\n",
       "                   'datasetId': 'a22225d9-1e96-4646-ad67-0efe41291361'}}}}},\n",
       "              {'type': 'TimeShift',\n",
       "               'params': {'type': 'relative',\n",
       "                'granularity': 'months',\n",
       "                'value': -6},\n",
       "               'sources': {'source': {'type': 'GdalSource',\n",
       "                 'params': {'data': {'type': 'internal',\n",
       "                   'datasetId': '47d9ee89-6d87-4228-824d-46c52c751db0'}}}}},\n",
       "              {'type': 'TimeShift',\n",
       "               'params': {'type': 'relative',\n",
       "                'granularity': 'months',\n",
       "                'value': -6},\n",
       "               'sources': {'source': {'type': 'GdalSource',\n",
       "                 'params': {'data': {'type': 'internal',\n",
       "                   'datasetId': '3db91688-19f2-4dca-9995-0f4097b3996a'}}}}},\n",
       "              {'type': 'TimeShift',\n",
       "               'params': {'type': 'relative',\n",
       "                'granularity': 'months',\n",
       "                'value': -6},\n",
       "               'sources': {'source': {'type': 'GdalSource',\n",
       "                 'params': {'data': {'type': 'internal',\n",
       "                   'datasetId': '2a36bca3-fbe9-4d24-854f-fa159b755bfb'}}}}}]}},\n",
       "           'rasters': [{'type': 'TimeShift',\n",
       "             'params': {'type': 'relative',\n",
       "              'granularity': 'months',\n",
       "              'value': -5},\n",
       "             'sources': {'source': {'type': 'GdalSource',\n",
       "               'params': {'data': {'type': 'internal',\n",
       "                 'datasetId': 'cf14cbe6-d747-48ca-abfe-bd9ea87618a4'}}}}},\n",
       "            {'type': 'TimeShift',\n",
       "             'params': {'type': 'relative',\n",
       "              'granularity': 'months',\n",
       "              'value': -5},\n",
       "             'sources': {'source': {'type': 'GdalSource',\n",
       "               'params': {'data': {'type': 'internal',\n",
       "                 'datasetId': 'a22225d9-1e96-4646-ad67-0efe41291361'}}}}},\n",
       "            {'type': 'TimeShift',\n",
       "             'params': {'type': 'relative',\n",
       "              'granularity': 'months',\n",
       "              'value': -5},\n",
       "             'sources': {'source': {'type': 'GdalSource',\n",
       "               'params': {'data': {'type': 'internal',\n",
       "                 'datasetId': '47d9ee89-6d87-4228-824d-46c52c751db0'}}}}},\n",
       "            {'type': 'TimeShift',\n",
       "             'params': {'type': 'relative',\n",
       "              'granularity': 'months',\n",
       "              'value': -5},\n",
       "             'sources': {'source': {'type': 'GdalSource',\n",
       "               'params': {'data': {'type': 'internal',\n",
       "                 'datasetId': '3db91688-19f2-4dca-9995-0f4097b3996a'}}}}},\n",
       "            {'type': 'TimeShift',\n",
       "             'params': {'type': 'relative',\n",
       "              'granularity': 'months',\n",
       "              'value': -5},\n",
       "             'sources': {'source': {'type': 'GdalSource',\n",
       "               'params': {'data': {'type': 'internal',\n",
       "                 'datasetId': '2a36bca3-fbe9-4d24-854f-fa159b755bfb'}}}}}]}},\n",
       "         'rasters': [{'type': 'TimeShift',\n",
       "           'params': {'type': 'relative',\n",
       "            'granularity': 'months',\n",
       "            'value': -4},\n",
       "           'sources': {'source': {'type': 'GdalSource',\n",
       "             'params': {'data': {'type': 'internal',\n",
       "               'datasetId': 'cf14cbe6-d747-48ca-abfe-bd9ea87618a4'}}}}},\n",
       "          {'type': 'TimeShift',\n",
       "           'params': {'type': 'relative',\n",
       "            'granularity': 'months',\n",
       "            'value': -4},\n",
       "           'sources': {'source': {'type': 'GdalSource',\n",
       "             'params': {'data': {'type': 'internal',\n",
       "               'datasetId': 'a22225d9-1e96-4646-ad67-0efe41291361'}}}}},\n",
       "          {'type': 'TimeShift',\n",
       "           'params': {'type': 'relative',\n",
       "            'granularity': 'months',\n",
       "            'value': -4},\n",
       "           'sources': {'source': {'type': 'GdalSource',\n",
       "             'params': {'data': {'type': 'internal',\n",
       "               'datasetId': '47d9ee89-6d87-4228-824d-46c52c751db0'}}}}},\n",
       "          {'type': 'TimeShift',\n",
       "           'params': {'type': 'relative',\n",
       "            'granularity': 'months',\n",
       "            'value': -4},\n",
       "           'sources': {'source': {'type': 'GdalSource',\n",
       "             'params': {'data': {'type': 'internal',\n",
       "               'datasetId': '3db91688-19f2-4dca-9995-0f4097b3996a'}}}}},\n",
       "          {'type': 'TimeShift',\n",
       "           'params': {'type': 'relative',\n",
       "            'granularity': 'months',\n",
       "            'value': -4},\n",
       "           'sources': {'source': {'type': 'GdalSource',\n",
       "             'params': {'data': {'type': 'internal',\n",
       "               'datasetId': '2a36bca3-fbe9-4d24-854f-fa159b755bfb'}}}}}]}},\n",
       "       'rasters': [{'type': 'TimeShift',\n",
       "         'params': {'type': 'relative', 'granularity': 'months', 'value': -3},\n",
       "         'sources': {'source': {'type': 'GdalSource',\n",
       "           'params': {'data': {'type': 'internal',\n",
       "             'datasetId': 'cf14cbe6-d747-48ca-abfe-bd9ea87618a4'}}}}},\n",
       "        {'type': 'TimeShift',\n",
       "         'params': {'type': 'relative', 'granularity': 'months', 'value': -3},\n",
       "         'sources': {'source': {'type': 'GdalSource',\n",
       "           'params': {'data': {'type': 'internal',\n",
       "             'datasetId': 'a22225d9-1e96-4646-ad67-0efe41291361'}}}}},\n",
       "        {'type': 'TimeShift',\n",
       "         'params': {'type': 'relative', 'granularity': 'months', 'value': -3},\n",
       "         'sources': {'source': {'type': 'GdalSource',\n",
       "           'params': {'data': {'type': 'internal',\n",
       "             'datasetId': '47d9ee89-6d87-4228-824d-46c52c751db0'}}}}},\n",
       "        {'type': 'TimeShift',\n",
       "         'params': {'type': 'relative', 'granularity': 'months', 'value': -3},\n",
       "         'sources': {'source': {'type': 'GdalSource',\n",
       "           'params': {'data': {'type': 'internal',\n",
       "             'datasetId': '3db91688-19f2-4dca-9995-0f4097b3996a'}}}}},\n",
       "        {'type': 'TimeShift',\n",
       "         'params': {'type': 'relative', 'granularity': 'months', 'value': -3},\n",
       "         'sources': {'source': {'type': 'GdalSource',\n",
       "           'params': {'data': {'type': 'internal',\n",
       "             'datasetId': '2a36bca3-fbe9-4d24-854f-fa159b755bfb'}}}}}]}},\n",
       "     'rasters': [{'type': 'TimeShift',\n",
       "       'params': {'type': 'relative', 'granularity': 'months', 'value': -2},\n",
       "       'sources': {'source': {'type': 'GdalSource',\n",
       "         'params': {'data': {'type': 'internal',\n",
       "           'datasetId': 'cf14cbe6-d747-48ca-abfe-bd9ea87618a4'}}}}},\n",
       "      {'type': 'TimeShift',\n",
       "       'params': {'type': 'relative', 'granularity': 'months', 'value': -2},\n",
       "       'sources': {'source': {'type': 'GdalSource',\n",
       "         'params': {'data': {'type': 'internal',\n",
       "           'datasetId': 'a22225d9-1e96-4646-ad67-0efe41291361'}}}}},\n",
       "      {'type': 'TimeShift',\n",
       "       'params': {'type': 'relative', 'granularity': 'months', 'value': -2},\n",
       "       'sources': {'source': {'type': 'GdalSource',\n",
       "         'params': {'data': {'type': 'internal',\n",
       "           'datasetId': '47d9ee89-6d87-4228-824d-46c52c751db0'}}}}},\n",
       "      {'type': 'TimeShift',\n",
       "       'params': {'type': 'relative', 'granularity': 'months', 'value': -2},\n",
       "       'sources': {'source': {'type': 'GdalSource',\n",
       "         'params': {'data': {'type': 'internal',\n",
       "           'datasetId': '3db91688-19f2-4dca-9995-0f4097b3996a'}}}}},\n",
       "      {'type': 'TimeShift',\n",
       "       'params': {'type': 'relative', 'granularity': 'months', 'value': -2},\n",
       "       'sources': {'source': {'type': 'GdalSource',\n",
       "         'params': {'data': {'type': 'internal',\n",
       "           'datasetId': '2a36bca3-fbe9-4d24-854f-fa159b755bfb'}}}}}]}},\n",
       "   'rasters': [{'type': 'TimeShift',\n",
       "     'params': {'type': 'relative', 'granularity': 'months', 'value': -1},\n",
       "     'sources': {'source': {'type': 'GdalSource',\n",
       "       'params': {'data': {'type': 'internal',\n",
       "         'datasetId': 'cf14cbe6-d747-48ca-abfe-bd9ea87618a4'}}}}},\n",
       "    {'type': 'TimeShift',\n",
       "     'params': {'type': 'relative', 'granularity': 'months', 'value': -1},\n",
       "     'sources': {'source': {'type': 'GdalSource',\n",
       "       'params': {'data': {'type': 'internal',\n",
       "         'datasetId': 'a22225d9-1e96-4646-ad67-0efe41291361'}}}}},\n",
       "    {'type': 'TimeShift',\n",
       "     'params': {'type': 'relative', 'granularity': 'months', 'value': -1},\n",
       "     'sources': {'source': {'type': 'GdalSource',\n",
       "       'params': {'data': {'type': 'internal',\n",
       "         'datasetId': '47d9ee89-6d87-4228-824d-46c52c751db0'}}}}},\n",
       "    {'type': 'TimeShift',\n",
       "     'params': {'type': 'relative', 'granularity': 'months', 'value': -1},\n",
       "     'sources': {'source': {'type': 'GdalSource',\n",
       "       'params': {'data': {'type': 'internal',\n",
       "         'datasetId': '3db91688-19f2-4dca-9995-0f4097b3996a'}}}}},\n",
       "    {'type': 'TimeShift',\n",
       "     'params': {'type': 'relative', 'granularity': 'months', 'value': -1},\n",
       "     'sources': {'source': {'type': 'GdalSource',\n",
       "       'params': {'data': {'type': 'internal',\n",
       "         'datasetId': '2a36bca3-fbe9-4d24-854f-fa159b755bfb'}}}}}]}}}"
      ]
     },
     "execution_count": 34,
     "metadata": {},
     "output_type": "execute_result"
    }
   ],
   "source": [
    "points_with_s2_cloud_free_shift = points_with_s2_cloud_free\n",
    "\n",
    "for month_delta in range(-8,0):\n",
    "        points_with_s2_cloud_free_shift = ge.unstable.workflow_operators.RasterVectorJoin(\n",
    "        raster_sources=[ge.unstable.workflow_operators.TimeShift(granularity=\"months\", value=month_delta, shift_type=\"relative\", source=ge.unstable.workflow_operators.GdalSource(x)) for x in monthly_band_data_id_map.values() ],\n",
    "        vector_source=points_with_s2_cloud_free_shift, #projected_points,\n",
    "        new_column_names=[f'{x}_{month_delta}' for x in monthly_band_data_id_map.keys()],\n",
    "    )\n",
    "\n",
    "\n",
    "       \n",
    "points_with_s2_cloud_free_shift.to_workflow_dict()\n"
   ]
  },
  {
   "attachments": {},
   "cell_type": "markdown",
   "metadata": {},
   "source": [
    "Now we can register the workflow at the Geo Engine and execute it:"
   ]
  },
  {
   "cell_type": "code",
   "execution_count": 17,
   "metadata": {},
   "outputs": [
    {
     "data": {
      "text/plain": [
       "071defa7-9947-5ba8-b858-697d5b66b414"
      ]
     },
     "execution_count": 17,
     "metadata": {},
     "output_type": "execute_result"
    }
   ],
   "source": [
    "workflow = ge.register_workflow(points_with_s2_cloud_free_shift.to_workflow_dict())\n",
    "workflow"
   ]
  },
  {
   "attachments": {},
   "cell_type": "markdown",
   "metadata": {},
   "source": [
    "Create datetime objects for the start and end of the time interval we use to query the final wrkflow:"
   ]
  },
  {
   "cell_type": "code",
   "execution_count": 18,
   "metadata": {},
   "outputs": [
    {
     "data": {
      "text/plain": [
       "(datetime.datetime(2021, 10, 1, 0, 0), datetime.datetime(2021, 10, 1, 0, 0))"
      ]
     },
     "execution_count": 18,
     "metadata": {},
     "output_type": "execute_result"
    }
   ],
   "source": [
    "start_dt = datetime(2021, 10, 1, 0, 0, 0)\n",
    "end_dt = datetime(2021, 10, 1, 0, 0, 0)\n",
    "\n",
    "start_dt, end_dt"
   ]
  },
  {
   "attachments": {},
   "cell_type": "markdown",
   "metadata": {},
   "source": [
    "Now, we query the workflow that attaches the Sentinel-2 data to the points and store the result as a pandas dataframe:"
   ]
  },
  {
   "cell_type": "code",
   "execution_count": 19,
   "metadata": {},
   "outputs": [
    {
     "data": {
      "text/html": [
       "<div>\n",
       "<style scoped>\n",
       "    .dataframe tbody tr th:only-of-type {\n",
       "        vertical-align: middle;\n",
       "    }\n",
       "\n",
       "    .dataframe tbody tr th {\n",
       "        vertical-align: top;\n",
       "    }\n",
       "\n",
       "    .dataframe thead th {\n",
       "        text-align: right;\n",
       "    }\n",
       "</style>\n",
       "<table border=\"1\" class=\"dataframe\">\n",
       "  <thead>\n",
       "    <tr style=\"text-align: right;\">\n",
       "      <th></th>\n",
       "      <th>B02</th>\n",
       "      <th>NDVI_-7</th>\n",
       "      <th>NDVI_-5</th>\n",
       "      <th>B04_-8</th>\n",
       "      <th>B02_-1</th>\n",
       "      <th>NDVI_-3</th>\n",
       "      <th>B03_-1</th>\n",
       "      <th>B04_-6</th>\n",
       "      <th>B03_-2</th>\n",
       "      <th>ID</th>\n",
       "      <th>...</th>\n",
       "      <th>B08</th>\n",
       "      <th>USE_CODE</th>\n",
       "      <th>B03_-4</th>\n",
       "      <th>B03_-3</th>\n",
       "      <th>B04_-2</th>\n",
       "      <th>B04_-5</th>\n",
       "      <th>NDVI_-1</th>\n",
       "      <th>geometry</th>\n",
       "      <th>time_start</th>\n",
       "      <th>time_end</th>\n",
       "    </tr>\n",
       "  </thead>\n",
       "  <tbody>\n",
       "    <tr>\n",
       "      <th>0</th>\n",
       "      <td>607.0</td>\n",
       "      <td>0.263462</td>\n",
       "      <td>0.222208</td>\n",
       "      <td>580.0</td>\n",
       "      <td>830.0</td>\n",
       "      <td>0.150360</td>\n",
       "      <td>1164.0</td>\n",
       "      <td>606.0</td>\n",
       "      <td>1048.0</td>\n",
       "      <td>0</td>\n",
       "      <td>...</td>\n",
       "      <td>1814.0</td>\n",
       "      <td>OE</td>\n",
       "      <td>1048.0</td>\n",
       "      <td>923.0</td>\n",
       "      <td>1380.0</td>\n",
       "      <td>1148.0</td>\n",
       "      <td>0.085486</td>\n",
       "      <td>MULTIPOINT (428690.027 5711938.189)</td>\n",
       "      <td>2021-10-01 00:00:00+00:00</td>\n",
       "      <td>2021-11-01 00:00:00+00:00</td>\n",
       "    </tr>\n",
       "    <tr>\n",
       "      <th>1</th>\n",
       "      <td>719.0</td>\n",
       "      <td>0.321335</td>\n",
       "      <td>0.200790</td>\n",
       "      <td>693.0</td>\n",
       "      <td>880.0</td>\n",
       "      <td>0.102364</td>\n",
       "      <td>1174.0</td>\n",
       "      <td>523.0</td>\n",
       "      <td>1602.0</td>\n",
       "      <td>1</td>\n",
       "      <td>...</td>\n",
       "      <td>3555.0</td>\n",
       "      <td>GT</td>\n",
       "      <td>670.0</td>\n",
       "      <td>1279.0</td>\n",
       "      <td>1992.0</td>\n",
       "      <td>604.0</td>\n",
       "      <td>0.134015</td>\n",
       "      <td>MULTIPOINT (427819.337 5710040.545)</td>\n",
       "      <td>2021-10-01 00:00:00+00:00</td>\n",
       "      <td>2021-11-01 00:00:00+00:00</td>\n",
       "    </tr>\n",
       "    <tr>\n",
       "      <th>2</th>\n",
       "      <td>683.0</td>\n",
       "      <td>0.333275</td>\n",
       "      <td>0.200724</td>\n",
       "      <td>730.0</td>\n",
       "      <td>960.0</td>\n",
       "      <td>0.137983</td>\n",
       "      <td>1330.0</td>\n",
       "      <td>414.0</td>\n",
       "      <td>1492.0</td>\n",
       "      <td>2</td>\n",
       "      <td>...</td>\n",
       "      <td>2369.0</td>\n",
       "      <td>GT</td>\n",
       "      <td>671.0</td>\n",
       "      <td>854.0</td>\n",
       "      <td>1883.0</td>\n",
       "      <td>NaN</td>\n",
       "      <td>0.108832</td>\n",
       "      <td>MULTIPOINT (427320.866 5710158.178)</td>\n",
       "      <td>2021-10-01 00:00:00+00:00</td>\n",
       "      <td>2021-11-01 00:00:00+00:00</td>\n",
       "    </tr>\n",
       "    <tr>\n",
       "      <th>3</th>\n",
       "      <td>247.0</td>\n",
       "      <td>0.108798</td>\n",
       "      <td>0.185670</td>\n",
       "      <td>183.0</td>\n",
       "      <td>406.0</td>\n",
       "      <td>0.264426</td>\n",
       "      <td>545.0</td>\n",
       "      <td>391.0</td>\n",
       "      <td>386.0</td>\n",
       "      <td>3</td>\n",
       "      <td>...</td>\n",
       "      <td>1530.0</td>\n",
       "      <td>GL</td>\n",
       "      <td>465.0</td>\n",
       "      <td>440.0</td>\n",
       "      <td>238.0</td>\n",
       "      <td>378.0</td>\n",
       "      <td>0.397063</td>\n",
       "      <td>MULTIPOINT (431527.388 5693772.886)</td>\n",
       "      <td>2021-10-01 00:00:00+00:00</td>\n",
       "      <td>2021-11-01 00:00:00+00:00</td>\n",
       "    </tr>\n",
       "    <tr>\n",
       "      <th>4</th>\n",
       "      <td>399.0</td>\n",
       "      <td>0.166214</td>\n",
       "      <td>0.216001</td>\n",
       "      <td>893.0</td>\n",
       "      <td>325.0</td>\n",
       "      <td>0.254812</td>\n",
       "      <td>541.0</td>\n",
       "      <td>501.0</td>\n",
       "      <td>604.0</td>\n",
       "      <td>4</td>\n",
       "      <td>...</td>\n",
       "      <td>3653.0</td>\n",
       "      <td>GL</td>\n",
       "      <td>699.0</td>\n",
       "      <td>726.0</td>\n",
       "      <td>418.0</td>\n",
       "      <td>523.0</td>\n",
       "      <td>0.406943</td>\n",
       "      <td>MULTIPOINT (431535.193 5693614.690)</td>\n",
       "      <td>2021-10-01 00:00:00+00:00</td>\n",
       "      <td>2021-11-01 00:00:00+00:00</td>\n",
       "    </tr>\n",
       "    <tr>\n",
       "      <th>...</th>\n",
       "      <td>...</td>\n",
       "      <td>...</td>\n",
       "      <td>...</td>\n",
       "      <td>...</td>\n",
       "      <td>...</td>\n",
       "      <td>...</td>\n",
       "      <td>...</td>\n",
       "      <td>...</td>\n",
       "      <td>...</td>\n",
       "      <td>...</td>\n",
       "      <td>...</td>\n",
       "      <td>...</td>\n",
       "      <td>...</td>\n",
       "      <td>...</td>\n",
       "      <td>...</td>\n",
       "      <td>...</td>\n",
       "      <td>...</td>\n",
       "      <td>...</td>\n",
       "      <td>...</td>\n",
       "      <td>...</td>\n",
       "      <td>...</td>\n",
       "    </tr>\n",
       "    <tr>\n",
       "      <th>49419</th>\n",
       "      <td>574.0</td>\n",
       "      <td>0.134030</td>\n",
       "      <td>0.241755</td>\n",
       "      <td>787.0</td>\n",
       "      <td>733.0</td>\n",
       "      <td>0.257517</td>\n",
       "      <td>1007.0</td>\n",
       "      <td>321.0</td>\n",
       "      <td>916.0</td>\n",
       "      <td>49419</td>\n",
       "      <td>...</td>\n",
       "      <td>2209.0</td>\n",
       "      <td>GT</td>\n",
       "      <td>552.0</td>\n",
       "      <td>649.0</td>\n",
       "      <td>1185.0</td>\n",
       "      <td>226.0</td>\n",
       "      <td>0.146780</td>\n",
       "      <td>MULTIPOINT (472357.075 5696612.529)</td>\n",
       "      <td>2021-10-01 00:00:00+00:00</td>\n",
       "      <td>2021-11-01 00:00:00+00:00</td>\n",
       "    </tr>\n",
       "    <tr>\n",
       "      <th>49420</th>\n",
       "      <td>193.0</td>\n",
       "      <td>0.087611</td>\n",
       "      <td>0.109226</td>\n",
       "      <td>802.0</td>\n",
       "      <td>206.0</td>\n",
       "      <td>0.319892</td>\n",
       "      <td>384.0</td>\n",
       "      <td>1257.0</td>\n",
       "      <td>488.0</td>\n",
       "      <td>49420</td>\n",
       "      <td>...</td>\n",
       "      <td>3954.0</td>\n",
       "      <td>GT</td>\n",
       "      <td>1264.0</td>\n",
       "      <td>598.0</td>\n",
       "      <td>395.0</td>\n",
       "      <td>1881.0</td>\n",
       "      <td>0.449148</td>\n",
       "      <td>MULTIPOINT (472016.875 5697690.039)</td>\n",
       "      <td>2021-10-01 00:00:00+00:00</td>\n",
       "      <td>2021-11-01 00:00:00+00:00</td>\n",
       "    </tr>\n",
       "    <tr>\n",
       "      <th>49421</th>\n",
       "      <td>511.0</td>\n",
       "      <td>0.106504</td>\n",
       "      <td>0.269948</td>\n",
       "      <td>939.0</td>\n",
       "      <td>799.0</td>\n",
       "      <td>0.213148</td>\n",
       "      <td>1121.0</td>\n",
       "      <td>723.0</td>\n",
       "      <td>854.0</td>\n",
       "      <td>49421</td>\n",
       "      <td>...</td>\n",
       "      <td>2379.0</td>\n",
       "      <td>GT</td>\n",
       "      <td>821.0</td>\n",
       "      <td>889.0</td>\n",
       "      <td>1062.0</td>\n",
       "      <td>483.0</td>\n",
       "      <td>0.200596</td>\n",
       "      <td>MULTIPOINT (471981.413 5696219.338)</td>\n",
       "      <td>2021-10-01 00:00:00+00:00</td>\n",
       "      <td>2021-11-01 00:00:00+00:00</td>\n",
       "    </tr>\n",
       "    <tr>\n",
       "      <th>49422</th>\n",
       "      <td>280.0</td>\n",
       "      <td>0.106873</td>\n",
       "      <td>0.149533</td>\n",
       "      <td>835.0</td>\n",
       "      <td>283.0</td>\n",
       "      <td>0.255698</td>\n",
       "      <td>465.0</td>\n",
       "      <td>998.0</td>\n",
       "      <td>858.0</td>\n",
       "      <td>49422</td>\n",
       "      <td>...</td>\n",
       "      <td>4083.0</td>\n",
       "      <td>AF</td>\n",
       "      <td>1237.0</td>\n",
       "      <td>777.0</td>\n",
       "      <td>813.0</td>\n",
       "      <td>1057.0</td>\n",
       "      <td>0.429673</td>\n",
       "      <td>MULTIPOINT (471704.064 5697043.769)</td>\n",
       "      <td>2021-10-01 00:00:00+00:00</td>\n",
       "      <td>2021-11-01 00:00:00+00:00</td>\n",
       "    </tr>\n",
       "    <tr>\n",
       "      <th>49423</th>\n",
       "      <td>299.0</td>\n",
       "      <td>0.206127</td>\n",
       "      <td>0.228106</td>\n",
       "      <td>667.0</td>\n",
       "      <td>467.0</td>\n",
       "      <td>0.318741</td>\n",
       "      <td>841.0</td>\n",
       "      <td>573.0</td>\n",
       "      <td>619.0</td>\n",
       "      <td>49423</td>\n",
       "      <td>...</td>\n",
       "      <td>4764.0</td>\n",
       "      <td>GL</td>\n",
       "      <td>668.0</td>\n",
       "      <td>833.0</td>\n",
       "      <td>419.0</td>\n",
       "      <td>284.0</td>\n",
       "      <td>0.268842</td>\n",
       "      <td>MULTIPOINT (472522.639 5708612.229)</td>\n",
       "      <td>2021-10-01 00:00:00+00:00</td>\n",
       "      <td>2021-11-01 00:00:00+00:00</td>\n",
       "    </tr>\n",
       "  </tbody>\n",
       "</table>\n",
       "<p>49424 rows × 53 columns</p>\n",
       "</div>"
      ],
      "text/plain": [
       "         B02   NDVI_-7   NDVI_-5  B04_-8  B02_-1   NDVI_-3  B03_-1  B04_-6  \\\n",
       "0      607.0  0.263462  0.222208   580.0   830.0  0.150360  1164.0   606.0   \n",
       "1      719.0  0.321335  0.200790   693.0   880.0  0.102364  1174.0   523.0   \n",
       "2      683.0  0.333275  0.200724   730.0   960.0  0.137983  1330.0   414.0   \n",
       "3      247.0  0.108798  0.185670   183.0   406.0  0.264426   545.0   391.0   \n",
       "4      399.0  0.166214  0.216001   893.0   325.0  0.254812   541.0   501.0   \n",
       "...      ...       ...       ...     ...     ...       ...     ...     ...   \n",
       "49419  574.0  0.134030  0.241755   787.0   733.0  0.257517  1007.0   321.0   \n",
       "49420  193.0  0.087611  0.109226   802.0   206.0  0.319892   384.0  1257.0   \n",
       "49421  511.0  0.106504  0.269948   939.0   799.0  0.213148  1121.0   723.0   \n",
       "49422  280.0  0.106873  0.149533   835.0   283.0  0.255698   465.0   998.0   \n",
       "49423  299.0  0.206127  0.228106   667.0   467.0  0.318741   841.0   573.0   \n",
       "\n",
       "       B03_-2     ID  ...     B08  USE_CODE  B03_-4  B03_-3  B04_-2  B04_-5  \\\n",
       "0      1048.0      0  ...  1814.0        OE  1048.0   923.0  1380.0  1148.0   \n",
       "1      1602.0      1  ...  3555.0        GT   670.0  1279.0  1992.0   604.0   \n",
       "2      1492.0      2  ...  2369.0        GT   671.0   854.0  1883.0     NaN   \n",
       "3       386.0      3  ...  1530.0        GL   465.0   440.0   238.0   378.0   \n",
       "4       604.0      4  ...  3653.0        GL   699.0   726.0   418.0   523.0   \n",
       "...       ...    ...  ...     ...       ...     ...     ...     ...     ...   \n",
       "49419   916.0  49419  ...  2209.0        GT   552.0   649.0  1185.0   226.0   \n",
       "49420   488.0  49420  ...  3954.0        GT  1264.0   598.0   395.0  1881.0   \n",
       "49421   854.0  49421  ...  2379.0        GT   821.0   889.0  1062.0   483.0   \n",
       "49422   858.0  49422  ...  4083.0        AF  1237.0   777.0   813.0  1057.0   \n",
       "49423   619.0  49423  ...  4764.0        GL   668.0   833.0   419.0   284.0   \n",
       "\n",
       "        NDVI_-1                             geometry  \\\n",
       "0      0.085486  MULTIPOINT (428690.027 5711938.189)   \n",
       "1      0.134015  MULTIPOINT (427819.337 5710040.545)   \n",
       "2      0.108832  MULTIPOINT (427320.866 5710158.178)   \n",
       "3      0.397063  MULTIPOINT (431527.388 5693772.886)   \n",
       "4      0.406943  MULTIPOINT (431535.193 5693614.690)   \n",
       "...         ...                                  ...   \n",
       "49419  0.146780  MULTIPOINT (472357.075 5696612.529)   \n",
       "49420  0.449148  MULTIPOINT (472016.875 5697690.039)   \n",
       "49421  0.200596  MULTIPOINT (471981.413 5696219.338)   \n",
       "49422  0.429673  MULTIPOINT (471704.064 5697043.769)   \n",
       "49423  0.268842  MULTIPOINT (472522.639 5708612.229)   \n",
       "\n",
       "                     time_start                  time_end  \n",
       "0     2021-10-01 00:00:00+00:00 2021-11-01 00:00:00+00:00  \n",
       "1     2021-10-01 00:00:00+00:00 2021-11-01 00:00:00+00:00  \n",
       "2     2021-10-01 00:00:00+00:00 2021-11-01 00:00:00+00:00  \n",
       "3     2021-10-01 00:00:00+00:00 2021-11-01 00:00:00+00:00  \n",
       "4     2021-10-01 00:00:00+00:00 2021-11-01 00:00:00+00:00  \n",
       "...                         ...                       ...  \n",
       "49419 2021-10-01 00:00:00+00:00 2021-11-01 00:00:00+00:00  \n",
       "49420 2021-10-01 00:00:00+00:00 2021-11-01 00:00:00+00:00  \n",
       "49421 2021-10-01 00:00:00+00:00 2021-11-01 00:00:00+00:00  \n",
       "49422 2021-10-01 00:00:00+00:00 2021-11-01 00:00:00+00:00  \n",
       "49423 2021-10-01 00:00:00+00:00 2021-11-01 00:00:00+00:00  \n",
       "\n",
       "[49424 rows x 53 columns]"
      ]
     },
     "execution_count": 19,
     "metadata": {},
     "output_type": "execute_result"
    }
   ],
   "source": [
    "gp_res = await workflow.vector_stream_into_geopandas(\n",
    "    ge.QueryRectangle(\n",
    "        spatial_bounds=ge.BoundingBox2D(\n",
    "            xmin=xmin,\n",
    "            ymin=ymin,\n",
    "            xmax=xmax,\n",
    "            ymax=ymax,\n",
    "        ),\n",
    "        time_interval=ge.TimeInterval(\n",
    "            start=start_dt,\n",
    "            end=end_dt,\n",
    "        ),\n",
    "        resolution=ge.SpatialResolution(\n",
    "            10.0,\n",
    "            10.0,\n",
    "        ),\n",
    "        srs=\"EPSG:32632\",\n",
    "))\n",
    "\n",
    "# gp_res.to_file(\"gp_res_10_frac1_monthly_use_utm32n_multi_steps_12months_shift.gpkg\", driver=\"GPKG\")\n",
    "gp_res"
   ]
  },
  {
   "attachments": {},
   "cell_type": "markdown",
   "metadata": {},
   "source": [
    "Check the quota used for querying the workflow:"
   ]
  },
  {
   "cell_type": "code",
   "execution_count": 20,
   "metadata": {},
   "outputs": [
    {
     "data": {
      "text/plain": [
       "63257"
      ]
     },
     "execution_count": 20,
     "metadata": {},
     "output_type": "execute_result"
    }
   ],
   "source": [
    "used_quota_rvjoin = ge.get_quota(user_id)['used'] - used_quota_agg\n",
    "used_quota_rvjoin"
   ]
  },
  {
   "attachments": {},
   "cell_type": "markdown",
   "metadata": {},
   "source": [
    "## 5. Train a Random-Forest on the monthly Sentinel-2 data and the NRW crop data\n",
    "\n",
    "Now we can train a Random-Forest on the monthly Sentinel-2 data and the NRW crop data. We use the `sklearn` package for this. But first, we need to prepare the data."
   ]
  },
  {
   "attachments": {},
   "cell_type": "markdown",
   "metadata": {},
   "source": [
    "First, replace the nan values with 0. This is necessary since the RF does not support nan values."
   ]
  },
  {
   "cell_type": "code",
   "execution_count": 21,
   "metadata": {},
   "outputs": [
    {
     "data": {
      "text/html": [
       "<div>\n",
       "<style scoped>\n",
       "    .dataframe tbody tr th:only-of-type {\n",
       "        vertical-align: middle;\n",
       "    }\n",
       "\n",
       "    .dataframe tbody tr th {\n",
       "        vertical-align: top;\n",
       "    }\n",
       "\n",
       "    .dataframe thead th {\n",
       "        text-align: right;\n",
       "    }\n",
       "</style>\n",
       "<table border=\"1\" class=\"dataframe\">\n",
       "  <thead>\n",
       "    <tr style=\"text-align: right;\">\n",
       "      <th></th>\n",
       "      <th>B02</th>\n",
       "      <th>NDVI_-7</th>\n",
       "      <th>NDVI_-5</th>\n",
       "      <th>B04_-8</th>\n",
       "      <th>B02_-1</th>\n",
       "      <th>NDVI_-3</th>\n",
       "      <th>B03_-1</th>\n",
       "      <th>B04_-6</th>\n",
       "      <th>B03_-2</th>\n",
       "      <th>ID</th>\n",
       "      <th>...</th>\n",
       "      <th>B08</th>\n",
       "      <th>USE_CODE</th>\n",
       "      <th>B03_-4</th>\n",
       "      <th>B03_-3</th>\n",
       "      <th>B04_-2</th>\n",
       "      <th>B04_-5</th>\n",
       "      <th>NDVI_-1</th>\n",
       "      <th>geometry</th>\n",
       "      <th>time_start</th>\n",
       "      <th>time_end</th>\n",
       "    </tr>\n",
       "  </thead>\n",
       "  <tbody>\n",
       "    <tr>\n",
       "      <th>0</th>\n",
       "      <td>607.0</td>\n",
       "      <td>0.263462</td>\n",
       "      <td>0.222208</td>\n",
       "      <td>580.0</td>\n",
       "      <td>830.0</td>\n",
       "      <td>0.150360</td>\n",
       "      <td>1164.0</td>\n",
       "      <td>606.0</td>\n",
       "      <td>1048.0</td>\n",
       "      <td>0</td>\n",
       "      <td>...</td>\n",
       "      <td>1814.0</td>\n",
       "      <td>OE</td>\n",
       "      <td>1048.0</td>\n",
       "      <td>923.0</td>\n",
       "      <td>1380.0</td>\n",
       "      <td>1148.0</td>\n",
       "      <td>0.085486</td>\n",
       "      <td>MULTIPOINT (428690.027 5711938.189)</td>\n",
       "      <td>2021-10-01 00:00:00+00:00</td>\n",
       "      <td>2021-11-01 00:00:00+00:00</td>\n",
       "    </tr>\n",
       "    <tr>\n",
       "      <th>1</th>\n",
       "      <td>719.0</td>\n",
       "      <td>0.321335</td>\n",
       "      <td>0.200790</td>\n",
       "      <td>693.0</td>\n",
       "      <td>880.0</td>\n",
       "      <td>0.102364</td>\n",
       "      <td>1174.0</td>\n",
       "      <td>523.0</td>\n",
       "      <td>1602.0</td>\n",
       "      <td>1</td>\n",
       "      <td>...</td>\n",
       "      <td>3555.0</td>\n",
       "      <td>GT</td>\n",
       "      <td>670.0</td>\n",
       "      <td>1279.0</td>\n",
       "      <td>1992.0</td>\n",
       "      <td>604.0</td>\n",
       "      <td>0.134015</td>\n",
       "      <td>MULTIPOINT (427819.337 5710040.545)</td>\n",
       "      <td>2021-10-01 00:00:00+00:00</td>\n",
       "      <td>2021-11-01 00:00:00+00:00</td>\n",
       "    </tr>\n",
       "    <tr>\n",
       "      <th>2</th>\n",
       "      <td>683.0</td>\n",
       "      <td>0.333275</td>\n",
       "      <td>0.200724</td>\n",
       "      <td>730.0</td>\n",
       "      <td>960.0</td>\n",
       "      <td>0.137983</td>\n",
       "      <td>1330.0</td>\n",
       "      <td>414.0</td>\n",
       "      <td>1492.0</td>\n",
       "      <td>2</td>\n",
       "      <td>...</td>\n",
       "      <td>2369.0</td>\n",
       "      <td>GT</td>\n",
       "      <td>671.0</td>\n",
       "      <td>854.0</td>\n",
       "      <td>1883.0</td>\n",
       "      <td>0.0</td>\n",
       "      <td>0.108832</td>\n",
       "      <td>MULTIPOINT (427320.866 5710158.178)</td>\n",
       "      <td>2021-10-01 00:00:00+00:00</td>\n",
       "      <td>2021-11-01 00:00:00+00:00</td>\n",
       "    </tr>\n",
       "    <tr>\n",
       "      <th>3</th>\n",
       "      <td>247.0</td>\n",
       "      <td>0.108798</td>\n",
       "      <td>0.185670</td>\n",
       "      <td>183.0</td>\n",
       "      <td>406.0</td>\n",
       "      <td>0.264426</td>\n",
       "      <td>545.0</td>\n",
       "      <td>391.0</td>\n",
       "      <td>386.0</td>\n",
       "      <td>3</td>\n",
       "      <td>...</td>\n",
       "      <td>1530.0</td>\n",
       "      <td>GL</td>\n",
       "      <td>465.0</td>\n",
       "      <td>440.0</td>\n",
       "      <td>238.0</td>\n",
       "      <td>378.0</td>\n",
       "      <td>0.397063</td>\n",
       "      <td>MULTIPOINT (431527.388 5693772.886)</td>\n",
       "      <td>2021-10-01 00:00:00+00:00</td>\n",
       "      <td>2021-11-01 00:00:00+00:00</td>\n",
       "    </tr>\n",
       "    <tr>\n",
       "      <th>4</th>\n",
       "      <td>399.0</td>\n",
       "      <td>0.166214</td>\n",
       "      <td>0.216001</td>\n",
       "      <td>893.0</td>\n",
       "      <td>325.0</td>\n",
       "      <td>0.254812</td>\n",
       "      <td>541.0</td>\n",
       "      <td>501.0</td>\n",
       "      <td>604.0</td>\n",
       "      <td>4</td>\n",
       "      <td>...</td>\n",
       "      <td>3653.0</td>\n",
       "      <td>GL</td>\n",
       "      <td>699.0</td>\n",
       "      <td>726.0</td>\n",
       "      <td>418.0</td>\n",
       "      <td>523.0</td>\n",
       "      <td>0.406943</td>\n",
       "      <td>MULTIPOINT (431535.193 5693614.690)</td>\n",
       "      <td>2021-10-01 00:00:00+00:00</td>\n",
       "      <td>2021-11-01 00:00:00+00:00</td>\n",
       "    </tr>\n",
       "    <tr>\n",
       "      <th>...</th>\n",
       "      <td>...</td>\n",
       "      <td>...</td>\n",
       "      <td>...</td>\n",
       "      <td>...</td>\n",
       "      <td>...</td>\n",
       "      <td>...</td>\n",
       "      <td>...</td>\n",
       "      <td>...</td>\n",
       "      <td>...</td>\n",
       "      <td>...</td>\n",
       "      <td>...</td>\n",
       "      <td>...</td>\n",
       "      <td>...</td>\n",
       "      <td>...</td>\n",
       "      <td>...</td>\n",
       "      <td>...</td>\n",
       "      <td>...</td>\n",
       "      <td>...</td>\n",
       "      <td>...</td>\n",
       "      <td>...</td>\n",
       "      <td>...</td>\n",
       "    </tr>\n",
       "    <tr>\n",
       "      <th>49419</th>\n",
       "      <td>574.0</td>\n",
       "      <td>0.134030</td>\n",
       "      <td>0.241755</td>\n",
       "      <td>787.0</td>\n",
       "      <td>733.0</td>\n",
       "      <td>0.257517</td>\n",
       "      <td>1007.0</td>\n",
       "      <td>321.0</td>\n",
       "      <td>916.0</td>\n",
       "      <td>49419</td>\n",
       "      <td>...</td>\n",
       "      <td>2209.0</td>\n",
       "      <td>GT</td>\n",
       "      <td>552.0</td>\n",
       "      <td>649.0</td>\n",
       "      <td>1185.0</td>\n",
       "      <td>226.0</td>\n",
       "      <td>0.146780</td>\n",
       "      <td>MULTIPOINT (472357.075 5696612.529)</td>\n",
       "      <td>2021-10-01 00:00:00+00:00</td>\n",
       "      <td>2021-11-01 00:00:00+00:00</td>\n",
       "    </tr>\n",
       "    <tr>\n",
       "      <th>49420</th>\n",
       "      <td>193.0</td>\n",
       "      <td>0.087611</td>\n",
       "      <td>0.109226</td>\n",
       "      <td>802.0</td>\n",
       "      <td>206.0</td>\n",
       "      <td>0.319892</td>\n",
       "      <td>384.0</td>\n",
       "      <td>1257.0</td>\n",
       "      <td>488.0</td>\n",
       "      <td>49420</td>\n",
       "      <td>...</td>\n",
       "      <td>3954.0</td>\n",
       "      <td>GT</td>\n",
       "      <td>1264.0</td>\n",
       "      <td>598.0</td>\n",
       "      <td>395.0</td>\n",
       "      <td>1881.0</td>\n",
       "      <td>0.449148</td>\n",
       "      <td>MULTIPOINT (472016.875 5697690.039)</td>\n",
       "      <td>2021-10-01 00:00:00+00:00</td>\n",
       "      <td>2021-11-01 00:00:00+00:00</td>\n",
       "    </tr>\n",
       "    <tr>\n",
       "      <th>49421</th>\n",
       "      <td>511.0</td>\n",
       "      <td>0.106504</td>\n",
       "      <td>0.269948</td>\n",
       "      <td>939.0</td>\n",
       "      <td>799.0</td>\n",
       "      <td>0.213148</td>\n",
       "      <td>1121.0</td>\n",
       "      <td>723.0</td>\n",
       "      <td>854.0</td>\n",
       "      <td>49421</td>\n",
       "      <td>...</td>\n",
       "      <td>2379.0</td>\n",
       "      <td>GT</td>\n",
       "      <td>821.0</td>\n",
       "      <td>889.0</td>\n",
       "      <td>1062.0</td>\n",
       "      <td>483.0</td>\n",
       "      <td>0.200596</td>\n",
       "      <td>MULTIPOINT (471981.413 5696219.338)</td>\n",
       "      <td>2021-10-01 00:00:00+00:00</td>\n",
       "      <td>2021-11-01 00:00:00+00:00</td>\n",
       "    </tr>\n",
       "    <tr>\n",
       "      <th>49422</th>\n",
       "      <td>280.0</td>\n",
       "      <td>0.106873</td>\n",
       "      <td>0.149533</td>\n",
       "      <td>835.0</td>\n",
       "      <td>283.0</td>\n",
       "      <td>0.255698</td>\n",
       "      <td>465.0</td>\n",
       "      <td>998.0</td>\n",
       "      <td>858.0</td>\n",
       "      <td>49422</td>\n",
       "      <td>...</td>\n",
       "      <td>4083.0</td>\n",
       "      <td>AF</td>\n",
       "      <td>1237.0</td>\n",
       "      <td>777.0</td>\n",
       "      <td>813.0</td>\n",
       "      <td>1057.0</td>\n",
       "      <td>0.429673</td>\n",
       "      <td>MULTIPOINT (471704.064 5697043.769)</td>\n",
       "      <td>2021-10-01 00:00:00+00:00</td>\n",
       "      <td>2021-11-01 00:00:00+00:00</td>\n",
       "    </tr>\n",
       "    <tr>\n",
       "      <th>49423</th>\n",
       "      <td>299.0</td>\n",
       "      <td>0.206127</td>\n",
       "      <td>0.228106</td>\n",
       "      <td>667.0</td>\n",
       "      <td>467.0</td>\n",
       "      <td>0.318741</td>\n",
       "      <td>841.0</td>\n",
       "      <td>573.0</td>\n",
       "      <td>619.0</td>\n",
       "      <td>49423</td>\n",
       "      <td>...</td>\n",
       "      <td>4764.0</td>\n",
       "      <td>GL</td>\n",
       "      <td>668.0</td>\n",
       "      <td>833.0</td>\n",
       "      <td>419.0</td>\n",
       "      <td>284.0</td>\n",
       "      <td>0.268842</td>\n",
       "      <td>MULTIPOINT (472522.639 5708612.229)</td>\n",
       "      <td>2021-10-01 00:00:00+00:00</td>\n",
       "      <td>2021-11-01 00:00:00+00:00</td>\n",
       "    </tr>\n",
       "  </tbody>\n",
       "</table>\n",
       "<p>49424 rows × 53 columns</p>\n",
       "</div>"
      ],
      "text/plain": [
       "         B02   NDVI_-7   NDVI_-5  B04_-8  B02_-1   NDVI_-3  B03_-1  B04_-6  \\\n",
       "0      607.0  0.263462  0.222208   580.0   830.0  0.150360  1164.0   606.0   \n",
       "1      719.0  0.321335  0.200790   693.0   880.0  0.102364  1174.0   523.0   \n",
       "2      683.0  0.333275  0.200724   730.0   960.0  0.137983  1330.0   414.0   \n",
       "3      247.0  0.108798  0.185670   183.0   406.0  0.264426   545.0   391.0   \n",
       "4      399.0  0.166214  0.216001   893.0   325.0  0.254812   541.0   501.0   \n",
       "...      ...       ...       ...     ...     ...       ...     ...     ...   \n",
       "49419  574.0  0.134030  0.241755   787.0   733.0  0.257517  1007.0   321.0   \n",
       "49420  193.0  0.087611  0.109226   802.0   206.0  0.319892   384.0  1257.0   \n",
       "49421  511.0  0.106504  0.269948   939.0   799.0  0.213148  1121.0   723.0   \n",
       "49422  280.0  0.106873  0.149533   835.0   283.0  0.255698   465.0   998.0   \n",
       "49423  299.0  0.206127  0.228106   667.0   467.0  0.318741   841.0   573.0   \n",
       "\n",
       "       B03_-2     ID  ...     B08  USE_CODE  B03_-4  B03_-3  B04_-2  B04_-5  \\\n",
       "0      1048.0      0  ...  1814.0        OE  1048.0   923.0  1380.0  1148.0   \n",
       "1      1602.0      1  ...  3555.0        GT   670.0  1279.0  1992.0   604.0   \n",
       "2      1492.0      2  ...  2369.0        GT   671.0   854.0  1883.0     0.0   \n",
       "3       386.0      3  ...  1530.0        GL   465.0   440.0   238.0   378.0   \n",
       "4       604.0      4  ...  3653.0        GL   699.0   726.0   418.0   523.0   \n",
       "...       ...    ...  ...     ...       ...     ...     ...     ...     ...   \n",
       "49419   916.0  49419  ...  2209.0        GT   552.0   649.0  1185.0   226.0   \n",
       "49420   488.0  49420  ...  3954.0        GT  1264.0   598.0   395.0  1881.0   \n",
       "49421   854.0  49421  ...  2379.0        GT   821.0   889.0  1062.0   483.0   \n",
       "49422   858.0  49422  ...  4083.0        AF  1237.0   777.0   813.0  1057.0   \n",
       "49423   619.0  49423  ...  4764.0        GL   668.0   833.0   419.0   284.0   \n",
       "\n",
       "        NDVI_-1                             geometry  \\\n",
       "0      0.085486  MULTIPOINT (428690.027 5711938.189)   \n",
       "1      0.134015  MULTIPOINT (427819.337 5710040.545)   \n",
       "2      0.108832  MULTIPOINT (427320.866 5710158.178)   \n",
       "3      0.397063  MULTIPOINT (431527.388 5693772.886)   \n",
       "4      0.406943  MULTIPOINT (431535.193 5693614.690)   \n",
       "...         ...                                  ...   \n",
       "49419  0.146780  MULTIPOINT (472357.075 5696612.529)   \n",
       "49420  0.449148  MULTIPOINT (472016.875 5697690.039)   \n",
       "49421  0.200596  MULTIPOINT (471981.413 5696219.338)   \n",
       "49422  0.429673  MULTIPOINT (471704.064 5697043.769)   \n",
       "49423  0.268842  MULTIPOINT (472522.639 5708612.229)   \n",
       "\n",
       "                     time_start                  time_end  \n",
       "0     2021-10-01 00:00:00+00:00 2021-11-01 00:00:00+00:00  \n",
       "1     2021-10-01 00:00:00+00:00 2021-11-01 00:00:00+00:00  \n",
       "2     2021-10-01 00:00:00+00:00 2021-11-01 00:00:00+00:00  \n",
       "3     2021-10-01 00:00:00+00:00 2021-11-01 00:00:00+00:00  \n",
       "4     2021-10-01 00:00:00+00:00 2021-11-01 00:00:00+00:00  \n",
       "...                         ...                       ...  \n",
       "49419 2021-10-01 00:00:00+00:00 2021-11-01 00:00:00+00:00  \n",
       "49420 2021-10-01 00:00:00+00:00 2021-11-01 00:00:00+00:00  \n",
       "49421 2021-10-01 00:00:00+00:00 2021-11-01 00:00:00+00:00  \n",
       "49422 2021-10-01 00:00:00+00:00 2021-11-01 00:00:00+00:00  \n",
       "49423 2021-10-01 00:00:00+00:00 2021-11-01 00:00:00+00:00  \n",
       "\n",
       "[49424 rows x 53 columns]"
      ]
     },
     "execution_count": 21,
     "metadata": {},
     "output_type": "execute_result"
    }
   ],
   "source": [
    "import numpy as np\n",
    "gp_train_1=gp_res.replace(np.nan, 0)#.groupby(\"USE_CODE\").sample(n=300, replace=True)\n",
    "gp_train_1"
   ]
  },
  {
   "attachments": {},
   "cell_type": "markdown",
   "metadata": {},
   "source": [
    "While not nessessary, we make sure that the data feed to the RF is always in the same order."
   ]
  },
  {
   "cell_type": "code",
   "execution_count": 22,
   "metadata": {},
   "outputs": [],
   "source": [
    "train_variable_order = ['B02', 'B02_-1', 'B02_-2', 'B02_-3', 'B02_-4',  'B02_-5',  'B02_-6', 'B02_-7', 'B02_-8',\n",
    "        'B03', 'B03_-1', 'B03_-2', 'B03_-3', 'B03_-4',  'B03_-5',  'B03_-6', 'B03_-7', 'B03_-8',\n",
    "        'B04', 'B04_-1', 'B04_-2', 'B04_-3', 'B04_-4',  'B04_-5',  'B04_-6', 'B04_-7', 'B04_-8',\n",
    "        'B08', 'B08_-1', 'B08_-2', 'B08_-3', 'B08_-4',  'B08_-5',  'B08_-6', 'B08_-7', 'B08_-8',\n",
    "        'NDVI', 'NDVI_-1', 'NDVI_-2', 'NDVI_-3', 'NDVI_-4',  'NDVI_-5',  'NDVI_-6', 'NDVI_-7', 'NDVI_-8']\n",
    "\n",
    "x_list = gp_train_1[train_variable_order].values"
   ]
  },
  {
   "attachments": {},
   "cell_type": "markdown",
   "metadata": {},
   "source": [
    "The labels are stored in the column `USE_CODE`. "
   ]
  },
  {
   "cell_type": "code",
   "execution_count": 23,
   "metadata": {},
   "outputs": [
    {
     "data": {
      "text/plain": [
       "0        OE\n",
       "1        GT\n",
       "2        GT\n",
       "3        GL\n",
       "4        GL\n",
       "         ..\n",
       "49419    GT\n",
       "49420    GT\n",
       "49421    GT\n",
       "49422    AF\n",
       "49423    GL\n",
       "Name: USE_CODE, Length: 49424, dtype: object"
      ]
     },
     "execution_count": 23,
     "metadata": {},
     "output_type": "execute_result"
    }
   ],
   "source": [
    "y_list = gp_train_1['USE_CODE'].replace(0, 'None')\n",
    "y_list"
   ]
  },
  {
   "attachments": {},
   "cell_type": "markdown",
   "metadata": {},
   "source": [
    "First, we create a train-test split. We use 80% of the data for training and 20% for testing."
   ]
  },
  {
   "cell_type": "code",
   "execution_count": 24,
   "metadata": {},
   "outputs": [],
   "source": [
    "from sklearn.model_selection import train_test_split\n",
    "\n",
    "X_train, X_test, y_train, y_test = train_test_split(x_list, y_list, test_size=0.2, random_state=31337, stratify=y_list)"
   ]
  },
  {
   "attachments": {},
   "cell_type": "markdown",
   "metadata": {},
   "source": [
    "Then, we train the RF on the training data:"
   ]
  },
  {
   "cell_type": "code",
   "execution_count": 25,
   "metadata": {},
   "outputs": [
    {
     "data": {
      "text/html": [
       "<style>#sk-container-id-1 {color: black;background-color: white;}#sk-container-id-1 pre{padding: 0;}#sk-container-id-1 div.sk-toggleable {background-color: white;}#sk-container-id-1 label.sk-toggleable__label {cursor: pointer;display: block;width: 100%;margin-bottom: 0;padding: 0.3em;box-sizing: border-box;text-align: center;}#sk-container-id-1 label.sk-toggleable__label-arrow:before {content: \"▸\";float: left;margin-right: 0.25em;color: #696969;}#sk-container-id-1 label.sk-toggleable__label-arrow:hover:before {color: black;}#sk-container-id-1 div.sk-estimator:hover label.sk-toggleable__label-arrow:before {color: black;}#sk-container-id-1 div.sk-toggleable__content {max-height: 0;max-width: 0;overflow: hidden;text-align: left;background-color: #f0f8ff;}#sk-container-id-1 div.sk-toggleable__content pre {margin: 0.2em;color: black;border-radius: 0.25em;background-color: #f0f8ff;}#sk-container-id-1 input.sk-toggleable__control:checked~div.sk-toggleable__content {max-height: 200px;max-width: 100%;overflow: auto;}#sk-container-id-1 input.sk-toggleable__control:checked~label.sk-toggleable__label-arrow:before {content: \"▾\";}#sk-container-id-1 div.sk-estimator input.sk-toggleable__control:checked~label.sk-toggleable__label {background-color: #d4ebff;}#sk-container-id-1 div.sk-label input.sk-toggleable__control:checked~label.sk-toggleable__label {background-color: #d4ebff;}#sk-container-id-1 input.sk-hidden--visually {border: 0;clip: rect(1px 1px 1px 1px);clip: rect(1px, 1px, 1px, 1px);height: 1px;margin: -1px;overflow: hidden;padding: 0;position: absolute;width: 1px;}#sk-container-id-1 div.sk-estimator {font-family: monospace;background-color: #f0f8ff;border: 1px dotted black;border-radius: 0.25em;box-sizing: border-box;margin-bottom: 0.5em;}#sk-container-id-1 div.sk-estimator:hover {background-color: #d4ebff;}#sk-container-id-1 div.sk-parallel-item::after {content: \"\";width: 100%;border-bottom: 1px solid gray;flex-grow: 1;}#sk-container-id-1 div.sk-label:hover label.sk-toggleable__label {background-color: #d4ebff;}#sk-container-id-1 div.sk-serial::before {content: \"\";position: absolute;border-left: 1px solid gray;box-sizing: border-box;top: 0;bottom: 0;left: 50%;z-index: 0;}#sk-container-id-1 div.sk-serial {display: flex;flex-direction: column;align-items: center;background-color: white;padding-right: 0.2em;padding-left: 0.2em;position: relative;}#sk-container-id-1 div.sk-item {position: relative;z-index: 1;}#sk-container-id-1 div.sk-parallel {display: flex;align-items: stretch;justify-content: center;background-color: white;position: relative;}#sk-container-id-1 div.sk-item::before, #sk-container-id-1 div.sk-parallel-item::before {content: \"\";position: absolute;border-left: 1px solid gray;box-sizing: border-box;top: 0;bottom: 0;left: 50%;z-index: -1;}#sk-container-id-1 div.sk-parallel-item {display: flex;flex-direction: column;z-index: 1;position: relative;background-color: white;}#sk-container-id-1 div.sk-parallel-item:first-child::after {align-self: flex-end;width: 50%;}#sk-container-id-1 div.sk-parallel-item:last-child::after {align-self: flex-start;width: 50%;}#sk-container-id-1 div.sk-parallel-item:only-child::after {width: 0;}#sk-container-id-1 div.sk-dashed-wrapped {border: 1px dashed gray;margin: 0 0.4em 0.5em 0.4em;box-sizing: border-box;padding-bottom: 0.4em;background-color: white;}#sk-container-id-1 div.sk-label label {font-family: monospace;font-weight: bold;display: inline-block;line-height: 1.2em;}#sk-container-id-1 div.sk-label-container {text-align: center;}#sk-container-id-1 div.sk-container {/* jupyter's `normalize.less` sets `[hidden] { display: none; }` but bootstrap.min.css set `[hidden] { display: none !important; }` so we also need the `!important` here to be able to override the default hidden behavior on the sphinx rendered scikit-learn.org. See: https://github.com/scikit-learn/scikit-learn/issues/21755 */display: inline-block !important;position: relative;}#sk-container-id-1 div.sk-text-repr-fallback {display: none;}</style><div id=\"sk-container-id-1\" class=\"sk-top-container\"><div class=\"sk-text-repr-fallback\"><pre>RandomForestClassifier(class_weight=&#x27;balanced_subsample&#x27;, n_estimators=300,\n",
       "                       random_state=1337)</pre><b>In a Jupyter environment, please rerun this cell to show the HTML representation or trust the notebook. <br />On GitHub, the HTML representation is unable to render, please try loading this page with nbviewer.org.</b></div><div class=\"sk-container\" hidden><div class=\"sk-item\"><div class=\"sk-estimator sk-toggleable\"><input class=\"sk-toggleable__control sk-hidden--visually\" id=\"sk-estimator-id-1\" type=\"checkbox\" checked><label for=\"sk-estimator-id-1\" class=\"sk-toggleable__label sk-toggleable__label-arrow\">RandomForestClassifier</label><div class=\"sk-toggleable__content\"><pre>RandomForestClassifier(class_weight=&#x27;balanced_subsample&#x27;, n_estimators=300,\n",
       "                       random_state=1337)</pre></div></div></div></div></div>"
      ],
      "text/plain": [
       "RandomForestClassifier(class_weight='balanced_subsample', n_estimators=300,\n",
       "                       random_state=1337)"
      ]
     },
     "execution_count": 25,
     "metadata": {},
     "output_type": "execute_result"
    }
   ],
   "source": [
    "from sklearn.ensemble import RandomForestClassifier, BaggingClassifier\n",
    "X = X_train\n",
    "Y = y_train\n",
    "clf = RandomForestClassifier(random_state=1337, class_weight='balanced_subsample', n_estimators=300)\n",
    "clf = clf.fit(X, Y)\n",
    "clf"
   ]
  },
  {
   "attachments": {},
   "cell_type": "markdown",
   "metadata": {},
   "source": [
    "Print the accuracy of the RF on the test data:"
   ]
  },
  {
   "cell_type": "code",
   "execution_count": 26,
   "metadata": {},
   "outputs": [
    {
     "data": {
      "text/plain": [
       "0.7725847243297926"
      ]
     },
     "execution_count": 26,
     "metadata": {},
     "output_type": "execute_result"
    }
   ],
   "source": [
    "from sklearn.metrics import accuracy_score, confusion_matrix, ConfusionMatrixDisplay\n",
    "\n",
    "accuracy_score(y_test, clf.predict(X_test))"
   ]
  },
  {
   "attachments": {},
   "cell_type": "markdown",
   "metadata": {},
   "source": [
    "Print the confusion matrix:"
   ]
  },
  {
   "cell_type": "code",
   "execution_count": 27,
   "metadata": {},
   "outputs": [
    {
     "data": {
      "text/plain": [
       "<sklearn.metrics._plot.confusion_matrix.ConfusionMatrixDisplay at 0x7f9715661d20>"
      ]
     },
     "execution_count": 27,
     "metadata": {},
     "output_type": "execute_result"
    },
    {
     "data": {
      "image/png": "[encoded data removed]",
      "text/plain": [
       "<Figure size 640x480 with 2 Axes>"
      ]
     },
     "metadata": {},
     "output_type": "display_data"
    }
   ],
   "source": [
    "cm = confusion_matrix(y_test, clf.predict(X_test), labels=clf.classes_)\n",
    "disp = ConfusionMatrixDisplay(confusion_matrix=cm, display_labels=clf.classes_)\n",
    "disp.plot()"
   ]
  },
  {
   "attachments": {},
   "cell_type": "markdown",
   "metadata": {},
   "source": [
    "## 6. Apply the trained Random-Forest to the monthly Sentinel-2 data\n",
    "\n",
    "We can now create a workflow that generates the same monthly Sentinel-2 data as before, but this time want to apply the trained RF to the data. To do this, we query raster tiles from the Geo Engine and apply the RF to each tile. The result is a new raster dataset that contains the predicted crop class for each pixel."
   ]
  },
  {
   "attachments": {},
   "cell_type": "markdown",
   "metadata": {},
   "source": [
    "Create workflows that produce the monthly Sentinel-2 data as raster tiles:"
   ]
  },
  {
   "cell_type": "code",
   "execution_count": 28,
   "metadata": {},
   "outputs": [
    {
     "data": {
      "text/plain": [
       "{'B02': 514aa881-87a7-56b0-a1d8-eddb1c5bfa22,\n",
       " 'B02_-1': 0309a384-14ee-504e-8490-96d1cb04c47f,\n",
       " 'B02_-2': f3341d6c-f735-5562-80a0-8df3d38aea02,\n",
       " 'B02_-3': 52940eb6-cfed-546b-bf98-a7dfe274541a,\n",
       " 'B02_-4': 30b40918-6daa-56c5-b35c-030175d63868,\n",
       " 'B02_-5': aa55ae94-2201-5a05-89ff-3c99599cac32,\n",
       " 'B02_-6': 8d765287-2164-542b-8c4b-c30fe6ef3f25,\n",
       " 'B02_-7': 20b104a7-5dc4-598b-8dd6-01e13297c412,\n",
       " 'B02_-8': 66a0af5d-18d7-51d0-95c2-11046f9be179,\n",
       " 'B03': de501726-8d66-5cfd-a39c-481eac1aaf43,\n",
       " 'B03_-1': dbffd060-d23d-5cc4-83c7-e53f46bd365f,\n",
       " 'B03_-2': e122165a-42ea-57b8-980e-0b60b1ad2aa2,\n",
       " 'B03_-3': 6f288fb6-252e-507b-934e-064ff67452bb,\n",
       " 'B03_-4': dd8d75d1-a8d8-5861-8181-cfcced671a8a,\n",
       " 'B03_-5': f95c3613-abe3-5ce6-b110-9d18026fbf6f,\n",
       " 'B03_-6': 2c2d26d4-34da-5ca7-9ced-3535f8367b83,\n",
       " 'B03_-7': caac0ccd-dc43-57f8-827c-266d9daa0888,\n",
       " 'B03_-8': 893acef3-4b53-56e5-862c-729988ec0014,\n",
       " 'B04': f4d7079b-594b-5450-b6e1-6e5860ddb576,\n",
       " 'B04_-1': 1a9b56c7-e542-5a12-b497-03b86f2e2b45,\n",
       " 'B04_-2': 09931d65-e137-5623-a9e3-e5bc1fd37c71,\n",
       " 'B04_-3': 127a92ed-2a9c-58d5-901b-c0ae081111bb,\n",
       " 'B04_-4': f77a7c39-f930-587b-b3ca-7550ed0483e6,\n",
       " 'B04_-5': 128e1dce-ec40-5571-bb06-733bf26623f1,\n",
       " 'B04_-6': a915fb1b-99bb-5bc5-9f81-9c33dd957c30,\n",
       " 'B04_-7': 5137de4d-4490-5987-b194-84c613584871,\n",
       " 'B04_-8': 792efb4b-e95e-5ba2-aeea-ea730ce32840,\n",
       " 'B08': b81e2394-46e9-55df-a850-c66f02447213,\n",
       " 'B08_-1': 0f04c626-f7ad-51b5-b796-fd657401313b,\n",
       " 'B08_-2': b83e9a88-d8d9-53ff-9b83-bf83b2278cbc,\n",
       " 'B08_-3': d0fbf995-fc19-55da-9155-cd1d9c94dcc8,\n",
       " 'B08_-4': 224437e0-eb67-51f4-ba73-0c9f24a3b081,\n",
       " 'B08_-5': c24e55ec-d194-5f29-abf5-423aa1e11d35,\n",
       " 'B08_-6': 13acb991-d35b-5d2c-bd07-332a4d3d3591,\n",
       " 'B08_-7': b72dc37d-48c2-525f-be6d-f973f7d3c17f,\n",
       " 'B08_-8': d544edfd-3044-5f9f-802e-728f7efc1adf,\n",
       " 'NDVI': 7922bc4d-089e-5b50-a4bb-baaca714cfea,\n",
       " 'NDVI_-1': d66a0663-6dc3-5bd3-99f9-e4bded25df7d,\n",
       " 'NDVI_-2': b933fba3-e26b-5f17-915a-a60ab5498fbd,\n",
       " 'NDVI_-3': a001cb0d-d36b-5b43-ba1e-a006d4907b0b,\n",
       " 'NDVI_-4': 086cfebd-45c9-5f5b-acfe-43a5473f5c17,\n",
       " 'NDVI_-5': 1f56919a-c419-52d6-8608-e648c2fe4b2f,\n",
       " 'NDVI_-6': 8123bdac-6d6e-597d-9d2c-87dc03a2c2ea,\n",
       " 'NDVI_-7': 5a460510-ae20-52d1-9027-39f452de6b74,\n",
       " 'NDVI_-8': 758263c5-14cf-58a4-bcb7-abf5d67c6bc3}"
      ]
     },
     "execution_count": 28,
     "metadata": {},
     "output_type": "execute_result"
    }
   ],
   "source": [
    "\n",
    "\n",
    "band_workflows_a = {b: ge.unstable.workflow_operators.GdalSource(x) for b, x in monthly_band_data_id_map.items()}\n",
    "\n",
    "for month_delta in range(-8,0):\n",
    "    for b in monthly_band_data_id_map.keys():\n",
    "        w = band_workflows_a[b]\n",
    "        band_workflows_a[f'{b}_{month_delta}'] = ge.unstable.workflow_operators.TimeShift(granularity=\"months\", value=month_delta, shift_type=\"relative\", source=w)\n",
    "\n",
    "len(band_workflows_a)\n",
    "\n",
    "band_workflows_b = {b: ge.register_workflow(band_workflows_a[b].to_workflow_dict()) for b in train_variable_order }\n",
    "band_workflows_b\n",
    "\n"
   ]
  },
  {
   "attachments": {},
   "cell_type": "markdown",
   "metadata": {},
   "source": [
    "Now we specify the query rectangle we are interested in. It is a subeset of the area of interest defined in step 2."
   ]
  },
  {
   "cell_type": "code",
   "execution_count": 29,
   "metadata": {},
   "outputs": [
    {
     "data": {
      "text/plain": [
       "QueryRectangle( \n",
       "    BoundingBox2D(xmin=448542.0, ymin=5704199.5, xmax=449054.0, ymax=5704711.5)\n",
       "    TimeInterval(start=2021-10-15 00:00:00+00:00, end=2021-10-15 00:00:00+00:00)\n",
       "    SpatialResolution(x=10.0, y=10.0)\n",
       "    srs=EPSG:32632 \n",
       ")"
      ]
     },
     "execution_count": 29,
     "metadata": {},
     "output_type": "execute_result"
    }
   ],
   "source": [
    "start_dt = datetime(2021, 10, 15, 0, 0, 0)\n",
    "end_dt = datetime(2021, 10, 15, 0, 0, 0)\n",
    "\n",
    "box_size = 512\n",
    "\n",
    "box_center_x = 0.5 * (xmin + xmax)\n",
    "box_center_y = 0.5 * (ymin + ymax)\n",
    "\n",
    "box_x_min = box_center_x - box_size / 2\n",
    "box_x_max = box_x_min + box_size\n",
    "box_y_min = box_center_y - box_size / 2\n",
    "box_y_max = box_y_min + box_size\n",
    "\n",
    "query_rect = ge.QueryRectangle(\n",
    "        spatial_bounds=ge.BoundingBox2D(\n",
    "            xmin=box_x_min,\n",
    "            ymin=box_y_min,\n",
    "            xmax=box_x_max,\n",
    "            ymax=box_y_max,\n",
    "        ),\n",
    "        time_interval=ge.TimeInterval(\n",
    "            start=start_dt,\n",
    "            end=end_dt,\n",
    "        ),\n",
    "        resolution=ge.SpatialResolution(\n",
    "            10.0,\n",
    "            10.0,\n",
    "        ),\n",
    "        srs=\"EPSG:32632\",\n",
    ")\n",
    "\n",
    "query_rect"
   ]
  },
  {
   "attachments": {},
   "cell_type": "markdown",
   "metadata": {},
   "source": [
    "We also need a map from category to number. This is necessary since the RF produces class names and we want to store the result as a raster dataset."
   ]
  },
  {
   "cell_type": "code",
   "execution_count": 30,
   "metadata": {},
   "outputs": [],
   "source": [
    "code_id_map = {\n",
    "    'None': 0,\n",
    "    'AF': 1,\n",
    "    'DA': 2,\n",
    "    'EP': 3,\n",
    "    'EW': 4,\n",
    "    'GL': 5,\n",
    "    'GM': 6,\n",
    "    'GT': 7,\n",
    "    'HF': 8,\n",
    "    'HP': 9,\n",
    "    'OE': 10,\n",
    "    'PA': 11,\n",
    "    'SF': 12,\n",
    "    'SL': 13,\n",
    "    'ZP': 14,    \n",
    "}"
   ]
  },
  {
   "attachments": {},
   "cell_type": "markdown",
   "metadata": {},
   "source": [
    "Now we query all the workflows in parallel and zip the results together. The result is a list of tiles, where each tile contains the monthly Sentinel-2 data for one band and month.\n",
    "For each tile (list) we apply the RF to the data and store the result as a new tile. The result is a list of tiles, where each tile contains the predicted crop class for one pixel."
   ]
  },
  {
   "cell_type": "code",
   "execution_count": 31,
   "metadata": {},
   "outputs": [
    {
     "name": "stdout",
     "output_type": "stream",
     "text": [
      "45\n"
     ]
    }
   ],
   "source": [
    "from asyncstdlib.itertools import zip_longest\n",
    "import xarray as xr\n",
    "\n",
    "query_keys = list(band_workflows_b.keys())\n",
    "queries = [\n",
    "    w.raster_stream(query_rect) for w in band_workflows_b.values()\n",
    "]\n",
    "\n",
    "res_arrays = []\n",
    "\n",
    "async for tile_stac in zip_longest(*queries):\n",
    "    print(len(tile_stac))\n",
    "\n",
    "    arr_stack = xr.concat(tile_stac, dim=\"band\")\n",
    "    \n",
    "    res_array = xr.zeros_like(arr_stack.isel(band=0), dtype=np.uint8)\n",
    "\n",
    "    for x in range(box_size):\n",
    "        for y in range(box_size):\n",
    "            \n",
    "            rf_input = arr_stack[:, x, y].values\n",
    "            np.nan_to_num(rf_input, copy=False, nan=0, posinf=None, neginf=None)\n",
    "\n",
    "            pred_class = clf.predict([rf_input])[0]           \n",
    "            res_array[x,y] = code_id_map[pred_class]\n",
    "\n",
    "    res_arrays.append(res_array)"
   ]
  },
  {
   "attachments": {},
   "cell_type": "markdown",
   "metadata": {},
   "source": [
    "We can now print the result as a image:"
   ]
  },
  {
   "cell_type": "code",
   "execution_count": 32,
   "metadata": {},
   "outputs": [
    {
     "data": {
      "image/png": "[encoded data removed]",
      "text/plain": [
       "<Figure size 640x480 with 2 Axes>"
      ]
     },
     "metadata": {},
     "output_type": "display_data"
    }
   ],
   "source": [
    "import matplotlib.pyplot as plt\n",
    "\n",
    "for arr in res_arrays:\n",
    "    plt.figure()\n",
    "    arr.plot()\n"
   ]
  },
  {
   "attachments": {},
   "cell_type": "markdown",
   "metadata": {},
   "source": [
    "And finally, we can store the result as a new GeoTiFF file:"
   ]
  },
  {
   "cell_type": "code",
   "execution_count": 33,
   "metadata": {},
   "outputs": [],
   "source": [
    "import rioxarray\n",
    "\n",
    "for i, arr in enumerate(res_arrays):\n",
    "    arr.rio.to_raster(\n",
    "    f\"arr_{i}.tif\",\n",
    "    tiled=True,  # GDAL: By default striped TIFF files are created. This option can be used to force creation of tiled TIFF files.\n",
    "    windowed=True,  # rioxarray: read & write one window at a time\n",
    ")"
   ]
  }
 ],
 "metadata": {
  "kernelspec": {
   "display_name": "env",
   "language": "python",
   "name": "python3"
  },
  "language_info": {
   "codemirror_mode": {
    "name": "ipython",
    "version": 3
   },
   "file_extension": ".py",
   "mimetype": "text/x-python",
   "name": "python",
   "nbconvert_exporter": "python",
   "pygments_lexer": "ipython3",
   "version": "3.10.6"
  },
  "orig_nbformat": 4
 },
 "nbformat": 4,
 "nbformat_minor": 2
}
