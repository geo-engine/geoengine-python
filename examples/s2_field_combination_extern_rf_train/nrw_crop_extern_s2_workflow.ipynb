{
 "cells": [
  {
   "attachments": {},
   "cell_type": "markdown",
   "metadata": {},
   "source": [
    "# Single step join of monthly Sentinel-2 data to points of interest"
   ]
  },
  {
   "attachments": {},
   "cell_type": "markdown",
   "metadata": {},
   "source": [
    "This notebook shows how to use the Geo Engine to join monthly Sentinel-2 data to points of interest. \n",
    "\n",
    "The following packages are used:"
   ]
  },
  {
   "cell_type": "code",
   "execution_count": 1,
   "metadata": {},
   "outputs": [
    {
     "name": "stderr",
     "output_type": "stream",
     "text": [
      "/home/droenner/git/geoengine-python/env/lib/python3.10/site-packages/geopandas/_compat.py:112: UserWarning: The Shapely GEOS version (3.10.3-CAPI-1.16.1) is incompatible with the GEOS version PyGEOS was compiled with (3.10.4-CAPI-1.16.2). Conversions between both will be slow.\n",
      "  warnings.warn(\n"
     ]
    }
   ],
   "source": [
    "import geopandas as gpd\n",
    "import geoengine as ge\n"
   ]
  },
  {
   "attachments": {},
   "cell_type": "markdown",
   "metadata": {},
   "source": [
    "Initialise the Geo Engine session:"
   ]
  },
  {
   "cell_type": "code",
   "execution_count": 2,
   "metadata": {},
   "outputs": [],
   "source": [
    "ge.initialize(\"http://localhost:3030/api\", credentials=(\"admin@localhost\", \"admin1234\"))"
   ]
  },
  {
   "cell_type": "code",
   "execution_count": 3,
   "metadata": {},
   "outputs": [
    {
     "data": {
      "text/plain": [
       "Server:              http://localhost:3030/api\n",
       "User Id:             d5328854-6190-4af9-ad69-4e74b0961ac9\n",
       "Session Id:          b936567b-981a-4741-ad15-12b38058e3cc\n",
       "Session valid until: 2023-04-01T10:29:22.661Z"
      ]
     },
     "execution_count": 3,
     "metadata": {},
     "output_type": "execute_result"
    }
   ],
   "source": [
    "session = ge.get_session()\n",
    "user_id = session.user_id\n",
    "session"
   ]
  },
  {
   "attachments": {},
   "cell_type": "markdown",
   "metadata": {},
   "source": [
    "To track the quota usage, first get the current quota:"
   ]
  },
  {
   "cell_type": "code",
   "execution_count": 4,
   "metadata": {},
   "outputs": [
    {
     "data": {
      "text/plain": [
       "0"
      ]
     },
     "execution_count": 4,
     "metadata": {},
     "output_type": "execute_result"
    }
   ],
   "source": [
    "used_quota_start = ge.get_quota(user_id)['used']\n",
    "used_quota_start"
   ]
  },
  {
   "attachments": {},
   "cell_type": "markdown",
   "metadata": {},
   "source": [
    "Set the area of interest. It is defined as a bounding box in EPSG:32632.\n",
    "It is locted in NRW, Germany and covers the area between Willingen, Lippstadt and Werl."
   ]
  },
  {
   "cell_type": "code",
   "execution_count": 5,
   "metadata": {},
   "outputs": [
    {
     "data": {
      "text/plain": [
       "(421395, 5681078, 476201, 5727833)"
      ]
     },
     "execution_count": 5,
     "metadata": {},
     "output_type": "execute_result"
    }
   ],
   "source": [
    "bounds_array = [421395,  5681078, 476201, 5727833]\n",
    "xmin = bounds_array[0]\n",
    "ymin = bounds_array[1]\n",
    "xmax = bounds_array[2]\n",
    "ymax = bounds_array[3]\n",
    "\n",
    "(xmin, ymin, xmax, ymax)"
   ]
  },
  {
   "attachments": {},
   "cell_type": "markdown",
   "metadata": {},
   "source": [
    "Using the bounding box, a time interval and a resolution, we define the area of interest as a temporal raster space-time cube."
   ]
  },
  {
   "cell_type": "code",
   "execution_count": 6,
   "metadata": {},
   "outputs": [
    {
     "data": {
      "text/plain": [
       "{'spatialBounds': {'upperLeftCoordinate': {'x': 421395, 'y': 5727833},\n",
       "  'lowerRightCoordinate': {'x': 476201, 'y': 5681078}},\n",
       " 'timeInterval': {'start': '2021-01-01T00:00:00.000+00:00',\n",
       "  'end': '2021-12-31T00:00:00.000+00:00'},\n",
       " 'spatialResolution': {'x': 10.0, 'y': 10.0}}"
      ]
     },
     "execution_count": 6,
     "metadata": {},
     "output_type": "execute_result"
    }
   ],
   "source": [
    "from datetime import datetime\n",
    "time_start = datetime(2021, 1, 1)\n",
    "time_end = datetime(2021, 12, 31)\n",
    "\n",
    "study_area = ge.api.RasterQueryRectangle(\n",
    "    spatialBounds=ge.SpatialPartition2D(xmin, ymin, xmax, ymax).to_api_dict(),\n",
    "    timeInterval=ge.TimeInterval(time_start, time_end).to_api_dict(),\n",
    "    spatialResolution=ge.SpatialResolution(10.0, 10.0).to_api_dict(),\n",
    ")\n",
    "study_area"
   ]
  },
  {
   "attachments": {},
   "cell_type": "markdown",
   "metadata": {},
   "source": [
    "Read the prepared point data from the gpkg file. Then upload the data to the Geo Engine."
   ]
  },
  {
   "cell_type": "code",
   "execution_count": 7,
   "metadata": {},
   "outputs": [
    {
     "data": {
      "text/plain": [
       "ca5a82ce-05a1-4834-bb8f-d2f58284a8a4"
      ]
     },
     "execution_count": 7,
     "metadata": {},
     "output_type": "execute_result"
    }
   ],
   "source": [
    "points_df = gpd.read_file(\"group_sample_frac1_inspireId_utm32n.gpkg\")\n",
    "points_id = ge.upload_dataframe(points_df, \"group_sample_frac1_inspireId\")\n",
    "points_id"
   ]
  },
  {
   "attachments": {},
   "cell_type": "markdown",
   "metadata": {},
   "source": [
    "Create a point source operator that reads the point data:"
   ]
  },
  {
   "cell_type": "code",
   "execution_count": 8,
   "metadata": {},
   "outputs": [
    {
     "data": {
      "text/plain": [
       "{'type': 'Vector',\n",
       " 'operator': {'type': 'OgrSource',\n",
       "  'params': {'data': {'type': 'internal',\n",
       "    'datasetId': 'ca5a82ce-05a1-4834-bb8f-d2f58284a8a4'},\n",
       "   'attributeProjection': None,\n",
       "   'attributeFilters': None}}}"
      ]
     },
     "execution_count": 8,
     "metadata": {},
     "output_type": "execute_result"
    }
   ],
   "source": [
    "points_source_operator = ge.unstable.workflow_operators.OgrSource(str(points_id))\n",
    "points_source_operator.to_workflow_dict()"
   ]
  },
  {
   "attachments": {},
   "cell_type": "markdown",
   "metadata": {},
   "source": [
    "Now use the convenience function `s2_cloud_free_aggregated_band` to create a wokflow for each band [02, 03, 04, 08 and NDVI] that downloads the Sentinel-2 data of the bands and creates cloud free monthly means. \n",
    "\n",
    "Then use the workflows as input to the `RasterVectorJoin` operator to create a workflow that attaches the Sentinel-2 data to the points."
   ]
  },
  {
   "cell_type": "code",
   "execution_count": 9,
   "metadata": {},
   "outputs": [
    {
     "data": {
      "text/plain": [
       "{'type': 'RasterVectorJoin',\n",
       " 'params': {'names': ['B02', 'B03', 'B04', 'B08', 'NDVI'],\n",
       "  'temporalAggregation': 'none',\n",
       "  'featureAggregation': 'mean'},\n",
       " 'sources': {'vector': {'type': 'OgrSource',\n",
       "   'params': {'data': {'type': 'internal',\n",
       "     'datasetId': 'ca5a82ce-05a1-4834-bb8f-d2f58284a8a4'},\n",
       "    'attributeProjection': None,\n",
       "    'attributeFilters': None}},\n",
       "  'rasters': [{'type': 'TemporalRasterAggregation',\n",
       "    'params': {'aggregation': {'type': 'mean', 'ignoreNoData': True},\n",
       "     'window': {'granularity': 'months', 'step': 1}},\n",
       "    'sources': {'raster': {'type': 'Expression',\n",
       "      'params': {'expression': ' if (B == 3 || (B >= 7 && B <= 11)) { NODATA } else { A }',\n",
       "       'outputType': 'U16',\n",
       "       'mapNoData': False},\n",
       "      'sources': {'a': {'type': 'GdalSource',\n",
       "        'params': {'data': {'type': 'external',\n",
       "          'providerId': '5779494c-f3a2-48b3-8a2d-5fbba8c5b6c5',\n",
       "          'layerId': 'UTM32N:B02'}}},\n",
       "       'b': {'type': 'GdalSource',\n",
       "        'params': {'data': {'type': 'external',\n",
       "          'providerId': '5779494c-f3a2-48b3-8a2d-5fbba8c5b6c5',\n",
       "          'layerId': 'UTM32N:SCL'}}}}}}},\n",
       "   {'type': 'TemporalRasterAggregation',\n",
       "    'params': {'aggregation': {'type': 'mean', 'ignoreNoData': True},\n",
       "     'window': {'granularity': 'months', 'step': 1}},\n",
       "    'sources': {'raster': {'type': 'Expression',\n",
       "      'params': {'expression': ' if (B == 3 || (B >= 7 && B <= 11)) { NODATA } else { A }',\n",
       "       'outputType': 'U16',\n",
       "       'mapNoData': False},\n",
       "      'sources': {'a': {'type': 'GdalSource',\n",
       "        'params': {'data': {'type': 'external',\n",
       "          'providerId': '5779494c-f3a2-48b3-8a2d-5fbba8c5b6c5',\n",
       "          'layerId': 'UTM32N:B03'}}},\n",
       "       'b': {'type': 'GdalSource',\n",
       "        'params': {'data': {'type': 'external',\n",
       "          'providerId': '5779494c-f3a2-48b3-8a2d-5fbba8c5b6c5',\n",
       "          'layerId': 'UTM32N:SCL'}}}}}}},\n",
       "   {'type': 'TemporalRasterAggregation',\n",
       "    'params': {'aggregation': {'type': 'mean', 'ignoreNoData': True},\n",
       "     'window': {'granularity': 'months', 'step': 1}},\n",
       "    'sources': {'raster': {'type': 'Expression',\n",
       "      'params': {'expression': ' if (B == 3 || (B >= 7 && B <= 11)) { NODATA } else { A }',\n",
       "       'outputType': 'U16',\n",
       "       'mapNoData': False},\n",
       "      'sources': {'a': {'type': 'GdalSource',\n",
       "        'params': {'data': {'type': 'external',\n",
       "          'providerId': '5779494c-f3a2-48b3-8a2d-5fbba8c5b6c5',\n",
       "          'layerId': 'UTM32N:B04'}}},\n",
       "       'b': {'type': 'GdalSource',\n",
       "        'params': {'data': {'type': 'external',\n",
       "          'providerId': '5779494c-f3a2-48b3-8a2d-5fbba8c5b6c5',\n",
       "          'layerId': 'UTM32N:SCL'}}}}}}},\n",
       "   {'type': 'TemporalRasterAggregation',\n",
       "    'params': {'aggregation': {'type': 'mean', 'ignoreNoData': True},\n",
       "     'window': {'granularity': 'months', 'step': 1}},\n",
       "    'sources': {'raster': {'type': 'Expression',\n",
       "      'params': {'expression': ' if (B == 3 || (B >= 7 && B <= 11)) { NODATA } else { A }',\n",
       "       'outputType': 'U16',\n",
       "       'mapNoData': False},\n",
       "      'sources': {'a': {'type': 'GdalSource',\n",
       "        'params': {'data': {'type': 'external',\n",
       "          'providerId': '5779494c-f3a2-48b3-8a2d-5fbba8c5b6c5',\n",
       "          'layerId': 'UTM32N:B08'}}},\n",
       "       'b': {'type': 'GdalSource',\n",
       "        'params': {'data': {'type': 'external',\n",
       "          'providerId': '5779494c-f3a2-48b3-8a2d-5fbba8c5b6c5',\n",
       "          'layerId': 'UTM32N:SCL'}}}}}}},\n",
       "   {'type': 'TemporalRasterAggregation',\n",
       "    'params': {'aggregation': {'type': 'mean', 'ignoreNoData': True},\n",
       "     'window': {'granularity': 'months', 'step': 1}},\n",
       "    'sources': {'raster': {'type': 'Expression',\n",
       "      'params': {'expression': ' if (B == 3 || (B >= 7 && B <= 11)) { NODATA } else { (A - B) / (A + B) }',\n",
       "       'outputType': 'F32',\n",
       "       'mapNoData': False},\n",
       "      'sources': {'a': {'type': 'GdalSource',\n",
       "        'params': {'data': {'type': 'external',\n",
       "          'providerId': '5779494c-f3a2-48b3-8a2d-5fbba8c5b6c5',\n",
       "          'layerId': 'UTM32N:B08'}}},\n",
       "       'b': {'type': 'GdalSource',\n",
       "        'params': {'data': {'type': 'external',\n",
       "          'providerId': '5779494c-f3a2-48b3-8a2d-5fbba8c5b6c5',\n",
       "          'layerId': 'UTM32N:B04'}}},\n",
       "       'c': {'type': 'GdalSource',\n",
       "        'params': {'data': {'type': 'external',\n",
       "          'providerId': '5779494c-f3a2-48b3-8a2d-5fbba8c5b6c5',\n",
       "          'layerId': 'UTM32N:SCL'}}}}}}}]}}"
      ]
     },
     "execution_count": 9,
     "metadata": {},
     "output_type": "execute_result"
    }
   ],
   "source": [
    "s2_agg_operators = {}    \n",
    "sentinel_bands = [\"B02\", \"B03\", \"B04\", \"B08\", \"NDVI\"]\n",
    "\n",
    "for band in sentinel_bands:\n",
    "    s2_agg_operators[band] = ge.unstable.workflow_blueprints.s2_cloud_free_aggregated_band(\n",
    "        band,\n",
    "        granularity=\"months\",\n",
    "        window_size=1,\n",
    "        aggregation_type=\"mean\"\n",
    "    )\n",
    "\n",
    "#projected_points = geoengine.unstable.workflow_operators.Reprojection(ge_point_source, target_spatial_reference=\"EPSG:32632\")\n",
    "\n",
    "points_with_s2_cloud_free = ge.unstable.workflow_operators.RasterVectorJoin(\n",
    "    raster_sources=[x for x in s2_agg_operators.values() ],\n",
    "    vector_source=points_source_operator,\n",
    "    new_column_names=[x for x in s2_agg_operators.keys()],\n",
    ")\n",
    "\n",
    "points_with_s2_cloud_free.to_dict()\n",
    "        "
   ]
  },
  {
   "attachments": {},
   "cell_type": "markdown",
   "metadata": {},
   "source": [
    "Register the workflow with the Geo Engine:"
   ]
  },
  {
   "cell_type": "code",
   "execution_count": 10,
   "metadata": {},
   "outputs": [
    {
     "data": {
      "text/plain": [
       "e952913a-a46c-5949-9d49-33c572bc913c"
      ]
     },
     "execution_count": 10,
     "metadata": {},
     "output_type": "execute_result"
    }
   ],
   "source": [
    "workflow = ge.register_workflow(points_with_s2_cloud_free.to_workflow_dict())\n",
    "workflow"
   ]
  },
  {
   "attachments": {},
   "cell_type": "markdown",
   "metadata": {},
   "source": [
    "Create the start and end time of the time interval we want to query:"
   ]
  },
  {
   "cell_type": "code",
   "execution_count": 11,
   "metadata": {},
   "outputs": [
    {
     "data": {
      "text/plain": [
       "(datetime.datetime(2021, 1, 1, 0, 0), datetime.datetime(2022, 1, 1, 0, 0))"
      ]
     },
     "execution_count": 11,
     "metadata": {},
     "output_type": "execute_result"
    }
   ],
   "source": [
    "from datetime import datetime\n",
    "\n",
    "\n",
    "start_dt = datetime(2021, 1, 1, 0, 0, 0)\n",
    "end_dt = datetime(2022, 1, 1, 0, 0, 0)\n",
    "\n",
    "start_dt, end_dt"
   ]
  },
  {
   "attachments": {},
   "cell_type": "markdown",
   "metadata": {},
   "source": [
    "Now query the workflow with the area of interest and the time interval:\n",
    "\n",
    "Finally, store the result in a gpkg file:"
   ]
  },
  {
   "cell_type": "code",
   "execution_count": 12,
   "metadata": {},
   "outputs": [],
   "source": [
    "gp_res = await workflow.vector_stream_into_geopandas(\n",
    "    ge.QueryRectangle(\n",
    "        spatial_bounds=ge.BoundingBox2D(\n",
    "            xmin=xmin,\n",
    "            ymin=ymin,\n",
    "            xmax=xmax,\n",
    "            ymax=ymax,\n",
    "        ),\n",
    "        time_interval=ge.TimeInterval(\n",
    "            start=start_dt,\n",
    "            end=end_dt,\n",
    "        ),\n",
    "        resolution=ge.SpatialResolution(\n",
    "            10.0,\n",
    "            10.0,\n",
    "        ),\n",
    "        srs=\"EPSG:32632\",\n",
    "))\n",
    "\n",
    "gp_res.to_file(\"gp_res_10_frac1_monthly_utm32n_one_workflow.gpkg\", driver=\"GPKG\")\n",
    "gp_res"
   ]
  },
  {
   "attachments": {},
   "cell_type": "markdown",
   "metadata": {},
   "source": [
    "Get the current quota and print the difference to the initial quota:"
   ]
  },
  {
   "cell_type": "code",
   "execution_count": null,
   "metadata": {},
   "outputs": [
    {
     "data": {
      "text/plain": [
       "322910"
      ]
     },
     "execution_count": 28,
     "metadata": {},
     "output_type": "execute_result"
    }
   ],
   "source": [
    "used_quota_total = ge.get_quota(user_id)['used'] - used_quota_start\n",
    "used_quota_total"
   ]
  }
 ],
 "metadata": {
  "kernelspec": {
   "display_name": "env",
   "language": "python",
   "name": "python3"
  },
  "language_info": {
   "codemirror_mode": {
    "name": "ipython",
    "version": 3
   },
   "file_extension": ".py",
   "mimetype": "text/x-python",
   "name": "python",
   "nbconvert_exporter": "python",
   "pygments_lexer": "ipython3",
   "version": "3.10.6"
  },
  "orig_nbformat": 4
 },
 "nbformat": 4,
 "nbformat_minor": 2
}
