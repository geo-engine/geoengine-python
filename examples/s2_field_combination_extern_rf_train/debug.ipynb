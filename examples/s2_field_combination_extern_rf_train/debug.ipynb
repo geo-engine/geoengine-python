{
 "cells": [
  {
   "cell_type": "code",
   "execution_count": 22,
   "metadata": {},
   "outputs": [],
   "source": [
    "import geoengine as ge\n",
    "import geopandas as gpd\n",
    "from datetime import datetime"
   ]
  },
  {
   "cell_type": "code",
   "execution_count": 23,
   "metadata": {},
   "outputs": [],
   "source": [
    "ge.initialize(\"http://localhost:3030/api\", credentials=(\"admin@localhost\", \"admin1234\"))"
   ]
  },
  {
   "cell_type": "code",
   "execution_count": 24,
   "metadata": {},
   "outputs": [
    {
     "data": {
      "text/plain": [
       "{'B02': {'dataset': '6aea7c86-05a6-45fc-ab3f-cd1020a83026',\n",
       "  'upload': '098cdd14-20b6-4a18-a896-01cee17321d5'},\n",
       " 'B03': {'dataset': '732bcff7-41b2-47a9-9a43-bb5d66feb8fd',\n",
       "  'upload': '37c851a4-a8a7-4af7-9e60-ffefafc48565'},\n",
       " 'B04': {'dataset': '209ffd4e-d750-4d88-a68a-5c36d739eb75',\n",
       "  'upload': 'bcedc656-7231-45b2-9242-6855e508aea2'},\n",
       " 'B08': {'dataset': 'ba469628-1c48-4172-af01-6bc460690600',\n",
       "  'upload': '5c376f85-4f55-414e-928d-319730320d7a'},\n",
       " 'NDVI': {'dataset': 'a5fbef96-0de3-498e-9e38-ddaf3a9fe47a',\n",
       "  'upload': '6bb9955f-3683-4de6-97da-3dba9dfe493e'}}"
      ]
     },
     "execution_count": 24,
     "metadata": {},
     "output_type": "execute_result"
    }
   ],
   "source": [
    "monthly_band_data_map = {\n",
    "    'B02': {'dataset': '6aea7c86-05a6-45fc-ab3f-cd1020a83026', 'upload': '098cdd14-20b6-4a18-a896-01cee17321d5'},\n",
    "    'B03': {'dataset': '732bcff7-41b2-47a9-9a43-bb5d66feb8fd', 'upload': '37c851a4-a8a7-4af7-9e60-ffefafc48565'},\n",
    "    'B04': {'dataset': '209ffd4e-d750-4d88-a68a-5c36d739eb75', 'upload': 'bcedc656-7231-45b2-9242-6855e508aea2'},\n",
    "    'B08': {'dataset': 'ba469628-1c48-4172-af01-6bc460690600', 'upload': '5c376f85-4f55-414e-928d-319730320d7a'},\n",
    "    'NDVI': {'dataset': 'a5fbef96-0de3-498e-9e38-ddaf3a9fe47a', 'upload': '6bb9955f-3683-4de6-97da-3dba9dfe493e'}\n",
    "}\n",
    "monthly_band_data_map"
   ]
  },
  {
   "cell_type": "code",
   "execution_count": 25,
   "metadata": {},
   "outputs": [
    {
     "data": {
      "text/plain": [
       "{'B02': {'type': 'internal',\n",
       "  'datasetId': '6aea7c86-05a6-45fc-ab3f-cd1020a83026'},\n",
       " 'B03': {'type': 'internal',\n",
       "  'datasetId': '732bcff7-41b2-47a9-9a43-bb5d66feb8fd'},\n",
       " 'B04': {'type': 'internal',\n",
       "  'datasetId': '209ffd4e-d750-4d88-a68a-5c36d739eb75'},\n",
       " 'B08': {'type': 'internal',\n",
       "  'datasetId': 'ba469628-1c48-4172-af01-6bc460690600'},\n",
       " 'NDVI': {'type': 'internal',\n",
       "  'datasetId': 'a5fbef96-0de3-498e-9e38-ddaf3a9fe47a'}}"
      ]
     },
     "execution_count": 25,
     "metadata": {},
     "output_type": "execute_result"
    }
   ],
   "source": [
    "monthly_band_data_id_map = {\n",
    "    name: ge.api.InternalDataId(\n",
    "        type=\"internal\",\n",
    "        datasetId=id['dataset']\n",
    "    ) for name, id in monthly_band_data_map.items()\n",
    "} \n",
    "monthly_band_data_id_map"
   ]
  },
  {
   "cell_type": "code",
   "execution_count": 26,
   "metadata": {},
   "outputs": [
    {
     "data": {
      "text/plain": [
       "(421395, 5681078, 476201, 5727833)"
      ]
     },
     "execution_count": 26,
     "metadata": {},
     "output_type": "execute_result"
    }
   ],
   "source": [
    "bounds_array = [421395,  5681078, 476201, 5727833]\n",
    "xmin = bounds_array[0]\n",
    "ymin = bounds_array[1]\n",
    "xmax = bounds_array[2]\n",
    "ymax = bounds_array[3]\n",
    "\n",
    "(xmin, ymin, xmax, ymax)"
   ]
  },
  {
   "cell_type": "code",
   "execution_count": 27,
   "metadata": {},
   "outputs": [
    {
     "data": {
      "text/plain": [
       "QueryRectangle( \n",
       "    BoundingBox2D(xmin=448542.0, ymin=5704199.5, xmax=449054.0, ymax=5704711.5)\n",
       "    TimeInterval(start=2021-10-15 00:00:00+00:00, end=2021-10-15 00:00:00+00:00)\n",
       "    SpatialResolution(x=10.0, y=10.0)\n",
       "    srs=EPSG:32632 \n",
       ")"
      ]
     },
     "execution_count": 27,
     "metadata": {},
     "output_type": "execute_result"
    }
   ],
   "source": [
    "start_dt = datetime(2021, 10, 15, 0, 0, 0)\n",
    "end_dt = datetime(2021, 10, 15, 0, 0, 0)\n",
    "\n",
    "box_size = 1024\n",
    "\n",
    "box_center_x = 0.5 * (xmin + xmax)\n",
    "box_center_y = 0.5 * (ymin + ymax)\n",
    "\n",
    "box_x_min = box_center_x - box_size / 2\n",
    "box_x_max = box_x_min + box_size\n",
    "box_y_min = box_center_y - box_size / 2\n",
    "box_y_max = box_y_min + box_size\n",
    "\n",
    "query_rect = ge.QueryRectangle(\n",
    "        spatial_bounds=ge.BoundingBox2D(\n",
    "            xmin=box_x_min,\n",
    "            ymin=box_y_min,\n",
    "            xmax=box_x_max,\n",
    "            ymax=box_y_max,\n",
    "        ),\n",
    "        time_interval=ge.TimeInterval(\n",
    "            start=start_dt,\n",
    "            end=end_dt,\n",
    "        ),\n",
    "        resolution=ge.SpatialResolution(\n",
    "            10.0,\n",
    "            10.0,\n",
    "        ),\n",
    "        srs=\"EPSG:32632\",\n",
    ")\n",
    "\n",
    "query_rect"
   ]
  },
  {
   "cell_type": "code",
   "execution_count": 28,
   "metadata": {},
   "outputs": [
    {
     "name": "stdout",
     "output_type": "stream",
     "text": [
      "8e3f4869-0d7d-53b4-b1e8-17124433d159\n",
      "4bfae55d-47fa-5bf8-888e-6a656268bc2a\n",
      "72aa13c7-52a2-5554-aaf3-9193f23aae6d\n",
      "e5c3d856-3b90-53c9-b382-264070b0a501\n",
      "7616e304-8a5b-55b5-9ee9-752909c34a83\n"
     ]
    }
   ],
   "source": [
    "band_workflows_a = {b: ge.unstable.workflow_operators.GdalSource(x) for b, x in monthly_band_data_id_map.items()}\n",
    "\n",
    "for w in band_workflows_a.values():\n",
    "    workflow_id = ge.register_workflow(w.to_workflow_dict())\n",
    "    print(workflow_id)\n",
    "\n"
   ]
  },
  {
   "cell_type": "code",
   "execution_count": 29,
   "metadata": {},
   "outputs": [
    {
     "data": {
      "text/plain": [
       "Data type:         U16\n",
       "Spatial Reference: EPSG:32632\n",
       "Measurement:       unitless"
      ]
     },
     "execution_count": 29,
     "metadata": {},
     "output_type": "execute_result"
    }
   ],
   "source": [
    "\n",
    "workflow = ge.register_workflow(band_workflows_a['B02'].to_workflow_dict())\n",
    "\n",
    "workflow.get_result_descriptor()\n"
   ]
  },
  {
   "cell_type": "code",
   "execution_count": 30,
   "metadata": {},
   "outputs": [
    {
     "name": "stdout",
     "output_type": "stream",
     "text": [
      "Received 526606 bytes\n",
      "Processing 526606 bytes\n",
      "read_arrow_ipc\n",
      "read_arrow_ipc 2\n",
      "1\n",
      "data: uint16\n",
      "-- schema metadata --\n",
      "xSize: '512'\n",
      "geoTransform: '{\"originCoordinate\":{\"x\":445440.0,\"y\":5708800.0},\"xPixelSi' + 28\n",
      "ySize: '512'\n",
      "time: '{\"start\":1633046400000,\"end\":1635724800000}'\n",
      "spatialReference: 'EPSG:32632'\n",
      "ReadStats(num_messages=1, num_record_batches=0, num_dictionary_batches=0, num_dictionary_deltas=0, num_replaced_dictionaries=0)\n"
     ]
    },
    {
     "ename": "ArrowInvalid",
     "evalue": "Negative buffer resize: -1",
     "output_type": "error",
     "traceback": [
      "\u001b[0;31m---------------------------------------------------------------------------\u001b[0m",
      "\u001b[0;31mArrowInvalid\u001b[0m                              Traceback (most recent call last)",
      "Cell \u001b[0;32mIn[30], line 1\u001b[0m\n\u001b[0;32m----> 1\u001b[0m \u001b[39masync\u001b[39;00m \u001b[39mfor\u001b[39;00m tile_stac \u001b[39min\u001b[39;00m workflow\u001b[39m.\u001b[39mraster_stream(query_rect):\n\u001b[1;32m      2\u001b[0m     \u001b[39mprint\u001b[39m(\u001b[39mlen\u001b[39m(tile_stac))\n\u001b[1;32m      3\u001b[0m     \u001b[39mprint\u001b[39m(tile_stac[\u001b[39m0\u001b[39m]\u001b[39m.\u001b[39mshape)\n",
      "File \u001b[0;32m~/git/geoengine-python/geoengine/workflow.py:654\u001b[0m, in \u001b[0;36mWorkflow.raster_stream\u001b[0;34m(self, query_rectangle, clip_to_query_rectangle, open_timeout)\u001b[0m\n\u001b[1;32m    650\u001b[0m     \u001b[39mexcept\u001b[39;00m websockets\u001b[39m.\u001b[39mexceptions\u001b[39m.\u001b[39mConnectionClosedOK:\n\u001b[1;32m    651\u001b[0m         \u001b[39m# the websocket connection closed gracefully, so we stop reading\u001b[39;00m\n\u001b[1;32m    652\u001b[0m         \u001b[39mreturn\u001b[39;00m \u001b[39mNone\u001b[39;00m\n\u001b[0;32m--> 654\u001b[0m (tile_bytes, tile) \u001b[39m=\u001b[39m \u001b[39mawait\u001b[39;00m asyncio\u001b[39m.\u001b[39mgather(\n\u001b[1;32m    655\u001b[0m     read_new_bytes(),\n\u001b[1;32m    656\u001b[0m     \u001b[39m# asyncio.to_thread(process_bytes, tile_bytes), # TODO: use this when min Python version is 3.9\u001b[39;00m\n\u001b[1;32m    657\u001b[0m     backports\u001b[39m.\u001b[39mto_thread(process_bytes, tile_bytes),\n\u001b[1;32m    658\u001b[0m )\n\u001b[1;32m    660\u001b[0m \u001b[39mif\u001b[39;00m tile \u001b[39mis\u001b[39;00m \u001b[39mnot\u001b[39;00m \u001b[39mNone\u001b[39;00m:\n\u001b[1;32m    661\u001b[0m     \u001b[39mif\u001b[39;00m clip_to_query_rectangle:\n",
      "File \u001b[0;32m~/git/geoengine-python/geoengine/backports.py:24\u001b[0m, in \u001b[0;36mto_thread\u001b[0;34m(func, *args, **kwargs)\u001b[0m\n\u001b[1;32m     22\u001b[0m ctx \u001b[39m=\u001b[39m contextvars\u001b[39m.\u001b[39mcopy_context()\n\u001b[1;32m     23\u001b[0m func_call \u001b[39m=\u001b[39m functools\u001b[39m.\u001b[39mpartial(ctx\u001b[39m.\u001b[39mrun, func, \u001b[39m*\u001b[39margs, \u001b[39m*\u001b[39m\u001b[39m*\u001b[39mkwargs)\n\u001b[0;32m---> 24\u001b[0m \u001b[39mreturn\u001b[39;00m \u001b[39mawait\u001b[39;00m loop\u001b[39m.\u001b[39mrun_in_executor(\u001b[39mNone\u001b[39;00m, func_call)\n",
      "File \u001b[0;32m/usr/lib/python3.10/concurrent/futures/thread.py:58\u001b[0m, in \u001b[0;36m_WorkItem.run\u001b[0;34m(self)\u001b[0m\n\u001b[1;32m     55\u001b[0m     \u001b[39mreturn\u001b[39;00m\n\u001b[1;32m     57\u001b[0m \u001b[39mtry\u001b[39;00m:\n\u001b[0;32m---> 58\u001b[0m     result \u001b[39m=\u001b[39m \u001b[39mself\u001b[39;49m\u001b[39m.\u001b[39;49mfn(\u001b[39m*\u001b[39;49m\u001b[39mself\u001b[39;49m\u001b[39m.\u001b[39;49margs, \u001b[39m*\u001b[39;49m\u001b[39m*\u001b[39;49m\u001b[39mself\u001b[39;49m\u001b[39m.\u001b[39;49mkwargs)\n\u001b[1;32m     59\u001b[0m \u001b[39mexcept\u001b[39;00m \u001b[39mBaseException\u001b[39;00m \u001b[39mas\u001b[39;00m exc:\n\u001b[1;32m     60\u001b[0m     \u001b[39mself\u001b[39m\u001b[39m.\u001b[39mfuture\u001b[39m.\u001b[39mset_exception(exc)\n",
      "File \u001b[0;32m~/git/geoengine-python/geoengine/workflow.py:595\u001b[0m, in \u001b[0;36mWorkflow.raster_stream.<locals>.process_bytes\u001b[0;34m(tile_bytes)\u001b[0m\n\u001b[1;32m    593\u001b[0m \u001b[39mprint\u001b[39m(\u001b[39mf\u001b[39m\u001b[39m'\u001b[39m\u001b[39mProcessing \u001b[39m\u001b[39m{\u001b[39;00m\u001b[39mlen\u001b[39m(tile_bytes)\u001b[39m}\u001b[39;00m\u001b[39m bytes\u001b[39m\u001b[39m'\u001b[39m)\n\u001b[1;32m    594\u001b[0m \u001b[39m# process the received data\u001b[39;00m\n\u001b[0;32m--> 595\u001b[0m record_batch \u001b[39m=\u001b[39m read_arrow_ipc(tile_bytes)\n\u001b[1;32m    596\u001b[0m \u001b[39mprint\u001b[39m(\u001b[39mf\u001b[39m\u001b[39m'\u001b[39m\u001b[39mProcessing \u001b[39m\u001b[39m{\u001b[39;00m\u001b[39mlen\u001b[39m(record_batch)\u001b[39m}\u001b[39;00m\u001b[39m record batch\u001b[39m\u001b[39m'\u001b[39m)\n\u001b[1;32m    597\u001b[0m tile \u001b[39m=\u001b[39m create_xarray(record_batch)\n",
      "File \u001b[0;32m~/git/geoengine-python/geoengine/workflow.py:550\u001b[0m, in \u001b[0;36mWorkflow.raster_stream.<locals>.read_arrow_ipc\u001b[0;34m(arrow_ipc)\u001b[0m\n\u001b[1;32m    548\u001b[0m \u001b[39mprint\u001b[39m(reader\u001b[39m.\u001b[39mstats)\n\u001b[1;32m    549\u001b[0m \u001b[39m# We know from the backend that there is only one record batch\u001b[39;00m\n\u001b[0;32m--> 550\u001b[0m record_batch \u001b[39m=\u001b[39m reader\u001b[39m.\u001b[39;49mget_record_batch(\u001b[39m0\u001b[39;49m)\n\u001b[1;32m    551\u001b[0m \u001b[39mprint\u001b[39m(\u001b[39m'\u001b[39m\u001b[39mread_arrow_ipc 3\u001b[39m\u001b[39m'\u001b[39m)\n\u001b[1;32m    552\u001b[0m \u001b[39mreturn\u001b[39;00m record_batch\n",
      "File \u001b[0;32m~/git/geoengine-python/env/lib/python3.10/site-packages/pyarrow/ipc.pxi:974\u001b[0m, in \u001b[0;36mpyarrow.lib._RecordBatchFileReader.get_batch\u001b[0;34m()\u001b[0m\n",
      "File \u001b[0;32m~/git/geoengine-python/env/lib/python3.10/site-packages/pyarrow/error.pxi:144\u001b[0m, in \u001b[0;36mpyarrow.lib.pyarrow_internal_check_status\u001b[0;34m()\u001b[0m\n",
      "File \u001b[0;32m~/git/geoengine-python/env/lib/python3.10/site-packages/pyarrow/error.pxi:100\u001b[0m, in \u001b[0;36mpyarrow.lib.check_status\u001b[0;34m()\u001b[0m\n",
      "\u001b[0;31mArrowInvalid\u001b[0m: Negative buffer resize: -1"
     ]
    }
   ],
   "source": [
    "async for tile_stac in workflow.raster_stream(query_rect):\n",
    "    print(len(tile_stac))\n",
    "    print(tile_stac[0].shape)"
   ]
  }
 ],
 "metadata": {
  "kernelspec": {
   "display_name": "env",
   "language": "python",
   "name": "python3"
  },
  "language_info": {
   "codemirror_mode": {
    "name": "ipython",
    "version": 3
   },
   "file_extension": ".py",
   "mimetype": "text/x-python",
   "name": "python",
   "nbconvert_exporter": "python",
   "pygments_lexer": "ipython3",
   "version": "3.10.6"
  },
  "orig_nbformat": 4
 },
 "nbformat": 4,
 "nbformat_minor": 2
}
