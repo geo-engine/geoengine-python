{
 "cells": [
  {
   "cell_type": "code",
   "execution_count": 1,
   "metadata": {},
   "outputs": [],
   "source": [
    "import geoengine as ge\n",
    "\n",
    "from datetime import datetime\n",
    "from dateutil.relativedelta import relativedelta\n",
    "import time\n",
    "import threading\n",
    "import csv\n",
    "\n",
    "from IPython.display import display, Code"
   ]
  },
  {
   "cell_type": "code",
   "execution_count": 2,
   "metadata": {},
   "outputs": [],
   "source": [
    "ge.initialize(\"https://respect.app.geoengine.io/api\", admin_token=\"515c0fde-588a-469c-a82e-c18b8d3aa528\")"
   ]
  },
  {
   "cell_type": "code",
   "execution_count": 3,
   "metadata": {},
   "outputs": [
    {
     "data": {
      "text/plain": [
       "Server:              https://respect.app.geoengine.io/api\n",
       "Session Id:          f5a11a59-2fa1-43e7-8abc-83448b54ccf7\n",
       "Session valid until: 2023-02-02T14:23:28.913Z"
      ]
     },
     "execution_count": 3,
     "metadata": {},
     "output_type": "execute_result"
    }
   ],
   "source": [
    "session = ge.get_session()\n",
    "session"
   ]
  },
  {
   "cell_type": "code",
   "execution_count": 4,
   "metadata": {},
   "outputs": [
    {
     "data": {
      "text/plain": [
       "{'type': 'Raster',\n",
       " 'operator': {'type': 'TemporalRasterAggregation',\n",
       "  'params': {'aggregation': {'type': 'mean', 'ignoreNoData': True},\n",
       "   'window': {'granularity': 'months', 'step': 1}},\n",
       "  'sources': {'raster': {'type': 'Expression',\n",
       "    'params': {'expression': '\\n                            if ((B > 3 && B < 8) || B == 11) { A } else { NODATA }\\n                        ',\n",
       "     'outputType': 'U16',\n",
       "     'outputMeasurement': None,\n",
       "     'mapNoData': False},\n",
       "    'sources': {'a': {'type': 'GdalSource',\n",
       "      'params': {'data': {'type': 'external',\n",
       "        'providerId': '5779494c-f3a2-48b3-8a2d-5fbba8c5b6c5',\n",
       "        'layerId': 'UTM17S:B04'}}},\n",
       "     'b': {'type': 'GdalSource',\n",
       "      'params': {'data': {'type': 'external',\n",
       "        'providerId': '5779494c-f3a2-48b3-8a2d-5fbba8c5b6c5',\n",
       "        'layerId': 'UTM17S:SCL'}}}}}}}}"
      ]
     },
     "execution_count": 4,
     "metadata": {},
     "output_type": "execute_result"
    }
   ],
   "source": [
    "def cloud_free_band_agg_workflow_definition(utm_zone: str, band: str = \"B04\", step: int = 1, granularity: str = \"months\"):\n",
    "    return {\n",
    "        'type': 'Raster',\n",
    "        'operator': {\n",
    "            'type': 'TemporalRasterAggregation',\n",
    "            'params': {\n",
    "                'aggregation': {\n",
    "                    'type': 'mean',\n",
    "                    'ignoreNoData': True\n",
    "                },\n",
    "                'window': {\n",
    "                    'granularity': granularity,\n",
    "                    'step': step\n",
    "                }\n",
    "            },\n",
    "            'sources': {\n",
    "                'raster': {\n",
    "                    'type': 'Expression',\n",
    "                    'params': {\n",
    "                        'expression': '''\n",
    "                            if ((B > 3 && B < 8) || B == 11) { A } else { NODATA }\n",
    "                        ''',\n",
    "                        'outputType': 'U16',\n",
    "                        'outputMeasurement': None,\n",
    "                        'mapNoData': False,\n",
    "                    },\n",
    "                    'sources': {\n",
    "                        'a': {\n",
    "                            'type': 'GdalSource',\n",
    "                            'params': {\n",
    "                                'data': {\n",
    "                                    'type': 'external',\n",
    "                                    'providerId': '5779494c-f3a2-48b3-8a2d-5fbba8c5b6c5',\n",
    "                                    'layerId': f'{utm_zone}:{band}'\n",
    "                                }\n",
    "                            }\n",
    "                        },\n",
    "                        'b': {\n",
    "                            'type': 'GdalSource',\n",
    "                            'params': {\n",
    "                                'data': {\n",
    "                                    'type': 'external',\n",
    "                                    'providerId': '5779494c-f3a2-48b3-8a2d-5fbba8c5b6c5',\n",
    "                                    'layerId': f'{utm_zone}:SCL'\n",
    "                                }\n",
    "                            }\n",
    "                        }\n",
    "                    }\n",
    "                }\n",
    "            }\n",
    "        }\n",
    "    }\n",
    "\n",
    "cloud_free_band_agg_workflow_definition('UTM17S', 'B04', step=1, granularity=\"months\")"
   ]
  },
  {
   "cell_type": "code",
   "execution_count": 5,
   "metadata": {},
   "outputs": [
    {
     "data": {
      "text/plain": [
       "{'UTM17S_B04': 3906c66a-2b94-5639-a8cf-357a0e607c42,\n",
       " 'UTM17S_B08': 2ec74e30-ecaf-5c97-96a4-e2615c07222b}"
      ]
     },
     "execution_count": 5,
     "metadata": {},
     "output_type": "execute_result"
    }
   ],
   "source": [
    "step = 1\n",
    "granularity = \"months\"\n",
    "\n",
    "workflows = {\n",
    "    'UTM17S_B04': ge.register_workflow(cloud_free_band_agg_workflow_definition('UTM17S', 'B04', step=step, granularity=granularity)),\n",
    "    'UTM17S_B08': ge.register_workflow(cloud_free_band_agg_workflow_definition('UTM17S', 'B08', step=step, granularity=granularity)),\n",
    "}\n",
    "\n",
    "workflows"
   ]
  },
  {
   "cell_type": "code",
   "execution_count": 6,
   "metadata": {},
   "outputs": [
    {
     "data": {
      "text/plain": [
       "Data type:         U16\n",
       "Spatial Reference: EPSG:32717\n",
       "Measurement:       unitless"
      ]
     },
     "metadata": {},
     "output_type": "display_data"
    },
    {
     "data": {
      "text/plain": [
       "Data type:         U16\n",
       "Spatial Reference: EPSG:32717\n",
       "Measurement:       unitless"
      ]
     },
     "metadata": {},
     "output_type": "display_data"
    }
   ],
   "source": [
    "for workflow in workflows.values():\n",
    "    display(workflow.get_result_descriptor())"
   ]
  },
  {
   "cell_type": "code",
   "execution_count": 15,
   "metadata": {},
   "outputs": [
    {
     "data": {
      "text/plain": [
       "13930.1"
      ]
     },
     "metadata": {},
     "output_type": "display_data"
    },
    {
     "data": {
      "text/plain": [
       "8907.4"
      ]
     },
     "metadata": {},
     "output_type": "display_data"
    }
   ],
   "source": [
    "time = ge.TimeInterval(datetime.strptime(f'2019-05-01Z', \"%Y-%m-%d%z\"), datetime.strptime(f'2019-12-01Z', \"%Y-%m-%d%z\"))\n",
    "bounds = ge.SpatialPartition2D(594175, 9510945, 733476, 9600019)\n",
    "pixel_size = 10\n",
    "resolution = ge.SpatialResolution(pixel_size, pixel_size)\n",
    "\n",
    "display((bounds.xmax-bounds.xmin)/pixel_size, (bounds.ymax-bounds.ymin)/pixel_size)"
   ]
  },
  {
   "cell_type": "code",
   "execution_count": 16,
   "metadata": {},
   "outputs": [
    {
     "data": {
      "text/plain": [
       "8000.0"
      ]
     },
     "metadata": {},
     "output_type": "display_data"
    },
    {
     "data": {
      "text/plain": [
       "8000.0"
      ]
     },
     "metadata": {},
     "output_type": "display_data"
    }
   ],
   "source": [
    "crop_bounds = ge.SpatialPartition2D(650000, 9520000, 730000, 9600000)\n",
    "crop_pixel_size = 10\n",
    "crop_resolution = ge.SpatialResolution(crop_pixel_size, crop_pixel_size)\n",
    "\n",
    "display((crop_bounds.xmax-crop_bounds.xmin)/crop_pixel_size, (crop_bounds.ymax-crop_bounds.ymin)/crop_pixel_size)"
   ]
  },
  {
   "cell_type": "code",
   "execution_count": 17,
   "metadata": {},
   "outputs": [
    {
     "data": {
      "text/plain": [
       "{'spatialBounds': {'upperLeftCoordinate': {'x': 650000, 'y': 9600000},\n",
       "  'lowerRightCoordinate': {'x': 730000, 'y': 9520000}},\n",
       " 'timeInterval': {'start': '2019-05-01T00:00:00.000+00:00',\n",
       "  'end': '2019-12-01T00:00:00.000+00:00'},\n",
       " 'spatialResolution': {'x': 10, 'y': 10}}"
      ]
     },
     "execution_count": 17,
     "metadata": {},
     "output_type": "execute_result"
    }
   ],
   "source": [
    "query_rectangle = ge.api.RasterQueryRectangle(\n",
    "    spatialBounds=crop_bounds.to_api_dict(), timeInterval=time.to_api_dict(), spatialResolution=crop_resolution.to_api_dict() )\n",
    "\n",
    "query_rectangle\n"
   ]
  },
  {
   "cell_type": "code",
   "execution_count": 18,
   "metadata": {},
   "outputs": [
    {
     "name": "stdout",
     "output_type": "stream",
     "text": [
      "Scheduled UTM17S_B04\n",
      "Scheduled UTM17S_B08\n"
     ]
    }
   ],
   "source": [
    "tasks = {}\n",
    "\n",
    "for workflow_name in workflows:\n",
    "    workflow = workflows[workflow_name]\n",
    "    name = workflow_name\n",
    "\n",
    "    name_with_time = f\"{name} - {time.time_str}\"\n",
    "    task = workflow.save_as_dataset(query_rectangle=query_rectangle, name=name_with_time, description=f\"Sentinel-2 {name} {time.time_str} as {step} {granularity} steps\", timeout=3600*6)\n",
    "\n",
    "    print(\"Scheduled\", workflow_name)\n",
    "    \n",
    "    tasks[workflow_name] = task\n"
   ]
  },
  {
   "cell_type": "code",
   "execution_count": 20,
   "metadata": {},
   "outputs": [
    {
     "name": "stdout",
     "output_type": "stream",
     "text": [
      "UTM17S_B04\n",
      "status=running, pct_complete=0.00%, time_estimate=? (± ?), info=None\n",
      "UTM17S_B08\n",
      "status=running, pct_complete=0.00%, time_estimate=? (± ?), info=None\n"
     ]
    }
   ],
   "source": [
    "for workflow_name in workflows:\n",
    "    task = tasks[workflow_name]\n",
    "    task_status = task.get_status()\n",
    "\n",
    "    if task_status.status.name == 'RUNNING':\n",
    "        there_are_tasks_running = True\n",
    "\n",
    "    print(workflow_name)\n",
    "    print(task_status)\n"
   ]
  },
  {
   "cell_type": "code",
   "execution_count": 21,
   "metadata": {},
   "outputs": [],
   "source": [
    "for workflow_name in workflows:\n",
    "    task = tasks[workflow_name]\n",
    "    task_status = task.get_status()\n",
    "    \n",
    "    if task_status.status.name != 'COMPLETED':\n",
    "        continue\n",
    "    \n",
    "    print(workflow_name)\n",
    "    \n",
    "    stored_dataset = ge.StoredDataset.from_response(task_status.info)\n",
    "    stored_dataset\n",
    "        \n",
    "    display_workflow_definition = {\n",
    "        'type': 'Raster',\n",
    "        'operator': {\n",
    "            'type': 'GdalSource',\n",
    "            'params': {\n",
    "                'data': {\n",
    "                    'type': 'internal',\n",
    "                    'datasetId': str(stored_dataset.dataset_id),\n",
    "                }\n",
    "            }\n",
    "        }\n",
    "    }\n",
    "\n",
    "    display_workflow = ge.register_workflow(display_workflow_definition)\n",
    "\n",
    "    query_rectangle = ge.QueryRectangle(\n",
    "                spatial_bounds=ge.BoundingBox2D(crop_bounds.xmin, crop_bounds.ymin, crop_bounds.xmax, crop_bounds.ymax),\n",
    "                time_interval=ge.TimeInterval(time.start),\n",
    "                resolution=crop_resolution,\n",
    "                srs=\"EPSG:32717\"\n",
    "            )\n",
    "\n",
    "    display(\n",
    "        display_workflow.wms_get_map_as_image(\n",
    "            query_rectangle,\n",
    "            colorizer=ge.Colorizer.linear_with_mpl_cmap('magma', min_max=(-60000,60000))\n",
    "        )\n",
    "    )"
   ]
  }
 ],
 "metadata": {
  "kernelspec": {
   "display_name": "env",
   "language": "python",
   "name": "python3"
  },
  "language_info": {
   "codemirror_mode": {
    "name": "ipython",
    "version": 3
   },
   "file_extension": ".py",
   "mimetype": "text/x-python",
   "name": "python",
   "nbconvert_exporter": "python",
   "pygments_lexer": "ipython3",
   "version": "3.10.6"
  },
  "orig_nbformat": 4,
  "vscode": {
   "interpreter": {
    "hash": "7a10ca932ff03f4c637e11f8207fe4e003ad6532d0070b911d37acf855f595fc"
   }
  }
 },
 "nbformat": 4,
 "nbformat_minor": 2
}
