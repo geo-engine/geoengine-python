{
 "cells": [
  {
   "attachments": {},
   "cell_type": "markdown",
   "metadata": {},
   "source": [
    "# Loading and modifying layers and layer collections"
   ]
  },
  {
   "cell_type": "code",
   "execution_count": 1,
   "metadata": {},
   "outputs": [],
   "source": [
    "from datetime import datetime\n",
    "\n",
    "import geoengine as ge"
   ]
  },
  {
   "cell_type": "code",
   "execution_count": 2,
   "metadata": {},
   "outputs": [],
   "source": [
    "ge.initialize(\"http://localhost:3030/api\", (\"admin@localhost\", \"adminadmin\"))"
   ]
  },
  {
   "attachments": {},
   "cell_type": "markdown",
   "metadata": {},
   "source": [
    "## Retrieve layer collections"
   ]
  },
  {
   "cell_type": "code",
   "execution_count": 3,
   "metadata": {},
   "outputs": [
    {
     "data": {
      "text/html": [
       "<table><thead><tr><th colspan=\"2\">Layer Collection</th></tr></thead><tbody><tr><th>name</th><td>Layer Providers</td></tr><tr><th>description</th><td>All available Geo Engine layer providers</td></tr><tr><th>id</th><td>f2424474-ef24-4c18-ab84-68592e12ce48</td></tr><tr><th>provider id</th><td>1c3b8042-300b-485c-95b5-0147d9dc068d</td></tr><tr><th rowspan=\"7\">items</th><td><table><thead><tr><th colspan=\"2\">Layer Collection</th></tr></thead><tbody><tr><th>name</th><td>Data Catalog</td></tr><tr><th>description</th><td>Catalog of data and workflows</td></tr><tr><th>id</th><td>05102bb3-a855-4a37-8a8a-30026a91fef1</td></tr><tr><th>provider id</th><td>ce5e84db-cbf9-48a2-9a32-d4b7cc56ea74</td></tr></tbody></table></td></tr><tr><td><table><thead><tr><th colspan=\"2\">Layer Collection</th></tr></thead><tbody><tr><th>name</th><td>Personal Data Catalog</td></tr><tr><th>description</th><td>Catalog of your personal data and workflows.</td></tr><tr><th>id</th><td>root</td></tr><tr><th>provider id</th><td>cbb21ee3-d15d-45c5-a175-66964adf4e85</td></tr></tbody></table></td></tr><tr><td><table><thead><tr><th colspan=\"2\">Layer Collection</th></tr></thead><tbody><tr><th>name</th><td>Copernicus Dataspace</td></tr><tr><th>description</th><td></td></tr><tr><th>id</th><td>datasets</td></tr><tr><th>provider id</th><td>2e44e5ab-0f93-467b-8599-9b5b6339d5cd</td></tr></tbody></table></td></tr><tr><td><table><thead><tr><th colspan=\"2\">Layer Collection</th></tr></thead><tbody><tr><th>name</th><td>Element 84 AWS STAC</td></tr><tr><th>description</th><td>Sentinel-2 L2A COGs hosted on AWS by Element 84</td></tr><tr><th>id</th><td>SentinelS2L2ACogs</td></tr><tr><th>provider id</th><td>5779494c-f3a2-48b3-8a2d-5fbba8c5b6c5</td></tr></tbody></table></td></tr><tr><td><table><thead><tr><th colspan=\"2\">Layer Collection</th></tr></thead><tbody><tr><th>name</th><td>EBV Portal</td></tr><tr><th>description</th><td>Access to EBV Portal data</td></tr><tr><th>id</th><td>classes</td></tr><tr><th>provider id</th><td>77d0bf11-986e-43f5-b11d-898321f1854c</td></tr></tbody></table></td></tr><tr><td><table><thead><tr><th colspan=\"2\">Layer Collection</th></tr></thead><tbody><tr><th>name</th><td>GBIF</td></tr><tr><th>description</th><td>Access to GBIF occurrence data</td></tr><tr><th>id</th><td>select</td></tr><tr><th>provider id</th><td>1c01dbb9-e3ab-f9a2-06f5-228ba4b6bf7a</td></tr></tbody></table></td></tr><tr><td><table><thead><tr><th colspan=\"2\">Layer Collection</th></tr></thead><tbody><tr><th>name</th><td>Open Weather</td></tr><tr><th>description</th><td>Access to Open Weather data</td></tr><tr><th>id</th><td>collections</td></tr><tr><th>provider id</th><td>0668d980-6c82-47c4-b1d9-1096f6770666</td></tr></tbody></table></td></tr></tbody></table>"
      ],
      "text/plain": [
       "Layer Collection\n",
       "name: Layer Providers\n",
       "description: All available Geo Engine layer providers\n",
       "id: f2424474-ef24-4c18-ab84-68592e12ce48\n",
       "provider id: 1c3b8042-300b-485c-95b5-0147d9dc068d\n",
       "items: Layer Collection\n",
       "name: Data Catalog\n",
       "description: Catalog of data and workflows\n",
       "id: 05102bb3-a855-4a37-8a8a-30026a91fef1\n",
       "provider id: ce5e84db-cbf9-48a2-9a32-d4b7cc56ea74\n",
       "\n",
       "       Layer Collection\n",
       "name: Personal Data Catalog\n",
       "description: Catalog of your personal data and workflows.\n",
       "id: root\n",
       "provider id: cbb21ee3-d15d-45c5-a175-66964adf4e85\n",
       "\n",
       "       Layer Collection\n",
       "name: Copernicus Dataspace\n",
       "description: \n",
       "id: datasets\n",
       "provider id: 2e44e5ab-0f93-467b-8599-9b5b6339d5cd\n",
       "\n",
       "       Layer Collection\n",
       "name: Element 84 AWS STAC\n",
       "description: Sentinel-2 L2A COGs hosted on AWS by Element 84\n",
       "id: SentinelS2L2ACogs\n",
       "provider id: 5779494c-f3a2-48b3-8a2d-5fbba8c5b6c5\n",
       "\n",
       "       Layer Collection\n",
       "name: EBV Portal\n",
       "description: Access to EBV Portal data\n",
       "id: classes\n",
       "provider id: 77d0bf11-986e-43f5-b11d-898321f1854c\n",
       "\n",
       "       Layer Collection\n",
       "name: GBIF\n",
       "description: Access to GBIF occurrence data\n",
       "id: select\n",
       "provider id: 1c01dbb9-e3ab-f9a2-06f5-228ba4b6bf7a\n",
       "\n",
       "       Layer Collection\n",
       "name: Open Weather\n",
       "description: Access to Open Weather data\n",
       "id: collections\n",
       "provider id: 0668d980-6c82-47c4-b1d9-1096f6770666\n"
      ]
     },
     "execution_count": 3,
     "metadata": {},
     "output_type": "execute_result"
    }
   ],
   "source": [
    "root_collection = ge.layer_collection()\n",
    "root_collection"
   ]
  },
  {
   "cell_type": "code",
   "execution_count": 4,
   "metadata": {},
   "outputs": [
    {
     "data": {
      "text/html": [
       "<table><thead><tr><th colspan=\"2\">Layer Collection</th></tr></thead><tbody><tr><th>name</th><td>Layers</td></tr><tr><th>description</th><td>All available Geo Engine layers</td></tr><tr><th>id</th><td>05102bb3-a855-4a37-8a8a-30026a91fef1</td></tr><tr><th>provider id</th><td>ce5e84db-cbf9-48a2-9a32-d4b7cc56ea74</td></tr><tr><th rowspan=\"3\">items</th><td><table><thead><tr><th colspan=\"2\">Layer Collection</th></tr></thead><tbody><tr><th>name</th><td>An empty collection</td></tr><tr><th>description</th><td>There is nothing here</td></tr><tr><th>id</th><td>a29f77cc-51ce-466b-86ef-d0ab2170bc0a</td></tr><tr><th>provider id</th><td>ce5e84db-cbf9-48a2-9a32-d4b7cc56ea74</td></tr></tbody></table></td></tr><tr><td><table><thead><tr><th colspan=\"2\">Layer Collection</th></tr></thead><tbody><tr><th>name</th><td>A test collection</td></tr><tr><th>description</th><td>Some layers for testing and an empty subcollection</td></tr><tr><th>id</th><td>272bf675-2e27-4412-824c-287c1e6841ac</td></tr><tr><th>provider id</th><td>ce5e84db-cbf9-48a2-9a32-d4b7cc56ea74</td></tr></tbody></table></td></tr><tr><td><table><thead><tr><th colspan=\"2\">Layer Collection</th></tr></thead><tbody><tr><th>name</th><td>Unsorted</td></tr><tr><th>description</th><td>Unsorted Layers</td></tr><tr><th>id</th><td>ffb2dd9e-f5ad-427c-b7f1-c9a0c7a0ae3f</td></tr><tr><th>provider id</th><td>ce5e84db-cbf9-48a2-9a32-d4b7cc56ea74</td></tr></tbody></table></td></tr></tbody></table>"
      ],
      "text/plain": [
       "Layer Collection\n",
       "name: Layers\n",
       "description: All available Geo Engine layers\n",
       "id: 05102bb3-a855-4a37-8a8a-30026a91fef1\n",
       "provider id: ce5e84db-cbf9-48a2-9a32-d4b7cc56ea74\n",
       "items: Layer Collection\n",
       "name: An empty collection\n",
       "description: There is nothing here\n",
       "id: a29f77cc-51ce-466b-86ef-d0ab2170bc0a\n",
       "provider id: ce5e84db-cbf9-48a2-9a32-d4b7cc56ea74\n",
       "\n",
       "       Layer Collection\n",
       "name: A test collection\n",
       "description: Some layers for testing and an empty subcollection\n",
       "id: 272bf675-2e27-4412-824c-287c1e6841ac\n",
       "provider id: ce5e84db-cbf9-48a2-9a32-d4b7cc56ea74\n",
       "\n",
       "       Layer Collection\n",
       "name: Unsorted\n",
       "description: Unsorted Layers\n",
       "id: ffb2dd9e-f5ad-427c-b7f1-c9a0c7a0ae3f\n",
       "provider id: ce5e84db-cbf9-48a2-9a32-d4b7cc56ea74\n"
      ]
     },
     "execution_count": 4,
     "metadata": {},
     "output_type": "execute_result"
    }
   ],
   "source": [
    "root_of_layerdb = root_collection.items[0].load()\n",
    "root_of_layerdb"
   ]
  },
  {
   "cell_type": "code",
   "execution_count": null,
   "metadata": {},
   "outputs": [
    {
     "data": {
      "text/html": [
       "<table><thead><tr><th colspan=\"2\">Layer Collection</th></tr></thead><tbody><tr><th>name</th><td>A test collection</td></tr><tr><th>description</th><td>Some layers for testing and an empty subcollection</td></tr><tr><th>id</th><td>272bf675-2e27-4412-824c-287c1e6841ac</td></tr><tr><th>provider id</th><td>ce5e84db-cbf9-48a2-9a32-d4b7cc56ea74</td></tr><tr><th rowspan=\"4\">items</th><td><table><thead><tr><th colspan=\"2\">Layer Collection</th></tr></thead><tbody><tr><th>name</th><td>An empty collection</td></tr><tr><th>description</th><td>There is nothing here</td></tr><tr><th>id</th><td>a29f77cc-51ce-466b-86ef-d0ab2170bc0a</td></tr><tr><th>provider id</th><td>ce5e84db-cbf9-48a2-9a32-d4b7cc56ea74</td></tr></tbody></table></td></tr><tr><td><table><thead><tr><th colspan=\"2\">Layer</th></tr></thead><tbody><tr><th>name</th><td>Natural Earth II – RGB</td></tr><tr><th>description</th><td>A raster with three bands for RGB visualization</td></tr><tr><th>id</th><td>83866f7b-dcee-47b8-9242-e5636ceaf402</td></tr><tr><th>provider id</th><td>ce5e84db-cbf9-48a2-9a32-d4b7cc56ea74</td></tr></tbody></table></td></tr><tr><td><table><thead><tr><th colspan=\"2\">Layer</th></tr></thead><tbody><tr><th>name</th><td>Ports in Germany</td></tr><tr><th>description</th><td>Natural Earth Ports point filtered with Germany polygon</td></tr><tr><th>id</th><td>b75db46e-2b9a-4a86-b33f-bc06a73cd711</td></tr><tr><th>provider id</th><td>ce5e84db-cbf9-48a2-9a32-d4b7cc56ea74</td></tr></tbody></table></td></tr><tr><td><table><thead><tr><th colspan=\"2\">Layer</th></tr></thead><tbody><tr><th>name</th><td>Stacked Raster</td></tr><tr><th>description</th><td>A raster with two bands for testing</td></tr><tr><th>id</th><td>c078db52-2dc6-4838-ad75-340cefeab476</td></tr><tr><th>provider id</th><td>ce5e84db-cbf9-48a2-9a32-d4b7cc56ea74</td></tr></tbody></table></td></tr></tbody></table>"
      ],
      "text/plain": [
       "Layer Collection\n",
       "name: A test collection\n",
       "description: Some layers for testing and an empty subcollection\n",
       "id: 272bf675-2e27-4412-824c-287c1e6841ac\n",
       "provider id: ce5e84db-cbf9-48a2-9a32-d4b7cc56ea74\n",
       "items: Layer Collection\n",
       "name: An empty collection\n",
       "description: There is nothing here\n",
       "id: a29f77cc-51ce-466b-86ef-d0ab2170bc0a\n",
       "provider id: ce5e84db-cbf9-48a2-9a32-d4b7cc56ea74\n",
       "\n",
       "       Layer\n",
       "name: Natural Earth II – RGB\n",
       "description: A raster with three bands for RGB visualization\n",
       "id: 83866f7b-dcee-47b8-9242-e5636ceaf402\n",
       "provider id: ce5e84db-cbf9-48a2-9a32-d4b7cc56ea74\n",
       "\n",
       "       Layer\n",
       "name: Ports in Germany\n",
       "description: Natural Earth Ports point filtered with Germany polygon\n",
       "id: b75db46e-2b9a-4a86-b33f-bc06a73cd711\n",
       "provider id: ce5e84db-cbf9-48a2-9a32-d4b7cc56ea74\n",
       "\n",
       "       Layer\n",
       "name: Stacked Raster\n",
       "description: A raster with two bands for testing\n",
       "id: c078db52-2dc6-4838-ad75-340cefeab476\n",
       "provider id: ce5e84db-cbf9-48a2-9a32-d4b7cc56ea74\n"
      ]
     },
     "execution_count": 5,
     "metadata": {},
     "output_type": "execute_result"
    }
   ],
   "source": [
    "test_collection = root_of_layerdb.items[0].load()\n",
    "test_collection"
   ]
  },
  {
   "cell_type": "code",
   "execution_count": 6,
   "metadata": {},
   "outputs": [
    {
     "data": {
      "text/html": [
       "<table><thead><tr><th colspan=\"2\">Layer</th></tr></thead><tbody><tr><th>name</th><td>Ports in Germany</td></tr><tr><th>description</th><td>Natural Earth Ports point filtered with Germany polygon</td></tr><tr><th>id</th><td>b75db46e-2b9a-4a86-b33f-bc06a73cd711</td></tr><tr><th>provider id</th><td>ce5e84db-cbf9-48a2-9a32-d4b7cc56ea74</td></tr><tr><th>workflow</th><td align=\"left\"><pre>{\n",
       "    \"operator\": {\n",
       "        \"params\": {},\n",
       "        \"sources\": {\n",
       "            \"points\": {\n",
       "                \"type\": \"OgrSource\",\n",
       "                \"params\": {\n",
       "                    \"data\": \"ne_10m_ports\",\n",
       "                    \"attributeProjection\": null,\n",
       "                    \"attributeFilters\": null\n",
       "                }\n",
       "            },\n",
       "            \"polygons\": {\n",
       "                \"type\": \"OgrSource\",\n",
       "                \"params\": {\n",
       "                    \"data\": \"germany_outline\",\n",
       "                    \"attributeProjection\": null,\n",
       "                    \"attributeFilters\": null\n",
       "                }\n",
       "            }\n",
       "        },\n",
       "        \"type\": \"PointInPolygonFilter\"\n",
       "    },\n",
       "    \"type\": \"Vector\"\n",
       "}\n",
       "</pre></td></tr><tr><th>symbology</th><td align=\"left\">None</td></tr><tr><th>properties</th><td>[]\n",
       "</td></tr><tr><th>metadata</th><td>{}\n",
       "</td></tr></tbody></table>"
      ],
      "text/plain": [
       "Layer\n",
       "name: Ports in Germany\n",
       "description: Natural Earth Ports point filtered with Germany polygon\n",
       "id: b75db46e-2b9a-4a86-b33f-bc06a73cd711\n",
       "provider id: ce5e84db-cbf9-48a2-9a32-d4b7cc56ea74\n",
       "workflow: {'operator': {'params': {}, 'sources': {'points': {'type': 'OgrSource', 'params': {'data': 'ne_10m_ports', 'attributeProjection': None, 'attributeFilters': None}}, 'polygons': {'type': 'OgrSource', 'params': {'data': 'germany_outline', 'attributeProjection': None, 'attributeFilters': None}}}, 'type': 'PointInPolygonFilter'}, 'type': 'Vector'}\n",
       "symbology: None\n",
       "properties: []\n",
       "metadata: {}"
      ]
     },
     "execution_count": 6,
     "metadata": {},
     "output_type": "execute_result"
    }
   ],
   "source": [
    "layer = test_collection.get_items_by_name(name=\"Ports in Germany\")[0].load()\n",
    "layer"
   ]
  },
  {
   "cell_type": "code",
   "execution_count": 7,
   "metadata": {},
   "outputs": [
    {
     "data": {
      "text/html": [
       "<div>\n",
       "<style scoped>\n",
       "    .dataframe tbody tr th:only-of-type {\n",
       "        vertical-align: middle;\n",
       "    }\n",
       "\n",
       "    .dataframe tbody tr th {\n",
       "        vertical-align: top;\n",
       "    }\n",
       "\n",
       "    .dataframe thead th {\n",
       "        text-align: right;\n",
       "    }\n",
       "</style>\n",
       "<table border=\"1\" class=\"dataframe\">\n",
       "  <thead>\n",
       "    <tr style=\"text-align: right;\">\n",
       "      <th></th>\n",
       "      <th>geometry</th>\n",
       "      <th>scalerank</th>\n",
       "      <th>name</th>\n",
       "      <th>natlscale</th>\n",
       "      <th>featurecla</th>\n",
       "      <th>website</th>\n",
       "      <th>start</th>\n",
       "      <th>end</th>\n",
       "    </tr>\n",
       "  </thead>\n",
       "  <tbody>\n",
       "    <tr>\n",
       "      <th>0</th>\n",
       "      <td>POINT (8.70724 53.86472)</td>\n",
       "      <td>8</td>\n",
       "      <td>Cuxhaven</td>\n",
       "      <td>5.0</td>\n",
       "      <td>Port</td>\n",
       "      <td>www.cuxport.de</td>\n",
       "      <td>NaT</td>\n",
       "      <td>NaT</td>\n",
       "    </tr>\n",
       "    <tr>\n",
       "      <th>1</th>\n",
       "      <td>POINT (9.83581 54.47361)</td>\n",
       "      <td>8</td>\n",
       "      <td>Eckernforde</td>\n",
       "      <td>5.0</td>\n",
       "      <td>Port</td>\n",
       "      <td>www.stadtwerke-eckernfoerde.de</td>\n",
       "      <td>NaT</td>\n",
       "      <td>NaT</td>\n",
       "    </tr>\n",
       "    <tr>\n",
       "      <th>2</th>\n",
       "      <td>POINT (8.48952 53.4875)</td>\n",
       "      <td>8</td>\n",
       "      <td>Nordenham</td>\n",
       "      <td>5.0</td>\n",
       "      <td>Port</td>\n",
       "      <td>None</td>\n",
       "      <td>NaT</td>\n",
       "      <td>NaT</td>\n",
       "    </tr>\n",
       "    <tr>\n",
       "      <th>3</th>\n",
       "      <td>POINT (7.36896 53.09639)</td>\n",
       "      <td>8</td>\n",
       "      <td>Papenburg</td>\n",
       "      <td>5.0</td>\n",
       "      <td>Port</td>\n",
       "      <td>None</td>\n",
       "      <td>NaT</td>\n",
       "      <td>NaT</td>\n",
       "    </tr>\n",
       "    <tr>\n",
       "      <th>4</th>\n",
       "      <td>POINT (11.43916 53.90639)</td>\n",
       "      <td>8</td>\n",
       "      <td>Wismar</td>\n",
       "      <td>5.0</td>\n",
       "      <td>Port</td>\n",
       "      <td>www.hafen-wismar.de</td>\n",
       "      <td>NaT</td>\n",
       "      <td>NaT</td>\n",
       "    </tr>\n",
       "    <tr>\n",
       "      <th>5</th>\n",
       "      <td>POINT (10.86826 53.95222)</td>\n",
       "      <td>7</td>\n",
       "      <td>Travemunde</td>\n",
       "      <td>10.0</td>\n",
       "      <td>Port</td>\n",
       "      <td>None</td>\n",
       "      <td>NaT</td>\n",
       "      <td>NaT</td>\n",
       "    </tr>\n",
       "    <tr>\n",
       "      <th>6</th>\n",
       "      <td>POINT (7.19287 53.34611)</td>\n",
       "      <td>6</td>\n",
       "      <td>Emden</td>\n",
       "      <td>20.0</td>\n",
       "      <td>Port</td>\n",
       "      <td>www.seaport-emden.de</td>\n",
       "      <td>NaT</td>\n",
       "      <td>NaT</td>\n",
       "    </tr>\n",
       "    <tr>\n",
       "      <th>7</th>\n",
       "      <td>POINT (9.43687 54.80333)</td>\n",
       "      <td>6</td>\n",
       "      <td>Flensburg</td>\n",
       "      <td>20.0</td>\n",
       "      <td>Port</td>\n",
       "      <td>www.flensburg-tourismus.de</td>\n",
       "      <td>NaT</td>\n",
       "      <td>NaT</td>\n",
       "    </tr>\n",
       "    <tr>\n",
       "      <th>8</th>\n",
       "      <td>POINT (8.12214 53.53)</td>\n",
       "      <td>6</td>\n",
       "      <td>Wilhelmshaven</td>\n",
       "      <td>20.0</td>\n",
       "      <td>Port</td>\n",
       "      <td>www.wilhelmshaven-port.de</td>\n",
       "      <td>NaT</td>\n",
       "      <td>NaT</td>\n",
       "    </tr>\n",
       "    <tr>\n",
       "      <th>9</th>\n",
       "      <td>POINT (8.75106 53.0975)</td>\n",
       "      <td>5</td>\n",
       "      <td>Bremen</td>\n",
       "      <td>30.0</td>\n",
       "      <td>Port</td>\n",
       "      <td>www.bremen-ports.de</td>\n",
       "      <td>NaT</td>\n",
       "      <td>NaT</td>\n",
       "    </tr>\n",
       "    <tr>\n",
       "      <th>10</th>\n",
       "      <td>POINT (9.95848 53.52472)</td>\n",
       "      <td>5</td>\n",
       "      <td>Hamburg</td>\n",
       "      <td>30.0</td>\n",
       "      <td>Port</td>\n",
       "      <td>www.hafen-hamburg.de</td>\n",
       "      <td>NaT</td>\n",
       "      <td>NaT</td>\n",
       "    </tr>\n",
       "    <tr>\n",
       "      <th>11</th>\n",
       "      <td>POINT (8.553 53.56361)</td>\n",
       "      <td>3</td>\n",
       "      <td>Bremerhaven</td>\n",
       "      <td>75.0</td>\n",
       "      <td>Port</td>\n",
       "      <td>www.bremen-ports.de</td>\n",
       "      <td>NaT</td>\n",
       "      <td>NaT</td>\n",
       "    </tr>\n",
       "    <tr>\n",
       "      <th>12</th>\n",
       "      <td>POINT (12.1179 54.1525)</td>\n",
       "      <td>3</td>\n",
       "      <td>Rostock</td>\n",
       "      <td>75.0</td>\n",
       "      <td>Port</td>\n",
       "      <td>www.rostock-port.de</td>\n",
       "      <td>NaT</td>\n",
       "      <td>NaT</td>\n",
       "    </tr>\n",
       "  </tbody>\n",
       "</table>\n",
       "</div>"
      ],
      "text/plain": [
       "                     geometry  scalerank           name  natlscale featurecla  \\\n",
       "0    POINT (8.70724 53.86472)          8       Cuxhaven        5.0       Port   \n",
       "1    POINT (9.83581 54.47361)          8    Eckernforde        5.0       Port   \n",
       "2     POINT (8.48952 53.4875)          8      Nordenham        5.0       Port   \n",
       "3    POINT (7.36896 53.09639)          8      Papenburg        5.0       Port   \n",
       "4   POINT (11.43916 53.90639)          8         Wismar        5.0       Port   \n",
       "5   POINT (10.86826 53.95222)          7     Travemunde       10.0       Port   \n",
       "6    POINT (7.19287 53.34611)          6          Emden       20.0       Port   \n",
       "7    POINT (9.43687 54.80333)          6      Flensburg       20.0       Port   \n",
       "8       POINT (8.12214 53.53)          6  Wilhelmshaven       20.0       Port   \n",
       "9     POINT (8.75106 53.0975)          5         Bremen       30.0       Port   \n",
       "10   POINT (9.95848 53.52472)          5        Hamburg       30.0       Port   \n",
       "11     POINT (8.553 53.56361)          3    Bremerhaven       75.0       Port   \n",
       "12    POINT (12.1179 54.1525)          3        Rostock       75.0       Port   \n",
       "\n",
       "                           website start end  \n",
       "0                   www.cuxport.de   NaT NaT  \n",
       "1   www.stadtwerke-eckernfoerde.de   NaT NaT  \n",
       "2                             None   NaT NaT  \n",
       "3                             None   NaT NaT  \n",
       "4              www.hafen-wismar.de   NaT NaT  \n",
       "5                             None   NaT NaT  \n",
       "6             www.seaport-emden.de   NaT NaT  \n",
       "7       www.flensburg-tourismus.de   NaT NaT  \n",
       "8        www.wilhelmshaven-port.de   NaT NaT  \n",
       "9              www.bremen-ports.de   NaT NaT  \n",
       "10            www.hafen-hamburg.de   NaT NaT  \n",
       "11             www.bremen-ports.de   NaT NaT  \n",
       "12             www.rostock-port.de   NaT NaT  "
      ]
     },
     "execution_count": 7,
     "metadata": {},
     "output_type": "execute_result"
    }
   ],
   "source": [
    "workflow = layer.as_workflow()\n",
    "\n",
    "time = datetime.strptime(\"2014-04-01T12:00:00.000Z\", \"%Y-%m-%dT%H:%M:%S.%f%z\")\n",
    "\n",
    "data = workflow.get_dataframe(\n",
    "    ge.QueryRectangle(\n",
    "        ge.BoundingBox2D(-111.533203125, -4.482421875, 114.345703125, 73.388671875),\n",
    "        ge.TimeInterval(time, time),\n",
    "        ge.SpatialResolution(0.1, 0.1),\n",
    "    )\n",
    ")\n",
    "\n",
    "data"
   ]
  },
  {
   "attachments": {},
   "cell_type": "markdown",
   "metadata": {},
   "source": [
    "## Add collections and layers"
   ]
  },
  {
   "cell_type": "code",
   "execution_count": 8,
   "metadata": {},
   "outputs": [
    {
     "data": {
      "text/html": [
       "<table><thead><tr><th colspan=\"2\">Layer Collection</th></tr></thead><tbody><tr><th>name</th><td>Layers</td></tr><tr><th>description</th><td>All available Geo Engine layers</td></tr><tr><th>id</th><td>05102bb3-a855-4a37-8a8a-30026a91fef1</td></tr><tr><th>provider id</th><td>ce5e84db-cbf9-48a2-9a32-d4b7cc56ea74</td></tr><tr><th rowspan=\"4\">items</th><td><table><thead><tr><th colspan=\"2\">Layer Collection</th></tr></thead><tbody><tr><th>name</th><td>An empty collection</td></tr><tr><th>description</th><td>There is nothing here</td></tr><tr><th>id</th><td>a29f77cc-51ce-466b-86ef-d0ab2170bc0a</td></tr><tr><th>provider id</th><td>ce5e84db-cbf9-48a2-9a32-d4b7cc56ea74</td></tr></tbody></table></td></tr><tr><td><table><thead><tr><th colspan=\"2\">Layer Collection</th></tr></thead><tbody><tr><th>name</th><td>A test collection</td></tr><tr><th>description</th><td>Some layers for testing and an empty subcollection</td></tr><tr><th>id</th><td>272bf675-2e27-4412-824c-287c1e6841ac</td></tr><tr><th>provider id</th><td>ce5e84db-cbf9-48a2-9a32-d4b7cc56ea74</td></tr></tbody></table></td></tr><tr><td><table><thead><tr><th colspan=\"2\">Layer Collection</th></tr></thead><tbody><tr><th>name</th><td>my test collection</td></tr><tr><th>description</th><td>test description</td></tr><tr><th>id</th><td>26aed0be-5423-468d-8961-65c0c58d717a</td></tr><tr><th>provider id</th><td>ce5e84db-cbf9-48a2-9a32-d4b7cc56ea74</td></tr></tbody></table></td></tr><tr><td><table><thead><tr><th colspan=\"2\">Layer Collection</th></tr></thead><tbody><tr><th>name</th><td>Unsorted</td></tr><tr><th>description</th><td>Unsorted Layers</td></tr><tr><th>id</th><td>ffb2dd9e-f5ad-427c-b7f1-c9a0c7a0ae3f</td></tr><tr><th>provider id</th><td>ce5e84db-cbf9-48a2-9a32-d4b7cc56ea74</td></tr></tbody></table></td></tr></tbody></table>"
      ],
      "text/plain": [
       "Layer Collection\n",
       "name: Layers\n",
       "description: All available Geo Engine layers\n",
       "id: 05102bb3-a855-4a37-8a8a-30026a91fef1\n",
       "provider id: ce5e84db-cbf9-48a2-9a32-d4b7cc56ea74\n",
       "items: Layer Collection\n",
       "name: An empty collection\n",
       "description: There is nothing here\n",
       "id: a29f77cc-51ce-466b-86ef-d0ab2170bc0a\n",
       "provider id: ce5e84db-cbf9-48a2-9a32-d4b7cc56ea74\n",
       "\n",
       "       Layer Collection\n",
       "name: A test collection\n",
       "description: Some layers for testing and an empty subcollection\n",
       "id: 272bf675-2e27-4412-824c-287c1e6841ac\n",
       "provider id: ce5e84db-cbf9-48a2-9a32-d4b7cc56ea74\n",
       "\n",
       "       Layer Collection\n",
       "name: my test collection\n",
       "description: test description\n",
       "id: 26aed0be-5423-468d-8961-65c0c58d717a\n",
       "provider id: ce5e84db-cbf9-48a2-9a32-d4b7cc56ea74\n",
       "\n",
       "       Layer Collection\n",
       "name: Unsorted\n",
       "description: Unsorted Layers\n",
       "id: ffb2dd9e-f5ad-427c-b7f1-c9a0c7a0ae3f\n",
       "provider id: ce5e84db-cbf9-48a2-9a32-d4b7cc56ea74\n"
      ]
     },
     "execution_count": 8,
     "metadata": {},
     "output_type": "execute_result"
    }
   ],
   "source": [
    "root_of_layerdb.add_collection(\"my test collection\", \"test description\")\n",
    "root_of_layerdb = root_of_layerdb.reload()\n",
    "root_of_layerdb"
   ]
  },
  {
   "cell_type": "code",
   "execution_count": 9,
   "metadata": {},
   "outputs": [
    {
     "data": {
      "text/html": [
       "<table><thead><tr><th colspan=\"2\">Layer Collection</th></tr></thead><tbody><tr><th>name</th><td>my test collection</td></tr><tr><th>description</th><td>test description</td></tr><tr><th>id</th><td>26aed0be-5423-468d-8961-65c0c58d717a</td></tr><tr><th>provider id</th><td>ce5e84db-cbf9-48a2-9a32-d4b7cc56ea74</td></tr></tbody></table>"
      ],
      "text/plain": [
       "Layer Collection\n",
       "name: my test collection\n",
       "description: test description\n",
       "id: 26aed0be-5423-468d-8961-65c0c58d717a\n",
       "provider id: ce5e84db-cbf9-48a2-9a32-d4b7cc56ea74"
      ]
     },
     "execution_count": 9,
     "metadata": {},
     "output_type": "execute_result"
    }
   ],
   "source": [
    "test_collection = root_of_layerdb.get_items_by_name(\"my test collection\")[0].load()\n",
    "test_collection"
   ]
  },
  {
   "cell_type": "code",
   "execution_count": 10,
   "metadata": {},
   "outputs": [
    {
     "data": {
      "text/html": [
       "<table><thead><tr><th colspan=\"2\">Layer Collection</th></tr></thead><tbody><tr><th>name</th><td>my test collection</td></tr><tr><th>description</th><td>test description</td></tr><tr><th>id</th><td>26aed0be-5423-468d-8961-65c0c58d717a</td></tr><tr><th>provider id</th><td>ce5e84db-cbf9-48a2-9a32-d4b7cc56ea74</td></tr><tr><th rowspan=\"2\">items</th><td><table><thead><tr><th colspan=\"2\">Layer Collection</th></tr></thead><tbody><tr><th>name</th><td>sub collection</td></tr><tr><th>description</th><td>another description</td></tr><tr><th>id</th><td>5da6c563-5583-4d53-bda9-56943ff5d6e0</td></tr><tr><th>provider id</th><td>ce5e84db-cbf9-48a2-9a32-d4b7cc56ea74</td></tr></tbody></table></td></tr><tr><td><table><thead><tr><th colspan=\"2\">Layer</th></tr></thead><tbody><tr><th>name</th><td>ports clone</td></tr><tr><th>description</th><td>test description</td></tr><tr><th>id</th><td>ff72b8e4-d951-467a-829b-04bbad52fcf6</td></tr><tr><th>provider id</th><td>ce5e84db-cbf9-48a2-9a32-d4b7cc56ea74</td></tr></tbody></table></td></tr></tbody></table>"
      ],
      "text/plain": [
       "Layer Collection\n",
       "name: my test collection\n",
       "description: test description\n",
       "id: 26aed0be-5423-468d-8961-65c0c58d717a\n",
       "provider id: ce5e84db-cbf9-48a2-9a32-d4b7cc56ea74\n",
       "items: Layer Collection\n",
       "name: sub collection\n",
       "description: another description\n",
       "id: 5da6c563-5583-4d53-bda9-56943ff5d6e0\n",
       "provider id: ce5e84db-cbf9-48a2-9a32-d4b7cc56ea74\n",
       "\n",
       "       Layer\n",
       "name: ports clone\n",
       "description: test description\n",
       "id: ff72b8e4-d951-467a-829b-04bbad52fcf6\n",
       "provider id: ce5e84db-cbf9-48a2-9a32-d4b7cc56ea74\n"
      ]
     },
     "execution_count": 10,
     "metadata": {},
     "output_type": "execute_result"
    }
   ],
   "source": [
    "test_collection.add_collection(\"sub collection\", \"another description\")\n",
    "\n",
    "test_collection.add_layer(\n",
    "    name=\"ports clone\",\n",
    "    description=\"test description\",\n",
    "    workflow={\n",
    "        \"type\": \"Vector\",\n",
    "        \"operator\": {\n",
    "            \"type\": \"PointInPolygonFilter\",\n",
    "            \"params\": {},\n",
    "            \"sources\": {\n",
    "                \"points\": {\n",
    "                    \"type\": \"OgrSource\",\n",
    "                    \"params\": {\"data\": \"ne_10m_ports\", \"attributeProjection\": None, \"attributeFilters\": None},\n",
    "                },\n",
    "                \"polygons\": {\n",
    "                    \"type\": \"OgrSource\",\n",
    "                    \"params\": {\"data\": \"germany_outline\", \"attributeProjection\": None, \"attributeFilters\": None},\n",
    "                },\n",
    "            },\n",
    "        },\n",
    "    },\n",
    "    symbology=None,\n",
    ")\n",
    "\n",
    "test_collection = test_collection.reload()\n",
    "test_collection"
   ]
  },
  {
   "cell_type": "code",
   "execution_count": 11,
   "metadata": {},
   "outputs": [
    {
     "data": {
      "text/html": [
       "<table><thead><tr><th colspan=\"2\">Layer Collection</th></tr></thead><tbody><tr><th>name</th><td>sub collection</td></tr><tr><th>description</th><td>another description</td></tr><tr><th>id</th><td>5da6c563-5583-4d53-bda9-56943ff5d6e0</td></tr><tr><th>provider id</th><td>ce5e84db-cbf9-48a2-9a32-d4b7cc56ea74</td></tr><tr><th rowspan=\"2\">items</th><td><table><thead><tr><th colspan=\"2\">Layer Collection</th></tr></thead><tbody><tr><th>name</th><td>sub sub collection</td></tr><tr><th>description</th><td>yet another description</td></tr><tr><th>id</th><td>74a2698d-f254-4144-aee2-fc42089c518b</td></tr><tr><th>provider id</th><td>ce5e84db-cbf9-48a2-9a32-d4b7cc56ea74</td></tr></tbody></table></td></tr><tr><td><table><thead><tr><th colspan=\"2\">Layer</th></tr></thead><tbody><tr><th>name</th><td>ports clone</td></tr><tr><th>description</th><td>test description</td></tr><tr><th>id</th><td>ff72b8e4-d951-467a-829b-04bbad52fcf6</td></tr><tr><th>provider id</th><td>ce5e84db-cbf9-48a2-9a32-d4b7cc56ea74</td></tr></tbody></table></td></tr></tbody></table>"
      ],
      "text/plain": [
       "Layer Collection\n",
       "name: sub collection\n",
       "description: another description\n",
       "id: 5da6c563-5583-4d53-bda9-56943ff5d6e0\n",
       "provider id: ce5e84db-cbf9-48a2-9a32-d4b7cc56ea74\n",
       "items: Layer Collection\n",
       "name: sub sub collection\n",
       "description: yet another description\n",
       "id: 74a2698d-f254-4144-aee2-fc42089c518b\n",
       "provider id: ce5e84db-cbf9-48a2-9a32-d4b7cc56ea74\n",
       "\n",
       "       Layer\n",
       "name: ports clone\n",
       "description: test description\n",
       "id: ff72b8e4-d951-467a-829b-04bbad52fcf6\n",
       "provider id: ce5e84db-cbf9-48a2-9a32-d4b7cc56ea74\n"
      ]
     },
     "execution_count": 11,
     "metadata": {},
     "output_type": "execute_result"
    }
   ],
   "source": [
    "sub_collection = test_collection.items[0].load()\n",
    "sub_collection.add_existing_layer(test_collection.items[1])\n",
    "\n",
    "sub_collection.add_collection(\"sub sub collection\", \"yet another description\")\n",
    "\n",
    "sub_collection = sub_collection.reload()\n",
    "sub_collection"
   ]
  },
  {
   "cell_type": "code",
   "execution_count": 12,
   "metadata": {},
   "outputs": [
    {
     "data": {
      "text/html": [
       "<table><thead><tr><th colspan=\"2\">Layer Collection</th></tr></thead><tbody><tr><th>name</th><td>my test collection</td></tr><tr><th>description</th><td>test description</td></tr><tr><th>id</th><td>26aed0be-5423-468d-8961-65c0c58d717a</td></tr><tr><th>provider id</th><td>ce5e84db-cbf9-48a2-9a32-d4b7cc56ea74</td></tr><tr><th rowspan=\"3\">items</th><td><table><thead><tr><th colspan=\"2\">Layer Collection</th></tr></thead><tbody><tr><th>name</th><td>sub collection</td></tr><tr><th>description</th><td>another description</td></tr><tr><th>id</th><td>5da6c563-5583-4d53-bda9-56943ff5d6e0</td></tr><tr><th>provider id</th><td>ce5e84db-cbf9-48a2-9a32-d4b7cc56ea74</td></tr></tbody></table></td></tr><tr><td><table><thead><tr><th colspan=\"2\">Layer Collection</th></tr></thead><tbody><tr><th>name</th><td>sub sub collection</td></tr><tr><th>description</th><td>yet another description</td></tr><tr><th>id</th><td>74a2698d-f254-4144-aee2-fc42089c518b</td></tr><tr><th>provider id</th><td>ce5e84db-cbf9-48a2-9a32-d4b7cc56ea74</td></tr></tbody></table></td></tr><tr><td><table><thead><tr><th colspan=\"2\">Layer</th></tr></thead><tbody><tr><th>name</th><td>ports clone</td></tr><tr><th>description</th><td>test description</td></tr><tr><th>id</th><td>ff72b8e4-d951-467a-829b-04bbad52fcf6</td></tr><tr><th>provider id</th><td>ce5e84db-cbf9-48a2-9a32-d4b7cc56ea74</td></tr></tbody></table></td></tr></tbody></table>"
      ],
      "text/plain": [
       "Layer Collection\n",
       "name: my test collection\n",
       "description: test description\n",
       "id: 26aed0be-5423-468d-8961-65c0c58d717a\n",
       "provider id: ce5e84db-cbf9-48a2-9a32-d4b7cc56ea74\n",
       "items: Layer Collection\n",
       "name: sub collection\n",
       "description: another description\n",
       "id: 5da6c563-5583-4d53-bda9-56943ff5d6e0\n",
       "provider id: ce5e84db-cbf9-48a2-9a32-d4b7cc56ea74\n",
       "\n",
       "       Layer Collection\n",
       "name: sub sub collection\n",
       "description: yet another description\n",
       "id: 74a2698d-f254-4144-aee2-fc42089c518b\n",
       "provider id: ce5e84db-cbf9-48a2-9a32-d4b7cc56ea74\n",
       "\n",
       "       Layer\n",
       "name: ports clone\n",
       "description: test description\n",
       "id: ff72b8e4-d951-467a-829b-04bbad52fcf6\n",
       "provider id: ce5e84db-cbf9-48a2-9a32-d4b7cc56ea74\n"
      ]
     },
     "execution_count": 12,
     "metadata": {},
     "output_type": "execute_result"
    }
   ],
   "source": [
    "test_collection.add_existing_collection(sub_collection.items[0])\n",
    "\n",
    "test_collection = test_collection.reload()\n",
    "test_collection"
   ]
  },
  {
   "attachments": {},
   "cell_type": "markdown",
   "metadata": {},
   "source": [
    "## Delete previously added collections and layers"
   ]
  },
  {
   "cell_type": "code",
   "execution_count": 13,
   "metadata": {},
   "outputs": [
    {
     "data": {
      "text/html": [
       "<table><thead><tr><th colspan=\"2\">Layer Collection</th></tr></thead><tbody><tr><th>name</th><td>my test collection</td></tr><tr><th>description</th><td>test description</td></tr><tr><th>id</th><td>26aed0be-5423-468d-8961-65c0c58d717a</td></tr><tr><th>provider id</th><td>ce5e84db-cbf9-48a2-9a32-d4b7cc56ea74</td></tr><tr><th rowspan=\"3\">items</th><td><table><thead><tr><th colspan=\"2\">Layer Collection</th></tr></thead><tbody><tr><th>name</th><td>sub collection</td></tr><tr><th>description</th><td>another description</td></tr><tr><th>id</th><td>5da6c563-5583-4d53-bda9-56943ff5d6e0</td></tr><tr><th>provider id</th><td>ce5e84db-cbf9-48a2-9a32-d4b7cc56ea74</td></tr></tbody></table></td></tr><tr><td><table><thead><tr><th colspan=\"2\">Layer Collection</th></tr></thead><tbody><tr><th>name</th><td>sub sub collection</td></tr><tr><th>description</th><td>yet another description</td></tr><tr><th>id</th><td>74a2698d-f254-4144-aee2-fc42089c518b</td></tr><tr><th>provider id</th><td>ce5e84db-cbf9-48a2-9a32-d4b7cc56ea74</td></tr></tbody></table></td></tr><tr><td><table><thead><tr><th colspan=\"2\">Layer</th></tr></thead><tbody><tr><th>name</th><td>ports clone</td></tr><tr><th>description</th><td>test description</td></tr><tr><th>id</th><td>ff72b8e4-d951-467a-829b-04bbad52fcf6</td></tr><tr><th>provider id</th><td>ce5e84db-cbf9-48a2-9a32-d4b7cc56ea74</td></tr></tbody></table></td></tr></tbody></table>"
      ],
      "text/plain": [
       "Layer Collection\n",
       "name: my test collection\n",
       "description: test description\n",
       "id: 26aed0be-5423-468d-8961-65c0c58d717a\n",
       "provider id: ce5e84db-cbf9-48a2-9a32-d4b7cc56ea74\n",
       "items: Layer Collection\n",
       "name: sub collection\n",
       "description: another description\n",
       "id: 5da6c563-5583-4d53-bda9-56943ff5d6e0\n",
       "provider id: ce5e84db-cbf9-48a2-9a32-d4b7cc56ea74\n",
       "\n",
       "       Layer Collection\n",
       "name: sub sub collection\n",
       "description: yet another description\n",
       "id: 74a2698d-f254-4144-aee2-fc42089c518b\n",
       "provider id: ce5e84db-cbf9-48a2-9a32-d4b7cc56ea74\n",
       "\n",
       "       Layer\n",
       "name: ports clone\n",
       "description: test description\n",
       "id: ff72b8e4-d951-467a-829b-04bbad52fcf6\n",
       "provider id: ce5e84db-cbf9-48a2-9a32-d4b7cc56ea74\n"
      ]
     },
     "execution_count": 13,
     "metadata": {},
     "output_type": "execute_result"
    }
   ],
   "source": [
    "test_collection"
   ]
  },
  {
   "cell_type": "code",
   "execution_count": 14,
   "metadata": {},
   "outputs": [
    {
     "data": {
      "text/html": [
       "<table><thead><tr><th colspan=\"2\">Layer Collection</th></tr></thead><tbody><tr><th>name</th><td>my test collection</td></tr><tr><th>description</th><td>test description</td></tr><tr><th>id</th><td>26aed0be-5423-468d-8961-65c0c58d717a</td></tr><tr><th>provider id</th><td>ce5e84db-cbf9-48a2-9a32-d4b7cc56ea74</td></tr><tr><th rowspan=\"2\">items</th><td><table><thead><tr><th colspan=\"2\">Layer Collection</th></tr></thead><tbody><tr><th>name</th><td>sub sub collection</td></tr><tr><th>description</th><td>yet another description</td></tr><tr><th>id</th><td>74a2698d-f254-4144-aee2-fc42089c518b</td></tr><tr><th>provider id</th><td>ce5e84db-cbf9-48a2-9a32-d4b7cc56ea74</td></tr></tbody></table></td></tr><tr><td><table><thead><tr><th colspan=\"2\">Layer</th></tr></thead><tbody><tr><th>name</th><td>ports clone</td></tr><tr><th>description</th><td>test description</td></tr><tr><th>id</th><td>ff72b8e4-d951-467a-829b-04bbad52fcf6</td></tr><tr><th>provider id</th><td>ce5e84db-cbf9-48a2-9a32-d4b7cc56ea74</td></tr></tbody></table></td></tr></tbody></table>"
      ],
      "text/plain": [
       "Layer Collection\n",
       "name: my test collection\n",
       "description: test description\n",
       "id: 26aed0be-5423-468d-8961-65c0c58d717a\n",
       "provider id: ce5e84db-cbf9-48a2-9a32-d4b7cc56ea74\n",
       "items: Layer Collection\n",
       "name: sub sub collection\n",
       "description: yet another description\n",
       "id: 74a2698d-f254-4144-aee2-fc42089c518b\n",
       "provider id: ce5e84db-cbf9-48a2-9a32-d4b7cc56ea74\n",
       "\n",
       "       Layer\n",
       "name: ports clone\n",
       "description: test description\n",
       "id: ff72b8e4-d951-467a-829b-04bbad52fcf6\n",
       "provider id: ce5e84db-cbf9-48a2-9a32-d4b7cc56ea74\n"
      ]
     },
     "execution_count": 14,
     "metadata": {},
     "output_type": "execute_result"
    }
   ],
   "source": [
    "test_collection.remove_item(0)\n",
    "test_collection"
   ]
  },
  {
   "cell_type": "code",
   "execution_count": 15,
   "metadata": {},
   "outputs": [
    {
     "data": {
      "text/html": [
       "<table><thead><tr><th colspan=\"2\">Layer Collection</th></tr></thead><tbody><tr><th>name</th><td>my test collection</td></tr><tr><th>description</th><td>test description</td></tr><tr><th>id</th><td>26aed0be-5423-468d-8961-65c0c58d717a</td></tr><tr><th>provider id</th><td>ce5e84db-cbf9-48a2-9a32-d4b7cc56ea74</td></tr><tr><th rowspan=\"1\">items</th><td><table><thead><tr><th colspan=\"2\">Layer</th></tr></thead><tbody><tr><th>name</th><td>ports clone</td></tr><tr><th>description</th><td>test description</td></tr><tr><th>id</th><td>ff72b8e4-d951-467a-829b-04bbad52fcf6</td></tr><tr><th>provider id</th><td>ce5e84db-cbf9-48a2-9a32-d4b7cc56ea74</td></tr></tbody></table></td></tr></tbody></table>"
      ],
      "text/plain": [
       "Layer Collection\n",
       "name: my test collection\n",
       "description: test description\n",
       "id: 26aed0be-5423-468d-8961-65c0c58d717a\n",
       "provider id: ce5e84db-cbf9-48a2-9a32-d4b7cc56ea74\n",
       "items: Layer\n",
       "name: ports clone\n",
       "description: test description\n",
       "id: ff72b8e4-d951-467a-829b-04bbad52fcf6\n",
       "provider id: ce5e84db-cbf9-48a2-9a32-d4b7cc56ea74\n"
      ]
     },
     "execution_count": 15,
     "metadata": {},
     "output_type": "execute_result"
    }
   ],
   "source": [
    "test_collection.remove_item(0)\n",
    "test_collection"
   ]
  },
  {
   "cell_type": "code",
   "execution_count": 16,
   "metadata": {},
   "outputs": [
    {
     "data": {
      "text/html": [
       "<table><thead><tr><th colspan=\"2\">Layer Collection</th></tr></thead><tbody><tr><th>name</th><td>my test collection</td></tr><tr><th>description</th><td>test description</td></tr><tr><th>id</th><td>26aed0be-5423-468d-8961-65c0c58d717a</td></tr><tr><th>provider id</th><td>ce5e84db-cbf9-48a2-9a32-d4b7cc56ea74</td></tr></tbody></table>"
      ],
      "text/plain": [
       "Layer Collection\n",
       "name: my test collection\n",
       "description: test description\n",
       "id: 26aed0be-5423-468d-8961-65c0c58d717a\n",
       "provider id: ce5e84db-cbf9-48a2-9a32-d4b7cc56ea74"
      ]
     },
     "execution_count": 16,
     "metadata": {},
     "output_type": "execute_result"
    }
   ],
   "source": [
    "test_collection.remove_item(0)\n",
    "test_collection"
   ]
  },
  {
   "cell_type": "code",
   "execution_count": 17,
   "metadata": {},
   "outputs": [
    {
     "data": {
      "text/html": [
       "<table><thead><tr><th colspan=\"2\">Layer Collection</th></tr></thead><tbody><tr><th>name</th><td>Layers</td></tr><tr><th>description</th><td>All available Geo Engine layers</td></tr><tr><th>id</th><td>05102bb3-a855-4a37-8a8a-30026a91fef1</td></tr><tr><th>provider id</th><td>ce5e84db-cbf9-48a2-9a32-d4b7cc56ea74</td></tr><tr><th rowspan=\"4\">items</th><td><table><thead><tr><th colspan=\"2\">Layer Collection</th></tr></thead><tbody><tr><th>name</th><td>An empty collection</td></tr><tr><th>description</th><td>There is nothing here</td></tr><tr><th>id</th><td>a29f77cc-51ce-466b-86ef-d0ab2170bc0a</td></tr><tr><th>provider id</th><td>ce5e84db-cbf9-48a2-9a32-d4b7cc56ea74</td></tr></tbody></table></td></tr><tr><td><table><thead><tr><th colspan=\"2\">Layer Collection</th></tr></thead><tbody><tr><th>name</th><td>A test collection</td></tr><tr><th>description</th><td>Some layers for testing and an empty subcollection</td></tr><tr><th>id</th><td>272bf675-2e27-4412-824c-287c1e6841ac</td></tr><tr><th>provider id</th><td>ce5e84db-cbf9-48a2-9a32-d4b7cc56ea74</td></tr></tbody></table></td></tr><tr><td><table><thead><tr><th colspan=\"2\">Layer Collection</th></tr></thead><tbody><tr><th>name</th><td>my test collection</td></tr><tr><th>description</th><td>test description</td></tr><tr><th>id</th><td>26aed0be-5423-468d-8961-65c0c58d717a</td></tr><tr><th>provider id</th><td>ce5e84db-cbf9-48a2-9a32-d4b7cc56ea74</td></tr></tbody></table></td></tr><tr><td><table><thead><tr><th colspan=\"2\">Layer Collection</th></tr></thead><tbody><tr><th>name</th><td>Unsorted</td></tr><tr><th>description</th><td>Unsorted Layers</td></tr><tr><th>id</th><td>ffb2dd9e-f5ad-427c-b7f1-c9a0c7a0ae3f</td></tr><tr><th>provider id</th><td>ce5e84db-cbf9-48a2-9a32-d4b7cc56ea74</td></tr></tbody></table></td></tr></tbody></table>"
      ],
      "text/plain": [
       "Layer Collection\n",
       "name: Layers\n",
       "description: All available Geo Engine layers\n",
       "id: 05102bb3-a855-4a37-8a8a-30026a91fef1\n",
       "provider id: ce5e84db-cbf9-48a2-9a32-d4b7cc56ea74\n",
       "items: Layer Collection\n",
       "name: An empty collection\n",
       "description: There is nothing here\n",
       "id: a29f77cc-51ce-466b-86ef-d0ab2170bc0a\n",
       "provider id: ce5e84db-cbf9-48a2-9a32-d4b7cc56ea74\n",
       "\n",
       "       Layer Collection\n",
       "name: A test collection\n",
       "description: Some layers for testing and an empty subcollection\n",
       "id: 272bf675-2e27-4412-824c-287c1e6841ac\n",
       "provider id: ce5e84db-cbf9-48a2-9a32-d4b7cc56ea74\n",
       "\n",
       "       Layer Collection\n",
       "name: my test collection\n",
       "description: test description\n",
       "id: 26aed0be-5423-468d-8961-65c0c58d717a\n",
       "provider id: ce5e84db-cbf9-48a2-9a32-d4b7cc56ea74\n",
       "\n",
       "       Layer Collection\n",
       "name: Unsorted\n",
       "description: Unsorted Layers\n",
       "id: ffb2dd9e-f5ad-427c-b7f1-c9a0c7a0ae3f\n",
       "provider id: ce5e84db-cbf9-48a2-9a32-d4b7cc56ea74\n"
      ]
     },
     "execution_count": 17,
     "metadata": {},
     "output_type": "execute_result"
    }
   ],
   "source": [
    "root_of_layerdb.reload()"
   ]
  },
  {
   "cell_type": "code",
   "execution_count": 18,
   "metadata": {},
   "outputs": [],
   "source": [
    "test_collection.remove()"
   ]
  },
  {
   "cell_type": "code",
   "execution_count": 19,
   "metadata": {},
   "outputs": [
    {
     "data": {
      "text/html": [
       "<table><thead><tr><th colspan=\"2\">Layer Collection</th></tr></thead><tbody><tr><th>name</th><td>Layers</td></tr><tr><th>description</th><td>All available Geo Engine layers</td></tr><tr><th>id</th><td>05102bb3-a855-4a37-8a8a-30026a91fef1</td></tr><tr><th>provider id</th><td>ce5e84db-cbf9-48a2-9a32-d4b7cc56ea74</td></tr><tr><th rowspan=\"3\">items</th><td><table><thead><tr><th colspan=\"2\">Layer Collection</th></tr></thead><tbody><tr><th>name</th><td>An empty collection</td></tr><tr><th>description</th><td>There is nothing here</td></tr><tr><th>id</th><td>a29f77cc-51ce-466b-86ef-d0ab2170bc0a</td></tr><tr><th>provider id</th><td>ce5e84db-cbf9-48a2-9a32-d4b7cc56ea74</td></tr></tbody></table></td></tr><tr><td><table><thead><tr><th colspan=\"2\">Layer Collection</th></tr></thead><tbody><tr><th>name</th><td>A test collection</td></tr><tr><th>description</th><td>Some layers for testing and an empty subcollection</td></tr><tr><th>id</th><td>272bf675-2e27-4412-824c-287c1e6841ac</td></tr><tr><th>provider id</th><td>ce5e84db-cbf9-48a2-9a32-d4b7cc56ea74</td></tr></tbody></table></td></tr><tr><td><table><thead><tr><th colspan=\"2\">Layer Collection</th></tr></thead><tbody><tr><th>name</th><td>Unsorted</td></tr><tr><th>description</th><td>Unsorted Layers</td></tr><tr><th>id</th><td>ffb2dd9e-f5ad-427c-b7f1-c9a0c7a0ae3f</td></tr><tr><th>provider id</th><td>ce5e84db-cbf9-48a2-9a32-d4b7cc56ea74</td></tr></tbody></table></td></tr></tbody></table>"
      ],
      "text/plain": [
       "Layer Collection\n",
       "name: Layers\n",
       "description: All available Geo Engine layers\n",
       "id: 05102bb3-a855-4a37-8a8a-30026a91fef1\n",
       "provider id: ce5e84db-cbf9-48a2-9a32-d4b7cc56ea74\n",
       "items: Layer Collection\n",
       "name: An empty collection\n",
       "description: There is nothing here\n",
       "id: a29f77cc-51ce-466b-86ef-d0ab2170bc0a\n",
       "provider id: ce5e84db-cbf9-48a2-9a32-d4b7cc56ea74\n",
       "\n",
       "       Layer Collection\n",
       "name: A test collection\n",
       "description: Some layers for testing and an empty subcollection\n",
       "id: 272bf675-2e27-4412-824c-287c1e6841ac\n",
       "provider id: ce5e84db-cbf9-48a2-9a32-d4b7cc56ea74\n",
       "\n",
       "       Layer Collection\n",
       "name: Unsorted\n",
       "description: Unsorted Layers\n",
       "id: ffb2dd9e-f5ad-427c-b7f1-c9a0c7a0ae3f\n",
       "provider id: ce5e84db-cbf9-48a2-9a32-d4b7cc56ea74\n"
      ]
     },
     "execution_count": 19,
     "metadata": {},
     "output_type": "execute_result"
    }
   ],
   "source": [
    "root_of_layerdb = root_of_layerdb.reload()\n",
    "root_of_layerdb"
   ]
  },
  {
   "cell_type": "markdown",
   "metadata": {},
   "source": [
    "## Search for layer in layer collection"
   ]
  },
  {
   "cell_type": "code",
   "execution_count": 20,
   "metadata": {},
   "outputs": [
    {
     "name": "stdout",
     "output_type": "stream",
     "text": [
      "Found…\n",
      "\n",
      "Layer\n",
      "name: Ports in Germany\n",
      "description: Natural Earth Ports point filtered with Germany polygon\n",
      "id: b75db46e-2b9a-4a86-b33f-bc06a73cd711\n",
      "provider id: ce5e84db-cbf9-48a2-9a32-d4b7cc56ea74\n",
      "\n"
     ]
    },
    {
     "data": {
      "text/html": [
       "<table><thead><tr><th colspan=\"2\">Layer</th></tr></thead><tbody><tr><th>name</th><td>Ports in Germany</td></tr><tr><th>description</th><td>Natural Earth Ports point filtered with Germany polygon</td></tr><tr><th>id</th><td>b75db46e-2b9a-4a86-b33f-bc06a73cd711</td></tr><tr><th>provider id</th><td>ce5e84db-cbf9-48a2-9a32-d4b7cc56ea74</td></tr><tr><th>workflow</th><td align=\"left\"><pre>{\n",
       "    \"operator\": {\n",
       "        \"params\": {},\n",
       "        \"sources\": {\n",
       "            \"points\": {\n",
       "                \"type\": \"OgrSource\",\n",
       "                \"params\": {\n",
       "                    \"data\": \"ne_10m_ports\",\n",
       "                    \"attributeProjection\": null,\n",
       "                    \"attributeFilters\": null\n",
       "                }\n",
       "            },\n",
       "            \"polygons\": {\n",
       "                \"type\": \"OgrSource\",\n",
       "                \"params\": {\n",
       "                    \"data\": \"germany_outline\",\n",
       "                    \"attributeProjection\": null,\n",
       "                    \"attributeFilters\": null\n",
       "                }\n",
       "            }\n",
       "        },\n",
       "        \"type\": \"PointInPolygonFilter\"\n",
       "    },\n",
       "    \"type\": \"Vector\"\n",
       "}\n",
       "</pre></td></tr><tr><th>symbology</th><td align=\"left\">None</td></tr><tr><th>properties</th><td>[]\n",
       "</td></tr><tr><th>metadata</th><td>{}\n",
       "</td></tr></tbody></table>"
      ],
      "text/plain": [
       "Layer\n",
       "name: Ports in Germany\n",
       "description: Natural Earth Ports point filtered with Germany polygon\n",
       "id: b75db46e-2b9a-4a86-b33f-bc06a73cd711\n",
       "provider id: ce5e84db-cbf9-48a2-9a32-d4b7cc56ea74\n",
       "workflow: {'operator': {'params': {}, 'sources': {'points': {'type': 'OgrSource', 'params': {'data': 'ne_10m_ports', 'attributeProjection': None, 'attributeFilters': None}}, 'polygons': {'type': 'OgrSource', 'params': {'data': 'germany_outline', 'attributeProjection': None, 'attributeFilters': None}}}, 'type': 'PointInPolygonFilter'}, 'type': 'Vector'}\n",
       "symbology: None\n",
       "properties: []\n",
       "metadata: {}"
      ]
     },
     "execution_count": 20,
     "metadata": {},
     "output_type": "execute_result"
    }
   ],
   "source": [
    "search_result = root_of_layerdb.search(\"ports\")\n",
    "\n",
    "print(\"Found…\\n\")\n",
    "print(*search_result)\n",
    "\n",
    "search_result[0].load()"
   ]
  },
  {
   "cell_type": "code",
   "execution_count": 21,
   "metadata": {},
   "outputs": [
    {
     "data": {
      "text/html": [
       "<table><thead><tr><th colspan=\"2\">Layer</th></tr></thead><tbody><tr><th>name</th><td>Ports in Germany</td></tr><tr><th>description</th><td>Natural Earth Ports point filtered with Germany polygon</td></tr><tr><th>id</th><td>b75db46e-2b9a-4a86-b33f-bc06a73cd711</td></tr><tr><th>provider id</th><td>ce5e84db-cbf9-48a2-9a32-d4b7cc56ea74</td></tr><tr><th>workflow</th><td align=\"left\"><pre>{\n",
       "    \"operator\": {\n",
       "        \"params\": {},\n",
       "        \"sources\": {\n",
       "            \"points\": {\n",
       "                \"type\": \"OgrSource\",\n",
       "                \"params\": {\n",
       "                    \"data\": \"ne_10m_ports\",\n",
       "                    \"attributeProjection\": null,\n",
       "                    \"attributeFilters\": null\n",
       "                }\n",
       "            },\n",
       "            \"polygons\": {\n",
       "                \"type\": \"OgrSource\",\n",
       "                \"params\": {\n",
       "                    \"data\": \"germany_outline\",\n",
       "                    \"attributeProjection\": null,\n",
       "                    \"attributeFilters\": null\n",
       "                }\n",
       "            }\n",
       "        },\n",
       "        \"type\": \"PointInPolygonFilter\"\n",
       "    },\n",
       "    \"type\": \"Vector\"\n",
       "}\n",
       "</pre></td></tr><tr><th>symbology</th><td align=\"left\">None</td></tr><tr><th>properties</th><td>[]\n",
       "</td></tr><tr><th>metadata</th><td>{}\n",
       "</td></tr></tbody></table>"
      ],
      "text/plain": [
       "Layer\n",
       "name: Ports in Germany\n",
       "description: Natural Earth Ports point filtered with Germany polygon\n",
       "id: b75db46e-2b9a-4a86-b33f-bc06a73cd711\n",
       "provider id: ce5e84db-cbf9-48a2-9a32-d4b7cc56ea74\n",
       "workflow: {'operator': {'params': {}, 'sources': {'points': {'type': 'OgrSource', 'params': {'data': 'ne_10m_ports', 'attributeProjection': None, 'attributeFilters': None}}, 'polygons': {'type': 'OgrSource', 'params': {'data': 'germany_outline', 'attributeProjection': None, 'attributeFilters': None}}}, 'type': 'PointInPolygonFilter'}, 'type': 'Vector'}\n",
       "symbology: None\n",
       "properties: []\n",
       "metadata: {}"
      ]
     },
     "execution_count": 21,
     "metadata": {},
     "output_type": "execute_result"
    }
   ],
   "source": [
    "root_of_layerdb.search(\"ports\")[0].load()"
   ]
  }
 ],
 "metadata": {
  "kernelspec": {
   "display_name": "env",
   "language": "python",
   "name": "python3"
  },
  "language_info": {
   "codemirror_mode": {
    "name": "ipython",
    "version": 3
   },
   "file_extension": ".py",
   "mimetype": "text/x-python",
   "name": "python",
   "nbconvert_exporter": "python",
   "pygments_lexer": "ipython3",
   "version": "3.12.3"
  },
  "orig_nbformat": 4,
  "vscode": {
   "interpreter": {
    "hash": "7a10ca932ff03f4c637e11f8207fe4e003ad6532d0070b911d37acf855f595fc"
   }
  }
 },
 "nbformat": 4,
 "nbformat_minor": 2
}
