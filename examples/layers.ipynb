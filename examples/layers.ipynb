{
 "cells": [
  {
   "cell_type": "markdown",
   "metadata": {},
   "source": [
    "# Loading and modifying layers and layer collections"
   ]
  },
  {
   "cell_type": "code",
   "execution_count": 1,
   "metadata": {},
   "outputs": [],
   "source": [
    "import geoengine as ge\n",
    "from datetime import datetime"
   ]
  },
  {
   "cell_type": "code",
   "execution_count": 2,
   "metadata": {},
   "outputs": [],
   "source": [
    "ge.initialize(\"http://localhost:3030/api\")"
   ]
  },
  {
   "cell_type": "markdown",
   "metadata": {},
   "source": [
    "## Retrieve layer collections"
   ]
  },
  {
   "cell_type": "code",
   "execution_count": 3,
   "metadata": {},
   "outputs": [
    {
     "data": {
      "text/html": [
       "<table><thead><tr><th colspan=\"2\">Layer Collection</th></tr></thead><tbody><tr><th>name</th><td>Layer Providers</td></tr><tr><th>description</th><td>All available Geo Engine layer providers</td></tr><tr><th>id</th><td>f2424474-ef24-4c18-ab84-68592e12ce48</td></tr><tr><th>provider id</th><td>1c3b8042-300b-485c-95b5-0147d9dc068d</td></tr><tr><th rowspan=\"3\">items</th><td><table><thead><tr><th colspan=\"2\">Layer Collection</th></tr></thead><tbody><tr><th>name</th><td>Datasets</td></tr><tr><th>description</th><td>Basic Layers for all Datasets</td></tr><tr><th>id</th><td>546073b6-d535-4205-b601-99675c9f6dd7</td></tr><tr><th>provider id</th><td>ac50ed0d-c9a0-41f8-9ce8-35fc9e38299b</td></tr></tbody></table></td></tr><tr><td><table><thead><tr><th colspan=\"2\">Layer Collection</th></tr></thead><tbody><tr><th>name</th><td>Layers</td></tr><tr><th>description</th><td>All available Geo Engine layers</td></tr><tr><th>id</th><td>05102bb3-a855-4a37-8a8a-30026a91fef1</td></tr><tr><th>provider id</th><td>ce5e84db-cbf9-48a2-9a32-d4b7cc56ea74</td></tr></tbody></table></td></tr><tr><td><table><thead><tr><th colspan=\"2\">Layer Collection</th></tr></thead><tbody><tr><th>name</th><td>MockName</td></tr><tr><th>description</th><td>MockType</td></tr><tr><th>id</th><td>b5f82c7c-9133-4ac1-b4ae-8faac3b9a6df</td></tr><tr><th>provider id</th><td>d0535f1d-27b6-4982-b2f8-b1070f1bf6ee</td></tr></tbody></table></td></tr></tbody></table>"
      ],
      "text/plain": [
       "Layer Collection\n",
       "name: Layer Providers\n",
       "description: All available Geo Engine layer providers\n",
       "id: f2424474-ef24-4c18-ab84-68592e12ce48\n",
       "provider id: 1c3b8042-300b-485c-95b5-0147d9dc068d\n",
       "items: Layer Collection\n",
       "name: Datasets\n",
       "description: Basic Layers for all Datasets\n",
       "id: 546073b6-d535-4205-b601-99675c9f6dd7\n",
       "provider id: ac50ed0d-c9a0-41f8-9ce8-35fc9e38299b\n",
       "\n",
       "       Layer Collection\n",
       "name: Layers\n",
       "description: All available Geo Engine layers\n",
       "id: 05102bb3-a855-4a37-8a8a-30026a91fef1\n",
       "provider id: ce5e84db-cbf9-48a2-9a32-d4b7cc56ea74\n",
       "\n",
       "       Layer Collection\n",
       "name: MockName\n",
       "description: MockType\n",
       "id: b5f82c7c-9133-4ac1-b4ae-8faac3b9a6df\n",
       "provider id: d0535f1d-27b6-4982-b2f8-b1070f1bf6ee\n"
      ]
     },
     "execution_count": 3,
     "metadata": {},
     "output_type": "execute_result"
    }
   ],
   "source": [
    "root_collection = ge.layer_collection()\n",
    "root_collection"
   ]
  },
  {
   "cell_type": "code",
   "execution_count": 4,
   "metadata": {},
   "outputs": [
    {
     "data": {
      "text/html": [
       "<table><thead><tr><th colspan=\"2\">Layer Collection</th></tr></thead><tbody><tr><th>name</th><td>LayerDB</td></tr><tr><th>description</th><td>Root collection for LayerDB</td></tr><tr><th>id</th><td>05102bb3-a855-4a37-8a8a-30026a91fef1</td></tr><tr><th>provider id</th><td>ce5e84db-cbf9-48a2-9a32-d4b7cc56ea74</td></tr><tr><th rowspan=\"3\">items</th><td><table><thead><tr><th colspan=\"2\">Layer Collection</th></tr></thead><tbody><tr><th>name</th><td>A test collection</td></tr><tr><th>description</th><td>Some layers for testing and an empty subcollection</td></tr><tr><th>id</th><td>272bf675-2e27-4412-824c-287c1e6841ac</td></tr><tr><th>provider id</th><td>ce5e84db-cbf9-48a2-9a32-d4b7cc56ea74</td></tr></tbody></table></td></tr><tr><td><table><thead><tr><th colspan=\"2\">Layer Collection</th></tr></thead><tbody><tr><th>name</th><td>An empty collection</td></tr><tr><th>description</th><td>There is nothing here</td></tr><tr><th>id</th><td>a29f77cc-51ce-466b-86ef-d0ab2170bc0a</td></tr><tr><th>provider id</th><td>ce5e84db-cbf9-48a2-9a32-d4b7cc56ea74</td></tr></tbody></table></td></tr><tr><td><table><thead><tr><th colspan=\"2\">Layer Collection</th></tr></thead><tbody><tr><th>name</th><td>Unsorted</td></tr><tr><th>description</th><td>Unsorted Layers</td></tr><tr><th>id</th><td>ffb2dd9e-f5ad-427c-b7f1-c9a0c7a0ae3f</td></tr><tr><th>provider id</th><td>ce5e84db-cbf9-48a2-9a32-d4b7cc56ea74</td></tr></tbody></table></td></tr></tbody></table>"
      ],
      "text/plain": [
       "Layer Collection\n",
       "name: LayerDB\n",
       "description: Root collection for LayerDB\n",
       "id: 05102bb3-a855-4a37-8a8a-30026a91fef1\n",
       "provider id: ce5e84db-cbf9-48a2-9a32-d4b7cc56ea74\n",
       "items: Layer Collection\n",
       "name: A test collection\n",
       "description: Some layers for testing and an empty subcollection\n",
       "id: 272bf675-2e27-4412-824c-287c1e6841ac\n",
       "provider id: ce5e84db-cbf9-48a2-9a32-d4b7cc56ea74\n",
       "\n",
       "       Layer Collection\n",
       "name: An empty collection\n",
       "description: There is nothing here\n",
       "id: a29f77cc-51ce-466b-86ef-d0ab2170bc0a\n",
       "provider id: ce5e84db-cbf9-48a2-9a32-d4b7cc56ea74\n",
       "\n",
       "       Layer Collection\n",
       "name: Unsorted\n",
       "description: Unsorted Layers\n",
       "id: ffb2dd9e-f5ad-427c-b7f1-c9a0c7a0ae3f\n",
       "provider id: ce5e84db-cbf9-48a2-9a32-d4b7cc56ea74\n"
      ]
     },
     "execution_count": 4,
     "metadata": {},
     "output_type": "execute_result"
    }
   ],
   "source": [
    "root_of_layerdb = root_collection.items[1].load()\n",
    "root_of_layerdb"
   ]
  },
  {
   "cell_type": "code",
   "execution_count": 5,
   "metadata": {},
   "outputs": [
    {
     "data": {
      "text/html": [
       "<table><thead><tr><th colspan=\"2\">Layer Collection</th></tr></thead><tbody><tr><th>name</th><td>A test collection</td></tr><tr><th>description</th><td>Some layers for testing and an empty subcollection</td></tr><tr><th>id</th><td>272bf675-2e27-4412-824c-287c1e6841ac</td></tr><tr><th>provider id</th><td>ce5e84db-cbf9-48a2-9a32-d4b7cc56ea74</td></tr><tr><th rowspan=\"2\">items</th><td><table><thead><tr><th colspan=\"2\">Layer Collection</th></tr></thead><tbody><tr><th>name</th><td>An empty collection</td></tr><tr><th>description</th><td>There is nothing here</td></tr><tr><th>id</th><td>a29f77cc-51ce-466b-86ef-d0ab2170bc0a</td></tr><tr><th>provider id</th><td>ce5e84db-cbf9-48a2-9a32-d4b7cc56ea74</td></tr></tbody></table></td></tr><tr><td><table><thead><tr><th colspan=\"2\">Layer</th></tr></thead><tbody><tr><th>name</th><td>Ports in Germany</td></tr><tr><th>description</th><td>Natural Earth Ports point filtered with Germany polygon</td></tr><tr><th>id</th><td>b75db46e-2b9a-4a86-b33f-bc06a73cd711</td></tr><tr><th>provider id</th><td>ce5e84db-cbf9-48a2-9a32-d4b7cc56ea74</td></tr></tbody></table></td></tr></tbody></table>"
      ],
      "text/plain": [
       "Layer Collection\n",
       "name: A test collection\n",
       "description: Some layers for testing and an empty subcollection\n",
       "id: 272bf675-2e27-4412-824c-287c1e6841ac\n",
       "provider id: ce5e84db-cbf9-48a2-9a32-d4b7cc56ea74\n",
       "items: Layer Collection\n",
       "name: An empty collection\n",
       "description: There is nothing here\n",
       "id: a29f77cc-51ce-466b-86ef-d0ab2170bc0a\n",
       "provider id: ce5e84db-cbf9-48a2-9a32-d4b7cc56ea74\n",
       "\n",
       "       Layer\n",
       "name: Ports in Germany\n",
       "description: Natural Earth Ports point filtered with Germany polygon\n",
       "id: b75db46e-2b9a-4a86-b33f-bc06a73cd711\n",
       "provider id: ce5e84db-cbf9-48a2-9a32-d4b7cc56ea74\n"
      ]
     },
     "execution_count": 5,
     "metadata": {},
     "output_type": "execute_result"
    }
   ],
   "source": [
    "test_collection = root_of_layerdb.items[0].load()\n",
    "test_collection"
   ]
  },
  {
   "cell_type": "code",
   "execution_count": 6,
   "metadata": {},
   "outputs": [
    {
     "data": {
      "text/html": [
       "<table><thead><tr><th colspan=\"2\">Layer</th></tr></thead><tbody><tr><th>name</th><td>Ports in Germany</td></tr><tr><th>description</th><td>Natural Earth Ports point filtered with Germany polygon</td></tr><tr><th>id</th><td>b75db46e-2b9a-4a86-b33f-bc06a73cd711</td></tr><tr><th>provider id</th><td>ce5e84db-cbf9-48a2-9a32-d4b7cc56ea74</td></tr><tr><th>workflow</th><td align=\"left\"><pre>{\n",
       "    \"type\": \"Vector\",\n",
       "    \"operator\": {\n",
       "        \"type\": \"PointInPolygonFilter\",\n",
       "        \"params\": {},\n",
       "        \"sources\": {\n",
       "            \"points\": {\n",
       "                \"type\": \"OgrSource\",\n",
       "                \"params\": {\n",
       "                    \"data\": {\n",
       "                        \"type\": \"internal\",\n",
       "                        \"datasetId\": \"a9623a5b-b6c5-404b-bc5a-313ff72e4e75\"\n",
       "                    },\n",
       "                    \"attributeProjection\": null,\n",
       "                    \"attributeFilters\": null\n",
       "                }\n",
       "            },\n",
       "            \"polygons\": {\n",
       "                \"type\": \"OgrSource\",\n",
       "                \"params\": {\n",
       "                    \"data\": {\n",
       "                        \"type\": \"internal\",\n",
       "                        \"datasetId\": \"b6191257-6d61-4c6b-90a4-ebfb1b23899d\"\n",
       "                    },\n",
       "                    \"attributeProjection\": null,\n",
       "                    \"attributeFilters\": null\n",
       "                }\n",
       "            }\n",
       "        }\n",
       "    }\n",
       "}\n",
       "</pre></td></tr><tr><th>symbology</th><td align=\"left\">null\n",
       "</td></tr><tr><th>properties</th><td>[]\n",
       "</td></tr><tr><th>metadata</th><td>{}\n",
       "</td></tr></tbody></table>"
      ],
      "text/plain": [
       "Layer\n",
       "name: Ports in Germany\n",
       "description: Natural Earth Ports point filtered with Germany polygon\n",
       "id: b75db46e-2b9a-4a86-b33f-bc06a73cd711\n",
       "provider id: ce5e84db-cbf9-48a2-9a32-d4b7cc56ea74\n",
       "workflow: {'type': 'Vector', 'operator': {'type': 'PointInPolygonFilter', 'params': {}, 'sources': {'points': {'type': 'OgrSource', 'params': {'data': {'type': 'internal', 'datasetId': 'a9623a5b-b6c5-404b-bc5a-313ff72e4e75'}, 'attributeProjection': None, 'attributeFilters': None}}, 'polygons': {'type': 'OgrSource', 'params': {'data': {'type': 'internal', 'datasetId': 'b6191257-6d61-4c6b-90a4-ebfb1b23899d'}, 'attributeProjection': None, 'attributeFilters': None}}}}}\n",
       "symbology: None\n",
       "properties: []\n",
       "metadata: {}"
      ]
     },
     "execution_count": 6,
     "metadata": {},
     "output_type": "execute_result"
    }
   ],
   "source": [
    "layer = test_collection.items[1].load()\n",
    "layer"
   ]
  },
  {
   "cell_type": "code",
   "execution_count": 7,
   "metadata": {},
   "outputs": [
    {
     "data": {
      "text/html": [
       "<div>\n",
       "<style scoped>\n",
       "    .dataframe tbody tr th:only-of-type {\n",
       "        vertical-align: middle;\n",
       "    }\n",
       "\n",
       "    .dataframe tbody tr th {\n",
       "        vertical-align: top;\n",
       "    }\n",
       "\n",
       "    .dataframe thead th {\n",
       "        text-align: right;\n",
       "    }\n",
       "</style>\n",
       "<table border=\"1\" class=\"dataframe\">\n",
       "  <thead>\n",
       "    <tr style=\"text-align: right;\">\n",
       "      <th></th>\n",
       "      <th>geometry</th>\n",
       "      <th>featurecla</th>\n",
       "      <th>name</th>\n",
       "      <th>natlscale</th>\n",
       "      <th>scalerank</th>\n",
       "      <th>website</th>\n",
       "      <th>start</th>\n",
       "      <th>end</th>\n",
       "    </tr>\n",
       "  </thead>\n",
       "  <tbody>\n",
       "    <tr>\n",
       "      <th>0</th>\n",
       "      <td>POINT (8.70724 53.86472)</td>\n",
       "      <td>Port</td>\n",
       "      <td>Cuxhaven</td>\n",
       "      <td>5.0</td>\n",
       "      <td>8</td>\n",
       "      <td>www.cuxport.de</td>\n",
       "      <td>NaT</td>\n",
       "      <td>NaT</td>\n",
       "    </tr>\n",
       "    <tr>\n",
       "      <th>1</th>\n",
       "      <td>POINT (9.83581 54.47361)</td>\n",
       "      <td>Port</td>\n",
       "      <td>Eckernforde</td>\n",
       "      <td>5.0</td>\n",
       "      <td>8</td>\n",
       "      <td>www.stadtwerke-eckernfoerde.de</td>\n",
       "      <td>NaT</td>\n",
       "      <td>NaT</td>\n",
       "    </tr>\n",
       "    <tr>\n",
       "      <th>2</th>\n",
       "      <td>POINT (8.48952 53.48750)</td>\n",
       "      <td>Port</td>\n",
       "      <td>Nordenham</td>\n",
       "      <td>5.0</td>\n",
       "      <td>8</td>\n",
       "      <td>None</td>\n",
       "      <td>NaT</td>\n",
       "      <td>NaT</td>\n",
       "    </tr>\n",
       "    <tr>\n",
       "      <th>3</th>\n",
       "      <td>POINT (7.36896 53.09639)</td>\n",
       "      <td>Port</td>\n",
       "      <td>Papenburg</td>\n",
       "      <td>5.0</td>\n",
       "      <td>8</td>\n",
       "      <td>None</td>\n",
       "      <td>NaT</td>\n",
       "      <td>NaT</td>\n",
       "    </tr>\n",
       "    <tr>\n",
       "      <th>4</th>\n",
       "      <td>POINT (11.43916 53.90639)</td>\n",
       "      <td>Port</td>\n",
       "      <td>Wismar</td>\n",
       "      <td>5.0</td>\n",
       "      <td>8</td>\n",
       "      <td>www.hafen-wismar.de</td>\n",
       "      <td>NaT</td>\n",
       "      <td>NaT</td>\n",
       "    </tr>\n",
       "    <tr>\n",
       "      <th>5</th>\n",
       "      <td>POINT (10.86826 53.95222)</td>\n",
       "      <td>Port</td>\n",
       "      <td>Travemunde</td>\n",
       "      <td>10.0</td>\n",
       "      <td>7</td>\n",
       "      <td>None</td>\n",
       "      <td>NaT</td>\n",
       "      <td>NaT</td>\n",
       "    </tr>\n",
       "    <tr>\n",
       "      <th>6</th>\n",
       "      <td>POINT (7.19287 53.34611)</td>\n",
       "      <td>Port</td>\n",
       "      <td>Emden</td>\n",
       "      <td>20.0</td>\n",
       "      <td>6</td>\n",
       "      <td>www.seaport-emden.de</td>\n",
       "      <td>NaT</td>\n",
       "      <td>NaT</td>\n",
       "    </tr>\n",
       "    <tr>\n",
       "      <th>7</th>\n",
       "      <td>POINT (9.43687 54.80333)</td>\n",
       "      <td>Port</td>\n",
       "      <td>Flensburg</td>\n",
       "      <td>20.0</td>\n",
       "      <td>6</td>\n",
       "      <td>www.flensburg-tourismus.de</td>\n",
       "      <td>NaT</td>\n",
       "      <td>NaT</td>\n",
       "    </tr>\n",
       "    <tr>\n",
       "      <th>8</th>\n",
       "      <td>POINT (8.12214 53.53000)</td>\n",
       "      <td>Port</td>\n",
       "      <td>Wilhelmshaven</td>\n",
       "      <td>20.0</td>\n",
       "      <td>6</td>\n",
       "      <td>www.wilhelmshaven-port.de</td>\n",
       "      <td>NaT</td>\n",
       "      <td>NaT</td>\n",
       "    </tr>\n",
       "    <tr>\n",
       "      <th>9</th>\n",
       "      <td>POINT (8.75106 53.09750)</td>\n",
       "      <td>Port</td>\n",
       "      <td>Bremen</td>\n",
       "      <td>30.0</td>\n",
       "      <td>5</td>\n",
       "      <td>www.bremen-ports.de</td>\n",
       "      <td>NaT</td>\n",
       "      <td>NaT</td>\n",
       "    </tr>\n",
       "    <tr>\n",
       "      <th>10</th>\n",
       "      <td>POINT (9.95848 53.52472)</td>\n",
       "      <td>Port</td>\n",
       "      <td>Hamburg</td>\n",
       "      <td>30.0</td>\n",
       "      <td>5</td>\n",
       "      <td>www.hafen-hamburg.de</td>\n",
       "      <td>NaT</td>\n",
       "      <td>NaT</td>\n",
       "    </tr>\n",
       "    <tr>\n",
       "      <th>11</th>\n",
       "      <td>POINT (8.55300 53.56361)</td>\n",
       "      <td>Port</td>\n",
       "      <td>Bremerhaven</td>\n",
       "      <td>75.0</td>\n",
       "      <td>3</td>\n",
       "      <td>www.bremen-ports.de</td>\n",
       "      <td>NaT</td>\n",
       "      <td>NaT</td>\n",
       "    </tr>\n",
       "    <tr>\n",
       "      <th>12</th>\n",
       "      <td>POINT (12.11790 54.15250)</td>\n",
       "      <td>Port</td>\n",
       "      <td>Rostock</td>\n",
       "      <td>75.0</td>\n",
       "      <td>3</td>\n",
       "      <td>www.rostock-port.de</td>\n",
       "      <td>NaT</td>\n",
       "      <td>NaT</td>\n",
       "    </tr>\n",
       "  </tbody>\n",
       "</table>\n",
       "</div>"
      ],
      "text/plain": [
       "                     geometry featurecla           name  natlscale  scalerank  \\\n",
       "0    POINT (8.70724 53.86472)       Port       Cuxhaven        5.0          8   \n",
       "1    POINT (9.83581 54.47361)       Port    Eckernforde        5.0          8   \n",
       "2    POINT (8.48952 53.48750)       Port      Nordenham        5.0          8   \n",
       "3    POINT (7.36896 53.09639)       Port      Papenburg        5.0          8   \n",
       "4   POINT (11.43916 53.90639)       Port         Wismar        5.0          8   \n",
       "5   POINT (10.86826 53.95222)       Port     Travemunde       10.0          7   \n",
       "6    POINT (7.19287 53.34611)       Port          Emden       20.0          6   \n",
       "7    POINT (9.43687 54.80333)       Port      Flensburg       20.0          6   \n",
       "8    POINT (8.12214 53.53000)       Port  Wilhelmshaven       20.0          6   \n",
       "9    POINT (8.75106 53.09750)       Port         Bremen       30.0          5   \n",
       "10   POINT (9.95848 53.52472)       Port        Hamburg       30.0          5   \n",
       "11   POINT (8.55300 53.56361)       Port    Bremerhaven       75.0          3   \n",
       "12  POINT (12.11790 54.15250)       Port        Rostock       75.0          3   \n",
       "\n",
       "                           website start end  \n",
       "0                   www.cuxport.de   NaT NaT  \n",
       "1   www.stadtwerke-eckernfoerde.de   NaT NaT  \n",
       "2                             None   NaT NaT  \n",
       "3                             None   NaT NaT  \n",
       "4              www.hafen-wismar.de   NaT NaT  \n",
       "5                             None   NaT NaT  \n",
       "6             www.seaport-emden.de   NaT NaT  \n",
       "7       www.flensburg-tourismus.de   NaT NaT  \n",
       "8        www.wilhelmshaven-port.de   NaT NaT  \n",
       "9              www.bremen-ports.de   NaT NaT  \n",
       "10            www.hafen-hamburg.de   NaT NaT  \n",
       "11             www.bremen-ports.de   NaT NaT  \n",
       "12             www.rostock-port.de   NaT NaT  "
      ]
     },
     "execution_count": 7,
     "metadata": {},
     "output_type": "execute_result"
    }
   ],
   "source": [
    "workflow = layer.as_workflow()\n",
    "\n",
    "time = datetime.strptime('2014-04-01T12:00:00.000Z', \"%Y-%m-%dT%H:%M:%S.%f%z\")\n",
    "\n",
    "data = workflow.get_dataframe(\n",
    "    ge.QueryRectangle(\n",
    "        ge.BoundingBox2D(-111.533203125, -4.482421875, 114.345703125, 73.388671875),\n",
    "        ge.TimeInterval(time, time),\n",
    "        ge.SpatialResolution(0.1, 0.1)\n",
    "        )\n",
    "    )\n",
    "\n",
    "data"
   ]
  },
  {
   "cell_type": "markdown",
   "metadata": {},
   "source": [
    "## Add collections and layers"
   ]
  },
  {
   "cell_type": "code",
   "execution_count": 8,
   "metadata": {},
   "outputs": [
    {
     "data": {
      "text/html": [
       "<table><thead><tr><th colspan=\"2\">Layer Collection</th></tr></thead><tbody><tr><th>name</th><td>LayerDB</td></tr><tr><th>description</th><td>Root collection for LayerDB</td></tr><tr><th>id</th><td>05102bb3-a855-4a37-8a8a-30026a91fef1</td></tr><tr><th>provider id</th><td>ce5e84db-cbf9-48a2-9a32-d4b7cc56ea74</td></tr><tr><th rowspan=\"4\">items</th><td><table><thead><tr><th colspan=\"2\">Layer Collection</th></tr></thead><tbody><tr><th>name</th><td>A test collection</td></tr><tr><th>description</th><td>Some layers for testing and an empty subcollection</td></tr><tr><th>id</th><td>272bf675-2e27-4412-824c-287c1e6841ac</td></tr><tr><th>provider id</th><td>ce5e84db-cbf9-48a2-9a32-d4b7cc56ea74</td></tr></tbody></table></td></tr><tr><td><table><thead><tr><th colspan=\"2\">Layer Collection</th></tr></thead><tbody><tr><th>name</th><td>An empty collection</td></tr><tr><th>description</th><td>There is nothing here</td></tr><tr><th>id</th><td>a29f77cc-51ce-466b-86ef-d0ab2170bc0a</td></tr><tr><th>provider id</th><td>ce5e84db-cbf9-48a2-9a32-d4b7cc56ea74</td></tr></tbody></table></td></tr><tr><td><table><thead><tr><th colspan=\"2\">Layer Collection</th></tr></thead><tbody><tr><th>name</th><td>Unsorted</td></tr><tr><th>description</th><td>Unsorted Layers</td></tr><tr><th>id</th><td>ffb2dd9e-f5ad-427c-b7f1-c9a0c7a0ae3f</td></tr><tr><th>provider id</th><td>ce5e84db-cbf9-48a2-9a32-d4b7cc56ea74</td></tr></tbody></table></td></tr><tr><td><table><thead><tr><th colspan=\"2\">Layer Collection</th></tr></thead><tbody><tr><th>name</th><td>my test collection</td></tr><tr><th>description</th><td>test description</td></tr><tr><th>id</th><td>c9c12672-880a-450f-8d6f-d2feafb77de2</td></tr><tr><th>provider id</th><td>ce5e84db-cbf9-48a2-9a32-d4b7cc56ea74</td></tr></tbody></table></td></tr></tbody></table>"
      ],
      "text/plain": [
       "Layer Collection\n",
       "name: LayerDB\n",
       "description: Root collection for LayerDB\n",
       "id: 05102bb3-a855-4a37-8a8a-30026a91fef1\n",
       "provider id: ce5e84db-cbf9-48a2-9a32-d4b7cc56ea74\n",
       "items: Layer Collection\n",
       "name: A test collection\n",
       "description: Some layers for testing and an empty subcollection\n",
       "id: 272bf675-2e27-4412-824c-287c1e6841ac\n",
       "provider id: ce5e84db-cbf9-48a2-9a32-d4b7cc56ea74\n",
       "\n",
       "       Layer Collection\n",
       "name: An empty collection\n",
       "description: There is nothing here\n",
       "id: a29f77cc-51ce-466b-86ef-d0ab2170bc0a\n",
       "provider id: ce5e84db-cbf9-48a2-9a32-d4b7cc56ea74\n",
       "\n",
       "       Layer Collection\n",
       "name: Unsorted\n",
       "description: Unsorted Layers\n",
       "id: ffb2dd9e-f5ad-427c-b7f1-c9a0c7a0ae3f\n",
       "provider id: ce5e84db-cbf9-48a2-9a32-d4b7cc56ea74\n",
       "\n",
       "       Layer Collection\n",
       "name: my test collection\n",
       "description: test description\n",
       "id: c9c12672-880a-450f-8d6f-d2feafb77de2\n",
       "provider id: ce5e84db-cbf9-48a2-9a32-d4b7cc56ea74\n"
      ]
     },
     "execution_count": 8,
     "metadata": {},
     "output_type": "execute_result"
    }
   ],
   "source": [
    "root_of_layerdb.add_collection(\"my test collection\", \"test description\")\n",
    "root_of_layerdb = root_of_layerdb.reload()\n",
    "root_of_layerdb"
   ]
  },
  {
   "cell_type": "code",
   "execution_count": 9,
   "metadata": {},
   "outputs": [
    {
     "data": {
      "text/html": [
       "<table><thead><tr><th colspan=\"2\">Layer Collection</th></tr></thead><tbody><tr><th>name</th><td>my test collection</td></tr><tr><th>description</th><td>test description</td></tr><tr><th>id</th><td>c9c12672-880a-450f-8d6f-d2feafb77de2</td></tr><tr><th>provider id</th><td>ce5e84db-cbf9-48a2-9a32-d4b7cc56ea74</td></tr></tbody></table>"
      ],
      "text/plain": [
       "Layer Collection\n",
       "name: my test collection\n",
       "description: test description\n",
       "id: c9c12672-880a-450f-8d6f-d2feafb77de2\n",
       "provider id: ce5e84db-cbf9-48a2-9a32-d4b7cc56ea74"
      ]
     },
     "execution_count": 9,
     "metadata": {},
     "output_type": "execute_result"
    }
   ],
   "source": [
    "test_collection = next(filter(lambda item: item.name == 'my test collection', root_of_layerdb.items)).load()\n",
    "test_collection"
   ]
  },
  {
   "cell_type": "code",
   "execution_count": 10,
   "metadata": {},
   "outputs": [
    {
     "data": {
      "text/html": [
       "<table><thead><tr><th colspan=\"2\">Layer Collection</th></tr></thead><tbody><tr><th>name</th><td>my test collection</td></tr><tr><th>description</th><td>test description</td></tr><tr><th>id</th><td>c9c12672-880a-450f-8d6f-d2feafb77de2</td></tr><tr><th>provider id</th><td>ce5e84db-cbf9-48a2-9a32-d4b7cc56ea74</td></tr><tr><th rowspan=\"2\">items</th><td><table><thead><tr><th colspan=\"2\">Layer Collection</th></tr></thead><tbody><tr><th>name</th><td>sub collection</td></tr><tr><th>description</th><td>another description</td></tr><tr><th>id</th><td>22be7fac-be04-4e77-8e44-37a5591e3d45</td></tr><tr><th>provider id</th><td>ce5e84db-cbf9-48a2-9a32-d4b7cc56ea74</td></tr></tbody></table></td></tr><tr><td><table><thead><tr><th colspan=\"2\">Layer</th></tr></thead><tbody><tr><th>name</th><td>ports clone</td></tr><tr><th>description</th><td>test description</td></tr><tr><th>id</th><td>fcc0d133-6d5e-4244-86cf-0be29665d61a</td></tr><tr><th>provider id</th><td>ce5e84db-cbf9-48a2-9a32-d4b7cc56ea74</td></tr></tbody></table></td></tr></tbody></table>"
      ],
      "text/plain": [
       "Layer Collection\n",
       "name: my test collection\n",
       "description: test description\n",
       "id: c9c12672-880a-450f-8d6f-d2feafb77de2\n",
       "provider id: ce5e84db-cbf9-48a2-9a32-d4b7cc56ea74\n",
       "items: Layer Collection\n",
       "name: sub collection\n",
       "description: another description\n",
       "id: 22be7fac-be04-4e77-8e44-37a5591e3d45\n",
       "provider id: ce5e84db-cbf9-48a2-9a32-d4b7cc56ea74\n",
       "\n",
       "       Layer\n",
       "name: ports clone\n",
       "description: test description\n",
       "id: fcc0d133-6d5e-4244-86cf-0be29665d61a\n",
       "provider id: ce5e84db-cbf9-48a2-9a32-d4b7cc56ea74\n"
      ]
     },
     "execution_count": 10,
     "metadata": {},
     "output_type": "execute_result"
    }
   ],
   "source": [
    "test_collection.add_collection(\"sub collection\", \"another description\")\n",
    "\n",
    "test_collection.add_layer(\n",
    "    name=\"ports clone\",\n",
    "    description=\"test description\",\n",
    "    workflow={\n",
    "        \"type\": \"Vector\",\n",
    "        \"operator\": {\n",
    "            \"type\": \"PointInPolygonFilter\",\n",
    "            \"params\": {},\n",
    "            \"sources\": {\n",
    "                \"points\": {\n",
    "                    \"type\": \"OgrSource\",\n",
    "                    \"params\": {\n",
    "                        \"data\": {\n",
    "                            \"type\": \"internal\",\n",
    "                            \"datasetId\": \"a9623a5b-b6c5-404b-bc5a-313ff72e4e75\"\n",
    "                        },\n",
    "                        \"attributeProjection\": None,\n",
    "                        \"attributeFilters\": None\n",
    "                    }\n",
    "                },\n",
    "                \"polygons\": {\n",
    "                    \"type\": \"OgrSource\",\n",
    "                    \"params\": {\n",
    "                        \"data\": {\n",
    "                            \"type\": \"internal\",\n",
    "                            \"datasetId\": \"b6191257-6d61-4c6b-90a4-ebfb1b23899d\"\n",
    "                        },\n",
    "                        \"attributeProjection\": None,\n",
    "                        \"attributeFilters\": None\n",
    "                    }\n",
    "                }\n",
    "            }\n",
    "        }\n",
    "    },\n",
    "    symbology=None,\n",
    ")\n",
    "\n",
    "test_collection = test_collection.reload()\n",
    "test_collection"
   ]
  },
  {
   "cell_type": "code",
   "execution_count": 11,
   "metadata": {},
   "outputs": [
    {
     "data": {
      "text/html": [
       "<table><thead><tr><th colspan=\"2\">Layer Collection</th></tr></thead><tbody><tr><th>name</th><td>sub collection</td></tr><tr><th>description</th><td>another description</td></tr><tr><th>id</th><td>22be7fac-be04-4e77-8e44-37a5591e3d45</td></tr><tr><th>provider id</th><td>ce5e84db-cbf9-48a2-9a32-d4b7cc56ea74</td></tr><tr><th rowspan=\"2\">items</th><td><table><thead><tr><th colspan=\"2\">Layer Collection</th></tr></thead><tbody><tr><th>name</th><td>sub sub collection</td></tr><tr><th>description</th><td>yet another description</td></tr><tr><th>id</th><td>a1c8654d-423c-4f59-8ec2-f6221696e9c2</td></tr><tr><th>provider id</th><td>ce5e84db-cbf9-48a2-9a32-d4b7cc56ea74</td></tr></tbody></table></td></tr><tr><td><table><thead><tr><th colspan=\"2\">Layer</th></tr></thead><tbody><tr><th>name</th><td>ports clone</td></tr><tr><th>description</th><td>test description</td></tr><tr><th>id</th><td>fcc0d133-6d5e-4244-86cf-0be29665d61a</td></tr><tr><th>provider id</th><td>ce5e84db-cbf9-48a2-9a32-d4b7cc56ea74</td></tr></tbody></table></td></tr></tbody></table>"
      ],
      "text/plain": [
       "Layer Collection\n",
       "name: sub collection\n",
       "description: another description\n",
       "id: 22be7fac-be04-4e77-8e44-37a5591e3d45\n",
       "provider id: ce5e84db-cbf9-48a2-9a32-d4b7cc56ea74\n",
       "items: Layer Collection\n",
       "name: sub sub collection\n",
       "description: yet another description\n",
       "id: a1c8654d-423c-4f59-8ec2-f6221696e9c2\n",
       "provider id: ce5e84db-cbf9-48a2-9a32-d4b7cc56ea74\n",
       "\n",
       "       Layer\n",
       "name: ports clone\n",
       "description: test description\n",
       "id: fcc0d133-6d5e-4244-86cf-0be29665d61a\n",
       "provider id: ce5e84db-cbf9-48a2-9a32-d4b7cc56ea74\n"
      ]
     },
     "execution_count": 11,
     "metadata": {},
     "output_type": "execute_result"
    }
   ],
   "source": [
    "sub_collection = test_collection.items[0].load()\n",
    "sub_collection.add_existing_layer(test_collection.items[1])\n",
    "\n",
    "sub_collection.add_collection(\"sub sub collection\", \"yet another description\")\n",
    "\n",
    "sub_collection = sub_collection.reload()\n",
    "sub_collection"
   ]
  },
  {
   "cell_type": "code",
   "execution_count": 12,
   "metadata": {},
   "outputs": [
    {
     "data": {
      "text/html": [
       "<table><thead><tr><th colspan=\"2\">Layer Collection</th></tr></thead><tbody><tr><th>name</th><td>my test collection</td></tr><tr><th>description</th><td>test description</td></tr><tr><th>id</th><td>c9c12672-880a-450f-8d6f-d2feafb77de2</td></tr><tr><th>provider id</th><td>ce5e84db-cbf9-48a2-9a32-d4b7cc56ea74</td></tr><tr><th rowspan=\"3\">items</th><td><table><thead><tr><th colspan=\"2\">Layer Collection</th></tr></thead><tbody><tr><th>name</th><td>sub collection</td></tr><tr><th>description</th><td>another description</td></tr><tr><th>id</th><td>22be7fac-be04-4e77-8e44-37a5591e3d45</td></tr><tr><th>provider id</th><td>ce5e84db-cbf9-48a2-9a32-d4b7cc56ea74</td></tr></tbody></table></td></tr><tr><td><table><thead><tr><th colspan=\"2\">Layer Collection</th></tr></thead><tbody><tr><th>name</th><td>sub sub collection</td></tr><tr><th>description</th><td>yet another description</td></tr><tr><th>id</th><td>a1c8654d-423c-4f59-8ec2-f6221696e9c2</td></tr><tr><th>provider id</th><td>ce5e84db-cbf9-48a2-9a32-d4b7cc56ea74</td></tr></tbody></table></td></tr><tr><td><table><thead><tr><th colspan=\"2\">Layer</th></tr></thead><tbody><tr><th>name</th><td>ports clone</td></tr><tr><th>description</th><td>test description</td></tr><tr><th>id</th><td>fcc0d133-6d5e-4244-86cf-0be29665d61a</td></tr><tr><th>provider id</th><td>ce5e84db-cbf9-48a2-9a32-d4b7cc56ea74</td></tr></tbody></table></td></tr></tbody></table>"
      ],
      "text/plain": [
       "Layer Collection\n",
       "name: my test collection\n",
       "description: test description\n",
       "id: c9c12672-880a-450f-8d6f-d2feafb77de2\n",
       "provider id: ce5e84db-cbf9-48a2-9a32-d4b7cc56ea74\n",
       "items: Layer Collection\n",
       "name: sub collection\n",
       "description: another description\n",
       "id: 22be7fac-be04-4e77-8e44-37a5591e3d45\n",
       "provider id: ce5e84db-cbf9-48a2-9a32-d4b7cc56ea74\n",
       "\n",
       "       Layer Collection\n",
       "name: sub sub collection\n",
       "description: yet another description\n",
       "id: a1c8654d-423c-4f59-8ec2-f6221696e9c2\n",
       "provider id: ce5e84db-cbf9-48a2-9a32-d4b7cc56ea74\n",
       "\n",
       "       Layer\n",
       "name: ports clone\n",
       "description: test description\n",
       "id: fcc0d133-6d5e-4244-86cf-0be29665d61a\n",
       "provider id: ce5e84db-cbf9-48a2-9a32-d4b7cc56ea74\n"
      ]
     },
     "execution_count": 12,
     "metadata": {},
     "output_type": "execute_result"
    }
   ],
   "source": [
    "test_collection.add_existing_collection(sub_collection.items[0])\n",
    "\n",
    "test_collection = test_collection.reload()\n",
    "test_collection"
   ]
  },
  {
   "cell_type": "markdown",
   "metadata": {},
   "source": [
    "## Delete previously added collections and layers"
   ]
  },
  {
   "cell_type": "code",
   "execution_count": 13,
   "metadata": {},
   "outputs": [
    {
     "data": {
      "text/html": [
       "<table><thead><tr><th colspan=\"2\">Layer Collection</th></tr></thead><tbody><tr><th>name</th><td>my test collection</td></tr><tr><th>description</th><td>test description</td></tr><tr><th>id</th><td>c9c12672-880a-450f-8d6f-d2feafb77de2</td></tr><tr><th>provider id</th><td>ce5e84db-cbf9-48a2-9a32-d4b7cc56ea74</td></tr><tr><th rowspan=\"3\">items</th><td><table><thead><tr><th colspan=\"2\">Layer Collection</th></tr></thead><tbody><tr><th>name</th><td>sub collection</td></tr><tr><th>description</th><td>another description</td></tr><tr><th>id</th><td>22be7fac-be04-4e77-8e44-37a5591e3d45</td></tr><tr><th>provider id</th><td>ce5e84db-cbf9-48a2-9a32-d4b7cc56ea74</td></tr></tbody></table></td></tr><tr><td><table><thead><tr><th colspan=\"2\">Layer Collection</th></tr></thead><tbody><tr><th>name</th><td>sub sub collection</td></tr><tr><th>description</th><td>yet another description</td></tr><tr><th>id</th><td>a1c8654d-423c-4f59-8ec2-f6221696e9c2</td></tr><tr><th>provider id</th><td>ce5e84db-cbf9-48a2-9a32-d4b7cc56ea74</td></tr></tbody></table></td></tr><tr><td><table><thead><tr><th colspan=\"2\">Layer</th></tr></thead><tbody><tr><th>name</th><td>ports clone</td></tr><tr><th>description</th><td>test description</td></tr><tr><th>id</th><td>fcc0d133-6d5e-4244-86cf-0be29665d61a</td></tr><tr><th>provider id</th><td>ce5e84db-cbf9-48a2-9a32-d4b7cc56ea74</td></tr></tbody></table></td></tr></tbody></table>"
      ],
      "text/plain": [
       "Layer Collection\n",
       "name: my test collection\n",
       "description: test description\n",
       "id: c9c12672-880a-450f-8d6f-d2feafb77de2\n",
       "provider id: ce5e84db-cbf9-48a2-9a32-d4b7cc56ea74\n",
       "items: Layer Collection\n",
       "name: sub collection\n",
       "description: another description\n",
       "id: 22be7fac-be04-4e77-8e44-37a5591e3d45\n",
       "provider id: ce5e84db-cbf9-48a2-9a32-d4b7cc56ea74\n",
       "\n",
       "       Layer Collection\n",
       "name: sub sub collection\n",
       "description: yet another description\n",
       "id: a1c8654d-423c-4f59-8ec2-f6221696e9c2\n",
       "provider id: ce5e84db-cbf9-48a2-9a32-d4b7cc56ea74\n",
       "\n",
       "       Layer\n",
       "name: ports clone\n",
       "description: test description\n",
       "id: fcc0d133-6d5e-4244-86cf-0be29665d61a\n",
       "provider id: ce5e84db-cbf9-48a2-9a32-d4b7cc56ea74\n"
      ]
     },
     "execution_count": 13,
     "metadata": {},
     "output_type": "execute_result"
    }
   ],
   "source": [
    "test_collection"
   ]
  },
  {
   "cell_type": "code",
   "execution_count": 14,
   "metadata": {},
   "outputs": [
    {
     "data": {
      "text/html": [
       "<table><thead><tr><th colspan=\"2\">Layer Collection</th></tr></thead><tbody><tr><th>name</th><td>my test collection</td></tr><tr><th>description</th><td>test description</td></tr><tr><th>id</th><td>c9c12672-880a-450f-8d6f-d2feafb77de2</td></tr><tr><th>provider id</th><td>ce5e84db-cbf9-48a2-9a32-d4b7cc56ea74</td></tr><tr><th rowspan=\"2\">items</th><td><table><thead><tr><th colspan=\"2\">Layer Collection</th></tr></thead><tbody><tr><th>name</th><td>sub sub collection</td></tr><tr><th>description</th><td>yet another description</td></tr><tr><th>id</th><td>a1c8654d-423c-4f59-8ec2-f6221696e9c2</td></tr><tr><th>provider id</th><td>ce5e84db-cbf9-48a2-9a32-d4b7cc56ea74</td></tr></tbody></table></td></tr><tr><td><table><thead><tr><th colspan=\"2\">Layer</th></tr></thead><tbody><tr><th>name</th><td>ports clone</td></tr><tr><th>description</th><td>test description</td></tr><tr><th>id</th><td>fcc0d133-6d5e-4244-86cf-0be29665d61a</td></tr><tr><th>provider id</th><td>ce5e84db-cbf9-48a2-9a32-d4b7cc56ea74</td></tr></tbody></table></td></tr></tbody></table>"
      ],
      "text/plain": [
       "Layer Collection\n",
       "name: my test collection\n",
       "description: test description\n",
       "id: c9c12672-880a-450f-8d6f-d2feafb77de2\n",
       "provider id: ce5e84db-cbf9-48a2-9a32-d4b7cc56ea74\n",
       "items: Layer Collection\n",
       "name: sub sub collection\n",
       "description: yet another description\n",
       "id: a1c8654d-423c-4f59-8ec2-f6221696e9c2\n",
       "provider id: ce5e84db-cbf9-48a2-9a32-d4b7cc56ea74\n",
       "\n",
       "       Layer\n",
       "name: ports clone\n",
       "description: test description\n",
       "id: fcc0d133-6d5e-4244-86cf-0be29665d61a\n",
       "provider id: ce5e84db-cbf9-48a2-9a32-d4b7cc56ea74\n"
      ]
     },
     "execution_count": 14,
     "metadata": {},
     "output_type": "execute_result"
    }
   ],
   "source": [
    "test_collection.remove_item(0)\n",
    "test_collection"
   ]
  },
  {
   "cell_type": "code",
   "execution_count": 15,
   "metadata": {},
   "outputs": [
    {
     "data": {
      "text/html": [
       "<table><thead><tr><th colspan=\"2\">Layer Collection</th></tr></thead><tbody><tr><th>name</th><td>my test collection</td></tr><tr><th>description</th><td>test description</td></tr><tr><th>id</th><td>c9c12672-880a-450f-8d6f-d2feafb77de2</td></tr><tr><th>provider id</th><td>ce5e84db-cbf9-48a2-9a32-d4b7cc56ea74</td></tr><tr><th rowspan=\"1\">items</th><td><table><thead><tr><th colspan=\"2\">Layer</th></tr></thead><tbody><tr><th>name</th><td>ports clone</td></tr><tr><th>description</th><td>test description</td></tr><tr><th>id</th><td>fcc0d133-6d5e-4244-86cf-0be29665d61a</td></tr><tr><th>provider id</th><td>ce5e84db-cbf9-48a2-9a32-d4b7cc56ea74</td></tr></tbody></table></td></tr></tbody></table>"
      ],
      "text/plain": [
       "Layer Collection\n",
       "name: my test collection\n",
       "description: test description\n",
       "id: c9c12672-880a-450f-8d6f-d2feafb77de2\n",
       "provider id: ce5e84db-cbf9-48a2-9a32-d4b7cc56ea74\n",
       "items: Layer\n",
       "name: ports clone\n",
       "description: test description\n",
       "id: fcc0d133-6d5e-4244-86cf-0be29665d61a\n",
       "provider id: ce5e84db-cbf9-48a2-9a32-d4b7cc56ea74\n"
      ]
     },
     "execution_count": 15,
     "metadata": {},
     "output_type": "execute_result"
    }
   ],
   "source": [
    "test_collection.remove_item(0)\n",
    "test_collection"
   ]
  },
  {
   "cell_type": "code",
   "execution_count": 16,
   "metadata": {},
   "outputs": [
    {
     "data": {
      "text/html": [
       "<table><thead><tr><th colspan=\"2\">Layer Collection</th></tr></thead><tbody><tr><th>name</th><td>my test collection</td></tr><tr><th>description</th><td>test description</td></tr><tr><th>id</th><td>c9c12672-880a-450f-8d6f-d2feafb77de2</td></tr><tr><th>provider id</th><td>ce5e84db-cbf9-48a2-9a32-d4b7cc56ea74</td></tr></tbody></table>"
      ],
      "text/plain": [
       "Layer Collection\n",
       "name: my test collection\n",
       "description: test description\n",
       "id: c9c12672-880a-450f-8d6f-d2feafb77de2\n",
       "provider id: ce5e84db-cbf9-48a2-9a32-d4b7cc56ea74"
      ]
     },
     "execution_count": 16,
     "metadata": {},
     "output_type": "execute_result"
    }
   ],
   "source": [
    "test_collection.remove_item(0)\n",
    "test_collection"
   ]
  },
  {
   "cell_type": "code",
   "execution_count": 17,
   "metadata": {},
   "outputs": [
    {
     "data": {
      "text/html": [
       "<table><thead><tr><th colspan=\"2\">Layer Collection</th></tr></thead><tbody><tr><th>name</th><td>LayerDB</td></tr><tr><th>description</th><td>Root collection for LayerDB</td></tr><tr><th>id</th><td>05102bb3-a855-4a37-8a8a-30026a91fef1</td></tr><tr><th>provider id</th><td>ce5e84db-cbf9-48a2-9a32-d4b7cc56ea74</td></tr><tr><th rowspan=\"4\">items</th><td><table><thead><tr><th colspan=\"2\">Layer Collection</th></tr></thead><tbody><tr><th>name</th><td>A test collection</td></tr><tr><th>description</th><td>Some layers for testing and an empty subcollection</td></tr><tr><th>id</th><td>272bf675-2e27-4412-824c-287c1e6841ac</td></tr><tr><th>provider id</th><td>ce5e84db-cbf9-48a2-9a32-d4b7cc56ea74</td></tr></tbody></table></td></tr><tr><td><table><thead><tr><th colspan=\"2\">Layer Collection</th></tr></thead><tbody><tr><th>name</th><td>An empty collection</td></tr><tr><th>description</th><td>There is nothing here</td></tr><tr><th>id</th><td>a29f77cc-51ce-466b-86ef-d0ab2170bc0a</td></tr><tr><th>provider id</th><td>ce5e84db-cbf9-48a2-9a32-d4b7cc56ea74</td></tr></tbody></table></td></tr><tr><td><table><thead><tr><th colspan=\"2\">Layer Collection</th></tr></thead><tbody><tr><th>name</th><td>Unsorted</td></tr><tr><th>description</th><td>Unsorted Layers</td></tr><tr><th>id</th><td>ffb2dd9e-f5ad-427c-b7f1-c9a0c7a0ae3f</td></tr><tr><th>provider id</th><td>ce5e84db-cbf9-48a2-9a32-d4b7cc56ea74</td></tr></tbody></table></td></tr><tr><td><table><thead><tr><th colspan=\"2\">Layer Collection</th></tr></thead><tbody><tr><th>name</th><td>my test collection</td></tr><tr><th>description</th><td>test description</td></tr><tr><th>id</th><td>c9c12672-880a-450f-8d6f-d2feafb77de2</td></tr><tr><th>provider id</th><td>ce5e84db-cbf9-48a2-9a32-d4b7cc56ea74</td></tr></tbody></table></td></tr></tbody></table>"
      ],
      "text/plain": [
       "Layer Collection\n",
       "name: LayerDB\n",
       "description: Root collection for LayerDB\n",
       "id: 05102bb3-a855-4a37-8a8a-30026a91fef1\n",
       "provider id: ce5e84db-cbf9-48a2-9a32-d4b7cc56ea74\n",
       "items: Layer Collection\n",
       "name: A test collection\n",
       "description: Some layers for testing and an empty subcollection\n",
       "id: 272bf675-2e27-4412-824c-287c1e6841ac\n",
       "provider id: ce5e84db-cbf9-48a2-9a32-d4b7cc56ea74\n",
       "\n",
       "       Layer Collection\n",
       "name: An empty collection\n",
       "description: There is nothing here\n",
       "id: a29f77cc-51ce-466b-86ef-d0ab2170bc0a\n",
       "provider id: ce5e84db-cbf9-48a2-9a32-d4b7cc56ea74\n",
       "\n",
       "       Layer Collection\n",
       "name: Unsorted\n",
       "description: Unsorted Layers\n",
       "id: ffb2dd9e-f5ad-427c-b7f1-c9a0c7a0ae3f\n",
       "provider id: ce5e84db-cbf9-48a2-9a32-d4b7cc56ea74\n",
       "\n",
       "       Layer Collection\n",
       "name: my test collection\n",
       "description: test description\n",
       "id: c9c12672-880a-450f-8d6f-d2feafb77de2\n",
       "provider id: ce5e84db-cbf9-48a2-9a32-d4b7cc56ea74\n"
      ]
     },
     "execution_count": 17,
     "metadata": {},
     "output_type": "execute_result"
    }
   ],
   "source": [
    "root_of_layerdb.reload()"
   ]
  },
  {
   "cell_type": "code",
   "execution_count": 18,
   "metadata": {},
   "outputs": [],
   "source": [
    "test_collection.remove()"
   ]
  },
  {
   "cell_type": "code",
   "execution_count": 19,
   "metadata": {},
   "outputs": [
    {
     "data": {
      "text/html": [
       "<table><thead><tr><th colspan=\"2\">Layer Collection</th></tr></thead><tbody><tr><th>name</th><td>LayerDB</td></tr><tr><th>description</th><td>Root collection for LayerDB</td></tr><tr><th>id</th><td>05102bb3-a855-4a37-8a8a-30026a91fef1</td></tr><tr><th>provider id</th><td>ce5e84db-cbf9-48a2-9a32-d4b7cc56ea74</td></tr><tr><th rowspan=\"3\">items</th><td><table><thead><tr><th colspan=\"2\">Layer Collection</th></tr></thead><tbody><tr><th>name</th><td>A test collection</td></tr><tr><th>description</th><td>Some layers for testing and an empty subcollection</td></tr><tr><th>id</th><td>272bf675-2e27-4412-824c-287c1e6841ac</td></tr><tr><th>provider id</th><td>ce5e84db-cbf9-48a2-9a32-d4b7cc56ea74</td></tr></tbody></table></td></tr><tr><td><table><thead><tr><th colspan=\"2\">Layer Collection</th></tr></thead><tbody><tr><th>name</th><td>An empty collection</td></tr><tr><th>description</th><td>There is nothing here</td></tr><tr><th>id</th><td>a29f77cc-51ce-466b-86ef-d0ab2170bc0a</td></tr><tr><th>provider id</th><td>ce5e84db-cbf9-48a2-9a32-d4b7cc56ea74</td></tr></tbody></table></td></tr><tr><td><table><thead><tr><th colspan=\"2\">Layer Collection</th></tr></thead><tbody><tr><th>name</th><td>Unsorted</td></tr><tr><th>description</th><td>Unsorted Layers</td></tr><tr><th>id</th><td>ffb2dd9e-f5ad-427c-b7f1-c9a0c7a0ae3f</td></tr><tr><th>provider id</th><td>ce5e84db-cbf9-48a2-9a32-d4b7cc56ea74</td></tr></tbody></table></td></tr></tbody></table>"
      ],
      "text/plain": [
       "Layer Collection\n",
       "name: LayerDB\n",
       "description: Root collection for LayerDB\n",
       "id: 05102bb3-a855-4a37-8a8a-30026a91fef1\n",
       "provider id: ce5e84db-cbf9-48a2-9a32-d4b7cc56ea74\n",
       "items: Layer Collection\n",
       "name: A test collection\n",
       "description: Some layers for testing and an empty subcollection\n",
       "id: 272bf675-2e27-4412-824c-287c1e6841ac\n",
       "provider id: ce5e84db-cbf9-48a2-9a32-d4b7cc56ea74\n",
       "\n",
       "       Layer Collection\n",
       "name: An empty collection\n",
       "description: There is nothing here\n",
       "id: a29f77cc-51ce-466b-86ef-d0ab2170bc0a\n",
       "provider id: ce5e84db-cbf9-48a2-9a32-d4b7cc56ea74\n",
       "\n",
       "       Layer Collection\n",
       "name: Unsorted\n",
       "description: Unsorted Layers\n",
       "id: ffb2dd9e-f5ad-427c-b7f1-c9a0c7a0ae3f\n",
       "provider id: ce5e84db-cbf9-48a2-9a32-d4b7cc56ea74\n"
      ]
     },
     "execution_count": 19,
     "metadata": {},
     "output_type": "execute_result"
    }
   ],
   "source": [
    "root_of_layerdb = root_of_layerdb.reload()\n",
    "root_of_layerdb"
   ]
  }
 ],
 "metadata": {
  "kernelspec": {
   "display_name": "env",
   "language": "python",
   "name": "python3"
  },
  "language_info": {
   "codemirror_mode": {
    "name": "ipython",
    "version": 3
   },
   "file_extension": ".py",
   "mimetype": "text/x-python",
   "name": "python",
   "nbconvert_exporter": "python",
   "pygments_lexer": "ipython3",
   "version": "3.10.6"
  },
  "orig_nbformat": 4,
  "vscode": {
   "interpreter": {
    "hash": "7a10ca932ff03f4c637e11f8207fe4e003ad6532d0070b911d37acf855f595fc"
   }
  }
 },
 "nbformat": 4,
 "nbformat_minor": 2
}
