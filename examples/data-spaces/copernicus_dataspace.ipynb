{
 "cells": [
  {
   "cell_type": "code",
   "execution_count": 1,
   "metadata": {},
   "outputs": [],
   "source": [
    "import geoengine as ge\n",
    "import numpy as np"
   ]
  },
  {
   "cell_type": "code",
   "execution_count": 2,
   "metadata": {},
   "outputs": [],
   "source": [
    "ge.initialize(\"http://localhost:3030/api\")"
   ]
  },
  {
   "cell_type": "code",
   "execution_count": 3,
   "metadata": {},
   "outputs": [],
   "source": [
    "blue = ge.workflow_builder.operators.GdalSource(\n",
    "    \"_:bf888259-e4dd-4872-ac4a-f6d1f05a5014:`datasets/SENTINEL-2/L2A/UTM32N/B02`\"\n",
    ")\n",
    "green = ge.workflow_builder.operators.GdalSource(\n",
    "    \"_:bf888259-e4dd-4872-ac4a-f6d1f05a5014:`datasets/SENTINEL-2/L2A/UTM32N/B03`\"\n",
    ")\n",
    "red = ge.workflow_builder.operators.GdalSource(\n",
    "    \"_:bf888259-e4dd-4872-ac4a-f6d1f05a5014:`datasets/SENTINEL-2/L2A/UTM32N/B04`\"\n",
    ")"
   ]
  },
  {
   "cell_type": "code",
   "execution_count": 4,
   "metadata": {},
   "outputs": [
    {
     "name": "stderr",
     "output_type": "stream",
     "text": [
      "/tmp/ipykernel_152924/4108502645.py:3: DeprecationWarning: parsing timezone aware datetimes is deprecated; this will raise an error in the future\n",
      "  ge.TimeInterval(np.datetime64(\"2020-07-01T12:00:00.000Z\"), np.datetime64(\"2020-07-03T12:00:00.000Z\")),\n"
     ]
    }
   ],
   "source": [
    "query = ge.QueryRectangle(\n",
    "    ge.BoundingBox2D(482500, 5627500, 483500, 5628500),\n",
    "    ge.TimeInterval(np.datetime64(\"2020-07-01T12:00:00.000Z\"), np.datetime64(\"2020-07-03T12:00:00.000Z\")),\n",
    "    ge.SpatialResolution(10, 10),\n",
    "    srs=\"EPSG:32632\",\n",
    ")"
   ]
  },
  {
   "cell_type": "code",
   "execution_count": 5,
   "metadata": {},
   "outputs": [],
   "source": [
    "# statistics_workflow_json = {\n",
    "#     \"type\": \"Plot\",\n",
    "#     \"operator\": {\n",
    "#         \"type\": \"Statistics\",\n",
    "#         \"params\": {\n",
    "#         },\n",
    "#         \"sources\": {\n",
    "#             \"source\": [\n",
    "#                 blue.to_workflow_dict()[\"operator\"],\n",
    "#                 green.to_workflow_dict()[\"operator\"],\n",
    "#                 red.to_workflow_dict()[\"operator\"]\n",
    "#             ]\n",
    "#         }\n",
    "#     }\n",
    "# }\n",
    "\n",
    "# print(statistics_workflow_json)\n",
    "\n",
    "# statistics_workflow = ge.register_workflow(statistics_workflow_json)\n",
    "\n",
    "# statistics_plot = statistics_workflow.plot_json(query)\n",
    "\n",
    "# statistics_plot"
   ]
  },
  {
   "cell_type": "code",
   "execution_count": 6,
   "metadata": {},
   "outputs": [],
   "source": [
    "min_value = 1\n",
    "max_value = 20448.0"
   ]
  },
  {
   "cell_type": "code",
   "execution_count": 7,
   "metadata": {},
   "outputs": [
    {
     "data": {
      "image/png": "[encoded data removed]",
      "text/plain": [
       "<PIL.PngImagePlugin.PngImageFile image mode=RGBA size=100x100>"
      ]
     },
     "execution_count": 7,
     "metadata": {},
     "output_type": "execute_result"
    }
   ],
   "source": [
    "from geoengine.colorizer import Colorizer\n",
    "from geoengine.types import SingleBandRasterColorizer\n",
    "\n",
    "\n",
    "rgb_workflow_json = {\n",
    "    \"type\": \"Raster\",\n",
    "    \"operator\": {\n",
    "        \"type\": \"Rgb\",\n",
    "        \"params\": {\n",
    "            \"redMin\": min_value,\n",
    "            \"redMax\": max_value,\n",
    "            \"redScale\": 1,\n",
    "            \"greenMin\": min_value,\n",
    "            \"greenMax\": max_value,\n",
    "            \"greenScale\": 1,\n",
    "            \"blueMin\": min_value,\n",
    "            \"blueMax\": max_value,\n",
    "            \"blueScale\": 1,\n",
    "        },\n",
    "        \"sources\": {\n",
    "            \"red\": red.to_workflow_dict()[\"operator\"],\n",
    "            \"green\": green.to_workflow_dict()[\"operator\"],\n",
    "            \"blue\": blue.to_workflow_dict()[\"operator\"],\n",
    "        },\n",
    "    },\n",
    "}\n",
    "\n",
    "rgb_workflow = ge.register_workflow(rgb_workflow_json)\n",
    "\n",
    "rgb_workflow.wms_get_map_as_image(\n",
    "    query,\n",
    "    SingleBandRasterColorizer(band=0, band_colorizer=Colorizer.rgba()),\n",
    ")"
   ]
  },
  {
   "cell_type": "code",
   "execution_count": null,
   "metadata": {},
   "outputs": [],
   "source": [
    "from geoengine.colorizer import Colorizer\n",
    "from geoengine.types import SingleBandRasterColorizer\n",
    "\n",
    "\n",
    "rgb_workflow_json2 = {\n",
    "    \"type\": \"Raster\",\n",
    "    \"operator\": {\n",
    "        \"type\": \"Rgb\",\n",
    "        \"params\": {\n",
    "            \"redMin\": min_value,\n",
    "            \"redMax\": max_value / 2.0,\n",
    "            \"redScale\": 1,\n",
    "            \"greenMin\": min_value,\n",
    "            \"greenMax\": max_value / 2.0,\n",
    "            \"greenScale\": 1,\n",
    "            \"blueMin\": min_value,\n",
    "            \"blueMax\": max_value / 2.0,\n",
    "            \"blueScale\": 1,\n",
    "        },\n",
    "        \"sources\": {\n",
    "            \"red\": red.to_workflow_dict()[\"operator\"],\n",
    "            \"green\": green.to_workflow_dict()[\"operator\"],\n",
    "            \"blue\": blue.to_workflow_dict()[\"operator\"],\n",
    "        },\n",
    "    },\n",
    "}\n",
    "\n",
    "rgb_workflow2 = ge.register_workflow(rgb_workflow_json2)\n",
    "\n",
    "query2 = ge.QueryRectangle(\n",
    "    ge.BoundingBox2D(482500, 5627500, 483500, 5628500),\n",
    "    ge.TimeInterval(np.datetime64(\"2020-07-01T12:00:00.000Z\"), np.datetime64(\"2020-07-03T12:00:00.000Z\")),\n",
    "    ge.SpatialResolution(1, 1),\n",
    "    srs=\"EPSG:32632\",\n",
    ")\n",
    "\n",
    "rgb_workflow2.wms_get_map_as_image(\n",
    "    query2,\n",
    "    SingleBandRasterColorizer(band=0, band_colorizer=Colorizer.rgba()),\n",
    ")"
   ]
  }
 ],
 "metadata": {
  "kernelspec": {
   "display_name": "env",
   "language": "python",
   "name": "python3"
  },
  "language_info": {
   "codemirror_mode": {
    "name": "ipython",
    "version": 3
   },
   "file_extension": ".py",
   "mimetype": "text/x-python",
   "name": "python",
   "nbconvert_exporter": "python",
   "pygments_lexer": "ipython3",
   "version": "3.10.12"
  }
 },
 "nbformat": 4,
 "nbformat_minor": 2
}
