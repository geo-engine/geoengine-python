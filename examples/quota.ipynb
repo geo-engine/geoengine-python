{
 "cells": [
  {
   "attachments": {},
   "cell_type": "markdown",
   "metadata": {},
   "source": [
    "# Manage Quota\n",
    "\n",
    "Note: \n",
    "- Geo Engine has to have \"pro\" feature enabled\n",
    "- quota_check has to be enabled in Settings"
   ]
  },
  {
   "cell_type": "code",
   "execution_count": 25,
   "metadata": {},
   "outputs": [],
   "source": [
    "import geoengine as ge\n",
    "\n",
    "from datetime import datetime"
   ]
  },
  {
   "cell_type": "markdown",
   "metadata": {},
   "source": [
    "# Select a user"
   ]
  },
  {
   "cell_type": "code",
   "execution_count": 26,
   "metadata": {},
   "outputs": [
    {
     "data": {
      "text/plain": [
       "<Response [200]>"
      ]
     },
     "execution_count": 26,
     "metadata": {},
     "output_type": "execute_result"
    }
   ],
   "source": [
    "email = \"foo@example.com\"\n",
    "password = \"secret123\"\n",
    "\n",
    "# register the user, if it doesn't exist yet\n",
    "import requests as re\n",
    "re.post(\"http://localhost:3030/api/user\", json={\"email\": email, \"password\": password, \"realName\": \"Foo Bar\"})"
   ]
  },
  {
   "attachments": {},
   "cell_type": "markdown",
   "metadata": {},
   "source": [
    "## Initialize as user"
   ]
  },
  {
   "cell_type": "code",
   "execution_count": 27,
   "metadata": {},
   "outputs": [],
   "source": [
    "ge.initialize(\"http://localhost:3030/api\", credentials=(email, password))\n",
    "\n",
    "user_id = ge.get_session().user_id"
   ]
  },
  {
   "attachments": {},
   "cell_type": "markdown",
   "metadata": {},
   "source": [
    "## Access own quota"
   ]
  },
  {
   "cell_type": "code",
   "execution_count": 28,
   "metadata": {},
   "outputs": [
    {
     "data": {
      "text/plain": [
       "{'available': 0, 'used': 0}"
      ]
     },
     "execution_count": 28,
     "metadata": {},
     "output_type": "execute_result"
    }
   ],
   "source": [
    "ge.get_quota()"
   ]
  },
  {
   "attachments": {},
   "cell_type": "markdown",
   "metadata": {},
   "source": [
    "## Try to run a query (fails, because quota is exhausted)"
   ]
  },
  {
   "cell_type": "code",
   "execution_count": 29,
   "metadata": {},
   "outputs": [
    {
     "name": "stdout",
     "output_type": "stream",
     "text": [
      "{'id': '69cf7aaf-e828-537e-be9b-31933120c931'}\n",
      "Operator: Operator: CreatingProcessorFailed: QuotaExhausted\n"
     ]
    }
   ],
   "source": [
    "ports = ge.register_workflow({\n",
    "    \"type\": \"Vector\",\n",
    "    \"operator\": {\n",
    "        \"type\": \"OgrSource\",\n",
    "        \"params\": {\n",
    "            \"data\": {\n",
    "                \"type\": \"internal\",\n",
    "                \"datasetId\": \"a9623a5b-b6c5-404b-bc5a-313ff72e4e75\"\n",
    "            },\n",
    "            \"attributeProjection\": None\n",
    "        }\n",
    "    }\n",
    "})\n",
    "\n",
    "time = datetime.strptime(\n",
    "    '2014-04-01T12:00:00.000Z', \"%Y-%m-%dT%H:%M:%S.%f%z\")\n",
    "\n",
    "try:\n",
    "    df = ports.get_dataframe(\n",
    "        ge.QueryRectangle(\n",
    "            ge.BoundingBox2D(-180.0, -90.0, 180.0, 90.0),\n",
    "            ge.TimeInterval(time, time),\n",
    "            ge.SpatialResolution(0.1, 0.1)\n",
    "            )\n",
    "    )\n",
    "except ge.GeoEngineException as e:\n",
    "    print(e)"
   ]
  },
  {
   "cell_type": "markdown",
   "metadata": {},
   "source": [
    "## Initialize Geo Engine as Admin"
   ]
  },
  {
   "cell_type": "code",
   "execution_count": 30,
   "metadata": {},
   "outputs": [],
   "source": [
    "ge.initialize(\"http://localhost:3030/api\", (\"admin@localhost\", \"admin\"))"
   ]
  },
  {
   "attachments": {},
   "cell_type": "markdown",
   "metadata": {},
   "source": [
    "## Access user quota"
   ]
  },
  {
   "cell_type": "code",
   "execution_count": 31,
   "metadata": {},
   "outputs": [
    {
     "data": {
      "text/plain": [
       "{'available': 0, 'used': 0}"
      ]
     },
     "execution_count": 31,
     "metadata": {},
     "output_type": "execute_result"
    }
   ],
   "source": [
    "ge.get_quota(user_id)"
   ]
  },
  {
   "attachments": {},
   "cell_type": "markdown",
   "metadata": {},
   "source": [
    "## Update user quota"
   ]
  },
  {
   "cell_type": "code",
   "execution_count": 32,
   "metadata": {},
   "outputs": [],
   "source": [
    "ge.update_quota(user_id, 1000)"
   ]
  },
  {
   "attachments": {},
   "cell_type": "markdown",
   "metadata": {},
   "source": [
    "## Verify quota update worked"
   ]
  },
  {
   "cell_type": "code",
   "execution_count": 33,
   "metadata": {},
   "outputs": [
    {
     "data": {
      "text/plain": [
       "{'available': 1000, 'used': 0}"
      ]
     },
     "execution_count": 33,
     "metadata": {},
     "output_type": "execute_result"
    }
   ],
   "source": [
    "ge.get_quota(user_id)"
   ]
  },
  {
   "attachments": {},
   "cell_type": "markdown",
   "metadata": {},
   "source": [
    "# Go back to the regular user"
   ]
  },
  {
   "cell_type": "code",
   "execution_count": 34,
   "metadata": {},
   "outputs": [
    {
     "data": {
      "text/plain": [
       "{'available': 1000, 'used': 0}"
      ]
     },
     "execution_count": 34,
     "metadata": {},
     "output_type": "execute_result"
    }
   ],
   "source": [
    "ge.initialize(\"http://localhost:3030/api\", credentials=(email, password))\n",
    "\n",
    "ge.get_quota()"
   ]
  },
  {
   "attachments": {},
   "cell_type": "markdown",
   "metadata": {},
   "source": [
    "# Rerun the workflow, works now"
   ]
  },
  {
   "cell_type": "code",
   "execution_count": 35,
   "metadata": {},
   "outputs": [
    {
     "data": {
      "text/html": [
       "<div>\n",
       "<style scoped>\n",
       "    .dataframe tbody tr th:only-of-type {\n",
       "        vertical-align: middle;\n",
       "    }\n",
       "\n",
       "    .dataframe tbody tr th {\n",
       "        vertical-align: top;\n",
       "    }\n",
       "\n",
       "    .dataframe thead th {\n",
       "        text-align: right;\n",
       "    }\n",
       "</style>\n",
       "<table border=\"1\" class=\"dataframe\">\n",
       "  <thead>\n",
       "    <tr style=\"text-align: right;\">\n",
       "      <th></th>\n",
       "      <th>geometry</th>\n",
       "      <th>featurecla</th>\n",
       "      <th>name</th>\n",
       "      <th>natlscale</th>\n",
       "      <th>scalerank</th>\n",
       "      <th>website</th>\n",
       "      <th>start</th>\n",
       "      <th>end</th>\n",
       "    </tr>\n",
       "  </thead>\n",
       "  <tbody>\n",
       "    <tr>\n",
       "      <th>0</th>\n",
       "      <td>POINT (-69.92356 12.43750)</td>\n",
       "      <td>Port</td>\n",
       "      <td>Sint Nicolaas</td>\n",
       "      <td>5.0</td>\n",
       "      <td>8</td>\n",
       "      <td>www.rocargo.com/SanNicolas.html</td>\n",
       "      <td>NaT</td>\n",
       "      <td>NaT</td>\n",
       "    </tr>\n",
       "    <tr>\n",
       "      <th>1</th>\n",
       "      <td>POINT (-58.95141 -34.15333)</td>\n",
       "      <td>Port</td>\n",
       "      <td>Campana</td>\n",
       "      <td>5.0</td>\n",
       "      <td>8</td>\n",
       "      <td>www.consejoportuario.com.ar</td>\n",
       "      <td>NaT</td>\n",
       "      <td>NaT</td>\n",
       "    </tr>\n",
       "    <tr>\n",
       "      <th>2</th>\n",
       "      <td>POINT (-59.00495 -34.09889)</td>\n",
       "      <td>Port</td>\n",
       "      <td>Zarate</td>\n",
       "      <td>5.0</td>\n",
       "      <td>8</td>\n",
       "      <td>www.consejoportuario.com.ar</td>\n",
       "      <td>NaT</td>\n",
       "      <td>NaT</td>\n",
       "    </tr>\n",
       "    <tr>\n",
       "      <th>3</th>\n",
       "      <td>POINT (-62.10088 -38.89444)</td>\n",
       "      <td>Port</td>\n",
       "      <td>Puerto Belgrano/Bahia Blanca</td>\n",
       "      <td>5.0</td>\n",
       "      <td>8</td>\n",
       "      <td>None</td>\n",
       "      <td>NaT</td>\n",
       "      <td>NaT</td>\n",
       "    </tr>\n",
       "    <tr>\n",
       "      <th>4</th>\n",
       "      <td>POINT (-62.30053 -38.78306)</td>\n",
       "      <td>Port</td>\n",
       "      <td>Puerto Galvan/Bahia Blanca</td>\n",
       "      <td>5.0</td>\n",
       "      <td>8</td>\n",
       "      <td>None</td>\n",
       "      <td>NaT</td>\n",
       "      <td>NaT</td>\n",
       "    </tr>\n",
       "  </tbody>\n",
       "</table>\n",
       "</div>"
      ],
      "text/plain": [
       "                      geometry featurecla                          name  \\\n",
       "0   POINT (-69.92356 12.43750)       Port                 Sint Nicolaas   \n",
       "1  POINT (-58.95141 -34.15333)       Port                       Campana   \n",
       "2  POINT (-59.00495 -34.09889)       Port                        Zarate   \n",
       "3  POINT (-62.10088 -38.89444)       Port  Puerto Belgrano/Bahia Blanca   \n",
       "4  POINT (-62.30053 -38.78306)       Port    Puerto Galvan/Bahia Blanca   \n",
       "\n",
       "   natlscale  scalerank                          website start end  \n",
       "0        5.0          8  www.rocargo.com/SanNicolas.html   NaT NaT  \n",
       "1        5.0          8      www.consejoportuario.com.ar   NaT NaT  \n",
       "2        5.0          8      www.consejoportuario.com.ar   NaT NaT  \n",
       "3        5.0          8                             None   NaT NaT  \n",
       "4        5.0          8                             None   NaT NaT  "
      ]
     },
     "execution_count": 35,
     "metadata": {},
     "output_type": "execute_result"
    }
   ],
   "source": [
    "\n",
    "df = ports.get_dataframe(\n",
    "        ge.QueryRectangle(\n",
    "            ge.BoundingBox2D(-180.0, -90.0, 180.0, 90.0),\n",
    "            ge.TimeInterval(time, time),\n",
    "            ge.SpatialResolution(0.1, 0.1)\n",
    "            )\n",
    "    )\n",
    "\n",
    "df.head()"
   ]
  },
  {
   "cell_type": "markdown",
   "metadata": {},
   "source": [
    "## Verify that the used quota was recorded"
   ]
  },
  {
   "cell_type": "code",
   "execution_count": 36,
   "metadata": {},
   "outputs": [
    {
     "data": {
      "text/plain": [
       "{'available': 999, 'used': 1}"
      ]
     },
     "execution_count": 36,
     "metadata": {},
     "output_type": "execute_result"
    }
   ],
   "source": [
    "ge.get_quota()"
   ]
  }
 ],
 "metadata": {
  "kernelspec": {
   "display_name": "env",
   "language": "python",
   "name": "python3"
  },
  "language_info": {
   "codemirror_mode": {
    "name": "ipython",
    "version": 3
   },
   "file_extension": ".py",
   "mimetype": "text/x-python",
   "name": "python",
   "nbconvert_exporter": "python",
   "pygments_lexer": "ipython3",
   "version": "3.10.6"
  },
  "orig_nbformat": 4,
  "vscode": {
   "interpreter": {
    "hash": "ec9c82b9ea2ea2d349d18529bf563c39c0d86f3d62d47a95d6d3e31e10411d18"
   }
  }
 },
 "nbformat": 4,
 "nbformat_minor": 2
}
