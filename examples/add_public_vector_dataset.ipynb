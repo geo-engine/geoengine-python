{
 "cells": [
  {
   "attachments": {},
   "cell_type": "markdown",
   "metadata": {},
   "source": [
    "# Add public Vector Dataset"
   ]
  },
  {
   "cell_type": "code",
   "execution_count": 1,
   "metadata": {},
   "outputs": [],
   "source": [
    "from datetime import datetime\n",
    "\n",
    "import geoengine_openapi_client\n",
    "\n",
    "import geoengine as ge"
   ]
  },
  {
   "attachments": {},
   "cell_type": "markdown",
   "metadata": {},
   "source": [
    "Initialize Geo Engine as Admin"
   ]
  },
  {
   "cell_type": "code",
   "execution_count": 2,
   "metadata": {},
   "outputs": [],
   "source": [
    "ge.initialize(\"http://localhost:3030/api\", (\"admin@localhost\", \"adminadmin\"))"
   ]
  },
  {
   "attachments": {},
   "cell_type": "markdown",
   "metadata": {},
   "source": [
    "List volumes"
   ]
  },
  {
   "cell_type": "code",
   "execution_count": 3,
   "metadata": {},
   "outputs": [
    {
     "data": {
      "text/plain": [
       "[Volume(name='test_data', path='test_data/')]"
      ]
     },
     "execution_count": 3,
     "metadata": {},
     "output_type": "execute_result"
    }
   ],
   "source": [
    "volumes = ge.volumes()\n",
    "volumes"
   ]
  },
  {
   "cell_type": "markdown",
   "metadata": {},
   "source": [
    "Select volume"
   ]
  },
  {
   "cell_type": "code",
   "execution_count": 4,
   "metadata": {},
   "outputs": [
    {
     "data": {
      "text/plain": [
       "Volume(name='test_data', path='test_data/')"
      ]
     },
     "execution_count": 4,
     "metadata": {},
     "output_type": "execute_result"
    }
   ],
   "source": [
    "volume = ge.volume_by_name(\"test_data\")\n",
    "volume"
   ]
  },
  {
   "attachments": {},
   "cell_type": "markdown",
   "metadata": {},
   "source": [
    " Define metadata"
   ]
  },
  {
   "cell_type": "code",
   "execution_count": 5,
   "metadata": {},
   "outputs": [
    {
     "data": {
      "text/plain": [
       "MetaDataDefinition(oneof_schema_1_validator=None, oneof_schema_2_validator=None, oneof_schema_3_validator=None, oneof_schema_4_validator=None, oneof_schema_5_validator=None, oneof_schema_6_validator=None, actual_instance=OgrMetaData(loading_info=OgrSourceDataset(attribute_query=None, cache_ttl=None, columns=OgrSourceColumnSpec(bool=None, datetime=None, var_float=[], format_specifics=None, int=[], rename=None, text=[], x='', y=''), data_type=<VectorDataType.MULTIPOLYGON: 'MultiPolygon'>, default_geometry=None, file_name='vector/data/germany_polygon.gpkg', force_ogr_spatial_filter=None, force_ogr_time_filter=None, layer_name='test_germany', on_error=<OgrSourceErrorSpec.ABORT: 'abort'>, sql_query=None, time=OgrSourceDatasetTimeType(oneof_schema_1_validator=None, oneof_schema_2_validator=None, oneof_schema_3_validator=None, oneof_schema_4_validator=None, actual_instance=OgrSourceDatasetTimeTypeNone(type='none'), one_of_schemas={'OgrSourceDatasetTimeTypeNone', 'OgrSourceDatasetTimeTypeStartDuration', 'OgrSourceDatasetTimeTypeStartEnd', 'OgrSourceDatasetTimeTypeStart'}, discriminator_value_class_map={})), result_descriptor=VectorResultDescriptor(bbox=BoundingBox2D(lower_left_coordinate=Coordinate2D(x=5.85249, y=47.271121), upper_right_coordinate=Coordinate2D(x=15.022059, y=55.065334)), columns={}, data_type=<VectorDataType.MULTIPOLYGON: 'MultiPolygon'>, spatial_reference='EPSG:4326', time=None), type='OgrMetaData'), one_of_schemas={'GdalMetaDataList', 'GdalMetaDataStatic', 'GdalMetadataNetCdfCf', 'GdalMetaDataRegular', 'OgrMetaData', 'MockMetaData'}, discriminator_value_class_map={})"
      ]
     },
     "execution_count": 5,
     "metadata": {},
     "output_type": "execute_result"
    }
   ],
   "source": [
    "file_path = \"vector/data/germany_polygon.gpkg\"  # specify file path relative to volume path\n",
    "\n",
    "layer_name = \"test_germany\"  # specify layer name\n",
    "\n",
    "ogr_params = geoengine_openapi_client.OgrSourceDataset(\n",
    "    file_name=file_path,\n",
    "    layer_name=layer_name,\n",
    "    data_type=ge.VectorDataType.MULTI_POLYGON.to_api_enum(),\n",
    "    time=ge.OgrSourceDatasetTimeType.none().to_api_dict(),\n",
    "    columns=geoengine_openapi_client.OgrSourceColumnSpec(\n",
    "        y=\"\",\n",
    "        x=\"\",\n",
    "        float=[],\n",
    "        int=[],\n",
    "        text=[],\n",
    "    ),\n",
    "    on_error=ge.OgrOnError.ABORT.to_api_enum(),\n",
    ")\n",
    "\n",
    "result_descriptor = ge.VectorResultDescriptor(\n",
    "    spatial_reference=\"EPSG:4326\",\n",
    "    data_type=ge.VectorDataType.MULTI_POLYGON,\n",
    "    columns={},\n",
    "    spatial_bounds=ge.BoundingBox2D(5.852490, 47.271121, 15.022059, 55.065334),\n",
    "    time_bounds=None,\n",
    ")\n",
    "\n",
    "meta_data = geoengine_openapi_client.MetaDataDefinition(\n",
    "    geoengine_openapi_client.OgrMetaData(\n",
    "        type=\"OgrMetaData\",\n",
    "        loadingInfo=ogr_params,\n",
    "        resultDescriptor=result_descriptor.to_api_dict().to_dict(),\n",
    "    )\n",
    ")\n",
    "\n",
    "meta_data"
   ]
  },
  {
   "cell_type": "code",
   "execution_count": 6,
   "metadata": {},
   "outputs": [
    {
     "data": {
      "text/plain": [
       "AddDataset(description='Germany polygon for testing purposes', display_name='Germany Polygon', name='germany_polygon', provenance=[Provenance(citation='Geo Engine et.al (2023)', license='TODO', uri='TODO')], source_operator='OgrSource', symbology=None, tags=None)"
      ]
     },
     "execution_count": 6,
     "metadata": {},
     "output_type": "execute_result"
    }
   ],
   "source": [
    "add_dataset_properties = ge.AddDatasetProperties(\n",
    "    name=\"germany_polygon\",\n",
    "    display_name=\"Germany Polygon\",\n",
    "    source_operator=\"OgrSource\",\n",
    "    description=\"Germany polygon for testing purposes\",\n",
    "    symbology=None,\n",
    "    provenance=[\n",
    "        ge.Provenance(\n",
    "            citation=\"Geo Engine et.al (2023)\",\n",
    "            uri=\"TODO\",\n",
    "            license=\"TODO\",\n",
    "        )\n",
    "    ],\n",
    ")\n",
    "\n",
    "add_dataset_properties.to_api_dict()"
   ]
  },
  {
   "attachments": {},
   "cell_type": "markdown",
   "metadata": {},
   "source": [
    "Add dataset to the matching volume"
   ]
  },
  {
   "cell_type": "code",
   "execution_count": 7,
   "metadata": {},
   "outputs": [
    {
     "data": {
      "text/plain": [
       "germany_polygon"
      ]
     },
     "execution_count": 7,
     "metadata": {},
     "output_type": "execute_result"
    }
   ],
   "source": [
    "dataset_name = ge.add_dataset(volume, add_dataset_properties, meta_data)\n",
    "\n",
    "dataset_name"
   ]
  },
  {
   "attachments": {},
   "cell_type": "markdown",
   "metadata": {},
   "source": [
    "Verify that data is accessible for user"
   ]
  },
  {
   "cell_type": "code",
   "execution_count": 8,
   "metadata": {},
   "outputs": [
    {
     "data": {
      "text/plain": [
       "Data type:         MultiPolygon\n",
       "Spatial Reference: EPSG:4326\n",
       "Columns:"
      ]
     },
     "execution_count": 8,
     "metadata": {},
     "output_type": "execute_result"
    }
   ],
   "source": [
    "ge.reset()\n",
    "ge.initialize(\"http://localhost:3030/api\")\n",
    "\n",
    "\n",
    "def create_ogr_source_workflow(dataset_id):\n",
    "    return {\n",
    "        \"type\": \"Vector\",\n",
    "        \"operator\": {\n",
    "            \"type\": \"OgrSource\",\n",
    "            \"params\": {\n",
    "                \"data\": \"germany_polygon\",\n",
    "            },\n",
    "        },\n",
    "    }\n",
    "\n",
    "\n",
    "workflow = ge.register_workflow(create_ogr_source_workflow(dataset_name))\n",
    "\n",
    "workflow.get_result_descriptor()"
   ]
  },
  {
   "attachments": {},
   "cell_type": "markdown",
   "metadata": {},
   "source": [
    "Load the data"
   ]
  },
  {
   "cell_type": "code",
   "execution_count": 9,
   "metadata": {},
   "outputs": [
    {
     "data": {
      "text/plain": [
       "<Axes: >"
      ]
     },
     "execution_count": 9,
     "metadata": {},
     "output_type": "execute_result"
    },
    {
     "data": {
      "image/png": "[encoded data removed]",
      "text/plain": [
       "<Figure size 640x480 with 1 Axes>"
      ]
     },
     "metadata": {},
     "output_type": "display_data"
    }
   ],
   "source": [
    "time = datetime.strptime(\"2014-04-01T12:00:00.000Z\", \"%Y-%m-%dT%H:%M:%S.%f%z\")\n",
    "\n",
    "data = workflow.get_dataframe(\n",
    "    ge.QueryRectangle(\n",
    "        ge.BoundingBox2D(5.852490, 47.271121, 15.022059, 55.065334),\n",
    "        ge.TimeInterval(time, time),\n",
    "        resolution=ge.SpatialResolution(1.0, 1.0),\n",
    "        srs=\"EPSG:4326\",\n",
    "    )\n",
    ")\n",
    "\n",
    "data.plot()"
   ]
  },
  {
   "attachments": {},
   "cell_type": "markdown",
   "metadata": {},
   "source": [
    "Delete the dataset"
   ]
  },
  {
   "cell_type": "code",
   "execution_count": 10,
   "metadata": {},
   "outputs": [],
   "source": [
    "ge.reset()\n",
    "ge.initialize(\"http://localhost:3030/api\", (\"admin@localhost\", \"adminadmin\"))\n",
    "\n",
    "ge.delete_dataset(dataset_name)"
   ]
  },
  {
   "attachments": {},
   "cell_type": "markdown",
   "metadata": {},
   "source": [
    "Verify the dataset was deleted"
   ]
  },
  {
   "cell_type": "code",
   "execution_count": 11,
   "metadata": {},
   "outputs": [
    {
     "name": "stdout",
     "output_type": "stream",
     "text": [
      "UnknownDatasetName: Dataset name 'germany_polygon' does not exist\n"
     ]
    }
   ],
   "source": [
    "try:\n",
    "    data = workflow.get_dataframe(\n",
    "        ge.QueryRectangle(\n",
    "            ge.BoundingBox2D(5.852490, 47.271121, 15.022059, 55.065334),\n",
    "            ge.TimeInterval(time, time),\n",
    "            resolution=ge.SpatialResolution(1.0, 1.0),\n",
    "            srs=\"EPSG:4326\",\n",
    "        )\n",
    "    )\n",
    "except Exception as e:\n",
    "    print(e)"
   ]
  }
 ],
 "metadata": {
  "kernelspec": {
   "display_name": "env",
   "language": "python",
   "name": "python3"
  },
  "language_info": {
   "codemirror_mode": {
    "name": "ipython",
    "version": 3
   },
   "file_extension": ".py",
   "mimetype": "text/x-python",
   "name": "python",
   "nbconvert_exporter": "python",
   "pygments_lexer": "ipython3",
   "version": "3.12.3"
  },
  "orig_nbformat": 4,
  "vscode": {
   "interpreter": {
    "hash": "7a10ca932ff03f4c637e11f8207fe4e003ad6532d0070b911d37acf855f595fc"
   }
  }
 },
 "nbformat": 4,
 "nbformat_minor": 2
}
