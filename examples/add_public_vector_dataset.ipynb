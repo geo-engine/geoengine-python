{
 "cells": [
  {
   "attachments": {},
   "cell_type": "markdown",
   "metadata": {},
   "source": [
    "# Add public Vector Dataset"
   ]
  },
  {
   "cell_type": "code",
   "execution_count": 1,
   "metadata": {},
   "outputs": [],
   "source": [
    "import geoengine as ge\n",
    "from datetime import datetime"
   ]
  },
  {
   "attachments": {},
   "cell_type": "markdown",
   "metadata": {},
   "source": [
    "Initialize Geo Engine as Admin"
   ]
  },
  {
   "cell_type": "code",
   "execution_count": 2,
   "metadata": {},
   "outputs": [],
   "source": [
    "ge.initialize(\"http://localhost:3030/api\", admin_token=\"8aca8875-425a-4ef1-8ee6-cdfc62dd7525\")"
   ]
  },
  {
   "attachments": {},
   "cell_type": "markdown",
   "metadata": {},
   "source": [
    "List volumes"
   ]
  },
  {
   "cell_type": "code",
   "execution_count": 3,
   "metadata": {},
   "outputs": [
    {
     "data": {
      "text/plain": [
       "[Volume(name='test_data', path='test_data/')]"
      ]
     },
     "execution_count": 3,
     "metadata": {},
     "output_type": "execute_result"
    }
   ],
   "source": [
    "volumes = ge.volumes()\n",
    "volumes"
   ]
  },
  {
   "attachments": {},
   "cell_type": "markdown",
   "metadata": {},
   "source": [
    " Define metadata"
   ]
  },
  {
   "cell_type": "code",
   "execution_count": 4,
   "metadata": {},
   "outputs": [
    {
     "data": {
      "text/plain": [
       "{'type': 'OgrMetaData',\n",
       " 'loadingInfo': {'fileName': 'vector/data/germany_polygon.gpkg',\n",
       "  'layerName': 'test_germany',\n",
       "  'dataType': 'MultiPolygon',\n",
       "  'time': {'type': 'none'},\n",
       "  'columns': {'x': '', 'y': '', 'float': [], 'int': [], 'text': []},\n",
       "  'onError': <OgrOnError.ABORT: 'abort'>},\n",
       " 'resultDescriptor': {'type': 'raster',\n",
       "  'dataType': <VectorDataType.MULTI_POLYGON: 'MultiPolygon'>,\n",
       "  'spatialReference': 'EPSG:4326',\n",
       "  'columns': {},\n",
       "  'time': None,\n",
       "  'bbox': {'lowerLeftCoordinate': {'x': 5.85249, 'y': 47.271121},\n",
       "   'upperRightCoordinate': {'x': 15.022059, 'y': 55.065334}},\n",
       "  'resolution': None}}"
      ]
     },
     "execution_count": 4,
     "metadata": {},
     "output_type": "execute_result"
    }
   ],
   "source": [
    "file_path = \"vector/data/germany_polygon.gpkg\" # specify file path relative to volume path\n",
    "\n",
    "layer_name = \"test_germany\" # specify layer name\n",
    "\n",
    "ogr_params = ge.api.OgrLoadingInfo(\n",
    "  fileName = file_path,\n",
    "  layerName = layer_name,\n",
    "  dataType = \"MultiPolygon\",\n",
    "  time = ge.api.OgrSourceDatasetTimeType(type='none'),\n",
    "  columns = ge.api.OgrLoadingInfoColumns(\n",
    "    x = \"\",\n",
    "    y = \"\",\n",
    "    float = [],\n",
    "    int = [],\n",
    "    text = [],\n",
    "  ),\n",
    "  onError = ge.api.OgrOnError.ABORT,\n",
    ")\n",
    "\n",
    "result_descriptor = ge.VectorResultDescriptor(\n",
    "    spatial_reference=\"EPSG:4326\", \n",
    "    data_type=ge.VectorDataType.MULTI_POLYGON, \n",
    "    columns={},\n",
    "    spatial_bounds = ge.BoundingBox2D(5.852490, 47.271121, 15.022059, 55.065334),\n",
    "    time_bounds = None,\n",
    ")\n",
    "\n",
    "meta_data = ge.api.OgrMetadata(\n",
    "  type = \"OgrMetaData\",\n",
    "  loadingInfo = ogr_params,\n",
    "  resultDescriptor = result_descriptor.to_api_dict(),\n",
    ")    \n",
    "\n",
    "meta_data"
   ]
  },
  {
   "cell_type": "code",
   "execution_count": 5,
   "metadata": {},
   "outputs": [
    {
     "data": {
      "text/plain": [
       "{'id': None,\n",
       " 'name': 'Germany Polygon',\n",
       " 'description': 'Germany polygon for testing purposes',\n",
       " 'sourceOperator': 'OgrSource',\n",
       " 'symbology': None,\n",
       " 'provenance': [{'citation': 'Geo Engine et.al (2023)',\n",
       "   'license': 'TODO',\n",
       "   'uri': 'TODO'}]}"
      ]
     },
     "execution_count": 5,
     "metadata": {},
     "output_type": "execute_result"
    }
   ],
   "source": [
    "add_dataset_properties = ge.DatasetProperties( \n",
    "    name = \"Germany Polygon\",\n",
    "    source_operator = \"OgrSource\",\n",
    "    description = \"Germany polygon for testing purposes\",\n",
    "    symbology = None, \n",
    "    provenance=[ge.Provenance(\n",
    "      citation=\"Geo Engine et.al (2023)\",\n",
    "      uri=\"TODO\",\n",
    "      license=\"TODO\",\n",
    "    )],\n",
    "\n",
    "\n",
    ")\n",
    "\n",
    "add_dataset_properties.to_api_dict()"
   ]
  },
  {
   "attachments": {},
   "cell_type": "markdown",
   "metadata": {},
   "source": [
    "Add dataset to the matching volume"
   ]
  },
  {
   "cell_type": "code",
   "execution_count": 6,
   "metadata": {},
   "outputs": [
    {
     "data": {
      "text/plain": [
       "2e1dc6da-3bb3-4285-96c0-2d970e22c477"
      ]
     },
     "execution_count": 6,
     "metadata": {},
     "output_type": "execute_result"
    }
   ],
   "source": [
    "volume = [v for v in volumes if v.name == \"test_data\"][0] # this is the \"test_data\" volume\n",
    "\n",
    "dataset_id = ge.add_dataset(volume, add_dataset_properties, meta_data)\n",
    "\n",
    "dataset_id"
   ]
  },
  {
   "attachments": {},
   "cell_type": "markdown",
   "metadata": {},
   "source": [
    "Verify that data is accessible for user"
   ]
  },
  {
   "cell_type": "code",
   "execution_count": 7,
   "metadata": {},
   "outputs": [
    {
     "data": {
      "text/plain": [
       "Data type:         MultiPolygon\n",
       "Spatial Reference: EPSG:4326\n",
       "Columns:"
      ]
     },
     "execution_count": 7,
     "metadata": {},
     "output_type": "execute_result"
    }
   ],
   "source": [
    "def create_ogr_source_workflow(dataset_id): \n",
    "    return {\n",
    "        \"type\": \"Vector\",\n",
    "        \"operator\": {\n",
    "            \"type\": \"OgrSource\",\n",
    "            \"params\": {\n",
    "                \"data\": {\n",
    "                    \"type\": \"internal\",\n",
    "                    \"datasetId\": str(dataset_id)\n",
    "                },\n",
    "            }\n",
    "        }\n",
    "    }\n",
    "\n",
    "workflow = ge.register_workflow(create_ogr_source_workflow(dataset_id))\n",
    "\n",
    "workflow.get_result_descriptor()"
   ]
  },
  {
   "attachments": {},
   "cell_type": "markdown",
   "metadata": {},
   "source": [
    "Load the data"
   ]
  },
  {
   "cell_type": "code",
   "execution_count": 8,
   "metadata": {},
   "outputs": [
    {
     "data": {
      "text/plain": [
       "<Axes: >"
      ]
     },
     "execution_count": 8,
     "metadata": {},
     "output_type": "execute_result"
    },
    {
     "data": {
      "image/png": "[encoded data removed]",
      "text/plain": [
       "<Figure size 640x480 with 1 Axes>"
      ]
     },
     "metadata": {},
     "output_type": "display_data"
    }
   ],
   "source": [
    "time = datetime.strptime(\n",
    "    '2014-04-01T12:00:00.000Z', \"%Y-%m-%dT%H:%M:%S.%f%z\")\n",
    "\n",
    "data = workflow.get_dataframe(\n",
    "    ge.QueryRectangle(\n",
    "        ge.BoundingBox2D(5.852490, 47.271121, 15.022059, 55.065334),\n",
    "        ge.TimeInterval(time, time),\n",
    "        resolution=ge.SpatialResolution(1. , 1.),\n",
    "        srs=\"EPSG:4326\"\n",
    "        )\n",
    ")\n",
    "\n",
    "data.plot()"
   ]
  },
  {
   "attachments": {},
   "cell_type": "markdown",
   "metadata": {},
   "source": [
    "Delete the dataset"
   ]
  },
  {
   "cell_type": "code",
   "execution_count": 9,
   "metadata": {},
   "outputs": [],
   "source": [
    "ge.reset()\n",
    "ge.initialize(\"http://localhost:3030/api\", admin_token=\"8aca8875-425a-4ef1-8ee6-cdfc62dd7525\")\n",
    "\n",
    "ge.delete_dataset(dataset_id)"
   ]
  },
  {
   "attachments": {},
   "cell_type": "markdown",
   "metadata": {},
   "source": [
    "Verify the dataset was deleted"
   ]
  },
  {
   "cell_type": "code",
   "execution_count": 10,
   "metadata": {},
   "outputs": [
    {
     "name": "stdout",
     "output_type": "stream",
     "text": [
      "Operator: Operator: LoadingInfoError: Operator: DatasetMetaData: UnknownDatasetId\n"
     ]
    }
   ],
   "source": [
    "try:\n",
    "    data = workflow.get_dataframe(\n",
    "        ge.QueryRectangle(\n",
    "            ge.BoundingBox2D(5.852490, 47.271121, 15.022059, 55.065334),\n",
    "            ge.TimeInterval(time, time),\n",
    "            resolution=ge.SpatialResolution(1. , 1.),\n",
    "            srs=\"EPSG:4326\"\n",
    "            )\n",
    "    )\n",
    "except Exception as e:\n",
    "    print(e)"
   ]
  }
 ],
 "metadata": {
  "kernelspec": {
   "display_name": "env",
   "language": "python",
   "name": "python3"
  },
  "language_info": {
   "codemirror_mode": {
    "name": "ipython",
    "version": 3
   },
   "file_extension": ".py",
   "mimetype": "text/x-python",
   "name": "python",
   "nbconvert_exporter": "python",
   "pygments_lexer": "ipython3",
   "version": "3.10.6"
  },
  "orig_nbformat": 4,
  "vscode": {
   "interpreter": {
    "hash": "7a10ca932ff03f4c637e11f8207fe4e003ad6532d0070b911d37acf855f595fc"
   }
  }
 },
 "nbformat": 4,
 "nbformat_minor": 2
}
