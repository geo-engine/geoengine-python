{
 "cells": [
  {
   "cell_type": "code",
   "execution_count": 19,
   "metadata": {},
   "outputs": [],
   "source": [
    "import geopandas as gpd\n",
    "import pandas as pd\n",
    "import numpy as np\n",
    "\n",
    "import geoengine as ge\n",
    "\n"
   ]
  },
  {
   "cell_type": "code",
   "execution_count": 31,
   "metadata": {},
   "outputs": [],
   "source": [
    "ge.initialize(\"http://localhost:3030/api\")#, credentials=(\"admin@localhost\", \"admin\"))"
   ]
  },
  {
   "cell_type": "code",
   "execution_count": 32,
   "metadata": {},
   "outputs": [
    {
     "data": {
      "text/plain": [
       "6ae36c4e-537c-45e5-b1a2-9179f384202a"
      ]
     },
     "execution_count": 32,
     "metadata": {},
     "output_type": "execute_result"
    }
   ],
   "source": [
    "points_df = gpd.read_file(\"group_sample_frac1_inspireId.gpkg\")\n",
    "points_id = ge.upload_dataframe(points_df, \"group_sample_frac1_inspireId\")\n",
    "points_id"
   ]
  },
  {
   "cell_type": "code",
   "execution_count": 22,
   "metadata": {},
   "outputs": [
    {
     "data": {
      "text/plain": [
       "{'type': 'Vector',\n",
       " 'operator': {'type': 'OgrSource',\n",
       "  'params': {'data': {'type': 'internal',\n",
       "    'datasetId': '2c9cda87-3ea3-4f38-99ad-b2725b22baf2'},\n",
       "   'attributeProjection': None,\n",
       "   'attributeFilters': None}}}"
      ]
     },
     "execution_count": 22,
     "metadata": {},
     "output_type": "execute_result"
    }
   ],
   "source": [
    "points_source_operator = ge.unstable.workflow_operators.OgrSource(str(points_id))\n",
    "points_source_operator.to_workflow_dict()"
   ]
  },
  {
   "cell_type": "code",
   "execution_count": 23,
   "metadata": {},
   "outputs": [
    {
     "data": {
      "text/plain": [
       "(421398.30688394164, 5681079.293017321, 476200.5934965983, 5727832.747780239)"
      ]
     },
     "execution_count": 23,
     "metadata": {},
     "output_type": "execute_result"
    }
   ],
   "source": [
    "bounds_array = [421398.30688394164, 5681079.293017321, 476200.5934965983, 5727832.747780239]\n",
    "xmin = bounds_array[0]\n",
    "ymin = bounds_array[1]\n",
    "xmax = bounds_array[2]\n",
    "ymax = bounds_array[3]\n",
    "\n",
    "(xmin, ymin, xmax, ymax)"
   ]
  },
  {
   "cell_type": "code",
   "execution_count": 24,
   "metadata": {},
   "outputs": [
    {
     "data": {
      "text/plain": [
       "{'spatialBounds': {'upperLeftCoordinate': {'x': 421398.30688394164,\n",
       "   'y': 5727832.747780239},\n",
       "  'lowerRightCoordinate': {'x': 476200.5934965983, 'y': 5681079.293017321}},\n",
       " 'timeInterval': {'start': '2021-01-01T00:00:00.000+00:00',\n",
       "  'end': '2021-12-31T00:00:00.000+00:00'},\n",
       " 'spatialResolution': {'x': 10.0, 'y': 10.0}}"
      ]
     },
     "execution_count": 24,
     "metadata": {},
     "output_type": "execute_result"
    }
   ],
   "source": [
    "from datetime import datetime\n",
    "time_start = datetime(2021, 1, 1)\n",
    "time_end = datetime(2021, 12, 31)\n",
    "\n",
    "study_area = ge.api.RasterQueryRectangle(\n",
    "    spatialBounds=ge.SpatialPartition2D(xmin, ymin, xmax, ymax).to_api_dict(),\n",
    "    timeInterval=ge.TimeInterval(time_start, time_end).to_api_dict(),\n",
    "    spatialResolution=ge.SpatialResolution(10.0, 10.0).to_api_dict(),\n",
    ")\n",
    "study_area"
   ]
  },
  {
   "cell_type": "code",
   "execution_count": 34,
   "metadata": {},
   "outputs": [
    {
     "data": {
      "text/plain": [
       "{'b02': {'type': 'internal',\n",
       "  'datasetId': '48d30acd-a378-4f2a-89b3-d73430c0f29e'},\n",
       " 'b03': {'type': 'internal',\n",
       "  'datasetId': '200ed06c-fcd1-41a3-b2dd-68b5d0b338a9'},\n",
       " 'b04': {'type': 'internal',\n",
       "  'datasetId': 'b9ececef-5a0c-4294-be16-334e8017f60f'},\n",
       " 'b08': {'type': 'internal',\n",
       "  'datasetId': '8e635367-35ff-42f9-bb21-88ae9db8be8d'},\n",
       " 'scl': {'type': 'internal',\n",
       "  'datasetId': '64636605-10da-4576-bf21-a265cc1f7d9c'}}"
      ]
     },
     "execution_count": 34,
     "metadata": {},
     "output_type": "execute_result"
    }
   ],
   "source": [
    "# TASK workflows to datasets ~ 200 min\n",
    "\n",
    "\n",
    "\n",
    "band_data_map = {\n",
    "    'b02': '48d30acd-a378-4f2a-89b3-d73430c0f29e',\n",
    "    'b03': '200ed06c-fcd1-41a3-b2dd-68b5d0b338a9',\n",
    "    'b04': 'b9ececef-5a0c-4294-be16-334e8017f60f',\n",
    "    'b08': '8e635367-35ff-42f9-bb21-88ae9db8be8d',\n",
    "    'scl': '64636605-10da-4576-bf21-a265cc1f7d9c'\n",
    "    }\n",
    "\n",
    "band_data_id_map = {name: \n",
    "    ge.api.InternalDataId(\n",
    "        type=\"internal\",\n",
    "        datasetId=id) for name, id in band_data_map.items()\n",
    "} \n",
    "\n",
    "band_data_id_map\n"
   ]
  },
  {
   "cell_type": "code",
   "execution_count": 35,
   "metadata": {},
   "outputs": [
    {
     "ename": "AttributeError",
     "evalue": "module 'geoengine.unstable.workflow_blueprints' has no attribute 's2_cloud_free_monthly_band'",
     "output_type": "error",
     "traceback": [
      "\u001b[0;31m---------------------------------------------------------------------------\u001b[0m",
      "\u001b[0;31mAttributeError\u001b[0m                            Traceback (most recent call last)",
      "Cell \u001b[0;32mIn[35], line 2\u001b[0m\n\u001b[1;32m      1\u001b[0m sentinel_bands \u001b[39m=\u001b[39m [\u001b[39m\"\u001b[39m\u001b[39mB02\u001b[39m\u001b[39m\"\u001b[39m, \u001b[39m\"\u001b[39m\u001b[39mB03\u001b[39m\u001b[39m\"\u001b[39m, \u001b[39m\"\u001b[39m\u001b[39mB04\u001b[39m\u001b[39m\"\u001b[39m, \u001b[39m\"\u001b[39m\u001b[39mB08\u001b[39m\u001b[39m\"\u001b[39m, \u001b[39m\"\u001b[39m\u001b[39mNDVI\u001b[39m\u001b[39m\"\u001b[39m]\n\u001b[0;32m----> 2\u001b[0m operators \u001b[39m=\u001b[39m {b: ge\u001b[39m.\u001b[39munstable\u001b[39m.\u001b[39mworkflow_blueprints\u001b[39m.\u001b[39ms2_cloud_free_monthly_band(b, band_data_id_map, granularity\u001b[39m=\u001b[39m\u001b[39m\"\u001b[39m\u001b[39mmonths\u001b[39m\u001b[39m\"\u001b[39m, window_size\u001b[39m=\u001b[39m\u001b[39m1\u001b[39m, aggregation_type\u001b[39m=\u001b[39m\u001b[39m\"\u001b[39m\u001b[39mmean\u001b[39m\u001b[39m\"\u001b[39m) \u001b[39mfor\u001b[39;00m b \u001b[39min\u001b[39;00m sentinel_bands}\n\u001b[1;32m      4\u001b[0m projected_points \u001b[39m=\u001b[39m ge\u001b[39m.\u001b[39munstable\u001b[39m.\u001b[39mworkflow_operators\u001b[39m.\u001b[39mReprojection(points_source_operator, target_spatial_reference\u001b[39m=\u001b[39m\u001b[39m\"\u001b[39m\u001b[39mEPSG:32632\u001b[39m\u001b[39m\"\u001b[39m)\n\u001b[1;32m      6\u001b[0m points_with_s2_cloud_free \u001b[39m=\u001b[39m ge\u001b[39m.\u001b[39munstable\u001b[39m.\u001b[39mworkflow_operators\u001b[39m.\u001b[39mRasterVectorJoin(\n\u001b[1;32m      7\u001b[0m     raster_sources\u001b[39m=\u001b[39m[x \u001b[39mfor\u001b[39;00m x \u001b[39min\u001b[39;00m operators\u001b[39m.\u001b[39mvalues() ],\n\u001b[1;32m      8\u001b[0m     vector_source\u001b[39m=\u001b[39mprojected_points,\n\u001b[1;32m      9\u001b[0m     new_column_names\u001b[39m=\u001b[39m[x \u001b[39mfor\u001b[39;00m x \u001b[39min\u001b[39;00m operators\u001b[39m.\u001b[39mkeys()],\n\u001b[1;32m     10\u001b[0m )\n",
      "Cell \u001b[0;32mIn[35], line 2\u001b[0m, in \u001b[0;36m<dictcomp>\u001b[0;34m(.0)\u001b[0m\n\u001b[1;32m      1\u001b[0m sentinel_bands \u001b[39m=\u001b[39m [\u001b[39m\"\u001b[39m\u001b[39mB02\u001b[39m\u001b[39m\"\u001b[39m, \u001b[39m\"\u001b[39m\u001b[39mB03\u001b[39m\u001b[39m\"\u001b[39m, \u001b[39m\"\u001b[39m\u001b[39mB04\u001b[39m\u001b[39m\"\u001b[39m, \u001b[39m\"\u001b[39m\u001b[39mB08\u001b[39m\u001b[39m\"\u001b[39m, \u001b[39m\"\u001b[39m\u001b[39mNDVI\u001b[39m\u001b[39m\"\u001b[39m]\n\u001b[0;32m----> 2\u001b[0m operators \u001b[39m=\u001b[39m {b: ge\u001b[39m.\u001b[39;49munstable\u001b[39m.\u001b[39;49mworkflow_blueprints\u001b[39m.\u001b[39;49ms2_cloud_free_monthly_band(b, band_data_id_map, granularity\u001b[39m=\u001b[39m\u001b[39m\"\u001b[39m\u001b[39mmonths\u001b[39m\u001b[39m\"\u001b[39m, window_size\u001b[39m=\u001b[39m\u001b[39m1\u001b[39m, aggregation_type\u001b[39m=\u001b[39m\u001b[39m\"\u001b[39m\u001b[39mmean\u001b[39m\u001b[39m\"\u001b[39m) \u001b[39mfor\u001b[39;00m b \u001b[39min\u001b[39;00m sentinel_bands}\n\u001b[1;32m      4\u001b[0m projected_points \u001b[39m=\u001b[39m ge\u001b[39m.\u001b[39munstable\u001b[39m.\u001b[39mworkflow_operators\u001b[39m.\u001b[39mReprojection(points_source_operator, target_spatial_reference\u001b[39m=\u001b[39m\u001b[39m\"\u001b[39m\u001b[39mEPSG:32632\u001b[39m\u001b[39m\"\u001b[39m)\n\u001b[1;32m      6\u001b[0m points_with_s2_cloud_free \u001b[39m=\u001b[39m ge\u001b[39m.\u001b[39munstable\u001b[39m.\u001b[39mworkflow_operators\u001b[39m.\u001b[39mRasterVectorJoin(\n\u001b[1;32m      7\u001b[0m     raster_sources\u001b[39m=\u001b[39m[x \u001b[39mfor\u001b[39;00m x \u001b[39min\u001b[39;00m operators\u001b[39m.\u001b[39mvalues() ],\n\u001b[1;32m      8\u001b[0m     vector_source\u001b[39m=\u001b[39mprojected_points,\n\u001b[1;32m      9\u001b[0m     new_column_names\u001b[39m=\u001b[39m[x \u001b[39mfor\u001b[39;00m x \u001b[39min\u001b[39;00m operators\u001b[39m.\u001b[39mkeys()],\n\u001b[1;32m     10\u001b[0m )\n",
      "\u001b[0;31mAttributeError\u001b[0m: module 'geoengine.unstable.workflow_blueprints' has no attribute 's2_cloud_free_monthly_band'"
     ]
    }
   ],
   "source": [
    "sentinel_bands = [\"B02\", \"B03\", \"B04\", \"B08\", \"NDVI\"]\n",
    "operators = {b: ge.unstable.workflow_blueprints.s2_cloud_free_monthly_band(b, band_data_id_map, granularity=\"months\", window_size=1, aggregation_type=\"mean\") for b in sentinel_bands}\n",
    "\n",
    "projected_points = ge.unstable.workflow_operators.Reprojection(points_source_operator, target_spatial_reference=\"EPSG:32632\")\n",
    "\n",
    "points_with_s2_cloud_free = ge.unstable.workflow_operators.RasterVectorJoin(\n",
    "    raster_sources=[x for x in operators.values() ],\n",
    "    vector_source=projected_points,\n",
    "    new_column_names=[x for x in operators.keys()],\n",
    ")\n",
    "\n",
    "points_with_s2_cloud_free.to_dict()\n",
    "        "
   ]
  },
  {
   "cell_type": "code",
   "execution_count": 27,
   "metadata": {},
   "outputs": [
    {
     "data": {
      "text/plain": [
       "31c4f598-e137-50a7-8859-ab9eb166d8e9"
      ]
     },
     "execution_count": 27,
     "metadata": {},
     "output_type": "execute_result"
    }
   ],
   "source": [
    "workflow = ge.register_workflow(points_with_s2_cloud_free.to_workflow_dict())\n",
    "workflow"
   ]
  },
  {
   "cell_type": "code",
   "execution_count": 33,
   "metadata": {},
   "outputs": [
    {
     "ename": "InvalidStatusCode",
     "evalue": "server rejected WebSocket connection: HTTP 400",
     "output_type": "error",
     "traceback": [
      "\u001b[0;31m---------------------------------------------------------------------------\u001b[0m",
      "\u001b[0;31mInvalidStatusCode\u001b[0m                         Traceback (most recent call last)",
      "Cell \u001b[0;32mIn[33], line 7\u001b[0m\n\u001b[1;32m      3\u001b[0m start_dt \u001b[39m=\u001b[39m datetime\u001b[39m.\u001b[39mdatetime(\u001b[39m2021\u001b[39m, \u001b[39m4\u001b[39m, \u001b[39m1\u001b[39m, \u001b[39m0\u001b[39m, \u001b[39m0\u001b[39m, \u001b[39m0\u001b[39m, tzinfo\u001b[39m=\u001b[39mdatetime\u001b[39m.\u001b[39mtimezone\u001b[39m.\u001b[39mutc)\n\u001b[1;32m      4\u001b[0m end_dt \u001b[39m=\u001b[39m datetime\u001b[39m.\u001b[39mdatetime(\u001b[39m2021\u001b[39m, \u001b[39m10\u001b[39m, \u001b[39m30\u001b[39m, \u001b[39m0\u001b[39m, \u001b[39m0\u001b[39m, \u001b[39m0\u001b[39m, tzinfo\u001b[39m=\u001b[39mdatetime\u001b[39m.\u001b[39mtimezone\u001b[39m.\u001b[39mutc)\n\u001b[0;32m----> 7\u001b[0m \u001b[39masync\u001b[39;00m \u001b[39mfor\u001b[39;00m x \u001b[39min\u001b[39;00m workflow\u001b[39m.\u001b[39mvector_stream(\n\u001b[1;32m      8\u001b[0m     ge\u001b[39m.\u001b[39mQueryRectangle(\n\u001b[1;32m      9\u001b[0m         spatial_bounds\u001b[39m=\u001b[39mge\u001b[39m.\u001b[39mBoundingBox2D(\n\u001b[1;32m     10\u001b[0m             xmin\u001b[39m=\u001b[39mxmin,\n\u001b[1;32m     11\u001b[0m             ymin\u001b[39m=\u001b[39mymin,\n\u001b[1;32m     12\u001b[0m             xmax\u001b[39m=\u001b[39mxmax,\n\u001b[1;32m     13\u001b[0m             ymax\u001b[39m=\u001b[39mymax,\n\u001b[1;32m     14\u001b[0m         ),\n\u001b[1;32m     15\u001b[0m         time_interval\u001b[39m=\u001b[39mge\u001b[39m.\u001b[39mTimeInterval(\n\u001b[1;32m     16\u001b[0m             start\u001b[39m=\u001b[39mstart_dt,\n\u001b[1;32m     17\u001b[0m             end\u001b[39m=\u001b[39mend_dt,\n\u001b[1;32m     18\u001b[0m         ),\n\u001b[1;32m     19\u001b[0m         resolution\u001b[39m=\u001b[39mge\u001b[39m.\u001b[39mSpatialResolution(\n\u001b[1;32m     20\u001b[0m             \u001b[39m100.0\u001b[39m,\n\u001b[1;32m     21\u001b[0m             \u001b[39m100.0\u001b[39m,\n\u001b[1;32m     22\u001b[0m         ),\n\u001b[1;32m     23\u001b[0m         srs\u001b[39m=\u001b[39m\u001b[39m\"\u001b[39m\u001b[39mEPSG:32632\u001b[39m\u001b[39m\"\u001b[39m,\n\u001b[1;32m     24\u001b[0m )):\n\u001b[1;32m     25\u001b[0m     \u001b[39mprint\u001b[39m (x)\n",
      "File \u001b[0;32m~/git/geoengine-python/geoengine/workflow.py:832\u001b[0m, in \u001b[0;36mWorkflow.vector_stream\u001b[0;34m(self, query_rectangle, time_start_column, time_end_column, open_timeout)\u001b[0m\n\u001b[1;32m    829\u001b[0m \u001b[39m# for the websockets library, it is necessary that the url starts with `ws://``\u001b[39;00m\n\u001b[1;32m    830\u001b[0m [_, url_part] \u001b[39m=\u001b[39m url\u001b[39m.\u001b[39msplit(\u001b[39m'\u001b[39m\u001b[39m://\u001b[39m\u001b[39m'\u001b[39m, maxsplit\u001b[39m=\u001b[39m\u001b[39m1\u001b[39m)\n\u001b[0;32m--> 832\u001b[0m \u001b[39masync\u001b[39;00m \u001b[39mwith\u001b[39;00m websockets\u001b[39m.\u001b[39mclient\u001b[39m.\u001b[39mconnect(\n\u001b[1;32m    833\u001b[0m     uri\u001b[39m=\u001b[39m\u001b[39mf\u001b[39m\u001b[39m'\u001b[39m\u001b[39mws://\u001b[39m\u001b[39m{\u001b[39;00murl_part\u001b[39m}\u001b[39;00m\u001b[39m'\u001b[39m,\n\u001b[1;32m    834\u001b[0m     extra_headers\u001b[39m=\u001b[39msession\u001b[39m.\u001b[39mauth_header,\n\u001b[1;32m    835\u001b[0m     open_timeout\u001b[39m=\u001b[39mopen_timeout,\n\u001b[1;32m    836\u001b[0m     max_size\u001b[39m=\u001b[39m\u001b[39mNone\u001b[39;00m,  \u001b[39m# allow arbitrary large messages, since it is capped by the server's chunk size\u001b[39;00m\n\u001b[1;32m    837\u001b[0m ) \u001b[39mas\u001b[39;00m websocket:\n\u001b[1;32m    839\u001b[0m     batch_bytes: Optional[\u001b[39mbytes\u001b[39m] \u001b[39m=\u001b[39m \u001b[39mNone\u001b[39;00m\n\u001b[1;32m    841\u001b[0m     \u001b[39mwhile\u001b[39;00m websocket\u001b[39m.\u001b[39mopen:\n",
      "File \u001b[0;32m~/git/geoengine-python/env/lib/python3.10/site-packages/websockets/legacy/client.py:642\u001b[0m, in \u001b[0;36mConnect.__aenter__\u001b[0;34m(self)\u001b[0m\n\u001b[1;32m    641\u001b[0m \u001b[39masync\u001b[39;00m \u001b[39mdef\u001b[39;00m \u001b[39m__aenter__\u001b[39m(\u001b[39mself\u001b[39m) \u001b[39m-\u001b[39m\u001b[39m>\u001b[39m WebSocketClientProtocol:\n\u001b[0;32m--> 642\u001b[0m     \u001b[39mreturn\u001b[39;00m \u001b[39mawait\u001b[39;00m \u001b[39mself\u001b[39m\n",
      "File \u001b[0;32m~/git/geoengine-python/env/lib/python3.10/site-packages/websockets/legacy/client.py:659\u001b[0m, in \u001b[0;36mConnect.__await_impl_timeout__\u001b[0;34m(self)\u001b[0m\n\u001b[1;32m    658\u001b[0m \u001b[39masync\u001b[39;00m \u001b[39mdef\u001b[39;00m \u001b[39m__await_impl_timeout__\u001b[39m(\u001b[39mself\u001b[39m) \u001b[39m-\u001b[39m\u001b[39m>\u001b[39m WebSocketClientProtocol:\n\u001b[0;32m--> 659\u001b[0m     \u001b[39mreturn\u001b[39;00m \u001b[39mawait\u001b[39;00m asyncio\u001b[39m.\u001b[39mwait_for(\u001b[39mself\u001b[39m\u001b[39m.\u001b[39m__await_impl__(), \u001b[39mself\u001b[39m\u001b[39m.\u001b[39mopen_timeout)\n",
      "File \u001b[0;32m/usr/lib/python3.10/asyncio/tasks.py:445\u001b[0m, in \u001b[0;36mwait_for\u001b[0;34m(fut, timeout)\u001b[0m\n\u001b[1;32m    442\u001b[0m         \u001b[39mraise\u001b[39;00m\n\u001b[1;32m    444\u001b[0m \u001b[39mif\u001b[39;00m fut\u001b[39m.\u001b[39mdone():\n\u001b[0;32m--> 445\u001b[0m     \u001b[39mreturn\u001b[39;00m fut\u001b[39m.\u001b[39;49mresult()\n\u001b[1;32m    446\u001b[0m \u001b[39melse\u001b[39;00m:\n\u001b[1;32m    447\u001b[0m     fut\u001b[39m.\u001b[39mremove_done_callback(cb)\n",
      "File \u001b[0;32m~/git/geoengine-python/env/lib/python3.10/site-packages/websockets/legacy/client.py:666\u001b[0m, in \u001b[0;36mConnect.__await_impl__\u001b[0;34m(self)\u001b[0m\n\u001b[1;32m    664\u001b[0m protocol \u001b[39m=\u001b[39m cast(WebSocketClientProtocol, _protocol)\n\u001b[1;32m    665\u001b[0m \u001b[39mtry\u001b[39;00m:\n\u001b[0;32m--> 666\u001b[0m     \u001b[39mawait\u001b[39;00m protocol\u001b[39m.\u001b[39mhandshake(\n\u001b[1;32m    667\u001b[0m         \u001b[39mself\u001b[39m\u001b[39m.\u001b[39m_wsuri,\n\u001b[1;32m    668\u001b[0m         origin\u001b[39m=\u001b[39mprotocol\u001b[39m.\u001b[39morigin,\n\u001b[1;32m    669\u001b[0m         available_extensions\u001b[39m=\u001b[39mprotocol\u001b[39m.\u001b[39mavailable_extensions,\n\u001b[1;32m    670\u001b[0m         available_subprotocols\u001b[39m=\u001b[39mprotocol\u001b[39m.\u001b[39mavailable_subprotocols,\n\u001b[1;32m    671\u001b[0m         extra_headers\u001b[39m=\u001b[39mprotocol\u001b[39m.\u001b[39mextra_headers,\n\u001b[1;32m    672\u001b[0m     )\n\u001b[1;32m    673\u001b[0m \u001b[39mexcept\u001b[39;00m RedirectHandshake \u001b[39mas\u001b[39;00m exc:\n\u001b[1;32m    674\u001b[0m     protocol\u001b[39m.\u001b[39mfail_connection()\n",
      "File \u001b[0;32m~/git/geoengine-python/env/lib/python3.10/site-packages/websockets/legacy/client.py:332\u001b[0m, in \u001b[0;36mWebSocketClientProtocol.handshake\u001b[0;34m(self, wsuri, origin, available_extensions, available_subprotocols, extra_headers)\u001b[0m\n\u001b[1;32m    330\u001b[0m     \u001b[39mraise\u001b[39;00m RedirectHandshake(response_headers[\u001b[39m\"\u001b[39m\u001b[39mLocation\u001b[39m\u001b[39m\"\u001b[39m])\n\u001b[1;32m    331\u001b[0m \u001b[39melif\u001b[39;00m status_code \u001b[39m!=\u001b[39m \u001b[39m101\u001b[39m:\n\u001b[0;32m--> 332\u001b[0m     \u001b[39mraise\u001b[39;00m InvalidStatusCode(status_code, response_headers)\n\u001b[1;32m    334\u001b[0m check_response(response_headers, key)\n\u001b[1;32m    336\u001b[0m \u001b[39mself\u001b[39m\u001b[39m.\u001b[39mextensions \u001b[39m=\u001b[39m \u001b[39mself\u001b[39m\u001b[39m.\u001b[39mprocess_extensions(\n\u001b[1;32m    337\u001b[0m     response_headers, available_extensions\n\u001b[1;32m    338\u001b[0m )\n",
      "\u001b[0;31mInvalidStatusCode\u001b[0m: server rejected WebSocket connection: HTTP 400"
     ]
    }
   ],
   "source": [
    "import datetime\n",
    "\n",
    "start_dt = datetime.datetime(2021, 4, 1, 0, 0, 0, tzinfo=datetime.timezone.utc)\n",
    "end_dt = datetime.datetime(2021, 10, 30, 0, 0, 0, tzinfo=datetime.timezone.utc)\n",
    "\n",
    "\n",
    "async for x in workflow.vector_stream(\n",
    "    ge.QueryRectangle(\n",
    "        spatial_bounds=ge.BoundingBox2D(\n",
    "            xmin=xmin,\n",
    "            ymin=ymin,\n",
    "            xmax=xmax,\n",
    "            ymax=ymax,\n",
    "        ),\n",
    "        time_interval=ge.TimeInterval(\n",
    "            start=start_dt,\n",
    "            end=end_dt,\n",
    "        ),\n",
    "        resolution=ge.SpatialResolution(\n",
    "            100.0,\n",
    "            100.0,\n",
    "        ),\n",
    "        srs=\"EPSG:32632\",\n",
    ")):\n",
    "    print (x)\n",
    "\n"
   ]
  }
 ],
 "metadata": {
  "kernelspec": {
   "display_name": "env",
   "language": "python",
   "name": "python3"
  },
  "language_info": {
   "codemirror_mode": {
    "name": "ipython",
    "version": 3
   },
   "file_extension": ".py",
   "mimetype": "text/x-python",
   "name": "python",
   "nbconvert_exporter": "python",
   "pygments_lexer": "ipython3",
   "version": "3.10.6"
  },
  "orig_nbformat": 4
 },
 "nbformat": 4,
 "nbformat_minor": 2
}
