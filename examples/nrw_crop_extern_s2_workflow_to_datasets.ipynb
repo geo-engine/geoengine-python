{
 "cells": [
  {
   "cell_type": "code",
   "execution_count": 10,
   "metadata": {},
   "outputs": [],
   "source": [
    "import geopandas as gpd\n",
    "import pandas as pd\n",
    "import numpy as np\n",
    "\n",
    "import geoengine as ge"
   ]
  },
  {
   "cell_type": "code",
   "execution_count": 11,
   "metadata": {},
   "outputs": [],
   "source": [
    "ge.initialize(\"http://localhost:3030/api\")#, credentials=(\"admin@localhost\", \"admin\"))"
   ]
  },
  {
   "cell_type": "code",
   "execution_count": 12,
   "metadata": {},
   "outputs": [
    {
     "data": {
      "text/plain": [
       "(421398.30688394164, 5681079.293017321, 476200.5934965983, 5727832.747780239)"
      ]
     },
     "execution_count": 12,
     "metadata": {},
     "output_type": "execute_result"
    }
   ],
   "source": [
    "bounds_array = [421398.30688394164, 5681079.293017321, 476200.5934965983, 5727832.747780239]\n",
    "xmin = bounds_array[0]\n",
    "ymin = bounds_array[1]\n",
    "xmax = bounds_array[2]\n",
    "ymax = bounds_array[3]\n",
    "\n",
    "(xmin, ymin, xmax, ymax)"
   ]
  },
  {
   "cell_type": "code",
   "execution_count": 13,
   "metadata": {},
   "outputs": [],
   "source": [
    "# sentinel2_band_scl_workflow = ge.unstable.workflow_blueprints.sentinel2_band(\"SCL\")\n",
    "# sentinel2_band_scl_workflow.to_workflow_dict()"
   ]
  },
  {
   "cell_type": "code",
   "execution_count": 14,
   "metadata": {},
   "outputs": [],
   "source": [
    "# senttinel2_band_scl_workflow_id = ge.register_workflow(sentinel2_band_scl_workflow.to_workflow_dict())\n",
    "# senttinel2_band_scl_workflow_id"
   ]
  },
  {
   "cell_type": "code",
   "execution_count": 15,
   "metadata": {},
   "outputs": [
    {
     "data": {
      "text/plain": [
       "{'spatialBounds': {'upperLeftCoordinate': {'x': 421398.30688394164,\n",
       "   'y': 5727832.747780239},\n",
       "  'lowerRightCoordinate': {'x': 476200.5934965983, 'y': 5681079.293017321}},\n",
       " 'timeInterval': {'start': '2021-01-01T00:00:00.000+00:00',\n",
       "  'end': '2021-12-31T00:00:00.000+00:00'},\n",
       " 'spatialResolution': {'x': 10.0, 'y': 10.0}}"
      ]
     },
     "execution_count": 15,
     "metadata": {},
     "output_type": "execute_result"
    }
   ],
   "source": [
    "from datetime import datetime\n",
    "time_start = datetime(2021, 1, 1)\n",
    "time_end = datetime(2021, 12, 31)\n",
    "\n",
    "study_area = ge.api.RasterQueryRectangle(\n",
    "    spatialBounds=ge.SpatialPartition2D(xmin, ymin, xmax, ymax).to_api_dict(),\n",
    "    timeInterval=ge.TimeInterval(time_start, time_end).to_api_dict(),\n",
    "    spatialResolution=ge.SpatialResolution(10.0, 10.0).to_api_dict(),\n",
    ")\n",
    "study_area"
   ]
  },
  {
   "cell_type": "code",
   "execution_count": 16,
   "metadata": {},
   "outputs": [
    {
     "data": {
      "text/plain": [
       "{}"
      ]
     },
     "execution_count": 16,
     "metadata": {},
     "output_type": "execute_result"
    }
   ],
   "source": [
    "status = {}\n",
    "\n",
    "for b in []: # [\"B03\", \"B04\", \"B08\", \"SCL\"]:\n",
    "    print(b)\n",
    "    sentinel2_band_workflow = ge.unstable.workflow_blueprints.sentinel2_band(b)\n",
    "    sentinel2_band_workflow_id = ge.register_workflow(sentinel2_band_workflow.to_workflow_dict())\n",
    "    sentinel2_band_workflow_dataset_task = sentinel2_band_workflow_id.save_as_dataset(study_area, f\"sentinel2_nrw_crop_10m_{b}\")\n",
    "    sentinel2_band_workflow_dataset_task.wait_for_finish(print_status=False)\n",
    "    print(sentinel2_band_workflow_dataset_task.get_status())\n",
    "    status[b] = sentinel2_band_workflow_dataset_task.get_status()\n",
    "\n",
    "status"
   ]
  },
  {
   "attachments": {},
   "cell_type": "markdown",
   "metadata": {},
   "source": [
    "Local Sentinel2 to month aggregates workflow\n"
   ]
  },
  {
   "cell_type": "code",
   "execution_count": 17,
   "metadata": {},
   "outputs": [
    {
     "data": {
      "text/plain": [
       "{'b02': {'type': 'internal',\n",
       "  'datasetId': '48d30acd-a378-4f2a-89b3-d73430c0f29e'},\n",
       " 'b03': {'type': 'internal',\n",
       "  'datasetId': '200ed06c-fcd1-41a3-b2dd-68b5d0b338a9'},\n",
       " 'b04': {'type': 'internal',\n",
       "  'datasetId': 'b9ececef-5a0c-4294-be16-334e8017f60f'},\n",
       " 'b08': {'type': 'internal',\n",
       "  'datasetId': '8e635367-35ff-42f9-bb21-88ae9db8be8d'},\n",
       " 'scl': {'type': 'internal',\n",
       "  'datasetId': '64636605-10da-4576-bf21-a265cc1f7d9c'}}"
      ]
     },
     "execution_count": 17,
     "metadata": {},
     "output_type": "execute_result"
    }
   ],
   "source": [
    "## IF you ran the workflow, you can get the ids from the status\n",
    "# band_data_map = { name: task_status.info['dataset'] for name, task_status in status.items() }\n",
    "## IF you have the data already added, youn simply define the ids.\n",
    "band_data_map = {\n",
    "    'b02': '48d30acd-a378-4f2a-89b3-d73430c0f29e',\n",
    "    'b03': '200ed06c-fcd1-41a3-b2dd-68b5d0b338a9',\n",
    "    'b04': 'b9ececef-5a0c-4294-be16-334e8017f60f',\n",
    "    'b08': '8e635367-35ff-42f9-bb21-88ae9db8be8d',\n",
    "    'scl': '64636605-10da-4576-bf21-a265cc1f7d9c'\n",
    "    }\n",
    "\n",
    "band_data_id_map = {name: \n",
    "    ge.api.InternalDataId(\n",
    "        type=\"internal\",\n",
    "        datasetId=id) for name, id in band_data_map.items()\n",
    "} \n",
    "\n",
    "band_data_id_map"
   ]
  },
  {
   "cell_type": "code",
   "execution_count": 18,
   "metadata": {},
   "outputs": [
    {
     "name": "stdout",
     "output_type": "stream",
     "text": [
      "B02\n"
     ]
    }
   ],
   "source": [
    "status = {}\n",
    "\n",
    "for b in [\"B02\", \"B03\", \"B04\", \"B08\", \"NDVI\"]: # \n",
    "    print(b)\n",
    "    sentinel2_band_workflow = ge.unstable.workflow_blueprints.s2_cloud_free_monthly_band_custom_input(b, band_data_id_map, granularity=\"months\", window_size=1, aggregation_type=\"mean\")\n",
    "    sentinel2_band_workflow_id = ge.register_workflow(sentinel2_band_workflow.to_workflow_dict())\n",
    "    sentinel2_band_workflow_dataset_task = sentinel2_band_workflow_id.save_as_dataset(study_area, f\"sentinel2_nrw_crop_10m_cf_monthly_{b}\")\n",
    "    sentinel2_band_workflow_dataset_task.wait_for_finish(print_status=False)\n",
    "    print(sentinel2_band_workflow_dataset_task.get_status())\n",
    "    status[b] = sentinel2_band_workflow_dataset_task.get_status()\n",
    "\n",
    "# status=completed, time_started=2023-03-23 15:06:16.262000+00:00, info={'dataset': '583a3a95-7038-43c0-954b-6f0701640704', 'upload': 'c253adc9-b237-4d87-af52-e4df70730d0b'}, time_total=00:13:25\n",
    "status"
   ]
  },
  {
   "attachments": {},
   "cell_type": "markdown",
   "metadata": {},
   "source": [
    "Points with monthly Sentinel2 data"
   ]
  },
  {
   "cell_type": "code",
   "execution_count": null,
   "metadata": {},
   "outputs": [],
   "source": [
    "monthly_band_data_map = { name: task_status.info['dataset'] for name, task_status in status.items() }\n",
    "\n",
    "#monthly_band_data_map = {\n",
    "#    'b02': 'a291c42d-ec5a-4702-954e-a76b17154752',\n",
    "#    'b03': '8a15acd3-e135-4cc1-83b3-a883a52d69d7',\n",
    "#    'b04': '9d3f5b09-3cb6-4dac-a673-9e5ead88a221',\n",
    "#    'b08': 'd7775c4c-ab71-4f8e-8fac-ccedb154861a',\n",
    "#    'scl': '60fb38a6-9002-4254-8554-15ac293876c7'\n",
    "#    }\n",
    "\n",
    "monthly_band_data_id_map = {name: \n",
    "    ge.api.InternalDataId(\n",
    "        type=\"internal\",\n",
    "        datasetId=id) for name, id in monthly_band_data_map.items()\n",
    "} \n"
   ]
  },
  {
   "cell_type": "code",
   "execution_count": null,
   "metadata": {},
   "outputs": [],
   "source": [
    "points_df = gpd.read_file(\"group_sample_frac1_inspireId_utm32n.gpkg\")\n",
    "points_id = ge.upload_dataframe(points_df, \"group_sample_frac1_inspireId\")\n",
    "points_id"
   ]
  },
  {
   "cell_type": "code",
   "execution_count": null,
   "metadata": {},
   "outputs": [],
   "source": [
    "points_source_operator = ge.unstable.workflow_operators.OgrSource(str(points_id))\n",
    "points_source_operator.to_workflow_dict()"
   ]
  },
  {
   "cell_type": "code",
   "execution_count": null,
   "metadata": {},
   "outputs": [],
   "source": [
    "# projected_points = ge.unstable.workflow_operators.Reprojection(points_source_operator, target_spatial_reference=\"EPSG:32632\")\n",
    "\n",
    "points_with_s2_cloud_free = ge.unstable.workflow_operators.RasterVectorJoin(\n",
    "    raster_sources=[ge.unstable.workflow_operators.GdalSource(x) for x in monthly_band_data_id_map.values() ],\n",
    "    vector_source=points_source_operator, #projected_points,\n",
    "    new_column_names=[x for x in monthly_band_data_id_map.keys()],\n",
    ")\n",
    "\n",
    "points_with_s2_cloud_free.to_workflow_dict()\n",
    "\n",
    "workflow = ge.register_workflow(points_with_s2_cloud_free.to_workflow_dict())\n",
    "workflow"
   ]
  },
  {
   "cell_type": "code",
   "execution_count": null,
   "metadata": {},
   "outputs": [],
   "source": [
    "start_dt = datetime(2021, 4, 1, 0, 0, 0)\n",
    "end_dt = datetime(2021, 10, 30, 0, 0, 0)\n",
    "\n",
    "start_dt, end_dt"
   ]
  },
  {
   "cell_type": "code",
   "execution_count": null,
   "metadata": {},
   "outputs": [],
   "source": [
    "gp_res = await workflow.vector_stream_into_geopandas(\n",
    "    ge.QueryRectangle(\n",
    "        spatial_bounds=ge.BoundingBox2D(\n",
    "            xmin=xmin,\n",
    "            ymin=ymin,\n",
    "            xmax=xmax,\n",
    "            ymax=ymax,\n",
    "        ),\n",
    "        time_interval=ge.TimeInterval(\n",
    "            start=start_dt,\n",
    "            end=end_dt,\n",
    "        ),\n",
    "        resolution=ge.SpatialResolution(\n",
    "            10.0,\n",
    "            10.0,\n",
    "        ),\n",
    "        srs=\"EPSG:32632\",\n",
    "))\n",
    "\n",
    "gp_res.to_file(\"gp_res_10_frac1_test_test_monthly.gpkg\", driver=\"GPKG\")\n",
    "gp_res"
   ]
  }
 ],
 "metadata": {
  "kernelspec": {
   "display_name": "env",
   "language": "python",
   "name": "python3"
  },
  "language_info": {
   "codemirror_mode": {
    "name": "ipython",
    "version": 3
   },
   "file_extension": ".py",
   "mimetype": "text/x-python",
   "name": "python",
   "nbconvert_exporter": "python",
   "pygments_lexer": "ipython3",
   "version": "3.10.6"
  },
  "orig_nbformat": 4
 },
 "nbformat": 4,
 "nbformat_minor": 2
}
