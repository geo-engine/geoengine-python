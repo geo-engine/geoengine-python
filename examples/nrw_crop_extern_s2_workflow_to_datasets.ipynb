{
 "cells": [
  {
   "cell_type": "code",
   "execution_count": 1,
   "metadata": {},
   "outputs": [
    {
     "name": "stderr",
     "output_type": "stream",
     "text": [
      "/home/droenner/git/geoengine-python/env/lib/python3.10/site-packages/geopandas/_compat.py:112: UserWarning: The Shapely GEOS version (3.10.3-CAPI-1.16.1) is incompatible with the GEOS version PyGEOS was compiled with (3.10.4-CAPI-1.16.2). Conversions between both will be slow.\n",
      "  warnings.warn(\n"
     ]
    }
   ],
   "source": [
    "import geopandas as gpd\n",
    "import geoengine as ge"
   ]
  },
  {
   "cell_type": "code",
   "execution_count": 2,
   "metadata": {},
   "outputs": [],
   "source": [
    "ge.initialize(\"http://localhost:3030/api\", credentials=(\"admin@localhost\", \"admin\"))"
   ]
  },
  {
   "cell_type": "code",
   "execution_count": 3,
   "metadata": {},
   "outputs": [
    {
     "data": {
      "text/plain": [
       "Server:              http://localhost:3030/api\n",
       "User Id:             d5328854-6190-4af9-ad69-4e74b0961ac9\n",
       "Session Id:          f0d791ce-7823-43c8-a307-69316ebcab88\n",
       "Session valid until: 2023-03-27T18:49:11.517Z"
      ]
     },
     "execution_count": 3,
     "metadata": {},
     "output_type": "execute_result"
    }
   ],
   "source": [
    "session = ge.get_session()\n",
    "user_id = session.user_id\n",
    "session"
   ]
  },
  {
   "cell_type": "code",
   "execution_count": 4,
   "metadata": {},
   "outputs": [
    {
     "data": {
      "text/plain": [
       "0"
      ]
     },
     "execution_count": 4,
     "metadata": {},
     "output_type": "execute_result"
    }
   ],
   "source": [
    "used_quota_start = ge.get_quota(user_id)['used']\n",
    "used_quota_start"
   ]
  },
  {
   "cell_type": "code",
   "execution_count": 5,
   "metadata": {},
   "outputs": [
    {
     "data": {
      "text/plain": [
       "(421398.30688394164, 5681079.293017321, 476200.5934965983, 5727832.747780239)"
      ]
     },
     "execution_count": 5,
     "metadata": {},
     "output_type": "execute_result"
    }
   ],
   "source": [
    "bounds_array = [421398.30688394164, 5681079.293017321, 476200.5934965983, 5727832.747780239]\n",
    "xmin = bounds_array[0]\n",
    "ymin = bounds_array[1]\n",
    "xmax = bounds_array[2]\n",
    "ymax = bounds_array[3]\n",
    "\n",
    "(xmin, ymin, xmax, ymax)"
   ]
  },
  {
   "cell_type": "code",
   "execution_count": 6,
   "metadata": {},
   "outputs": [
    {
     "data": {
      "text/plain": [
       "{'type': 'Raster',\n",
       " 'operator': {'type': 'GdalSource',\n",
       "  'params': {'data': {'type': 'external',\n",
       "    'providerId': '5779494c-f3a2-48b3-8a2d-5fbba8c5b6c5',\n",
       "    'layerId': 'UTM32N:SCL'}}}}"
      ]
     },
     "execution_count": 6,
     "metadata": {},
     "output_type": "execute_result"
    }
   ],
   "source": [
    "sentinel2_band_scl_workflow = ge.unstable.workflow_blueprints.sentinel2_band(\"SCL\")\n",
    "sentinel2_band_scl_workflow.to_workflow_dict()"
   ]
  },
  {
   "cell_type": "code",
   "execution_count": 7,
   "metadata": {},
   "outputs": [
    {
     "data": {
      "text/plain": [
       "11847314-a330-5360-b27b-50cf9eca6613"
      ]
     },
     "execution_count": 7,
     "metadata": {},
     "output_type": "execute_result"
    }
   ],
   "source": [
    "senttinel2_band_scl_workflow_id = ge.register_workflow(sentinel2_band_scl_workflow.to_workflow_dict())\n",
    "senttinel2_band_scl_workflow_id"
   ]
  },
  {
   "cell_type": "code",
   "execution_count": 8,
   "metadata": {},
   "outputs": [
    {
     "data": {
      "text/plain": [
       "{'spatialBounds': {'upperLeftCoordinate': {'x': 421398.30688394164,\n",
       "   'y': 5727832.747780239},\n",
       "  'lowerRightCoordinate': {'x': 476200.5934965983, 'y': 5681079.293017321}},\n",
       " 'timeInterval': {'start': '2021-01-01T00:00:00.000+00:00',\n",
       "  'end': '2021-12-31T00:00:00.000+00:00'},\n",
       " 'spatialResolution': {'x': 10.0, 'y': 10.0}}"
      ]
     },
     "execution_count": 8,
     "metadata": {},
     "output_type": "execute_result"
    }
   ],
   "source": [
    "from datetime import datetime\n",
    "time_start = datetime(2021, 1, 1)\n",
    "time_end = datetime(2021, 12, 31)\n",
    "\n",
    "study_area = ge.api.RasterQueryRectangle(\n",
    "    spatialBounds=ge.SpatialPartition2D(xmin, ymin, xmax, ymax).to_api_dict(),\n",
    "    timeInterval=ge.TimeInterval(time_start, time_end).to_api_dict(),\n",
    "    spatialResolution=ge.SpatialResolution(10.0, 10.0).to_api_dict(),\n",
    ")\n",
    "study_area"
   ]
  },
  {
   "cell_type": "code",
   "execution_count": 9,
   "metadata": {},
   "outputs": [
    {
     "name": "stdout",
     "output_type": "stream",
     "text": [
      "B02\n",
      "status=completed, time_started=2023-03-27 17:49:12.057000+00:00, info={'dataset': '1f171564-ddb4-4538-8737-1becf6b2d78b', 'upload': 'f0a17c38-aa49-4803-98a6-0d0f01a31795'}, time_total=00:52:08\n",
      "B03\n",
      "status=completed, time_started=2023-03-27 18:41:21.940000+00:00, info={'dataset': 'f387dce2-c081-4652-aa2a-57216df6c9a2', 'upload': '8d2a0356-22b3-493a-81fb-ec08a4a2b715'}, time_total=00:53:21\n",
      "B04\n",
      "status=completed, time_started=2023-03-27 19:34:46.857000+00:00, info={'dataset': 'e414ab68-6644-44f7-b81c-05d0e3efdbfb', 'upload': '13723a8c-f0b1-4430-a1ce-fc86e2c1f81e'}, time_total=00:54:57\n",
      "B08\n",
      "status=completed, time_started=2023-03-27 20:29:46.936000+00:00, info={'dataset': '1b351f15-e55c-4747-8906-8444e46c1711', 'upload': '044ded38-32d1-4f70-962e-af8ef0e4f9bd'}, time_total=00:56:15\n",
      "SCL\n",
      "status=completed, time_started=2023-03-27 21:26:07.169000+00:00, info={'dataset': 'f85fbcad-0df0-40bc-84ec-b8e8358cbffb', 'upload': '2a91cfe2-1e27-484e-bff1-cfd2f0b98ece'}, time_total=00:12:29\n"
     ]
    },
    {
     "data": {
      "text/plain": [
       "{'B02': TaskStatusInfo(status='completed', time_started=datetime.datetime(2023, 3, 27, 17, 49, 12, 57000, tzinfo=datetime.timezone.utc),info = {'dataset': '1f171564-ddb4-4538-8737-1becf6b2d78b', 'upload': 'f0a17c38-aa49-4803-98a6-0d0f01a31795'}, time_total = '00:52:08'),\n",
       " 'B03': TaskStatusInfo(status='completed', time_started=datetime.datetime(2023, 3, 27, 18, 41, 21, 940000, tzinfo=datetime.timezone.utc),info = {'dataset': 'f387dce2-c081-4652-aa2a-57216df6c9a2', 'upload': '8d2a0356-22b3-493a-81fb-ec08a4a2b715'}, time_total = '00:53:21'),\n",
       " 'B04': TaskStatusInfo(status='completed', time_started=datetime.datetime(2023, 3, 27, 19, 34, 46, 857000, tzinfo=datetime.timezone.utc),info = {'dataset': 'e414ab68-6644-44f7-b81c-05d0e3efdbfb', 'upload': '13723a8c-f0b1-4430-a1ce-fc86e2c1f81e'}, time_total = '00:54:57'),\n",
       " 'B08': TaskStatusInfo(status='completed', time_started=datetime.datetime(2023, 3, 27, 20, 29, 46, 936000, tzinfo=datetime.timezone.utc),info = {'dataset': '1b351f15-e55c-4747-8906-8444e46c1711', 'upload': '044ded38-32d1-4f70-962e-af8ef0e4f9bd'}, time_total = '00:56:15'),\n",
       " 'SCL': TaskStatusInfo(status='completed', time_started=datetime.datetime(2023, 3, 27, 21, 26, 7, 169000, tzinfo=datetime.timezone.utc),info = {'dataset': 'f85fbcad-0df0-40bc-84ec-b8e8358cbffb', 'upload': '2a91cfe2-1e27-484e-bff1-cfd2f0b98ece'}, time_total = '00:12:29')}"
      ]
     },
     "execution_count": 9,
     "metadata": {},
     "output_type": "execute_result"
    }
   ],
   "source": [
    "status_download = {}\n",
    "\n",
    "for b in [\"B02\", \"B03\", \"B04\", \"B08\", \"SCL\"]:\n",
    "    print(b)\n",
    "    sentinel2_band_workflow = ge.unstable.workflow_blueprints.sentinel2_band(b)\n",
    "    sentinel2_band_workflow_id = ge.register_workflow(sentinel2_band_workflow.to_workflow_dict())\n",
    "    sentinel2_band_workflow_dataset_task = sentinel2_band_workflow_id.save_as_dataset(study_area, f\"sentinel2_nrw_crop_10m_{b}\")\n",
    "    sentinel2_band_workflow_dataset_task.wait_for_finish(print_status=False)\n",
    "    print(sentinel2_band_workflow_dataset_task.get_status())\n",
    "    status_download[b] = sentinel2_band_workflow_dataset_task.get_status()\n",
    "\n",
    "status_download"
   ]
  },
  {
   "cell_type": "code",
   "execution_count": 10,
   "metadata": {},
   "outputs": [
    {
     "data": {
      "text/plain": [
       "17460"
      ]
     },
     "execution_count": 10,
     "metadata": {},
     "output_type": "execute_result"
    }
   ],
   "source": [
    "used_quota_download = ge.get_quota(user_id)['used'] - used_quota_start\n",
    "used_quota_download"
   ]
  },
  {
   "attachments": {},
   "cell_type": "markdown",
   "metadata": {},
   "source": [
    "Local Sentinel2 to month aggregates workflow\n"
   ]
  },
  {
   "cell_type": "code",
   "execution_count": 11,
   "metadata": {},
   "outputs": [
    {
     "data": {
      "text/plain": [
       "{'b02': {'type': 'internal',\n",
       "  'datasetId': '1f171564-ddb4-4538-8737-1becf6b2d78b'},\n",
       " 'b03': {'type': 'internal',\n",
       "  'datasetId': 'f387dce2-c081-4652-aa2a-57216df6c9a2'},\n",
       " 'b04': {'type': 'internal',\n",
       "  'datasetId': 'e414ab68-6644-44f7-b81c-05d0e3efdbfb'},\n",
       " 'b08': {'type': 'internal',\n",
       "  'datasetId': '1b351f15-e55c-4747-8906-8444e46c1711'},\n",
       " 'scl': {'type': 'internal',\n",
       "  'datasetId': 'f85fbcad-0df0-40bc-84ec-b8e8358cbffb'}}"
      ]
     },
     "execution_count": 11,
     "metadata": {},
     "output_type": "execute_result"
    }
   ],
   "source": [
    "## IF you ran the workflow, you can get the ids from the status\n",
    "band_data_map = { name: task_status.info['dataset'] for name, task_status in status_download.items() }\n",
    "## IF you have the data already added, youn simply define the ids.\n",
    "#band_data_map = {\n",
    "#    'b02': '48d30acd-a378-4f2a-89b3-d73430c0f29e',\n",
    "#    'b03': '200ed06c-fcd1-41a3-b2dd-68b5d0b338a9',\n",
    "#    'b04': 'b9ececef-5a0c-4294-be16-334e8017f60f',\n",
    "#    'b08': '8e635367-35ff-42f9-bb21-88ae9db8be8d',\n",
    "#    'scl': '64636605-10da-4576-bf21-a265cc1f7d9c'\n",
    "#    }\n",
    "\n",
    "band_data_id_map = {name.lower(): \n",
    "    ge.api.InternalDataId(\n",
    "        type=\"internal\",\n",
    "        datasetId=id) for name, id in band_data_map.items()\n",
    "} \n",
    "\n",
    "band_data_id_map"
   ]
  },
  {
   "cell_type": "code",
   "execution_count": 12,
   "metadata": {},
   "outputs": [
    {
     "name": "stdout",
     "output_type": "stream",
     "text": [
      "B02\n",
      "status=completed, time_started=2023-03-27 21:38:38.532000+00:00, info={'dataset': 'c533b58b-9c09-4eba-9fcb-cc468aa0afc9', 'upload': '10c89ab5-d2f4-4693-8280-0b0c9eaa2aca'}, time_total=00:13:18\n",
      "B03\n",
      "status=completed, time_started=2023-03-27 21:51:59.610000+00:00, info={'dataset': 'c33e80a6-50d6-411c-a8b7-9397e0190e6d', 'upload': '5b52968a-ed72-400f-9c40-5d3210a206bc'}, time_total=00:13:10\n",
      "B04\n",
      "status=completed, time_started=2023-03-27 22:05:10.714000+00:00, info={'dataset': 'd917ff6f-5d1d-44da-a543-91509a2b7c3c', 'upload': 'eff2fa92-aac2-4d3e-bdfd-4d4703132a49'}, time_total=00:13:20\n",
      "B08\n",
      "status=completed, time_started=2023-03-27 22:18:31.762000+00:00, info={'dataset': '0970f5a8-66cc-4348-91af-1ec413edb6ce', 'upload': '229ff1ae-4afe-48c1-8aee-223a57e4e9e8'}, time_total=00:13:13\n",
      "NDVI\n",
      "status=completed, time_started=2023-03-27 22:31:47.842000+00:00, info={'dataset': 'd62c540f-1ad5-450c-b81b-bf20af4858b0', 'upload': '0df9156c-ef47-422c-aed4-fe25ac98d87a'}, time_total=00:13:27\n"
     ]
    },
    {
     "data": {
      "text/plain": [
       "{'B02': TaskStatusInfo(status='completed', time_started=datetime.datetime(2023, 3, 27, 21, 38, 38, 532000, tzinfo=datetime.timezone.utc),info = {'dataset': 'c533b58b-9c09-4eba-9fcb-cc468aa0afc9', 'upload': '10c89ab5-d2f4-4693-8280-0b0c9eaa2aca'}, time_total = '00:13:18'),\n",
       " 'B03': TaskStatusInfo(status='completed', time_started=datetime.datetime(2023, 3, 27, 21, 51, 59, 610000, tzinfo=datetime.timezone.utc),info = {'dataset': 'c33e80a6-50d6-411c-a8b7-9397e0190e6d', 'upload': '5b52968a-ed72-400f-9c40-5d3210a206bc'}, time_total = '00:13:10'),\n",
       " 'B04': TaskStatusInfo(status='completed', time_started=datetime.datetime(2023, 3, 27, 22, 5, 10, 714000, tzinfo=datetime.timezone.utc),info = {'dataset': 'd917ff6f-5d1d-44da-a543-91509a2b7c3c', 'upload': 'eff2fa92-aac2-4d3e-bdfd-4d4703132a49'}, time_total = '00:13:20'),\n",
       " 'B08': TaskStatusInfo(status='completed', time_started=datetime.datetime(2023, 3, 27, 22, 18, 31, 762000, tzinfo=datetime.timezone.utc),info = {'dataset': '0970f5a8-66cc-4348-91af-1ec413edb6ce', 'upload': '229ff1ae-4afe-48c1-8aee-223a57e4e9e8'}, time_total = '00:13:13'),\n",
       " 'NDVI': TaskStatusInfo(status='completed', time_started=datetime.datetime(2023, 3, 27, 22, 31, 47, 842000, tzinfo=datetime.timezone.utc),info = {'dataset': 'd62c540f-1ad5-450c-b81b-bf20af4858b0', 'upload': '0df9156c-ef47-422c-aed4-fe25ac98d87a'}, time_total = '00:13:27')}"
      ]
     },
     "execution_count": 12,
     "metadata": {},
     "output_type": "execute_result"
    }
   ],
   "source": [
    "status_agg = {}\n",
    "\n",
    "for b in [\"B02\", \"B03\", \"B04\", \"B08\", \"NDVI\"]:\n",
    "    print(b)\n",
    "    sentinel2_band_workflow = ge.unstable.workflow_blueprints.s2_cloud_free_monthly_band_custom_input(b, band_data_id_map, granularity=\"months\", window_size=1, aggregation_type=\"mean\")\n",
    "    sentinel2_band_workflow_id = ge.register_workflow(sentinel2_band_workflow.to_workflow_dict())\n",
    "    sentinel2_band_workflow_dataset_task = sentinel2_band_workflow_id.save_as_dataset(study_area, f\"sentinel2_nrw_crop_10m_cf_monthly_{b}\")\n",
    "    sentinel2_band_workflow_dataset_task.wait_for_finish(print_status=False)\n",
    "    print(sentinel2_band_workflow_dataset_task.get_status())\n",
    "    status_agg[b] = sentinel2_band_workflow_dataset_task.get_status()\n",
    "\n",
    "status_agg"
   ]
  },
  {
   "cell_type": "code",
   "execution_count": 13,
   "metadata": {},
   "outputs": [
    {
     "data": {
      "text/plain": [
       "58704"
      ]
     },
     "execution_count": 13,
     "metadata": {},
     "output_type": "execute_result"
    }
   ],
   "source": [
    "used_quota_agg = ge.get_quota(user_id)['used'] - used_quota_download\n",
    "used_quota_agg"
   ]
  },
  {
   "attachments": {},
   "cell_type": "markdown",
   "metadata": {},
   "source": [
    "Points with monthly Sentinel2 data"
   ]
  },
  {
   "cell_type": "code",
   "execution_count": 14,
   "metadata": {},
   "outputs": [],
   "source": [
    "monthly_band_data_map = { name: task_status.info['dataset'] for name, task_status in status_agg.items() }\n",
    "\n",
    "#monthly_band_data_map = {\n",
    "#    'b02': 'a291c42d-ec5a-4702-954e-a76b17154752',\n",
    "#    'b03': '8a15acd3-e135-4cc1-83b3-a883a52d69d7',\n",
    "#    'b04': '9d3f5b09-3cb6-4dac-a673-9e5ead88a221',\n",
    "#    'b08': 'd7775c4c-ab71-4f8e-8fac-ccedb154861a',\n",
    "#    'ndvi': '60fb38a6-9002-4254-8554-15ac293876c7'\n",
    "#    }\n",
    "\n",
    "monthly_band_data_id_map = {name: \n",
    "    ge.api.InternalDataId(\n",
    "        type=\"internal\",\n",
    "        datasetId=id) for name, id in monthly_band_data_map.items()\n",
    "} \n"
   ]
  },
  {
   "cell_type": "code",
   "execution_count": 15,
   "metadata": {},
   "outputs": [
    {
     "data": {
      "text/plain": [
       "1f572d66-698d-48de-92eb-e96579a1bb2c"
      ]
     },
     "execution_count": 15,
     "metadata": {},
     "output_type": "execute_result"
    }
   ],
   "source": [
    "points_df = gpd.read_file(\"group_sample_frac1_inspireId_utm32n.gpkg\")\n",
    "points_id = ge.upload_dataframe(points_df, \"group_sample_frac1_inspireId\")\n",
    "points_id"
   ]
  },
  {
   "cell_type": "code",
   "execution_count": 16,
   "metadata": {},
   "outputs": [
    {
     "data": {
      "text/plain": [
       "{'type': 'Vector',\n",
       " 'operator': {'type': 'OgrSource',\n",
       "  'params': {'data': {'type': 'internal',\n",
       "    'datasetId': '1f572d66-698d-48de-92eb-e96579a1bb2c'},\n",
       "   'attributeProjection': None,\n",
       "   'attributeFilters': None}}}"
      ]
     },
     "execution_count": 16,
     "metadata": {},
     "output_type": "execute_result"
    }
   ],
   "source": [
    "points_source_operator = ge.unstable.workflow_operators.OgrSource(str(points_id))\n",
    "points_source_operator.to_workflow_dict()"
   ]
  },
  {
   "cell_type": "code",
   "execution_count": 17,
   "metadata": {},
   "outputs": [
    {
     "data": {
      "text/plain": [
       "fc8b6f1f-7a75-528c-a538-5ed5819ccdd9"
      ]
     },
     "execution_count": 17,
     "metadata": {},
     "output_type": "execute_result"
    }
   ],
   "source": [
    "# projected_points = ge.unstable.workflow_operators.Reprojection(points_source_operator, target_spatial_reference=\"EPSG:32632\") # only needed if input not projected\n",
    "\n",
    "points_with_s2_cloud_free = ge.unstable.workflow_operators.RasterVectorJoin(\n",
    "    raster_sources=[ge.unstable.workflow_operators.GdalSource(x) for x in monthly_band_data_id_map.values() ],\n",
    "    vector_source=points_source_operator, #projected_points,\n",
    "    new_column_names=[x for x in monthly_band_data_id_map.keys()],\n",
    ")\n",
    "\n",
    "points_with_s2_cloud_free.to_workflow_dict()\n",
    "\n",
    "workflow = ge.register_workflow(points_with_s2_cloud_free.to_workflow_dict())\n",
    "workflow"
   ]
  },
  {
   "cell_type": "code",
   "execution_count": 18,
   "metadata": {},
   "outputs": [
    {
     "data": {
      "text/plain": [
       "(datetime.datetime(2021, 1, 1, 0, 0), datetime.datetime(2022, 1, 1, 0, 0))"
      ]
     },
     "execution_count": 18,
     "metadata": {},
     "output_type": "execute_result"
    }
   ],
   "source": [
    "start_dt = datetime(2021, 1, 1, 0, 0, 0)\n",
    "end_dt = datetime(2022, 1, 1, 0, 0, 0)\n",
    "\n",
    "start_dt, end_dt"
   ]
  },
  {
   "cell_type": "code",
   "execution_count": 19,
   "metadata": {},
   "outputs": [
    {
     "data": {
      "text/html": [
       "<div>\n",
       "<style scoped>\n",
       "    .dataframe tbody tr th:only-of-type {\n",
       "        vertical-align: middle;\n",
       "    }\n",
       "\n",
       "    .dataframe tbody tr th {\n",
       "        vertical-align: top;\n",
       "    }\n",
       "\n",
       "    .dataframe thead th {\n",
       "        text-align: right;\n",
       "    }\n",
       "</style>\n",
       "<table border=\"1\" class=\"dataframe\">\n",
       "  <thead>\n",
       "    <tr style=\"text-align: right;\">\n",
       "      <th></th>\n",
       "      <th>B03</th>\n",
       "      <th>CODE</th>\n",
       "      <th>B02</th>\n",
       "      <th>ID</th>\n",
       "      <th>B04</th>\n",
       "      <th>B08</th>\n",
       "      <th>index</th>\n",
       "      <th>INSPIRE_ID</th>\n",
       "      <th>NDVI</th>\n",
       "      <th>geometry</th>\n",
       "      <th>time_start</th>\n",
       "      <th>time_end</th>\n",
       "    </tr>\n",
       "  </thead>\n",
       "  <tbody>\n",
       "    <tr>\n",
       "      <th>0</th>\n",
       "      <td>NaN</td>\n",
       "      <td>311</td>\n",
       "      <td>NaN</td>\n",
       "      <td>0</td>\n",
       "      <td>NaN</td>\n",
       "      <td>NaN</td>\n",
       "      <td>0</td>\n",
       "      <td>https://geodaten.nrw.de/id/inspire-lu-ts/exist...</td>\n",
       "      <td>0.033419</td>\n",
       "      <td>MULTIPOINT (428690.027 5711938.189)</td>\n",
       "      <td>2021-01-01 00:00:00+00:00</td>\n",
       "      <td>2021-02-01 00:00:00+00:00</td>\n",
       "    </tr>\n",
       "    <tr>\n",
       "      <th>1</th>\n",
       "      <td>NaN</td>\n",
       "      <td>131</td>\n",
       "      <td>NaN</td>\n",
       "      <td>1</td>\n",
       "      <td>NaN</td>\n",
       "      <td>NaN</td>\n",
       "      <td>1</td>\n",
       "      <td>https://geodaten.nrw.de/id/inspire-lu-ts/exist...</td>\n",
       "      <td>0.040039</td>\n",
       "      <td>MULTIPOINT (427819.337 5710040.545)</td>\n",
       "      <td>2021-01-01 00:00:00+00:00</td>\n",
       "      <td>2021-02-01 00:00:00+00:00</td>\n",
       "    </tr>\n",
       "    <tr>\n",
       "      <th>2</th>\n",
       "      <td>NaN</td>\n",
       "      <td>115</td>\n",
       "      <td>NaN</td>\n",
       "      <td>2</td>\n",
       "      <td>NaN</td>\n",
       "      <td>NaN</td>\n",
       "      <td>2</td>\n",
       "      <td>https://geodaten.nrw.de/id/inspire-lu-ts/exist...</td>\n",
       "      <td>0.043195</td>\n",
       "      <td>MULTIPOINT (427320.866 5710158.178)</td>\n",
       "      <td>2021-01-01 00:00:00+00:00</td>\n",
       "      <td>2021-02-01 00:00:00+00:00</td>\n",
       "    </tr>\n",
       "    <tr>\n",
       "      <th>3</th>\n",
       "      <td>NaN</td>\n",
       "      <td>459</td>\n",
       "      <td>NaN</td>\n",
       "      <td>3</td>\n",
       "      <td>NaN</td>\n",
       "      <td>NaN</td>\n",
       "      <td>265</td>\n",
       "      <td>https://geodaten.nrw.de/id/inspire-lu-ts/exist...</td>\n",
       "      <td>0.025341</td>\n",
       "      <td>MULTIPOINT (431527.388 5693772.886)</td>\n",
       "      <td>2021-01-01 00:00:00+00:00</td>\n",
       "      <td>2021-02-01 00:00:00+00:00</td>\n",
       "    </tr>\n",
       "    <tr>\n",
       "      <th>4</th>\n",
       "      <td>NaN</td>\n",
       "      <td>459</td>\n",
       "      <td>NaN</td>\n",
       "      <td>4</td>\n",
       "      <td>NaN</td>\n",
       "      <td>NaN</td>\n",
       "      <td>266</td>\n",
       "      <td>https://geodaten.nrw.de/id/inspire-lu-ts/exist...</td>\n",
       "      <td>0.016331</td>\n",
       "      <td>MULTIPOINT (431535.193 5693614.690)</td>\n",
       "      <td>2021-01-01 00:00:00+00:00</td>\n",
       "      <td>2021-02-01 00:00:00+00:00</td>\n",
       "    </tr>\n",
       "    <tr>\n",
       "      <th>...</th>\n",
       "      <td>...</td>\n",
       "      <td>...</td>\n",
       "      <td>...</td>\n",
       "      <td>...</td>\n",
       "      <td>...</td>\n",
       "      <td>...</td>\n",
       "      <td>...</td>\n",
       "      <td>...</td>\n",
       "      <td>...</td>\n",
       "      <td>...</td>\n",
       "      <td>...</td>\n",
       "      <td>...</td>\n",
       "    </tr>\n",
       "    <tr>\n",
       "      <th>593059</th>\n",
       "      <td>780.0</td>\n",
       "      <td>115</td>\n",
       "      <td>596.0</td>\n",
       "      <td>49419</td>\n",
       "      <td>623.0</td>\n",
       "      <td>3531.0</td>\n",
       "      <td>732423</td>\n",
       "      <td>https://geodaten.nrw.de/id/inspire-lu-ts/exist...</td>\n",
       "      <td>0.122704</td>\n",
       "      <td>MULTIPOINT (472357.075 5696612.529)</td>\n",
       "      <td>2021-12-01 00:00:00+00:00</td>\n",
       "      <td>2022-01-01 00:00:00+00:00</td>\n",
       "    </tr>\n",
       "    <tr>\n",
       "      <th>593060</th>\n",
       "      <td>537.0</td>\n",
       "      <td>115</td>\n",
       "      <td>466.0</td>\n",
       "      <td>49420</td>\n",
       "      <td>723.0</td>\n",
       "      <td>1102.0</td>\n",
       "      <td>732424</td>\n",
       "      <td>https://geodaten.nrw.de/id/inspire-lu-ts/exist...</td>\n",
       "      <td>0.093200</td>\n",
       "      <td>MULTIPOINT (472016.875 5697690.039)</td>\n",
       "      <td>2021-12-01 00:00:00+00:00</td>\n",
       "      <td>2022-01-01 00:00:00+00:00</td>\n",
       "    </tr>\n",
       "    <tr>\n",
       "      <th>593061</th>\n",
       "      <td>530.0</td>\n",
       "      <td>115</td>\n",
       "      <td>354.0</td>\n",
       "      <td>49421</td>\n",
       "      <td>463.0</td>\n",
       "      <td>2438.0</td>\n",
       "      <td>732425</td>\n",
       "      <td>https://geodaten.nrw.de/id/inspire-lu-ts/exist...</td>\n",
       "      <td>0.132107</td>\n",
       "      <td>MULTIPOINT (471981.413 5696219.338)</td>\n",
       "      <td>2021-12-01 00:00:00+00:00</td>\n",
       "      <td>2022-01-01 00:00:00+00:00</td>\n",
       "    </tr>\n",
       "    <tr>\n",
       "      <th>593062</th>\n",
       "      <td>489.0</td>\n",
       "      <td>411</td>\n",
       "      <td>473.0</td>\n",
       "      <td>49422</td>\n",
       "      <td>609.0</td>\n",
       "      <td>1214.0</td>\n",
       "      <td>732426</td>\n",
       "      <td>https://geodaten.nrw.de/id/inspire-lu-ts/exist...</td>\n",
       "      <td>0.088917</td>\n",
       "      <td>MULTIPOINT (471704.064 5697043.769)</td>\n",
       "      <td>2021-12-01 00:00:00+00:00</td>\n",
       "      <td>2022-01-01 00:00:00+00:00</td>\n",
       "    </tr>\n",
       "    <tr>\n",
       "      <th>593063</th>\n",
       "      <td>NaN</td>\n",
       "      <td>459</td>\n",
       "      <td>NaN</td>\n",
       "      <td>49423</td>\n",
       "      <td>NaN</td>\n",
       "      <td>NaN</td>\n",
       "      <td>732802</td>\n",
       "      <td>https://geodaten.nrw.de/id/inspire-lu-ts/exist...</td>\n",
       "      <td>0.182366</td>\n",
       "      <td>MULTIPOINT (472522.639 5708612.229)</td>\n",
       "      <td>2021-12-01 00:00:00+00:00</td>\n",
       "      <td>2022-01-01 00:00:00+00:00</td>\n",
       "    </tr>\n",
       "  </tbody>\n",
       "</table>\n",
       "<p>593064 rows × 12 columns</p>\n",
       "</div>"
      ],
      "text/plain": [
       "          B03  CODE    B02     ID    B04     B08   index  \\\n",
       "0         NaN   311    NaN      0    NaN     NaN       0   \n",
       "1         NaN   131    NaN      1    NaN     NaN       1   \n",
       "2         NaN   115    NaN      2    NaN     NaN       2   \n",
       "3         NaN   459    NaN      3    NaN     NaN     265   \n",
       "4         NaN   459    NaN      4    NaN     NaN     266   \n",
       "...       ...   ...    ...    ...    ...     ...     ...   \n",
       "593059  780.0   115  596.0  49419  623.0  3531.0  732423   \n",
       "593060  537.0   115  466.0  49420  723.0  1102.0  732424   \n",
       "593061  530.0   115  354.0  49421  463.0  2438.0  732425   \n",
       "593062  489.0   411  473.0  49422  609.0  1214.0  732426   \n",
       "593063    NaN   459    NaN  49423    NaN     NaN  732802   \n",
       "\n",
       "                                               INSPIRE_ID      NDVI  \\\n",
       "0       https://geodaten.nrw.de/id/inspire-lu-ts/exist...  0.033419   \n",
       "1       https://geodaten.nrw.de/id/inspire-lu-ts/exist...  0.040039   \n",
       "2       https://geodaten.nrw.de/id/inspire-lu-ts/exist...  0.043195   \n",
       "3       https://geodaten.nrw.de/id/inspire-lu-ts/exist...  0.025341   \n",
       "4       https://geodaten.nrw.de/id/inspire-lu-ts/exist...  0.016331   \n",
       "...                                                   ...       ...   \n",
       "593059  https://geodaten.nrw.de/id/inspire-lu-ts/exist...  0.122704   \n",
       "593060  https://geodaten.nrw.de/id/inspire-lu-ts/exist...  0.093200   \n",
       "593061  https://geodaten.nrw.de/id/inspire-lu-ts/exist...  0.132107   \n",
       "593062  https://geodaten.nrw.de/id/inspire-lu-ts/exist...  0.088917   \n",
       "593063  https://geodaten.nrw.de/id/inspire-lu-ts/exist...  0.182366   \n",
       "\n",
       "                                   geometry                time_start  \\\n",
       "0       MULTIPOINT (428690.027 5711938.189) 2021-01-01 00:00:00+00:00   \n",
       "1       MULTIPOINT (427819.337 5710040.545) 2021-01-01 00:00:00+00:00   \n",
       "2       MULTIPOINT (427320.866 5710158.178) 2021-01-01 00:00:00+00:00   \n",
       "3       MULTIPOINT (431527.388 5693772.886) 2021-01-01 00:00:00+00:00   \n",
       "4       MULTIPOINT (431535.193 5693614.690) 2021-01-01 00:00:00+00:00   \n",
       "...                                     ...                       ...   \n",
       "593059  MULTIPOINT (472357.075 5696612.529) 2021-12-01 00:00:00+00:00   \n",
       "593060  MULTIPOINT (472016.875 5697690.039) 2021-12-01 00:00:00+00:00   \n",
       "593061  MULTIPOINT (471981.413 5696219.338) 2021-12-01 00:00:00+00:00   \n",
       "593062  MULTIPOINT (471704.064 5697043.769) 2021-12-01 00:00:00+00:00   \n",
       "593063  MULTIPOINT (472522.639 5708612.229) 2021-12-01 00:00:00+00:00   \n",
       "\n",
       "                        time_end  \n",
       "0      2021-02-01 00:00:00+00:00  \n",
       "1      2021-02-01 00:00:00+00:00  \n",
       "2      2021-02-01 00:00:00+00:00  \n",
       "3      2021-02-01 00:00:00+00:00  \n",
       "4      2021-02-01 00:00:00+00:00  \n",
       "...                          ...  \n",
       "593059 2022-01-01 00:00:00+00:00  \n",
       "593060 2022-01-01 00:00:00+00:00  \n",
       "593061 2022-01-01 00:00:00+00:00  \n",
       "593062 2022-01-01 00:00:00+00:00  \n",
       "593063 2022-01-01 00:00:00+00:00  \n",
       "\n",
       "[593064 rows x 12 columns]"
      ]
     },
     "execution_count": 19,
     "metadata": {},
     "output_type": "execute_result"
    }
   ],
   "source": [
    "gp_res = await workflow.vector_stream_into_geopandas(\n",
    "    ge.QueryRectangle(\n",
    "        spatial_bounds=ge.BoundingBox2D(\n",
    "            xmin=xmin,\n",
    "            ymin=ymin,\n",
    "            xmax=xmax,\n",
    "            ymax=ymax,\n",
    "        ),\n",
    "        time_interval=ge.TimeInterval(\n",
    "            start=start_dt,\n",
    "            end=end_dt,\n",
    "        ),\n",
    "        resolution=ge.SpatialResolution(\n",
    "            10.0,\n",
    "            10.0,\n",
    "        ),\n",
    "        srs=\"EPSG:32632\",\n",
    "))\n",
    "\n",
    "gp_res.to_file(\"gp_res_10_frac1_monthly_utm32n.gpkg\", driver=\"GPKG\")\n",
    "gp_res"
   ]
  },
  {
   "cell_type": "code",
   "execution_count": 20,
   "metadata": {},
   "outputs": [
    {
     "data": {
      "text/plain": [
       "29815"
      ]
     },
     "execution_count": 20,
     "metadata": {},
     "output_type": "execute_result"
    }
   ],
   "source": [
    "used_quota_rvjoin = ge.get_quota(user_id)['used'] - used_quota_agg\n",
    "used_quota_rvjoin"
   ]
  }
 ],
 "metadata": {
  "kernelspec": {
   "display_name": "env",
   "language": "python",
   "name": "python3"
  },
  "language_info": {
   "codemirror_mode": {
    "name": "ipython",
    "version": 3
   },
   "file_extension": ".py",
   "mimetype": "text/x-python",
   "name": "python",
   "nbconvert_exporter": "python",
   "pygments_lexer": "ipython3",
   "version": "3.10.6"
  },
  "orig_nbformat": 4
 },
 "nbformat": 4,
 "nbformat_minor": 2
}
