{
 "cells": [
  {
   "cell_type": "code",
   "execution_count": 1,
   "metadata": {},
   "outputs": [],
   "source": [
    "import geoengine as ge\n",
    "import geoengine.unstable as gu\n"
   ]
  },
  {
   "cell_type": "code",
   "execution_count": 2,
   "metadata": {},
   "outputs": [],
   "source": [
    "ge.initialize(\"http://localhost:3030/api\", admin_token=\"8aca8875-425a-4ef1-8ee6-cdfc62dd7525\")"
   ]
  },
  {
   "cell_type": "code",
   "execution_count": 3,
   "metadata": {},
   "outputs": [],
   "source": [
    "raster_layer_id = \"36574dc3-560a-4b09-9d22-d5945f2b8093\"\n",
    "point_layer_id = \"a9623a5b-b6c5-404b-bc5a-313ff72e4e75\"\n",
    "polygon_layer_id = \"b6191257-6d61-4c6b-90a4-ebfb1b23899d\"\n"
   ]
  },
  {
   "cell_type": "code",
   "execution_count": 4,
   "metadata": {},
   "outputs": [
    {
     "data": {
      "text/plain": [
       "{'type': 'GdalSource',\n",
       " 'params': {'data': {'type': 'internal',\n",
       "   'datasetId': '36574dc3-560a-4b09-9d22-d5945f2b8093'}}}"
      ]
     },
     "execution_count": 4,
     "metadata": {},
     "output_type": "execute_result"
    }
   ],
   "source": [
    "raster_source = gu.workflow_operators.GdalSource(raster_layer_id)\n",
    "raster_source.to_dict()\n"
   ]
  },
  {
   "cell_type": "code",
   "execution_count": 5,
   "metadata": {},
   "outputs": [
    {
     "data": {
      "text/plain": [
       "c7b7c5c8-ee11-5418-bd1f-9e5889f6e04a"
      ]
     },
     "execution_count": 5,
     "metadata": {},
     "output_type": "execute_result"
    }
   ],
   "source": [
    "workflow_id = ge.register_workflow(raster_source.to_workflow_dict())\n",
    "workflow_id"
   ]
  },
  {
   "cell_type": "code",
   "execution_count": 6,
   "metadata": {},
   "outputs": [
    {
     "data": {
      "text/plain": [
       "{'type': 'OgrSource',\n",
       " 'params': {'data': {'type': 'internal',\n",
       "   'datasetId': 'a9623a5b-b6c5-404b-bc5a-313ff72e4e75'},\n",
       "  'attributeProjection': None,\n",
       "  'attributeFilters': None}}"
      ]
     },
     "execution_count": 6,
     "metadata": {},
     "output_type": "execute_result"
    }
   ],
   "source": [
    "point_source = gu.workflow_operators.OgrSource(point_layer_id)\n",
    "point_source.to_dict()"
   ]
  },
  {
   "cell_type": "code",
   "execution_count": 7,
   "metadata": {},
   "outputs": [
    {
     "data": {
      "text/plain": [
       "69cf7aaf-e828-537e-be9b-31933120c931"
      ]
     },
     "execution_count": 7,
     "metadata": {},
     "output_type": "execute_result"
    }
   ],
   "source": [
    "workflow_id = ge.register_workflow(point_source.to_workflow_dict())\n",
    "workflow_id"
   ]
  },
  {
   "cell_type": "code",
   "execution_count": 8,
   "metadata": {},
   "outputs": [
    {
     "data": {
      "text/plain": [
       "{'type': 'OgrSource',\n",
       " 'params': {'data': {'type': 'internal',\n",
       "   'datasetId': 'b6191257-6d61-4c6b-90a4-ebfb1b23899d'},\n",
       "  'attributeProjection': None,\n",
       "  'attributeFilters': None}}"
      ]
     },
     "execution_count": 8,
     "metadata": {},
     "output_type": "execute_result"
    }
   ],
   "source": [
    "polygon_source = gu.workflow_operators.OgrSource(polygon_layer_id)\n",
    "polygon_source.to_dict()"
   ]
  },
  {
   "cell_type": "code",
   "execution_count": 9,
   "metadata": {},
   "outputs": [
    {
     "data": {
      "text/plain": [
       "2c99104b-d5d9-5cdd-a2b9-bd72d1be5b6a"
      ]
     },
     "execution_count": 9,
     "metadata": {},
     "output_type": "execute_result"
    }
   ],
   "source": [
    "workflow_id = ge.register_workflow(polygon_source.to_workflow_dict())\n",
    "workflow_id"
   ]
  },
  {
   "cell_type": "code",
   "execution_count": 10,
   "metadata": {},
   "outputs": [
    {
     "data": {
      "text/plain": [
       "{'type': 'RasterVectorJoin',\n",
       " 'params': {'names': ['raster_value'],\n",
       "  'temporalAggregation': 'none',\n",
       "  'featureAggregation': 'mean'},\n",
       " 'sources': {'vector': {'type': 'OgrSource',\n",
       "   'params': {'data': {'type': 'internal',\n",
       "     'datasetId': 'a9623a5b-b6c5-404b-bc5a-313ff72e4e75'},\n",
       "    'attributeProjection': None,\n",
       "    'attributeFilters': None}},\n",
       "  'rasters': [{'type': 'GdalSource',\n",
       "    'params': {'data': {'type': 'internal',\n",
       "      'datasetId': '36574dc3-560a-4b09-9d22-d5945f2b8093'}}}]}}"
      ]
     },
     "execution_count": 10,
     "metadata": {},
     "output_type": "execute_result"
    }
   ],
   "source": [
    "raster_vector_join = gu.workflow_operators.RasterVectorJoin(vector_source=point_source, raster_sources=[raster_source], new_column_names=[\"raster_value\"])\n",
    "raster_vector_join.to_dict()"
   ]
  },
  {
   "cell_type": "code",
   "execution_count": 11,
   "metadata": {},
   "outputs": [
    {
     "data": {
      "text/plain": [
       "10c5ae97-2261-5b49-a807-7507d8478985"
      ]
     },
     "execution_count": 11,
     "metadata": {},
     "output_type": "execute_result"
    }
   ],
   "source": [
    "workflow_id = ge.register_workflow(raster_vector_join.to_workflow_dict())\n",
    "workflow_id"
   ]
  },
  {
   "cell_type": "code",
   "execution_count": 12,
   "metadata": {},
   "outputs": [
    {
     "data": {
      "text/plain": [
       "{'type': 'PointInPolygonFilter',\n",
       " 'params': {},\n",
       " 'sources': {'points': {'type': 'RasterVectorJoin',\n",
       "   'params': {'names': ['raster_value'],\n",
       "    'temporalAggregation': 'none',\n",
       "    'featureAggregation': 'mean'},\n",
       "   'sources': {'vector': {'type': 'OgrSource',\n",
       "     'params': {'data': {'type': 'internal',\n",
       "       'datasetId': 'a9623a5b-b6c5-404b-bc5a-313ff72e4e75'},\n",
       "      'attributeProjection': None,\n",
       "      'attributeFilters': None}},\n",
       "    'rasters': [{'type': 'GdalSource',\n",
       "      'params': {'data': {'type': 'internal',\n",
       "        'datasetId': '36574dc3-560a-4b09-9d22-d5945f2b8093'}}}]}},\n",
       "  'polygons': {'type': 'OgrSource',\n",
       "   'params': {'data': {'type': 'internal',\n",
       "     'datasetId': 'b6191257-6d61-4c6b-90a4-ebfb1b23899d'},\n",
       "    'attributeProjection': None,\n",
       "    'attributeFilters': None}}}}"
      ]
     },
     "execution_count": 12,
     "metadata": {},
     "output_type": "execute_result"
    }
   ],
   "source": [
    "point_in_polygon_filter = gu.workflow_operators.PointInPolygonFilter(point_source=raster_vector_join, polygon_source=polygon_source)\n",
    "point_in_polygon_filter.to_dict()"
   ]
  },
  {
   "cell_type": "code",
   "execution_count": 13,
   "metadata": {},
   "outputs": [
    {
     "data": {
      "text/plain": [
       "bc909c3a-3256-5713-9fd5-d3385b281cd6"
      ]
     },
     "execution_count": 13,
     "metadata": {},
     "output_type": "execute_result"
    }
   ],
   "source": [
    "workflow_id = ge.register_workflow(point_in_polygon_filter.to_workflow_dict())\n",
    "workflow_id"
   ]
  },
  {
   "cell_type": "code",
   "execution_count": 14,
   "metadata": {},
   "outputs": [
    {
     "data": {
      "text/plain": [
       "{'type': 'RasterTypeConversion',\n",
       " 'params': {'outputDataType': 'F32'},\n",
       " 'sources': {'raster': {'type': 'GdalSource',\n",
       "   'params': {'data': {'type': 'internal',\n",
       "     'datasetId': '36574dc3-560a-4b09-9d22-d5945f2b8093'}}}}}"
      ]
     },
     "execution_count": 14,
     "metadata": {},
     "output_type": "execute_result"
    }
   ],
   "source": [
    "raster_type_conversion = gu.workflow_operators.RasterTypeConversion(source=raster_source, output_data_type=\"F32\")\n",
    "raster_type_conversion.to_dict()"
   ]
  },
  {
   "cell_type": "code",
   "execution_count": 15,
   "metadata": {},
   "outputs": [
    {
     "data": {
      "text/plain": [
       "0506ade4-c177-500a-9c07-e5b1df9611e3"
      ]
     },
     "execution_count": 15,
     "metadata": {},
     "output_type": "execute_result"
    }
   ],
   "source": [
    "workflow_id = ge.register_workflow(raster_type_conversion.to_workflow_dict())\n",
    "workflow_id"
   ]
  },
  {
   "cell_type": "code",
   "execution_count": 16,
   "metadata": {},
   "outputs": [
    {
     "data": {
      "text/plain": [
       "{'type': 'RasterScaling',\n",
       " 'params': {'offsetKeyOrValue': None,\n",
       "  'scaleKeyOrValue': None,\n",
       "  'scalingMode': 'unscale'},\n",
       " 'sources': {'raster': {'type': 'RasterTypeConversion',\n",
       "   'params': {'outputDataType': 'F32'},\n",
       "   'sources': {'raster': {'type': 'GdalSource',\n",
       "     'params': {'data': {'type': 'internal',\n",
       "       'datasetId': '36574dc3-560a-4b09-9d22-d5945f2b8093'}}}}}}}"
      ]
     },
     "execution_count": 16,
     "metadata": {},
     "output_type": "execute_result"
    }
   ],
   "source": [
    "raster_scaling = gu.workflow_operators.RasterScaling(source=raster_type_conversion, scaling_mode='unscale')\n",
    "raster_scaling.to_dict()"
   ]
  },
  {
   "cell_type": "code",
   "execution_count": 17,
   "metadata": {},
   "outputs": [
    {
     "data": {
      "text/plain": [
       "fd4e6ced-4ccf-5f67-a895-ab53c65e919c"
      ]
     },
     "execution_count": 17,
     "metadata": {},
     "output_type": "execute_result"
    }
   ],
   "source": [
    "workflow_id = ge.register_workflow(raster_scaling.to_workflow_dict())\n",
    "workflow_id"
   ]
  },
  {
   "cell_type": "code",
   "execution_count": 18,
   "metadata": {},
   "outputs": [
    {
     "data": {
      "text/plain": [
       "{'type': 'Reprojection',\n",
       " 'params': {'targetSpatialReference': 'EPSG:4326'},\n",
       " 'sources': {'source': {'type': 'RasterScaling',\n",
       "   'params': {'offsetKeyOrValue': None,\n",
       "    'scaleKeyOrValue': None,\n",
       "    'scalingMode': 'unscale'},\n",
       "   'sources': {'raster': {'type': 'RasterTypeConversion',\n",
       "     'params': {'outputDataType': 'F32'},\n",
       "     'sources': {'raster': {'type': 'GdalSource',\n",
       "       'params': {'data': {'type': 'internal',\n",
       "         'datasetId': '36574dc3-560a-4b09-9d22-d5945f2b8093'}}}}}}}}}"
      ]
     },
     "execution_count": 18,
     "metadata": {},
     "output_type": "execute_result"
    }
   ],
   "source": [
    "raster_projection = gu.workflow_operators.Reprojection(source=raster_scaling, target_spatial_reference=\"EPSG:4326\")\n",
    "raster_projection.to_dict()"
   ]
  },
  {
   "cell_type": "code",
   "execution_count": 19,
   "metadata": {},
   "outputs": [
    {
     "data": {
      "text/plain": [
       "f6143343-781a-5369-8e8b-2cb321805f1a"
      ]
     },
     "execution_count": 19,
     "metadata": {},
     "output_type": "execute_result"
    }
   ],
   "source": [
    "workflow_id = ge.register_workflow(raster_projection.to_workflow_dict())\n",
    "workflow_id"
   ]
  },
  {
   "cell_type": "code",
   "execution_count": 20,
   "metadata": {},
   "outputs": [
    {
     "data": {
      "text/plain": [
       "{'type': 'Reprojection',\n",
       " 'params': {'targetSpatialReference': 'EPSG:4326'},\n",
       " 'sources': {'source': {'type': 'OgrSource',\n",
       "   'params': {'data': {'type': 'internal',\n",
       "     'datasetId': 'a9623a5b-b6c5-404b-bc5a-313ff72e4e75'},\n",
       "    'attributeProjection': None,\n",
       "    'attributeFilters': None}}}}"
      ]
     },
     "execution_count": 20,
     "metadata": {},
     "output_type": "execute_result"
    }
   ],
   "source": [
    "vector_projection = gu.workflow_operators.Reprojection(source=point_source, target_spatial_reference=\"EPSG:4326\")\n",
    "vector_projection.to_dict()"
   ]
  },
  {
   "cell_type": "code",
   "execution_count": 21,
   "metadata": {},
   "outputs": [
    {
     "data": {
      "text/plain": [
       "88e92b39-89ad-54c8-b75e-b174b8db6760"
      ]
     },
     "execution_count": 21,
     "metadata": {},
     "output_type": "execute_result"
    }
   ],
   "source": [
    "workflow_id = ge.register_workflow(vector_projection.to_workflow_dict())\n",
    "workflow_id"
   ]
  }
 ],
 "metadata": {
  "kernelspec": {
   "display_name": "env",
   "language": "python",
   "name": "python3"
  },
  "language_info": {
   "codemirror_mode": {
    "name": "ipython",
    "version": 3
   },
   "file_extension": ".py",
   "mimetype": "text/x-python",
   "name": "python",
   "nbconvert_exporter": "python",
   "pygments_lexer": "ipython3",
   "version": "3.10.6"
  },
  "orig_nbformat": 4,
  "vscode": {
   "interpreter": {
    "hash": "7a10ca932ff03f4c637e11f8207fe4e003ad6532d0070b911d37acf855f595fc"
   }
  }
 },
 "nbformat": 4,
 "nbformat_minor": 2
}
