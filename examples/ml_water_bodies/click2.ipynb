{
 "cells": [
  {
   "cell_type": "code",
   "execution_count": 26,
   "metadata": {},
   "outputs": [],
   "source": [
    "import matplotlib.pyplot as plt\n",
    "from matplotlib.backend_bases import MouseButton\n",
    "\n",
    "from ipywidgets import ToggleButtons, Button, VBox, HBox\n",
    "from IPython.display import display"
   ]
  },
  {
   "cell_type": "code",
   "execution_count": 3,
   "metadata": {},
   "outputs": [],
   "source": [
    "%matplotlib widget"
   ]
  },
  {
   "cell_type": "code",
   "execution_count": null,
   "metadata": {},
   "outputs": [],
   "source": []
  },
  {
   "cell_type": "code",
   "execution_count": 31,
   "metadata": {},
   "outputs": [
    {
     "data": {
      "application/vnd.jupyter.widget-view+json": {
       "model_id": "599a12f2f37244bca4055d385fa4d313",
       "version_major": 2,
       "version_minor": 0
      },
      "text/plain": [
       "VBox(children=(HBox(children=(ToggleButtons(button_style='info', description='Class:', options=('Slow', 'Regul…"
      ]
     },
     "metadata": {},
     "output_type": "display_data"
    }
   ],
   "source": [
    "def draw():\n",
    "\n",
    "    def on_click(event):\n",
    "        if event.button is MouseButton.LEFT:\n",
    "            print(event.xdata, event.ydata)\n",
    "\n",
    "    with plt.ioff():\n",
    "        fig, ax = plt.subplots()\n",
    "\n",
    "    fig.canvas.toolbar_visible = False\n",
    "    fig.canvas.header_visible = False\n",
    "    fig.canvas.footer_visible = False\n",
    "\n",
    "    '''\n",
    "    data_array.isel(time=0).plot.imshow(\n",
    "        rgb=\"band\",\n",
    "        vmax=4000,\n",
    "        ax=ax,\n",
    "    )\n",
    "    '''\n",
    "\n",
    "    fig.canvas.mpl_connect('button_press_event', on_click)\n",
    "\n",
    "    class_buttons = ToggleButtons(\n",
    "        options=['Slow', 'Regular', 'Fast'],\n",
    "        description='Class:',\n",
    "        button_style='info',\n",
    "        tooltips=['Description of slow', 'Description of regular', 'Description of fast'],\n",
    "    )\n",
    "\n",
    "    undo_button = Button(\n",
    "        icon = 'undo',\n",
    "        button_style = \"warning\",\n",
    "    )\n",
    "\n",
    "    undo_button.on_click(lambda x: print(\"undo\"))\n",
    "    class_buttons.observe(lambda change: print(change))\n",
    "\n",
    "    widget = VBox([HBox([class_buttons, undo_button]), fig.canvas])\n",
    "\n",
    "    # plt.show()\n",
    "\n",
    "    display(widget)\n",
    "    \n",
    "draw()"
   ]
  },
  {
   "cell_type": "code",
   "execution_count": null,
   "metadata": {},
   "outputs": [],
   "source": []
  }
 ],
 "metadata": {
  "kernelspec": {
   "display_name": "env",
   "language": "python",
   "name": "python3"
  },
  "language_info": {
   "codemirror_mode": {
    "name": "ipython",
    "version": 3
   },
   "file_extension": ".py",
   "mimetype": "text/x-python",
   "name": "python",
   "nbconvert_exporter": "python",
   "pygments_lexer": "ipython3",
   "version": "3.10.12"
  }
 },
 "nbformat": 4,
 "nbformat_minor": 2
}
