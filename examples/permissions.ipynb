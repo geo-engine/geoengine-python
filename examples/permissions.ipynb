{
  "cells": [
    {
      "attachments": {},
      "cell_type": "markdown",
      "metadata": {},
      "source": [
        "# Managing permissions\n",
        "\n",
        "This example requires the Pro-feature to be active"
      ]
    },
    {
      "cell_type": "code",
      "execution_count": 1,
      "metadata": {},
      "outputs": [],
      "source": [
        "import geoengine as ge"
      ]
    },
    {
      "attachments": {},
      "cell_type": "markdown",
      "metadata": {},
      "source": [
        "## Initialize Geo Engine as Admin"
      ]
    },
    {
      "cell_type": "code",
      "execution_count": 2,
      "metadata": {},
      "outputs": [],
      "source": [
        "ge.initialize(\"http://localhost:3030/api\", (\"admin@localhost\", \"admin\"))"
      ]
    },
    {
      "attachments": {},
      "cell_type": "markdown",
      "metadata": {},
      "source": [
        "## Create layer"
      ]
    },
    {
      "cell_type": "code",
      "execution_count": 3,
      "metadata": {},
      "outputs": [
        {
          "data": {
            "text/html": [
              "<table><thead><tr><th colspan=\"2\">Layer Collection</th></tr></thead><tbody><tr><th>name</th><td>LayerDB</td></tr><tr><th>description</th><td>Root collection for LayerDB</td></tr><tr><th>id</th><td>05102bb3-a855-4a37-8a8a-30026a91fef1</td></tr><tr><th>provider id</th><td>ce5e84db-cbf9-48a2-9a32-d4b7cc56ea74</td></tr><tr><th rowspan=\"4\">items</th><td><table><thead><tr><th colspan=\"2\">Layer Collection</th></tr></thead><tbody><tr><th>name</th><td>A test collection</td></tr><tr><th>description</th><td>Some layers for testing and an empty subcollection</td></tr><tr><th>id</th><td>272bf675-2e27-4412-824c-287c1e6841ac</td></tr><tr><th>provider id</th><td>ce5e84db-cbf9-48a2-9a32-d4b7cc56ea74</td></tr></tbody></table></td></tr><tr><td><table><thead><tr><th colspan=\"2\">Layer Collection</th></tr></thead><tbody><tr><th>name</th><td>An empty collection</td></tr><tr><th>description</th><td>There is nothing here</td></tr><tr><th>id</th><td>a29f77cc-51ce-466b-86ef-d0ab2170bc0a</td></tr><tr><th>provider id</th><td>ce5e84db-cbf9-48a2-9a32-d4b7cc56ea74</td></tr></tbody></table></td></tr><tr><td><table><thead><tr><th colspan=\"2\">Layer Collection</th></tr></thead><tbody><tr><th>name</th><td>Unsorted</td></tr><tr><th>description</th><td>Unsorted Layers</td></tr><tr><th>id</th><td>ffb2dd9e-f5ad-427c-b7f1-c9a0c7a0ae3f</td></tr><tr><th>provider id</th><td>ce5e84db-cbf9-48a2-9a32-d4b7cc56ea74</td></tr></tbody></table></td></tr><tr><td><table><thead><tr><th colspan=\"2\">Layer</th></tr></thead><tbody><tr><th>name</th><td>ports clone</td></tr><tr><th>description</th><td>test description</td></tr><tr><th>id</th><td>5250eb3d-07cb-4ea0-b9a6-d85a7292afca</td></tr><tr><th>provider id</th><td>ce5e84db-cbf9-48a2-9a32-d4b7cc56ea74</td></tr></tbody></table></td></tr></tbody></table>"
            ],
            "text/plain": [
              "Layer Collection\n",
              "name: LayerDB\n",
              "description: Root collection for LayerDB\n",
              "id: 05102bb3-a855-4a37-8a8a-30026a91fef1\n",
              "provider id: ce5e84db-cbf9-48a2-9a32-d4b7cc56ea74\n",
              "items: Layer Collection\n",
              "name: A test collection\n",
              "description: Some layers for testing and an empty subcollection\n",
              "id: 272bf675-2e27-4412-824c-287c1e6841ac\n",
              "provider id: ce5e84db-cbf9-48a2-9a32-d4b7cc56ea74\n",
              "\n",
              "       Layer Collection\n",
              "name: An empty collection\n",
              "description: There is nothing here\n",
              "id: a29f77cc-51ce-466b-86ef-d0ab2170bc0a\n",
              "provider id: ce5e84db-cbf9-48a2-9a32-d4b7cc56ea74\n",
              "\n",
              "       Layer Collection\n",
              "name: Unsorted\n",
              "description: Unsorted Layers\n",
              "id: ffb2dd9e-f5ad-427c-b7f1-c9a0c7a0ae3f\n",
              "provider id: ce5e84db-cbf9-48a2-9a32-d4b7cc56ea74\n",
              "\n",
              "       Layer\n",
              "name: ports clone\n",
              "description: test description\n",
              "id: 5250eb3d-07cb-4ea0-b9a6-d85a7292afca\n",
              "provider id: ce5e84db-cbf9-48a2-9a32-d4b7cc56ea74\n"
            ]
          },
          "execution_count": 3,
          "metadata": {},
          "output_type": "execute_result"
        }
      ],
      "source": [
        "root_collection = ge.layer_collection()\n",
        "root_of_layerdb = root_collection.items[1].load()\n",
        "layer_id = root_of_layerdb.add_layer(\n",
        "    name=\"ports clone\",\n",
        "    description=\"test description\",\n",
        "    workflow={\n",
        "        \"type\": \"Vector\",\n",
        "        \"operator\": {\n",
        "            \"type\": \"PointInPolygonFilter\",\n",
        "            \"params\": {},\n",
        "            \"sources\": {\n",
        "                \"points\": {\n",
        "                    \"type\": \"OgrSource\",\n",
        "                    \"params\": {\n",
        "                        \"data\": {\n",
        "                            \"type\": \"internal\",\n",
        "                            \"datasetId\": \"a9623a5b-b6c5-404b-bc5a-313ff72e4e75\"\n",
        "                        },\n",
        "                        \"attributeProjection\": None,\n",
        "                        \"attributeFilters\": None\n",
        "                    }\n",
        "                },\n",
        "                \"polygons\": {\n",
        "                    \"type\": \"OgrSource\",\n",
        "                    \"params\": {\n",
        "                        \"data\": {\n",
        "                            \"type\": \"internal\",\n",
        "                            \"datasetId\": \"b6191257-6d61-4c6b-90a4-ebfb1b23899d\"\n",
        "                        },\n",
        "                        \"attributeProjection\": None,\n",
        "                        \"attributeFilters\": None\n",
        "                    }\n",
        "                }\n",
        "            }\n",
        "        }\n",
        "    },\n",
        "    symbology=None,\n",
        ")\n",
        "\n",
        "root_of_layerdb.reload()\n",
        "root_of_layerdb"
      ]
    },
    {
      "attachments": {},
      "cell_type": "markdown",
      "metadata": {},
      "source": [
        "## Login anonymously, the layer is not visible"
      ]
    },
    {
      "cell_type": "code",
      "execution_count": 4,
      "metadata": {},
      "outputs": [
        {
          "data": {
            "text/html": [
              "<table><thead><tr><th colspan=\"2\">Layer Collection</th></tr></thead><tbody><tr><th>name</th><td>LayerDB</td></tr><tr><th>description</th><td>Root collection for LayerDB</td></tr><tr><th>id</th><td>05102bb3-a855-4a37-8a8a-30026a91fef1</td></tr><tr><th>provider id</th><td>ce5e84db-cbf9-48a2-9a32-d4b7cc56ea74</td></tr><tr><th rowspan=\"3\">items</th><td><table><thead><tr><th colspan=\"2\">Layer Collection</th></tr></thead><tbody><tr><th>name</th><td>A test collection</td></tr><tr><th>description</th><td>Some layers for testing and an empty subcollection</td></tr><tr><th>id</th><td>272bf675-2e27-4412-824c-287c1e6841ac</td></tr><tr><th>provider id</th><td>ce5e84db-cbf9-48a2-9a32-d4b7cc56ea74</td></tr></tbody></table></td></tr><tr><td><table><thead><tr><th colspan=\"2\">Layer Collection</th></tr></thead><tbody><tr><th>name</th><td>An empty collection</td></tr><tr><th>description</th><td>There is nothing here</td></tr><tr><th>id</th><td>a29f77cc-51ce-466b-86ef-d0ab2170bc0a</td></tr><tr><th>provider id</th><td>ce5e84db-cbf9-48a2-9a32-d4b7cc56ea74</td></tr></tbody></table></td></tr><tr><td><table><thead><tr><th colspan=\"2\">Layer Collection</th></tr></thead><tbody><tr><th>name</th><td>Unsorted</td></tr><tr><th>description</th><td>Unsorted Layers</td></tr><tr><th>id</th><td>ffb2dd9e-f5ad-427c-b7f1-c9a0c7a0ae3f</td></tr><tr><th>provider id</th><td>ce5e84db-cbf9-48a2-9a32-d4b7cc56ea74</td></tr></tbody></table></td></tr></tbody></table>"
            ],
            "text/plain": [
              "Layer Collection\n",
              "name: LayerDB\n",
              "description: Root collection for LayerDB\n",
              "id: 05102bb3-a855-4a37-8a8a-30026a91fef1\n",
              "provider id: ce5e84db-cbf9-48a2-9a32-d4b7cc56ea74\n",
              "items: Layer Collection\n",
              "name: A test collection\n",
              "description: Some layers for testing and an empty subcollection\n",
              "id: 272bf675-2e27-4412-824c-287c1e6841ac\n",
              "provider id: ce5e84db-cbf9-48a2-9a32-d4b7cc56ea74\n",
              "\n",
              "       Layer Collection\n",
              "name: An empty collection\n",
              "description: There is nothing here\n",
              "id: a29f77cc-51ce-466b-86ef-d0ab2170bc0a\n",
              "provider id: ce5e84db-cbf9-48a2-9a32-d4b7cc56ea74\n",
              "\n",
              "       Layer Collection\n",
              "name: Unsorted\n",
              "description: Unsorted Layers\n",
              "id: ffb2dd9e-f5ad-427c-b7f1-c9a0c7a0ae3f\n",
              "provider id: ce5e84db-cbf9-48a2-9a32-d4b7cc56ea74\n"
            ]
          },
          "execution_count": 4,
          "metadata": {},
          "output_type": "execute_result"
        }
      ],
      "source": [
        "ge.initialize(\"http://localhost:3030/api\")\n",
        "root_collection = ge.layer_collection()\n",
        "root_of_layerdb = root_collection.items[1].load()\n",
        "\n",
        "root_of_layerdb"
      ]
    },
    {
      "attachments": {},
      "cell_type": "markdown",
      "metadata": {},
      "source": [
        "## Share layer with all anonymous users"
      ]
    },
    {
      "cell_type": "code",
      "execution_count": 5,
      "metadata": {},
      "outputs": [
        {
          "name": "stdout",
          "output_type": "stream",
          "text": [
            "{\"roleId\": \"fd8e87bf-515c-4f36-8da6-1a53702ff102\", \"resourceId\": {\"type\": \"Layer\", \"id\": \"5250eb3d-07cb-4ea0-b9a6-d85a7292afca\"}, \"permission\": \"Read\"}\n"
          ]
        }
      ],
      "source": [
        "ge.initialize(\"http://localhost:3030/api\", (\"admin@localhost\", \"admin\"))\n",
        "\n",
        "resource = ge.ResourceId.from_layer_id(layer_id)\n",
        "ge.add_permission(ge.ANONYMOUS_USER_ROLE_ID, resource, ge.Permission.READ)\n"
      ]
    },
    {
      "attachments": {},
      "cell_type": "markdown",
      "metadata": {},
      "source": [
        "## Layer is now visible for anonymous users"
      ]
    },
    {
      "cell_type": "code",
      "execution_count": 6,
      "metadata": {},
      "outputs": [
        {
          "data": {
            "text/html": [
              "<table><thead><tr><th colspan=\"2\">Layer Collection</th></tr></thead><tbody><tr><th>name</th><td>LayerDB</td></tr><tr><th>description</th><td>Root collection for LayerDB</td></tr><tr><th>id</th><td>05102bb3-a855-4a37-8a8a-30026a91fef1</td></tr><tr><th>provider id</th><td>ce5e84db-cbf9-48a2-9a32-d4b7cc56ea74</td></tr><tr><th rowspan=\"4\">items</th><td><table><thead><tr><th colspan=\"2\">Layer Collection</th></tr></thead><tbody><tr><th>name</th><td>A test collection</td></tr><tr><th>description</th><td>Some layers for testing and an empty subcollection</td></tr><tr><th>id</th><td>272bf675-2e27-4412-824c-287c1e6841ac</td></tr><tr><th>provider id</th><td>ce5e84db-cbf9-48a2-9a32-d4b7cc56ea74</td></tr></tbody></table></td></tr><tr><td><table><thead><tr><th colspan=\"2\">Layer Collection</th></tr></thead><tbody><tr><th>name</th><td>An empty collection</td></tr><tr><th>description</th><td>There is nothing here</td></tr><tr><th>id</th><td>a29f77cc-51ce-466b-86ef-d0ab2170bc0a</td></tr><tr><th>provider id</th><td>ce5e84db-cbf9-48a2-9a32-d4b7cc56ea74</td></tr></tbody></table></td></tr><tr><td><table><thead><tr><th colspan=\"2\">Layer Collection</th></tr></thead><tbody><tr><th>name</th><td>Unsorted</td></tr><tr><th>description</th><td>Unsorted Layers</td></tr><tr><th>id</th><td>ffb2dd9e-f5ad-427c-b7f1-c9a0c7a0ae3f</td></tr><tr><th>provider id</th><td>ce5e84db-cbf9-48a2-9a32-d4b7cc56ea74</td></tr></tbody></table></td></tr><tr><td><table><thead><tr><th colspan=\"2\">Layer</th></tr></thead><tbody><tr><th>name</th><td>ports clone</td></tr><tr><th>description</th><td>test description</td></tr><tr><th>id</th><td>5250eb3d-07cb-4ea0-b9a6-d85a7292afca</td></tr><tr><th>provider id</th><td>ce5e84db-cbf9-48a2-9a32-d4b7cc56ea74</td></tr></tbody></table></td></tr></tbody></table>"
            ],
            "text/plain": [
              "Layer Collection\n",
              "name: LayerDB\n",
              "description: Root collection for LayerDB\n",
              "id: 05102bb3-a855-4a37-8a8a-30026a91fef1\n",
              "provider id: ce5e84db-cbf9-48a2-9a32-d4b7cc56ea74\n",
              "items: Layer Collection\n",
              "name: A test collection\n",
              "description: Some layers for testing and an empty subcollection\n",
              "id: 272bf675-2e27-4412-824c-287c1e6841ac\n",
              "provider id: ce5e84db-cbf9-48a2-9a32-d4b7cc56ea74\n",
              "\n",
              "       Layer Collection\n",
              "name: An empty collection\n",
              "description: There is nothing here\n",
              "id: a29f77cc-51ce-466b-86ef-d0ab2170bc0a\n",
              "provider id: ce5e84db-cbf9-48a2-9a32-d4b7cc56ea74\n",
              "\n",
              "       Layer Collection\n",
              "name: Unsorted\n",
              "description: Unsorted Layers\n",
              "id: ffb2dd9e-f5ad-427c-b7f1-c9a0c7a0ae3f\n",
              "provider id: ce5e84db-cbf9-48a2-9a32-d4b7cc56ea74\n",
              "\n",
              "       Layer\n",
              "name: ports clone\n",
              "description: test description\n",
              "id: 5250eb3d-07cb-4ea0-b9a6-d85a7292afca\n",
              "provider id: ce5e84db-cbf9-48a2-9a32-d4b7cc56ea74\n"
            ]
          },
          "execution_count": 6,
          "metadata": {},
          "output_type": "execute_result"
        }
      ],
      "source": [
        "ge.initialize(\"http://localhost:3030/api\")\n",
        "root_collection = ge.layer_collection()\n",
        "root_of_layerdb = root_collection.items[1].load()\n",
        "\n",
        "root_of_layerdb"
      ]
    },
    {
      "attachments": {},
      "cell_type": "markdown",
      "metadata": {},
      "source": [
        "## Create a user and a role"
      ]
    },
    {
      "cell_type": "code",
      "execution_count": 7,
      "metadata": {},
      "outputs": [
        {
          "name": "stdout",
          "output_type": "stream",
          "text": [
            "{'id': 'e76a2d14-e970-4433-b49c-c83565809329'}\n"
          ]
        }
      ],
      "source": [
        "import requests as re\n",
        "email = \"foo@example.com\"\n",
        "password = \"secret123\"\n",
        "\n",
        "# register a user\n",
        "response = re.post(\"http://localhost:3030/api/user\", json={\"email\": email, \"password\": password, \"realName\": \"Foo Bar\"})\n",
        "user_id = ge.UserId.from_response(response.json())\n",
        "\n",
        "ge.initialize(\"http://localhost:3030/api\", (\"admin@localhost\", \"admin\"))\n",
        "\n",
        "role_id = ge.add_role(\"Test Role\")\n"
      ]
    },
    {
      "attachments": {},
      "cell_type": "markdown",
      "metadata": {},
      "source": [
        "## Create a layer and share it with new role"
      ]
    },
    {
      "cell_type": "code",
      "execution_count": 8,
      "metadata": {},
      "outputs": [
        {
          "name": "stdout",
          "output_type": "stream",
          "text": [
            "{\"roleId\": \"9c63c354-18da-4b87-841b-063c7c5bcf3e\", \"resourceId\": {\"type\": \"Layer\", \"id\": \"5ac713be-6282-475f-a2de-e6c7b5728fc8\"}, \"permission\": \"Read\"}\n"
          ]
        }
      ],
      "source": [
        "layer_id = root_of_layerdb.add_layer(\n",
        "    name=\"ports clone for new role\",\n",
        "    description=\"test description\",\n",
        "    workflow={\n",
        "        \"type\": \"Vector\",\n",
        "        \"operator\": {\n",
        "            \"type\": \"PointInPolygonFilter\",\n",
        "            \"params\": {},\n",
        "            \"sources\": {\n",
        "                \"points\": {\n",
        "                    \"type\": \"OgrSource\",\n",
        "                    \"params\": {\n",
        "                        \"data\": {\n",
        "                            \"type\": \"internal\",\n",
        "                            \"datasetId\": \"a9623a5b-b6c5-404b-bc5a-313ff72e4e75\"\n",
        "                        },\n",
        "                        \"attributeProjection\": None,\n",
        "                        \"attributeFilters\": None\n",
        "                    }\n",
        "                },\n",
        "                \"polygons\": {\n",
        "                    \"type\": \"OgrSource\",\n",
        "                    \"params\": {\n",
        "                        \"data\": {\n",
        "                            \"type\": \"internal\",\n",
        "                            \"datasetId\": \"b6191257-6d61-4c6b-90a4-ebfb1b23899d\"\n",
        "                        },\n",
        "                        \"attributeProjection\": None,\n",
        "                        \"attributeFilters\": None\n",
        "                    }\n",
        "                }\n",
        "            }\n",
        "        }\n",
        "    },\n",
        "    symbology=None,\n",
        ")\n",
        "\n",
        "resource = ge.ResourceId.from_layer_id(layer_id)\n",
        "ge.add_permission(role_id, resource, ge.Permission.READ)"
      ]
    },
    {
      "attachments": {},
      "cell_type": "markdown",
      "metadata": {},
      "source": [
        "## Login as new user, the layer is not visible"
      ]
    },
    {
      "cell_type": "code",
      "execution_count": 9,
      "metadata": {},
      "outputs": [
        {
          "data": {
            "text/html": [
              "<table><thead><tr><th colspan=\"2\">Layer Collection</th></tr></thead><tbody><tr><th>name</th><td>LayerDB</td></tr><tr><th>description</th><td>Root collection for LayerDB</td></tr><tr><th>id</th><td>05102bb3-a855-4a37-8a8a-30026a91fef1</td></tr><tr><th>provider id</th><td>ce5e84db-cbf9-48a2-9a32-d4b7cc56ea74</td></tr><tr><th rowspan=\"3\">items</th><td><table><thead><tr><th colspan=\"2\">Layer Collection</th></tr></thead><tbody><tr><th>name</th><td>A test collection</td></tr><tr><th>description</th><td>Some layers for testing and an empty subcollection</td></tr><tr><th>id</th><td>272bf675-2e27-4412-824c-287c1e6841ac</td></tr><tr><th>provider id</th><td>ce5e84db-cbf9-48a2-9a32-d4b7cc56ea74</td></tr></tbody></table></td></tr><tr><td><table><thead><tr><th colspan=\"2\">Layer Collection</th></tr></thead><tbody><tr><th>name</th><td>An empty collection</td></tr><tr><th>description</th><td>There is nothing here</td></tr><tr><th>id</th><td>a29f77cc-51ce-466b-86ef-d0ab2170bc0a</td></tr><tr><th>provider id</th><td>ce5e84db-cbf9-48a2-9a32-d4b7cc56ea74</td></tr></tbody></table></td></tr><tr><td><table><thead><tr><th colspan=\"2\">Layer Collection</th></tr></thead><tbody><tr><th>name</th><td>Unsorted</td></tr><tr><th>description</th><td>Unsorted Layers</td></tr><tr><th>id</th><td>ffb2dd9e-f5ad-427c-b7f1-c9a0c7a0ae3f</td></tr><tr><th>provider id</th><td>ce5e84db-cbf9-48a2-9a32-d4b7cc56ea74</td></tr></tbody></table></td></tr></tbody></table>"
            ],
            "text/plain": [
              "Layer Collection\n",
              "name: LayerDB\n",
              "description: Root collection for LayerDB\n",
              "id: 05102bb3-a855-4a37-8a8a-30026a91fef1\n",
              "provider id: ce5e84db-cbf9-48a2-9a32-d4b7cc56ea74\n",
              "items: Layer Collection\n",
              "name: A test collection\n",
              "description: Some layers for testing and an empty subcollection\n",
              "id: 272bf675-2e27-4412-824c-287c1e6841ac\n",
              "provider id: ce5e84db-cbf9-48a2-9a32-d4b7cc56ea74\n",
              "\n",
              "       Layer Collection\n",
              "name: An empty collection\n",
              "description: There is nothing here\n",
              "id: a29f77cc-51ce-466b-86ef-d0ab2170bc0a\n",
              "provider id: ce5e84db-cbf9-48a2-9a32-d4b7cc56ea74\n",
              "\n",
              "       Layer Collection\n",
              "name: Unsorted\n",
              "description: Unsorted Layers\n",
              "id: ffb2dd9e-f5ad-427c-b7f1-c9a0c7a0ae3f\n",
              "provider id: ce5e84db-cbf9-48a2-9a32-d4b7cc56ea74\n"
            ]
          },
          "execution_count": 9,
          "metadata": {},
          "output_type": "execute_result"
        }
      ],
      "source": [
        "ge.initialize(\"http://localhost:3030/api\", (email, password))\n",
        "\n",
        "root_collection = ge.layer_collection() \n",
        "root_of_layerdb = root_collection.items[1].load()\n",
        "\n",
        "root_of_layerdb"
      ]
    },
    {
      "attachments": {},
      "cell_type": "markdown",
      "metadata": {},
      "source": [
        "## Assign role to user, layer is now visible"
      ]
    },
    {
      "cell_type": "code",
      "execution_count": 10,
      "metadata": {},
      "outputs": [
        {
          "data": {
            "text/html": [
              "<table><thead><tr><th colspan=\"2\">Layer Collection</th></tr></thead><tbody><tr><th>name</th><td>LayerDB</td></tr><tr><th>description</th><td>Root collection for LayerDB</td></tr><tr><th>id</th><td>05102bb3-a855-4a37-8a8a-30026a91fef1</td></tr><tr><th>provider id</th><td>ce5e84db-cbf9-48a2-9a32-d4b7cc56ea74</td></tr><tr><th rowspan=\"4\">items</th><td><table><thead><tr><th colspan=\"2\">Layer Collection</th></tr></thead><tbody><tr><th>name</th><td>A test collection</td></tr><tr><th>description</th><td>Some layers for testing and an empty subcollection</td></tr><tr><th>id</th><td>272bf675-2e27-4412-824c-287c1e6841ac</td></tr><tr><th>provider id</th><td>ce5e84db-cbf9-48a2-9a32-d4b7cc56ea74</td></tr></tbody></table></td></tr><tr><td><table><thead><tr><th colspan=\"2\">Layer Collection</th></tr></thead><tbody><tr><th>name</th><td>An empty collection</td></tr><tr><th>description</th><td>There is nothing here</td></tr><tr><th>id</th><td>a29f77cc-51ce-466b-86ef-d0ab2170bc0a</td></tr><tr><th>provider id</th><td>ce5e84db-cbf9-48a2-9a32-d4b7cc56ea74</td></tr></tbody></table></td></tr><tr><td><table><thead><tr><th colspan=\"2\">Layer Collection</th></tr></thead><tbody><tr><th>name</th><td>Unsorted</td></tr><tr><th>description</th><td>Unsorted Layers</td></tr><tr><th>id</th><td>ffb2dd9e-f5ad-427c-b7f1-c9a0c7a0ae3f</td></tr><tr><th>provider id</th><td>ce5e84db-cbf9-48a2-9a32-d4b7cc56ea74</td></tr></tbody></table></td></tr><tr><td><table><thead><tr><th colspan=\"2\">Layer</th></tr></thead><tbody><tr><th>name</th><td>ports clone for new role</td></tr><tr><th>description</th><td>test description</td></tr><tr><th>id</th><td>5ac713be-6282-475f-a2de-e6c7b5728fc8</td></tr><tr><th>provider id</th><td>ce5e84db-cbf9-48a2-9a32-d4b7cc56ea74</td></tr></tbody></table></td></tr></tbody></table>"
            ],
            "text/plain": [
              "Layer Collection\n",
              "name: LayerDB\n",
              "description: Root collection for LayerDB\n",
              "id: 05102bb3-a855-4a37-8a8a-30026a91fef1\n",
              "provider id: ce5e84db-cbf9-48a2-9a32-d4b7cc56ea74\n",
              "items: Layer Collection\n",
              "name: A test collection\n",
              "description: Some layers for testing and an empty subcollection\n",
              "id: 272bf675-2e27-4412-824c-287c1e6841ac\n",
              "provider id: ce5e84db-cbf9-48a2-9a32-d4b7cc56ea74\n",
              "\n",
              "       Layer Collection\n",
              "name: An empty collection\n",
              "description: There is nothing here\n",
              "id: a29f77cc-51ce-466b-86ef-d0ab2170bc0a\n",
              "provider id: ce5e84db-cbf9-48a2-9a32-d4b7cc56ea74\n",
              "\n",
              "       Layer Collection\n",
              "name: Unsorted\n",
              "description: Unsorted Layers\n",
              "id: ffb2dd9e-f5ad-427c-b7f1-c9a0c7a0ae3f\n",
              "provider id: ce5e84db-cbf9-48a2-9a32-d4b7cc56ea74\n",
              "\n",
              "       Layer\n",
              "name: ports clone for new role\n",
              "description: test description\n",
              "id: 5ac713be-6282-475f-a2de-e6c7b5728fc8\n",
              "provider id: ce5e84db-cbf9-48a2-9a32-d4b7cc56ea74\n"
            ]
          },
          "execution_count": 10,
          "metadata": {},
          "output_type": "execute_result"
        }
      ],
      "source": [
        "ge.initialize(\"http://localhost:3030/api\", (\"admin@localhost\", \"admin\"))\n",
        "\n",
        "ge.assign_role(role_id, user_id)\n",
        "\n",
        "ge.initialize(\"http://localhost:3030/api\", (email, password))\n",
        "\n",
        "root_collection = ge.layer_collection()\n",
        "root_of_layerdb = root_collection.items[1].load()\n",
        "\n",
        "root_of_layerdb"
      ]
    }
  ],
  "metadata": {
    "kernelspec": {
      "display_name": "env",
      "language": "python",
      "name": "python3"
    },
    "language_info": {
      "codemirror_mode": {
        "name": "ipython",
        "version": 3
      },
      "file_extension": ".py",
      "mimetype": "text/x-python",
      "name": "python",
      "nbconvert_exporter": "python",
      "pygments_lexer": "ipython3",
      "version": "3.10.6"
    },
    "orig_nbformat": 4,
    "vscode": {
      "interpreter": {
        "hash": "7a10ca932ff03f4c637e11f8207fe4e003ad6532d0070b911d37acf855f595fc"
      }
    }
  },
  "nbformat": 4,
  "nbformat_minor": 2
}
