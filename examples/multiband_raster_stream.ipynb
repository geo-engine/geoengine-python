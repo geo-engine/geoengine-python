{
  "cells": [
    {
      "attachments": {},
      "cell_type": "markdown",
      "metadata": {},
      "source": [
        "# Load multiband raster data via stream API"
      ]
    },
    {
      "cell_type": "code",
      "execution_count": 1,
      "metadata": {},
      "outputs": [],
      "source": [
        "import matplotlib.pyplot as plt\n",
        "from datetime import datetime\n",
        "import matplotlib.colors as mcolors\n",
        "import geoengine as ge\n",
        "import warnings\n",
        "\n",
        "# setting `clip_to_query_rectangle=True` may output a warning, but this is a false positive from the underlying library\n",
        "warnings.simplefilter(action='ignore', category=FutureWarning)"
      ]
    },
    {
      "attachments": {},
      "cell_type": "markdown",
      "metadata": {},
      "source": [
        "## Initialize Geo Engine"
      ]
    },
    {
      "cell_type": "code",
      "execution_count": 2,
      "metadata": {},
      "outputs": [],
      "source": [
        "ge.initialize(\"http://localhost:3030/api\")"
      ]
    },
    {
      "attachments": {},
      "cell_type": "markdown",
      "metadata": {},
      "source": [
        "## Define workflow of a stacked raster of ndvi and land cover"
      ]
    },
    {
      "cell_type": "code",
      "execution_count": 3,
      "metadata": {},
      "outputs": [
        {
          "data": {
            "text/plain": [
              "c6928e36-90bd-5152-ac84-ee3c075d83ba"
            ]
          },
          "execution_count": 3,
          "metadata": {},
          "output_type": "execute_result"
        }
      ],
      "source": [
        "workflow_ndvi = ge.workflow_builder.operators.GdalSource(\"ndvi\")\n",
        "workflow_land_cover = ge.workflow_builder.operators.GdalSource(\"land_cover\")\n",
        "workflow_stack = ge.workflow_builder.operators.RasterStacker(sources=[workflow_ndvi, workflow_land_cover])\n",
        "workflow_downsample = ge.workflow_builder.operators.Downsampling(source_operator=workflow_stack, output_method='resolution', output_x=0.5, output_y=0.5)\n",
        "\n",
        "\n",
        "workflow = ge.register_workflow(workflow_downsample)\n",
        "workflow"
      ]
    },
    {
      "attachments": {},
      "cell_type": "markdown",
      "metadata": {},
      "source": [
        "## Define a query rectangle"
      ]
    },
    {
      "cell_type": "code",
      "execution_count": 4,
      "metadata": {},
      "outputs": [],
      "source": [
        "time_start = datetime.strptime('2014-04-01T12:00:00.000Z', \"%Y-%m-%dT%H:%M:%S.%f%z\")\n",
        "time_end = datetime.strptime('2014-06-01T12:00:00.000Z', \"%Y-%m-%dT%H:%M:%S.%f%z\")\n",
        "bbox = ge.QueryRectangle(\n",
        "    ge.BoundingBox2D(-180.0, -90.0, 180.0, 90.0),\n",
        "    ge.TimeInterval(time_start, time_end),\n",
        "    # ge.SpatialResolution(0.5, 0.5), # this was the original reslution but in a stream you need to use an operator for that\n",
        ")"
      ]
    },
    {
      "attachments": {},
      "cell_type": "markdown",
      "metadata": {},
      "source": [
        "# Query single tiles, merge them locally and output them as a single `DataArray`"
      ]
    },
    {
      "cell_type": "code",
      "execution_count": 5,
      "metadata": {},
      "outputs": [
        {
          "ename": "ConnectionClosedError",
          "evalue": "sent 1002 (protocol error); no close frame received",
          "output_type": "error",
          "traceback": [
            "\u001b[0;31m---------------------------------------------------------------------------\u001b[0m",
            "\u001b[0;31mProtocolError\u001b[0m                             Traceback (most recent call last)",
            "File \u001b[0;32m~/git/geoengine-python/env/lib/python3.10/site-packages/websockets/legacy/protocol.py:968\u001b[0m, in \u001b[0;36mWebSocketCommonProtocol.transfer_data\u001b[0;34m(self)\u001b[0m\n\u001b[1;32m    967\u001b[0m \u001b[38;5;28;01mwhile\u001b[39;00m \u001b[38;5;28;01mTrue\u001b[39;00m:\n\u001b[0;32m--> 968\u001b[0m     message \u001b[38;5;241m=\u001b[39m \u001b[38;5;28;01mawait\u001b[39;00m \u001b[38;5;28mself\u001b[39m\u001b[38;5;241m.\u001b[39mread_message()\n\u001b[1;32m    970\u001b[0m     \u001b[38;5;66;03m# Exit the loop when receiving a close frame.\u001b[39;00m\n",
            "File \u001b[0;32m~/git/geoengine-python/env/lib/python3.10/site-packages/websockets/legacy/protocol.py:1038\u001b[0m, in \u001b[0;36mWebSocketCommonProtocol.read_message\u001b[0;34m(self)\u001b[0m\n\u001b[1;32m   1030\u001b[0m \u001b[38;5;250m\u001b[39m\u001b[38;5;124;03m\"\"\"\u001b[39;00m\n\u001b[1;32m   1031\u001b[0m \u001b[38;5;124;03mRead a single message from the connection.\u001b[39;00m\n\u001b[1;32m   1032\u001b[0m \n\u001b[0;32m   (...)\u001b[0m\n\u001b[1;32m   1036\u001b[0m \n\u001b[1;32m   1037\u001b[0m \u001b[38;5;124;03m\"\"\"\u001b[39;00m\n\u001b[0;32m-> 1038\u001b[0m frame \u001b[38;5;241m=\u001b[39m \u001b[38;5;28;01mawait\u001b[39;00m \u001b[38;5;28mself\u001b[39m\u001b[38;5;241m.\u001b[39mread_data_frame(max_size\u001b[38;5;241m=\u001b[39m\u001b[38;5;28mself\u001b[39m\u001b[38;5;241m.\u001b[39mmax_size)\n\u001b[1;32m   1040\u001b[0m \u001b[38;5;66;03m# A close frame was received.\u001b[39;00m\n",
            "File \u001b[0;32m~/git/geoengine-python/env/lib/python3.10/site-packages/websockets/legacy/protocol.py:1113\u001b[0m, in \u001b[0;36mWebSocketCommonProtocol.read_data_frame\u001b[0;34m(self, max_size)\u001b[0m\n\u001b[1;32m   1112\u001b[0m \u001b[38;5;28;01mwhile\u001b[39;00m \u001b[38;5;28;01mTrue\u001b[39;00m:\n\u001b[0;32m-> 1113\u001b[0m     frame \u001b[38;5;241m=\u001b[39m \u001b[38;5;28;01mawait\u001b[39;00m \u001b[38;5;28mself\u001b[39m\u001b[38;5;241m.\u001b[39mread_frame(max_size)\n\u001b[1;32m   1115\u001b[0m     \u001b[38;5;66;03m# 5.5. Control Frames\u001b[39;00m\n",
            "File \u001b[0;32m~/git/geoengine-python/env/lib/python3.10/site-packages/websockets/legacy/protocol.py:1170\u001b[0m, in \u001b[0;36mWebSocketCommonProtocol.read_frame\u001b[0;34m(self, max_size)\u001b[0m\n\u001b[1;32m   1166\u001b[0m \u001b[38;5;250m\u001b[39m\u001b[38;5;124;03m\"\"\"\u001b[39;00m\n\u001b[1;32m   1167\u001b[0m \u001b[38;5;124;03mRead a single frame from the connection.\u001b[39;00m\n\u001b[1;32m   1168\u001b[0m \n\u001b[1;32m   1169\u001b[0m \u001b[38;5;124;03m\"\"\"\u001b[39;00m\n\u001b[0;32m-> 1170\u001b[0m frame \u001b[38;5;241m=\u001b[39m \u001b[38;5;28;01mawait\u001b[39;00m Frame\u001b[38;5;241m.\u001b[39mread(\n\u001b[1;32m   1171\u001b[0m     \u001b[38;5;28mself\u001b[39m\u001b[38;5;241m.\u001b[39mreader\u001b[38;5;241m.\u001b[39mreadexactly,\n\u001b[1;32m   1172\u001b[0m     mask\u001b[38;5;241m=\u001b[39m\u001b[38;5;129;01mnot\u001b[39;00m \u001b[38;5;28mself\u001b[39m\u001b[38;5;241m.\u001b[39mis_client,\n\u001b[1;32m   1173\u001b[0m     max_size\u001b[38;5;241m=\u001b[39mmax_size,\n\u001b[1;32m   1174\u001b[0m     extensions\u001b[38;5;241m=\u001b[39m\u001b[38;5;28mself\u001b[39m\u001b[38;5;241m.\u001b[39mextensions,\n\u001b[1;32m   1175\u001b[0m )\n\u001b[1;32m   1176\u001b[0m \u001b[38;5;28;01mif\u001b[39;00m \u001b[38;5;28mself\u001b[39m\u001b[38;5;241m.\u001b[39mdebug:\n",
            "File \u001b[0;32m~/git/geoengine-python/env/lib/python3.10/site-packages/websockets/legacy/framing.py:110\u001b[0m, in \u001b[0;36mFrame.read\u001b[0;34m(cls, reader, mask, max_size, extensions)\u001b[0m\n\u001b[1;32m    108\u001b[0m     new_frame \u001b[38;5;241m=\u001b[39m extension\u001b[38;5;241m.\u001b[39mdecode(new_frame, max_size\u001b[38;5;241m=\u001b[39mmax_size)\n\u001b[0;32m--> 110\u001b[0m \u001b[43mnew_frame\u001b[49m\u001b[38;5;241;43m.\u001b[39;49m\u001b[43mcheck\u001b[49m\u001b[43m(\u001b[49m\u001b[43m)\u001b[49m\n\u001b[1;32m    112\u001b[0m \u001b[38;5;28;01mreturn\u001b[39;00m \u001b[38;5;28mcls\u001b[39m(\n\u001b[1;32m    113\u001b[0m     new_frame\u001b[38;5;241m.\u001b[39mfin,\n\u001b[1;32m    114\u001b[0m     new_frame\u001b[38;5;241m.\u001b[39mopcode,\n\u001b[0;32m   (...)\u001b[0m\n\u001b[1;32m    118\u001b[0m     new_frame\u001b[38;5;241m.\u001b[39mrsv3,\n\u001b[1;32m    119\u001b[0m )\n",
            "File \u001b[0;32m~/git/geoengine-python/env/lib/python3.10/site-packages/websockets/frames.py:320\u001b[0m, in \u001b[0;36mFrame.check\u001b[0;34m(self)\u001b[0m\n\u001b[1;32m    319\u001b[0m \u001b[38;5;28;01mif\u001b[39;00m \u001b[38;5;28mlen\u001b[39m(\u001b[38;5;28mself\u001b[39m\u001b[38;5;241m.\u001b[39mdata) \u001b[38;5;241m>\u001b[39m \u001b[38;5;241m125\u001b[39m:\n\u001b[0;32m--> 320\u001b[0m     \u001b[38;5;28;01mraise\u001b[39;00m exceptions\u001b[38;5;241m.\u001b[39mProtocolError(\u001b[38;5;124m\"\u001b[39m\u001b[38;5;124mcontrol frame too long\u001b[39m\u001b[38;5;124m\"\u001b[39m)\n\u001b[1;32m    321\u001b[0m \u001b[38;5;28;01mif\u001b[39;00m \u001b[38;5;129;01mnot\u001b[39;00m \u001b[38;5;28mself\u001b[39m\u001b[38;5;241m.\u001b[39mfin:\n",
            "\u001b[0;31mProtocolError\u001b[0m: control frame too long",
            "\nThe above exception was the direct cause of the following exception:\n",
            "\u001b[0;31mConnectionClosedError\u001b[0m                     Traceback (most recent call last)",
            "Cell \u001b[0;32mIn[5], line 1\u001b[0m\n\u001b[0;32m----> 1\u001b[0m array \u001b[38;5;241m=\u001b[39m \u001b[38;5;28;01mawait\u001b[39;00m workflow\u001b[38;5;241m.\u001b[39mraster_stream_into_xarray(bbox, bands\u001b[38;5;241m=\u001b[39m[\u001b[38;5;241m0\u001b[39m, \u001b[38;5;241m1\u001b[39m], clip_to_query_rectangle\u001b[38;5;241m=\u001b[39m\u001b[38;5;28;01mTrue\u001b[39;00m)\n\u001b[1;32m      3\u001b[0m array\u001b[38;5;241m.\u001b[39misel(band\u001b[38;5;241m=\u001b[39m\u001b[38;5;241m0\u001b[39m)\u001b[38;5;241m.\u001b[39mplot(col\u001b[38;5;241m=\u001b[39m\u001b[38;5;124m\"\u001b[39m\u001b[38;5;124mtime\u001b[39m\u001b[38;5;124m\"\u001b[39m)\n\u001b[1;32m      4\u001b[0m plt\u001b[38;5;241m.\u001b[39msuptitle(\u001b[38;5;124m\"\u001b[39m\u001b[38;5;124mBand 0 (NDVI) over time\u001b[39m\u001b[38;5;124m\"\u001b[39m, y\u001b[38;5;241m=\u001b[39m\u001b[38;5;241m1.05\u001b[39m)\n",
            "File \u001b[0;32m~/git/geoengine-python/geoengine/workflow.py:681\u001b[0m, in \u001b[0;36mWorkflow.raster_stream_into_xarray\u001b[0;34m(self, query_rectangle, clip_to_query_rectangle, open_timeout, bands)\u001b[0m\n\u001b[1;32m    678\u001b[0m     \u001b[38;5;66;03m# this seems to be the last time step, so just return tiles\u001b[39;00m\n\u001b[1;32m    679\u001b[0m     \u001b[38;5;28;01mreturn\u001b[39;00m tiles, \u001b[38;5;28;01mNone\u001b[39;00m\n\u001b[0;32m--> 681\u001b[0m (tiles, remainder_tile) \u001b[38;5;241m=\u001b[39m \u001b[38;5;28;01mawait\u001b[39;00m read_tiles(\u001b[38;5;28;01mNone\u001b[39;00m)\n\u001b[1;32m    683\u001b[0m \u001b[38;5;28;01mwhile\u001b[39;00m \u001b[38;5;28mlen\u001b[39m(tiles):\n\u001b[1;32m    684\u001b[0m     ((new_tiles, new_remainder_tile), new_timestep_xarray) \u001b[38;5;241m=\u001b[39m \u001b[38;5;28;01mawait\u001b[39;00m asyncio\u001b[38;5;241m.\u001b[39mgather(\n\u001b[1;32m    685\u001b[0m         read_tiles(remainder_tile),\n\u001b[1;32m    686\u001b[0m         backports\u001b[38;5;241m.\u001b[39mto_thread(RasterStreamProcessing\u001b[38;5;241m.\u001b[39mmerge_tiles, tiles)\n\u001b[1;32m    687\u001b[0m         \u001b[38;5;66;03m# asyncio.to_thread(merge_tiles, tiles), # TODO: use this when min Python version is 3.9\u001b[39;00m\n\u001b[1;32m    688\u001b[0m     )\n",
            "File \u001b[0;32m~/git/geoengine-python/geoengine/workflow.py:668\u001b[0m, in \u001b[0;36mWorkflow.raster_stream_into_xarray.<locals>.read_tiles\u001b[0;34m(remainder_tile)\u001b[0m\n\u001b[1;32m    665\u001b[0m     xr_tile \u001b[38;5;241m=\u001b[39m remainder_tile\u001b[38;5;241m.\u001b[39mto_xarray(clip_with_bounds\u001b[38;5;241m=\u001b[39mspatial_clip_bounds)\n\u001b[1;32m    666\u001b[0m     tiles\u001b[38;5;241m.\u001b[39mappend(xr_tile)\n\u001b[0;32m--> 668\u001b[0m \u001b[38;5;28;01masync\u001b[39;00m \u001b[38;5;28;01mfor\u001b[39;00m tile \u001b[38;5;129;01min\u001b[39;00m tile_stream:\n\u001b[1;32m    669\u001b[0m     timestep: np\u001b[38;5;241m.\u001b[39mdatetime64 \u001b[38;5;241m=\u001b[39m tile\u001b[38;5;241m.\u001b[39mtime_start_ms\n\u001b[1;32m    670\u001b[0m     \u001b[38;5;28;01mif\u001b[39;00m last_timestep \u001b[38;5;129;01mis\u001b[39;00m \u001b[38;5;28;01mNone\u001b[39;00m:\n",
            "File \u001b[0;32m~/git/geoengine-python/geoengine/workflow.py:613\u001b[0m, in \u001b[0;36mWorkflow.raster_stream\u001b[0;34m(self, query_rectangle, open_timeout, bands)\u001b[0m\n\u001b[1;32m    609\u001b[0m     \u001b[38;5;28;01mexcept\u001b[39;00m websockets\u001b[38;5;241m.\u001b[39mexceptions\u001b[38;5;241m.\u001b[39mConnectionClosedOK:\n\u001b[1;32m    610\u001b[0m         \u001b[38;5;66;03m# the websocket connection closed gracefully, so we stop reading\u001b[39;00m\n\u001b[1;32m    611\u001b[0m         \u001b[38;5;28;01mreturn\u001b[39;00m \u001b[38;5;28;01mNone\u001b[39;00m\n\u001b[0;32m--> 613\u001b[0m (tile_bytes, tile) \u001b[38;5;241m=\u001b[39m \u001b[38;5;28;01mawait\u001b[39;00m asyncio\u001b[38;5;241m.\u001b[39mgather(\n\u001b[1;32m    614\u001b[0m     read_new_bytes(),\n\u001b[1;32m    615\u001b[0m     \u001b[38;5;66;03m# asyncio.to_thread(process_bytes, tile_bytes), # TODO: use this when min Python version is 3.9\u001b[39;00m\n\u001b[1;32m    616\u001b[0m     backports\u001b[38;5;241m.\u001b[39mto_thread(RasterStreamProcessing\u001b[38;5;241m.\u001b[39mprocess_bytes, tile_bytes),\n\u001b[1;32m    617\u001b[0m )\n\u001b[1;32m    619\u001b[0m \u001b[38;5;28;01mif\u001b[39;00m tile \u001b[38;5;129;01mis\u001b[39;00m \u001b[38;5;129;01mnot\u001b[39;00m \u001b[38;5;28;01mNone\u001b[39;00m:\n\u001b[1;32m    620\u001b[0m     \u001b[38;5;28;01myield\u001b[39;00m tile\n",
            "File \u001b[0;32m~/git/geoengine-python/geoengine/workflow.py:602\u001b[0m, in \u001b[0;36mWorkflow.raster_stream.<locals>.read_new_bytes\u001b[0;34m()\u001b[0m\n\u001b[1;32m    599\u001b[0m     \u001b[38;5;28;01mreturn\u001b[39;00m \u001b[38;5;28;01mNone\u001b[39;00m\n\u001b[1;32m    601\u001b[0m \u001b[38;5;28;01mtry\u001b[39;00m:\n\u001b[0;32m--> 602\u001b[0m     data: Union[\u001b[38;5;28mstr\u001b[39m, \u001b[38;5;28mbytes\u001b[39m] \u001b[38;5;241m=\u001b[39m \u001b[38;5;28;01mawait\u001b[39;00m websocket\u001b[38;5;241m.\u001b[39mrecv()\n\u001b[1;32m    604\u001b[0m     \u001b[38;5;28;01mif\u001b[39;00m \u001b[38;5;28misinstance\u001b[39m(data, \u001b[38;5;28mstr\u001b[39m):\n\u001b[1;32m    605\u001b[0m         \u001b[38;5;66;03m# the server sent an error message\u001b[39;00m\n\u001b[1;32m    606\u001b[0m         \u001b[38;5;28;01mraise\u001b[39;00m GeoEngineException({\u001b[38;5;124m'\u001b[39m\u001b[38;5;124merror\u001b[39m\u001b[38;5;124m'\u001b[39m: data})\n",
            "File \u001b[0;32m~/git/geoengine-python/env/lib/python3.10/site-packages/websockets/legacy/protocol.py:568\u001b[0m, in \u001b[0;36mWebSocketCommonProtocol.recv\u001b[0;34m(self)\u001b[0m\n\u001b[1;32m    564\u001b[0m             \u001b[38;5;28;01mreturn\u001b[39;00m \u001b[38;5;28;01mNone\u001b[39;00m  \u001b[38;5;66;03m# type: ignore\u001b[39;00m\n\u001b[1;32m    565\u001b[0m         \u001b[38;5;28;01melse\u001b[39;00m:\n\u001b[1;32m    566\u001b[0m             \u001b[38;5;66;03m# Wait until the connection is closed to raise\u001b[39;00m\n\u001b[1;32m    567\u001b[0m             \u001b[38;5;66;03m# ConnectionClosed with the correct code and reason.\u001b[39;00m\n\u001b[0;32m--> 568\u001b[0m             \u001b[38;5;28;01mawait\u001b[39;00m \u001b[38;5;28mself\u001b[39m\u001b[38;5;241m.\u001b[39mensure_open()\n\u001b[1;32m    570\u001b[0m \u001b[38;5;66;03m# Pop a message from the queue.\u001b[39;00m\n\u001b[1;32m    571\u001b[0m message \u001b[38;5;241m=\u001b[39m \u001b[38;5;28mself\u001b[39m\u001b[38;5;241m.\u001b[39mmessages\u001b[38;5;241m.\u001b[39mpopleft()\n",
            "File \u001b[0;32m~/git/geoengine-python/env/lib/python3.10/site-packages/websockets/legacy/protocol.py:953\u001b[0m, in \u001b[0;36mWebSocketCommonProtocol.ensure_open\u001b[0;34m(self)\u001b[0m\n\u001b[1;32m    946\u001b[0m \u001b[38;5;28;01mif\u001b[39;00m \u001b[38;5;28mself\u001b[39m\u001b[38;5;241m.\u001b[39mstate \u001b[38;5;129;01mis\u001b[39;00m State\u001b[38;5;241m.\u001b[39mCLOSING:\n\u001b[1;32m    947\u001b[0m     \u001b[38;5;66;03m# If we started the closing handshake, wait for its completion to\u001b[39;00m\n\u001b[1;32m    948\u001b[0m     \u001b[38;5;66;03m# get the proper close code and reason. self.close_connection_task\u001b[39;00m\n\u001b[1;32m    949\u001b[0m     \u001b[38;5;66;03m# will complete within 4 or 5 * close_timeout after close(). The\u001b[39;00m\n\u001b[1;32m    950\u001b[0m     \u001b[38;5;66;03m# CLOSING state also occurs when failing the connection. In that\u001b[39;00m\n\u001b[1;32m    951\u001b[0m     \u001b[38;5;66;03m# case self.close_connection_task will complete even faster.\u001b[39;00m\n\u001b[1;32m    952\u001b[0m     \u001b[38;5;28;01mawait\u001b[39;00m asyncio\u001b[38;5;241m.\u001b[39mshield(\u001b[38;5;28mself\u001b[39m\u001b[38;5;241m.\u001b[39mclose_connection_task)\n\u001b[0;32m--> 953\u001b[0m     \u001b[38;5;28;01mraise\u001b[39;00m \u001b[38;5;28mself\u001b[39m\u001b[38;5;241m.\u001b[39mconnection_closed_exc()\n\u001b[1;32m    955\u001b[0m \u001b[38;5;66;03m# Control may only reach this point in buggy third-party subclasses.\u001b[39;00m\n\u001b[1;32m    956\u001b[0m \u001b[38;5;28;01massert\u001b[39;00m \u001b[38;5;28mself\u001b[39m\u001b[38;5;241m.\u001b[39mstate \u001b[38;5;129;01mis\u001b[39;00m State\u001b[38;5;241m.\u001b[39mCONNECTING\n",
            "\u001b[0;31mConnectionClosedError\u001b[0m: sent 1002 (protocol error); no close frame received"
          ]
        }
      ],
      "source": [
        "array = await workflow.raster_stream_into_xarray(bbox, bands=[0, 1], clip_to_query_rectangle=True)\n",
        "\n",
        "array.isel(band=0).plot(col=\"time\")\n",
        "plt.suptitle(\"Band 0 (NDVI) over time\", y=1.05)\n",
        "plt.show()\n",
        "\n",
        "array.isel(band=1).plot(col=\"time\")\n",
        "plt.suptitle(\"Band 1 (Land cover) over time\", y=1.05)\n",
        "plt.show()\n"
      ]
    },
    {
      "cell_type": "markdown",
      "metadata": {},
      "source": [
        "## Output structure of the array"
      ]
    },
    {
      "cell_type": "code",
      "execution_count": null,
      "metadata": {},
      "outputs": [],
      "source": [
        "array.to_dataset(name = \"Multi-Band\")"
      ]
    },
    {
      "cell_type": "markdown",
      "metadata": {},
      "source": [
        "## Define a multi-band raster as a an RGB composite"
      ]
    },
    {
      "cell_type": "code",
      "execution_count": null,
      "metadata": {},
      "outputs": [],
      "source": [
        "workflow = ge.register_workflow({\n",
        "    \"type\": \"Raster\",\n",
        "    \"operator\": {\n",
        "        \"type\": \"RasterStacker\",\n",
        "        \"params\": {\n",
        "            \"renameBands\": {\n",
        "                \"type\": \"default\"\n",
        "            }                    \n",
        "        },\n",
        "        \"sources\": {\n",
        "            \"rasters\": [\n",
        "                {\n",
        "                    \"type\": \"GdalSource\",\n",
        "                    \"params\": {\n",
        "                        \"data\": \"ne2_raster_red\"\n",
        "                    }\n",
        "                }, {\n",
        "                    \"type\": \"GdalSource\",\n",
        "                    \"params\": {\n",
        "                        \"data\": \"ne2_raster_green\"\n",
        "                    }\n",
        "                }, {\n",
        "                    \"type\": \"GdalSource\",\n",
        "                    \"params\": {\n",
        "                        \"data\": \"ne2_raster_blue\"\n",
        "                    }\n",
        "                }\n",
        "            ]\n",
        "        }\n",
        "    }\n",
        "})\n",
        "\n",
        "array = await workflow.raster_stream_into_xarray(bbox, bands=[0, 1, 2], clip_to_query_rectangle=True)\n",
        "\n",
        "array.to_dataset(name = \"rgb\")"
      ]
    },
    {
      "cell_type": "markdown",
      "metadata": {},
      "source": [
        "## Plot the bands individually"
      ]
    },
    {
      "cell_type": "code",
      "execution_count": null,
      "metadata": {},
      "outputs": [],
      "source": [
        "fig, axs = plt.subplots(3, 1, figsize=(6, 9))\n",
        "\n",
        "cmap = plt.get_cmap('Reds')\n",
        "norm = mcolors.Normalize(vmin=0, vmax=255)\n",
        "array.isel(band=0).plot(cmap=cmap, ax=axs[0])\n",
        "axs[0].set_title(\"Natural Earth red\")\n",
        "\n",
        "cmap = plt.get_cmap('Greens')\n",
        "norm = mcolors.Normalize(vmin=0, vmax=255)\n",
        "array.isel(band=1).plot(cmap=cmap, ax=axs[1])\n",
        "axs[1].set_title(\"Natural Earth green\")\n",
        "\n",
        "cmap = plt.get_cmap('Blues')\n",
        "norm = mcolors.Normalize(vmin=0, vmax=255)\n",
        "array.isel(band=2).plot(cmap=cmap, ax=axs[2])\n",
        "axs[2].set_title(\"Natural Earth blue\")\n",
        "\n",
        "plt.tight_layout()\n",
        "plt.show()"
      ]
    },
    {
      "cell_type": "markdown",
      "metadata": {},
      "source": [
        "## Plot the RGB composite"
      ]
    },
    {
      "cell_type": "code",
      "execution_count": null,
      "metadata": {},
      "outputs": [],
      "source": [
        "plt.figure(figsize=(6,3))\n",
        "\n",
        "array.fillna(0).isel(time=0, drop=True).astype(\"int\").plot.imshow(rgb=\"band\"),\n",
        "\n",
        "plt.title(\"Natural Earth RGB composite\")\n",
        "plt.show()\n"
      ]
    }
  ],
  "metadata": {
    "kernelspec": {
      "display_name": "env",
      "language": "python",
      "name": "python3"
    },
    "language_info": {
      "codemirror_mode": {
        "name": "ipython",
        "version": 3
      },
      "file_extension": ".py",
      "mimetype": "text/x-python",
      "name": "python",
      "nbconvert_exporter": "python",
      "pygments_lexer": "ipython3",
      "version": "3.10.12"
    },
    "vscode": {
      "interpreter": {
        "hash": "8f2d394a8963745260d673b0ce4a9113a8a87eb715b140f62b67b68f351e1742"
      }
    }
  },
  "nbformat": 4,
  "nbformat_minor": 4
}
