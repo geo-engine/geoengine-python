{
  "cells": [
    {
      "attachments": {},
      "cell_type": "markdown",
      "metadata": {},
      "source": [
        "# Add Public Raster Dataset\n",
        "\n",
        "This example requires the Pro-feature to be active"
      ]
    },
    {
      "cell_type": "code",
      "execution_count": 1,
      "metadata": {},
      "outputs": [],
      "source": [
        "import geoengine as ge\n",
        "from datetime import datetime"
      ]
    },
    {
      "attachments": {},
      "cell_type": "markdown",
      "metadata": {},
      "source": [
        "## Initialize Geo Engine as Admin"
      ]
    },
    {
      "cell_type": "code",
      "execution_count": 2,
      "metadata": {},
      "outputs": [],
      "source": [
        "ge.initialize(\"http://localhost:3030/api\", (\"admin@localhost\", \"admin\"))"
      ]
    },
    {
      "cell_type": "markdown",
      "metadata": {},
      "source": [
        "## List volumes"
      ]
    },
    {
      "cell_type": "code",
      "execution_count": 3,
      "metadata": {},
      "outputs": [
        {
          "data": {
            "text/plain": [
              "[Volume(name='test_data', path='test_data/')]"
            ]
          },
          "execution_count": 3,
          "metadata": {},
          "output_type": "execute_result"
        }
      ],
      "source": [
        "volumes = ge.volumes()\n",
        "volumes"
      ]
    },
    {
      "cell_type": "markdown",
      "metadata": {},
      "source": [
        "## Define metadata"
      ]
    },
    {
      "cell_type": "code",
      "execution_count": 4,
      "metadata": {},
      "outputs": [
        {
          "data": {
            "text/plain": [
              "{'type': 'GdalStatic',\n",
              " 'time': None,\n",
              " 'params': {'filePath': 'raster/landcover/landcover.tif',\n",
              "  'rasterbandChannel': 1,\n",
              "  'geoTransform': {'originCoordinate': [-180.0, 90.0],\n",
              "   'xPixelSize': 0.1,\n",
              "   'yPixelSize': -0.1},\n",
              "  'width': 3600,\n",
              "  'height': 1800,\n",
              "  'fileNotFoundHandling': <FileNotFoundHandling.NODATA: 'NoData'>,\n",
              "  'noDataValue': None,\n",
              "  'propertiesMapping': None,\n",
              "  'gdalOpenOptions': None,\n",
              "  'gdalConfigOptions': None,\n",
              "  'allowAlphabandAsMask': True},\n",
              " 'resultDescriptor': Data type:         U8\n",
              " Spatial Reference: EPSG:4326\n",
              " Measurement:       Land Cover (0: Water Bodies, 1: Evergreen Needleleaf Forests, 2: Evergreen Broadleaf Forests, 3: Deciduous Needleleaf Forests, 4: Deciduous Broadleleaf Forests, 5: Mixed Forests, 6: Closed Shrublands, 7: Open Shrublands, 8: Woody Savannas, 9: Savannas, 10: Grasslands, 11: Permanent Wtlands, 12: Croplands, 13: Urban and Built-Up, 14: Cropland-Natural Vegetation Mosaics, 15: Snow and Ice, 16: Barren or Sparsely Vegetated)}"
            ]
          },
          "execution_count": 4,
          "metadata": {},
          "output_type": "execute_result"
        }
      ],
      "source": [
        "file_path = \"raster/landcover/landcover.tif\" # specify file path relative to volume path\n",
        "\n",
        "rasterband_channel = 1\n",
        "\n",
        "origin = [-180.0, 90.0]\n",
        "x_pixel_size = 0.1\n",
        "y_pixel_size = -0.1\n",
        "geo_transform = ge.api.GdalDatasetGeoTransform({\n",
        "  \"originCoordinate\": origin, \n",
        "  \"xPixelSize\": x_pixel_size, \n",
        "  \"yPixelSize\": y_pixel_size\n",
        "})\n",
        "\n",
        "width = 3600\n",
        "height = 1800\n",
        "\n",
        "file_not_found_handling = ge.api.FileNotFoundHandling.NODATA\n",
        "\n",
        "gdal_params = ge.api.GdalDatasetParameters({\n",
        "  \"filePath\": file_path, \n",
        "  \"rasterbandChannel\": rasterband_channel, \n",
        "  \"geoTransform\": geo_transform,\n",
        "  \"width\": width, \n",
        "  \"height\": height , \n",
        "  \"fileNotFoundHandling\": file_not_found_handling, \n",
        "  \"noDataValue\": None, \n",
        "  \"propertiesMapping\": None, \n",
        "  \"gdalOpenOptions\": None, \n",
        "  \"gdalConfigOptions\": None, \n",
        "  \"allowAlphabandAsMask\": True\n",
        "})\n",
        "\n",
        "result_descriptor_measurement = ge.ClassificationMeasurement(\n",
        "        measurement = \"Land Cover\",\n",
        "        classes = {\n",
        "          \"0\": \"Water Bodies\",\n",
        "          \"1\": \"Evergreen Needleleaf Forests\",\n",
        "          \"2\": \"Evergreen Broadleaf Forests\",\n",
        "          \"3\": \"Deciduous Needleleaf Forests\",\n",
        "          \"4\": \"Deciduous Broadleleaf Forests\",\n",
        "          \"5\": \"Mixed Forests\",\n",
        "          \"6\": \"Closed Shrublands\",\n",
        "          \"7\": \"Open Shrublands\",\n",
        "          \"8\": \"Woody Savannas\",\n",
        "          \"9\": \"Savannas\",\n",
        "          \"10\": \"Grasslands\",\n",
        "          \"11\": \"Permanent Wtlands\",\n",
        "          \"12\": \"Croplands\",\n",
        "          \"13\": \"Urban and Built-Up\",\n",
        "          \"14\": \"Cropland-Natural Vegetation Mosaics\",\n",
        "          \"15\": \"Snow and Ice\",\n",
        "          \"16\": \"Barren or Sparsely Vegetated\"\n",
        "        }\n",
        "\n",
        ")\n",
        "\n",
        "\n",
        "\n",
        "result_descriptor = ge.RasterResultDescriptor(\n",
        "  \"U8\",\n",
        "  result_descriptor_measurement,\n",
        "  \"EPSG:4326\",\n",
        "  spatial_bounds=ge.SpatialPartition2D(-180.0, -90.0, 180.0, 90.0),\n",
        "  spatial_resolution=ge.SpatialResolution(0.1, 0.1)\n",
        ")\n",
        "\n",
        "meta_data = ge.api.GdalMetaDataStatic({\n",
        "  \"type\": \"GdalStatic\",\n",
        "  \"time\": None, \n",
        "  \"params\": gdal_params, \n",
        "  \"resultDescriptor\": result_descriptor\n",
        "})\n",
        "\n",
        "meta_data"
      ]
    },
    {
      "cell_type": "code",
      "execution_count": 5,
      "metadata": {},
      "outputs": [
        {
          "ename": "TypeError",
          "evalue": "LinearGradientColorizer.__init__() got an unexpected keyword argument 'type'",
          "output_type": "error",
          "traceback": [
            "\u001b[0;31m---------------------------------------------------------------------------\u001b[0m",
            "\u001b[0;31mTypeError\u001b[0m                                 Traceback (most recent call last)",
            "Cell \u001b[0;32mIn[5], line 7\u001b[0m\n\u001b[1;32m      1\u001b[0m add_dataset_properties \u001b[39m=\u001b[39m ge\u001b[39m.\u001b[39mDatasetProperties( \n\u001b[1;32m      2\u001b[0m     name \u001b[39m=\u001b[39m \u001b[39m\"\u001b[39m\u001b[39mLand Cover\u001b[39m\u001b[39m\"\u001b[39m,\n\u001b[1;32m      3\u001b[0m     source_operator \u001b[39m=\u001b[39m \u001b[39m\"\u001b[39m\u001b[39mGdalSource\u001b[39m\u001b[39m\"\u001b[39m,\n\u001b[1;32m      4\u001b[0m     description \u001b[39m=\u001b[39m \u001b[39m\"\u001b[39m\u001b[39mLand Cover\u001b[39m\u001b[39m\"\u001b[39m,\n\u001b[1;32m      5\u001b[0m     symbology \u001b[39m=\u001b[39m ge\u001b[39m.\u001b[39mRasterSymbology(\n\u001b[1;32m      6\u001b[0m       opacity \u001b[39m=\u001b[39m \u001b[39m1.0\u001b[39m,\n\u001b[0;32m----> 7\u001b[0m       colorizer \u001b[39m=\u001b[39m ge\u001b[39m.\u001b[39;49mLinearGradientColorizer(\n\u001b[1;32m      8\u001b[0m         \u001b[39mtype\u001b[39;49m\u001b[39m=\u001b[39;49m\u001b[39m'\u001b[39;49m\u001b[39mlinearGradient\u001b[39;49m\u001b[39m'\u001b[39;49m, \n\u001b[1;32m      9\u001b[0m         breakpoints\u001b[39m=\u001b[39;49m[\n\u001b[1;32m     10\u001b[0m           ge\u001b[39m.\u001b[39;49mColorBreakpoint(value\u001b[39m=\u001b[39;49m\u001b[39m0\u001b[39;49m, color\u001b[39m=\u001b[39;49m(\u001b[39m0\u001b[39;49m, \u001b[39m0\u001b[39;49m, \u001b[39m255\u001b[39;49m, \u001b[39m255\u001b[39;49m)),\n\u001b[1;32m     11\u001b[0m           ge\u001b[39m.\u001b[39;49mColorBreakpoint(value\u001b[39m=\u001b[39;49m\u001b[39m8\u001b[39;49m, color\u001b[39m=\u001b[39;49m(\u001b[39m0\u001b[39;49m, \u001b[39m255\u001b[39;49m, \u001b[39m0\u001b[39;49m, \u001b[39m255\u001b[39;49m)),\n\u001b[1;32m     12\u001b[0m           ge\u001b[39m.\u001b[39;49mColorBreakpoint(value\u001b[39m=\u001b[39;49m\u001b[39m16\u001b[39;49m, color\u001b[39m=\u001b[39;49m(\u001b[39m255\u001b[39;49m, \u001b[39m0\u001b[39;49m, \u001b[39m0\u001b[39;49m, \u001b[39m255\u001b[39;49m))\n\u001b[1;32m     13\u001b[0m         ],\n\u001b[1;32m     14\u001b[0m         no_data_color\u001b[39m=\u001b[39;49m (\u001b[39m0\u001b[39;49m, \u001b[39m0\u001b[39;49m, \u001b[39m0\u001b[39;49m, \u001b[39m0\u001b[39;49m),\n\u001b[1;32m     15\u001b[0m         over_color\u001b[39m=\u001b[39;49m (\u001b[39m0\u001b[39;49m, \u001b[39m0\u001b[39;49m, \u001b[39m0\u001b[39;49m, \u001b[39m0\u001b[39;49m),\n\u001b[1;32m     16\u001b[0m         under_color\u001b[39m=\u001b[39;49m (\u001b[39m0\u001b[39;49m, \u001b[39m0\u001b[39;49m, \u001b[39m0\u001b[39;49m, \u001b[39m0\u001b[39;49m)\n\u001b[1;32m     17\u001b[0m       )\n\u001b[1;32m     18\u001b[0m     ),\n\u001b[1;32m     19\u001b[0m     provenance\u001b[39m=\u001b[39m[ge\u001b[39m.\u001b[39mProvenance(\n\u001b[1;32m     20\u001b[0m       citation\u001b[39m=\u001b[39m\u001b[39m\"\u001b[39m\u001b[39mThe data was obtained from <https://lpdaac.usgs.gov/products/mcd12c1v006>. The layer Majority_Land_Cover_Type_1 was extracted, downscaled and saved as landcover.tif.\u001b[39m\u001b[39m\"\u001b[39m,\n\u001b[1;32m     21\u001b[0m       uri\u001b[39m=\u001b[39m\u001b[39m\"\u001b[39m\u001b[39mhttps://lpdaac.usgs.gov/products/mcd12c1v006/\u001b[39m\u001b[39m\"\u001b[39m,\n\u001b[1;32m     22\u001b[0m       license\u001b[39m=\u001b[39m\u001b[39m\"\u001b[39m\u001b[39mAll data distributed by the LP DAAC contain no restrictions on the data reuse. (https://lpdaac.usgs.gov/resources/faqs/#am-i-allowed-to-reuse-lp-daac-data).\u001b[39m\u001b[39m\"\u001b[39m\n\u001b[1;32m     23\u001b[0m     )],\n\u001b[1;32m     24\u001b[0m \n\u001b[1;32m     25\u001b[0m \n\u001b[1;32m     26\u001b[0m )\n\u001b[1;32m     28\u001b[0m add_dataset_properties\u001b[39m.\u001b[39mto_api_dict()\n",
            "\u001b[0;31mTypeError\u001b[0m: LinearGradientColorizer.__init__() got an unexpected keyword argument 'type'"
          ]
        }
      ],
      "source": [
        "add_dataset_properties = ge.DatasetProperties( \n",
        "    name = \"Land Cover\",\n",
        "    source_operator = \"GdalSource\",\n",
        "    description = \"Land Cover\",\n",
        "    symbology = ge.RasterSymbology(\n",
        "      opacity = 1.0,\n",
        "      colorizer = ge.LinearGradientColorizer(\n",
        "        breakpoints=[\n",
        "          ge.ColorBreakpoint(value=0, color=(0, 0, 255, 255)),\n",
        "          ge.ColorBreakpoint(value=8, color=(0, 255, 0, 255)),\n",
        "          ge.ColorBreakpoint(value=16, color=(255, 0, 0, 255))\n",
        "        ],\n",
        "        no_data_color= (0, 0, 0, 0),\n",
        "        over_color= (0, 0, 0, 0),\n",
        "        under_color= (0, 0, 0, 0)\n",
        "      )\n",
        "    ),\n",
        "    provenance=[ge.Provenance(\n",
        "      citation=\"The data was obtained from <https://lpdaac.usgs.gov/products/mcd12c1v006>. The layer Majority_Land_Cover_Type_1 was extracted, downscaled and saved as landcover.tif.\",\n",
        "      uri=\"https://lpdaac.usgs.gov/products/mcd12c1v006/\",\n",
        "      license=\"All data distributed by the LP DAAC contain no restrictions on the data reuse. (https://lpdaac.usgs.gov/resources/faqs/#am-i-allowed-to-reuse-lp-daac-data).\"\n",
        "    )],\n",
        "\n",
        "\n",
        ")\n",
        "\n",
        "add_dataset_properties.to_api_dict()"
      ]
    },
    {
      "cell_type": "markdown",
      "metadata": {},
      "source": [
        "## Add raster dataset to the first volume"
      ]
    },
    {
      "cell_type": "code",
      "execution_count": null,
      "metadata": {},
      "outputs": [],
      "source": [
        "volume = volumes[0]\n",
        "\n",
        "dataset_id = ge.add_public_raster_dataset(volumes[0].name, add_dataset_properties, meta_data)\n",
        "\n",
        "dataset_id"
      ]
    },
    {
      "cell_type": "markdown",
      "metadata": {},
      "source": [
        "## Verify that data is accessible for user"
      ]
    },
    {
      "cell_type": "code",
      "execution_count": null,
      "metadata": {},
      "outputs": [],
      "source": [
        "ge.reset()\n",
        "ge.initialize(\"http://localhost:3030/api\")\n",
        "\n",
        "workflow = ge.register_workflow({\n",
        "    \"type\": \"Raster\",\n",
        "    \"operator\": {\n",
        "        \"type\": \"GdalSource\",\n",
        "        \"params\": {\n",
        "            \"data\": {\n",
        "                \"type\": \"internal\",\n",
        "                \"datasetId\": str(dataset_id)\n",
        "            },\n",
        "        }\n",
        "    }\n",
        "})\n",
        "\n",
        "workflow.get_result_descriptor()"
      ]
    },
    {
      "cell_type": "markdown",
      "metadata": {},
      "source": [
        "## Load the data"
      ]
    },
    {
      "cell_type": "code",
      "execution_count": null,
      "metadata": {},
      "outputs": [],
      "source": [
        "time = datetime.strptime(\n",
        "    '2014-04-01T12:00:00.000Z', \"%Y-%m-%dT%H:%M:%S.%f%z\")\n",
        "\n",
        "data = workflow.get_xarray(\n",
        "    ge.QueryRectangle(\n",
        "        ge.BoundingBox2D(-180.0, -90.0, 180.0, 90.0),\n",
        "        ge.TimeInterval(time, time),\n",
        "        resolution=ge.SpatialResolution(360. / 16, 180. / 16),\n",
        "        )\n",
        ")\n",
        "\n",
        "data.plot()"
      ]
    },
    {
      "attachments": {},
      "cell_type": "markdown",
      "metadata": {},
      "source": [
        "## Delete the dataset"
      ]
    },
    {
      "cell_type": "code",
      "execution_count": null,
      "metadata": {},
      "outputs": [],
      "source": [
        "ge.reset()\n",
        "ge.initialize(\"http://localhost:3030/api\", (\"admin@localhost\", \"admin\"))\n",
        "\n",
        "ge.delete_dataset(dataset_id)"
      ]
    },
    {
      "attachments": {},
      "cell_type": "markdown",
      "metadata": {},
      "source": [
        "## Verify the dataset was deleted"
      ]
    },
    {
      "cell_type": "code",
      "execution_count": null,
      "metadata": {},
      "outputs": [],
      "source": [
        "try:\n",
        "    data = workflow.get_xarray(\n",
        "        ge.QueryRectangle(\n",
        "            ge.BoundingBox2D(-180.0, -90.0, 180.0, 90.0),\n",
        "            ge.TimeInterval(time, time),\n",
        "            resolution=ge.SpatialResolution(360. / 16, 180. / 16),\n",
        "        )\n",
        "    )\n",
        "except Exception as e:\n",
        "    print(e)"
      ]
    }
  ],
  "metadata": {
    "kernelspec": {
      "display_name": "env",
      "language": "python",
      "name": "python3"
    },
    "language_info": {
      "codemirror_mode": {
        "name": "ipython",
        "version": 3
      },
      "file_extension": ".py",
      "mimetype": "text/x-python",
      "name": "python",
      "nbconvert_exporter": "python",
      "pygments_lexer": "ipython3",
      "version": "3.10.6"
    },
    "orig_nbformat": 4,
    "vscode": {
      "interpreter": {
        "hash": "7a10ca932ff03f4c637e11f8207fe4e003ad6532d0070b911d37acf855f595fc"
      }
    }
  },
  "nbformat": 4,
  "nbformat_minor": 2
}
