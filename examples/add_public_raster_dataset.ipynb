{
  "cells": [
    {
      "attachments": {},
      "cell_type": "markdown",
      "metadata": {},
      "source": [
        "# Add Public Raster Dataset"
      ]
    },
    {
      "cell_type": "code",
      "execution_count": 1,
      "metadata": {},
      "outputs": [],
      "source": [
        "import geoengine as ge\n",
        "import geoengine_openapi_client\n",
        "from datetime import datetime\n",
        "from geoengine.types import RasterBandDescriptor"
      ]
    },
    {
      "attachments": {},
      "cell_type": "markdown",
      "metadata": {},
      "source": [
        "## Initialize Geo Engine as Admin"
      ]
    },
    {
      "cell_type": "code",
      "execution_count": 2,
      "metadata": {},
      "outputs": [],
      "source": [
        "ge.initialize(\"http://localhost:3030/api\", (\"admin@localhost\", \"adminadmin\"))"
      ]
    },
    {
      "attachments": {},
      "cell_type": "markdown",
      "metadata": {},
      "source": [
        "## List volumes"
      ]
    },
    {
      "cell_type": "code",
      "execution_count": 3,
      "metadata": {},
      "outputs": [
        {
          "data": {
            "text/plain": [
              "[Volume(name='test_data', path='test_data/')]"
            ]
          },
          "execution_count": 3,
          "metadata": {},
          "output_type": "execute_result"
        }
      ],
      "source": [
        "volumes = ge.volumes()\n",
        "volumes"
      ]
    },
    {
      "attachments": {},
      "cell_type": "markdown",
      "metadata": {},
      "source": [
        "## Define metadata"
      ]
    },
    {
      "cell_type": "code",
      "execution_count": 4,
      "metadata": {},
      "outputs": [
        {
          "data": {
            "text/plain": [
              "GdalMetaDataStatic(cache_ttl=None, params=GdalDatasetParameters(allow_alphaband_as_mask=True, file_not_found_handling=<FileNotFoundHandling.NODATA: 'NoData'>, file_path='raster/landcover/landcover.tif', gdal_config_options=None, gdal_open_options=None, geo_transform=GdalDatasetGeoTransform(origin_coordinate=Coordinate2D(x=-180.0, y=90.0), x_pixel_size=0.1, y_pixel_size=0.1), height=1800, no_data_value=None, properties_mapping=None, rasterband_channel=1, width=3600), result_descriptor=RasterResultDescriptor(bands=[RasterBandDescriptor(measurement=Measurement(oneof_schema_1_validator=None, oneof_schema_2_validator=None, oneof_schema_3_validator=None, actual_instance=ClassificationMeasurement(classes={'0': 'Water Bodies', '1': 'Evergreen Needleleaf Forests', '2': 'Evergreen Broadleaf Forests', '3': 'Deciduous Needleleaf Forests', '4': 'Deciduous Broadleleaf Forests', '5': 'Mixed Forests', '6': 'Closed Shrublands', '7': 'Open Shrublands', '8': 'Woody Savannas', '9': 'Savannas', '10': 'Grasslands', '11': 'Permanent Wtlands', '12': 'Croplands', '13': 'Urban and Built-Up', '14': 'Cropland-Natural Vegetation Mosaics', '15': 'Snow and Ice', '16': 'Barren or Sparsely Vegetated'}, measurement='Land Cover', type='classification'), one_of_schemas={'ContinuousMeasurement', 'UnitlessMeasurement', 'ClassificationMeasurement'}, discriminator_value_class_map={}), name='band')], data_type=<RasterDataType.U8: 'U8'>, spatial_grid=SpatialGridDescriptor(descriptor=<SpatialGridDescriptorState.SOURCE: 'source'>, spatial_grid=SpatialGridDefinition(geo_transform=GeoTransform(origin_coordinate=Coordinate2D(x=-180.0, y=90.0), x_pixel_size=0.1, y_pixel_size=-0.1), grid_bounds=GridBoundingBox2D(bottom_right_idx=GridIdx2D(x_idx=3599, y_idx=1799), top_left_idx=GridIdx2D(x_idx=0, y_idx=0)))), spatial_reference='EPSG:4326', time=None), time=None, type='GdalStatic')"
            ]
          },
          "execution_count": 4,
          "metadata": {},
          "output_type": "execute_result"
        }
      ],
      "source": [
        "file_path = \"raster/landcover/landcover.tif\"  # specify file path relative to volume path\n",
        "\n",
        "rasterband_channel = 1\n",
        "\n",
        "origin = [-180.0, 90.0]\n",
        "x_pixel_size = 0.1\n",
        "y_pixel_size = -0.1\n",
        "\n",
        "width = 3600\n",
        "height = 1800\n",
        "\n",
        "file_not_found_handling = geoengine_openapi_client.FileNotFoundHandling.NODATA\n",
        "\n",
        "gdal_params = geoengine_openapi_client.GdalDatasetParameters.from_dict({\n",
        "    \"filePath\": file_path,\n",
        "    \"rasterbandChannel\": rasterband_channel,\n",
        "    \"geoTransform\": {\n",
        "        \"originCoordinate\": {\n",
        "            \"x\": origin[0],\n",
        "            \"y\": origin[1]\n",
        "        },\n",
        "        \"xPixelSize\": x_pixel_size,\n",
        "        \"yPixelSize\": x_pixel_size\n",
        "    },\n",
        "    \"width\": width,\n",
        "    \"height\": height,\n",
        "    \"fileNotFoundHandling\": file_not_found_handling,\n",
        "    \"noDataValue\": None,\n",
        "    \"propertiesMapping\": None,\n",
        "    \"gdalOpenOptions\": None,\n",
        "    \"gdalConfigOptions\": None,\n",
        "    \"allowAlphabandAsMask\": True\n",
        "})\n",
        "\n",
        "result_descriptor_measurement = ge.ClassificationMeasurement(\n",
        "    measurement=\"Land Cover\",\n",
        "    classes={\n",
        "        \"0\": \"Water Bodies\",\n",
        "        \"1\": \"Evergreen Needleleaf Forests\",\n",
        "        \"2\": \"Evergreen Broadleaf Forests\",\n",
        "        \"3\": \"Deciduous Needleleaf Forests\",\n",
        "        \"4\": \"Deciduous Broadleleaf Forests\",\n",
        "        \"5\": \"Mixed Forests\",\n",
        "        \"6\": \"Closed Shrublands\",\n",
        "        \"7\": \"Open Shrublands\",\n",
        "        \"8\": \"Woody Savannas\",\n",
        "        \"9\": \"Savannas\",\n",
        "        \"10\": \"Grasslands\",\n",
        "        \"11\": \"Permanent Wtlands\",\n",
        "        \"12\": \"Croplands\",\n",
        "        \"13\": \"Urban and Built-Up\",\n",
        "        \"14\": \"Cropland-Natural Vegetation Mosaics\",\n",
        "        \"15\": \"Snow and Ice\",\n",
        "        \"16\": \"Barren or Sparsely Vegetated\"\n",
        "    }\n",
        "\n",
        ")\n",
        "\n",
        "\n",
        "result_descriptor = ge.RasterResultDescriptor(\n",
        "    \"U8\",\n",
        "    [RasterBandDescriptor(\"band\", result_descriptor_measurement)],\n",
        "    \"EPSG:4326\",\n",
        "    spatial_grid=ge.SpatialGridDescriptor(\n",
        "        descriptor='source',\n",
        "        spatial_grid=ge.SpatialGridDefinition(\n",
        "            geo_transform=ge.GeoTransform(\n",
        "                x_min=-180.0,\n",
        "                y_max=90.0,\n",
        "                x_pixel_size=0.1,\n",
        "                y_pixel_size=-0.1\n",
        "            ),\n",
        "            grid_bounds=ge.GridBoundingBox2D(\n",
        "                top_left_idx=ge.GridIdx2D(\n",
        "                    x_idx=0,\n",
        "                    y_idx=0\n",
        "                ),\n",
        "                bottom_right_idx=ge.GridIdx2D(\n",
        "                    x_idx=3599,\n",
        "                    y_idx= 1799\n",
        "                )\n",
        "            )\n",
        "        )\n",
        "    )\n",
        ")\n",
        "\n",
        "meta_data = geoengine_openapi_client.GdalMetaDataStatic.from_dict({\n",
        "    \"type\": \"GdalStatic\",\n",
        "    \"time\": None,\n",
        "    \"params\": gdal_params,\n",
        "    \"resultDescriptor\": result_descriptor.to_api_dict().to_dict(),\n",
        "})\n",
        "\n",
        "meta_data"
      ]
    },
    {
      "cell_type": "code",
      "execution_count": 5,
      "metadata": {},
      "outputs": [
        {
          "data": {
            "text/plain": [
              "AddDataset(description='Land Cover', display_name='Land Cover', name='MCD12C1', provenance=[Provenance(citation='The data was obtained from <https://lpdaac.usgs.gov/products/mcd12c1v006>. The layer Majority_Land_Cover_Type_1 was extracted, downscaled and saved as landcover.tif.', license='All data distributed by the LP DAAC contain no restrictions on the data reuse. (https://lpdaac.usgs.gov/resources/faqs/#am-i-allowed-to-reuse-lp-daac-data).', uri='https://lpdaac.usgs.gov/products/mcd12c1v006/')], source_operator='GdalSource', symbology=Symbology(oneof_schema_1_validator=None, oneof_schema_2_validator=None, oneof_schema_3_validator=None, oneof_schema_4_validator=None, actual_instance=RasterSymbology(opacity=1.0, raster_colorizer=RasterColorizer(oneof_schema_1_validator=None, oneof_schema_2_validator=None, actual_instance=SingleBandRasterColorizer(band=0, band_colorizer=Colorizer(oneof_schema_1_validator=None, oneof_schema_2_validator=None, oneof_schema_3_validator=None, actual_instance=LinearGradient(breakpoints=[Breakpoint(color=[0, 0, 255, 255], value=0), Breakpoint(color=[0, 255, 0, 255], value=8), Breakpoint(color=[255, 0, 0, 255], value=16)], no_data_color=[0, 0, 0, 0], over_color=[0, 0, 0, 0], type='linearGradient', under_color=[0, 0, 0, 0]), one_of_schemas={'PaletteColorizer', 'LogarithmicGradient', 'LinearGradient'}, discriminator_value_class_map={}), type='singleBand'), one_of_schemas={'SingleBandRasterColorizer', 'MultiBandRasterColorizer'}, discriminator_value_class_map={}), type='raster'), one_of_schemas={'RasterSymbology', 'PolygonSymbology', 'LineSymbology', 'PointSymbology'}, discriminator_value_class_map={}), tags=None)"
            ]
          },
          "execution_count": 5,
          "metadata": {},
          "output_type": "execute_result"
        }
      ],
      "source": [
        "add_dataset_properties = ge.AddDatasetProperties(\n",
        "    name=\"MCD12C1\",\n",
        "    display_name=\"Land Cover\",\n",
        "    source_operator=\"GdalSource\",\n",
        "    description=\"Land Cover\",\n",
        "    symbology=ge.RasterSymbology(\n",
        "        opacity=1.0,\n",
        "        raster_colorizer=ge.SingleBandRasterColorizer(\n",
        "            band=0,\n",
        "            band_colorizer=ge.LinearGradientColorizer(\n",
        "                breakpoints=[\n",
        "                    ge.ColorBreakpoint(value=0, color=(0, 0, 255, 255)),\n",
        "                    ge.ColorBreakpoint(value=8, color=(0, 255, 0, 255)),\n",
        "                    ge.ColorBreakpoint(value=16, color=(255, 0, 0, 255))\n",
        "                ],\n",
        "                no_data_color=(0, 0, 0, 0),\n",
        "                over_color=(0, 0, 0, 0),\n",
        "                under_color=(0, 0, 0, 0)\n",
        "            )\n",
        "        )\n",
        "    ),\n",
        "    provenance=[ge.Provenance(\n",
        "        citation=\"The data was obtained from <https://lpdaac.usgs.gov/products/mcd12c1v006>. The layer Majority_Land_Cover_Type_1 was extracted, downscaled and saved as landcover.tif.\",\n",
        "        uri=\"https://lpdaac.usgs.gov/products/mcd12c1v006/\",\n",
        "        license=\"All data distributed by the LP DAAC contain no restrictions on the data reuse. (https://lpdaac.usgs.gov/resources/faqs/#am-i-allowed-to-reuse-lp-daac-data).\"\n",
        "    )],\n",
        "\n",
        "\n",
        ")\n",
        "\n",
        "add_dataset_properties.to_api_dict()"
      ]
    },
    {
      "attachments": {},
      "cell_type": "markdown",
      "metadata": {},
      "source": [
        "## Add raster dataset to the first volume"
      ]
    },
    {
      "cell_type": "code",
      "execution_count": 6,
      "metadata": {},
      "outputs": [
        {
          "data": {
            "text/plain": [
              "MCD12C1"
            ]
          },
          "execution_count": 6,
          "metadata": {},
          "output_type": "execute_result"
        }
      ],
      "source": [
        "volume = volumes[0]\n",
        "\n",
        "dataset_name = ge.add_dataset(\n",
        "    volumes[0],\n",
        "    add_dataset_properties,\n",
        "    geoengine_openapi_client.MetaDataDefinition(\n",
        "        meta_data,\n",
        "    ),\n",
        ")\n",
        "\n",
        "dataset_name"
      ]
    },
    {
      "attachments": {},
      "cell_type": "markdown",
      "metadata": {},
      "source": [
        "## Lookup dataset in listing"
      ]
    },
    {
      "cell_type": "code",
      "execution_count": 7,
      "metadata": {},
      "outputs": [
        {
          "data": {
            "text/plain": [
              "[DatasetListing(description='Boundaries of Germany', display_name='Germany', id='9db8ec6d-a9d1-4f9f-a35f-8ad0ed4ad842', name='germany_outline', result_descriptor=TypedResultDescriptor(oneof_schema_1_validator=None, oneof_schema_2_validator=None, oneof_schema_3_validator=None, actual_instance=TypedVectorResultDescriptor(bbox=BoundingBox2D(lower_left_coordinate=Coordinate2D(x=5.85248986800011, y=47.2711209110001), upper_right_coordinate=Coordinate2D(x=15.022059367000098, y=55.0653343770001)), columns={}, data_type=<VectorDataType.MULTIPOLYGON: 'MultiPolygon'>, spatial_reference='EPSG:4326', time=TimeInterval(end=8210266876799999, start=-8334601228800000), type='vector'), one_of_schemas={'TypedVectorResultDescriptor', 'TypedPlotResultDescriptor', 'TypedRasterResultDescriptor'}, discriminator_value_class_map={}), source_operator='OgrSource', symbology=None, tags=[]),\n",
              " DatasetListing(description='Germany polygon for testing purposes', display_name='Germany Polygon', id='ae315100-fbea-42bb-90a7-ffc2df2f7947', name='germany_polygon', result_descriptor=TypedResultDescriptor(oneof_schema_1_validator=None, oneof_schema_2_validator=None, oneof_schema_3_validator=None, actual_instance=TypedVectorResultDescriptor(bbox=BoundingBox2D(lower_left_coordinate=Coordinate2D(x=5.85249, y=47.271121), upper_right_coordinate=Coordinate2D(x=15.022059, y=55.065334)), columns={}, data_type=<VectorDataType.MULTIPOLYGON: 'MultiPolygon'>, spatial_reference='EPSG:4326', time=None, type='vector'), one_of_schemas={'TypedVectorResultDescriptor', 'TypedPlotResultDescriptor', 'TypedRasterResultDescriptor'}, discriminator_value_class_map={}), source_operator='OgrSource', symbology=None, tags=[]),\n",
              " DatasetListing(description='Land Cover', display_name='Land Cover', id='582e05b3-2d33-4f8e-b387-a24b9703072a', name='MCD12C1', result_descriptor=TypedResultDescriptor(oneof_schema_1_validator=None, oneof_schema_2_validator=None, oneof_schema_3_validator=None, actual_instance=TypedRasterResultDescriptor(bands=[RasterBandDescriptor(measurement=Measurement(oneof_schema_1_validator=None, oneof_schema_2_validator=None, oneof_schema_3_validator=None, actual_instance=ClassificationMeasurement(classes={'0': 'Water Bodies', '1': 'Evergreen Needleleaf Forests', '10': 'Grasslands', '11': 'Permanent Wtlands', '12': 'Croplands', '13': 'Urban and Built-Up', '14': 'Cropland-Natural Vegetation Mosaics', '15': 'Snow and Ice', '16': 'Barren or Sparsely Vegetated', '2': 'Evergreen Broadleaf Forests', '3': 'Deciduous Needleleaf Forests', '4': 'Deciduous Broadleleaf Forests', '5': 'Mixed Forests', '6': 'Closed Shrublands', '7': 'Open Shrublands', '8': 'Woody Savannas', '9': 'Savannas'}, measurement='Land Cover', type='classification'), one_of_schemas={'ContinuousMeasurement', 'UnitlessMeasurement', 'ClassificationMeasurement'}, discriminator_value_class_map={}), name='band')], data_type=<RasterDataType.U8: 'U8'>, spatial_grid=SpatialGridDescriptor(descriptor=<SpatialGridDescriptorState.SOURCE: 'source'>, spatial_grid=SpatialGridDefinition(geo_transform=GeoTransform(origin_coordinate=Coordinate2D(x=-180.0, y=90.0), x_pixel_size=0.1, y_pixel_size=-0.1), grid_bounds=GridBoundingBox2D(bottom_right_idx=GridIdx2D(x_idx=3599, y_idx=1799), top_left_idx=GridIdx2D(x_idx=0, y_idx=0)))), spatial_reference='EPSG:4326', time=None, type='raster'), one_of_schemas={'TypedVectorResultDescriptor', 'TypedPlotResultDescriptor', 'TypedRasterResultDescriptor'}, discriminator_value_class_map={}), source_operator='GdalSource', symbology=Symbology(oneof_schema_1_validator=None, oneof_schema_2_validator=None, oneof_schema_3_validator=None, oneof_schema_4_validator=None, actual_instance=RasterSymbology(opacity=1.0, raster_colorizer=RasterColorizer(oneof_schema_1_validator=None, oneof_schema_2_validator=None, actual_instance=SingleBandRasterColorizer(band=0, band_colorizer=Colorizer(oneof_schema_1_validator=None, oneof_schema_2_validator=None, oneof_schema_3_validator=None, actual_instance=LinearGradient(breakpoints=[Breakpoint(color=[0, 0, 255, 255], value=0.0), Breakpoint(color=[0, 255, 0, 255], value=8.0), Breakpoint(color=[255, 0, 0, 255], value=16.0)], no_data_color=[0, 0, 0, 0], over_color=[0, 0, 0, 0], type='linearGradient', under_color=[0, 0, 0, 0]), one_of_schemas={'PaletteColorizer', 'LogarithmicGradient', 'LinearGradient'}, discriminator_value_class_map={}), type='singleBand'), one_of_schemas={'SingleBandRasterColorizer', 'MultiBandRasterColorizer'}, discriminator_value_class_map={}), type='raster'), one_of_schemas={'RasterSymbology', 'PolygonSymbology', 'LineSymbology', 'PointSymbology'}, discriminator_value_class_map={}), tags=[]),\n",
              " DatasetListing(description='Land Cover derived from MODIS/Terra+Aqua Land Cover', display_name='Land Cover', id='2ef208b9-758d-402c-9ccb-bea3c3a5ca15', name='land_cover', result_descriptor=TypedResultDescriptor(oneof_schema_1_validator=None, oneof_schema_2_validator=None, oneof_schema_3_validator=None, actual_instance=TypedRasterResultDescriptor(bands=[RasterBandDescriptor(measurement=Measurement(oneof_schema_1_validator=None, oneof_schema_2_validator=None, oneof_schema_3_validator=None, actual_instance=ClassificationMeasurement(classes={'0': 'Water Bodies', '1': 'Evergreen Needleleaf Forests', '10': 'Grasslands', '11': 'Permanent Wetlands', '12': 'Croplands', '13': 'Urban and Built-Up', '14': 'Cropland-Natural Vegetation Mosaics', '15': 'Snow and Ice', '16': 'Barren or Sparsely Vegetated', '2': 'Evergreen Broadleaf Forests', '3': 'Deciduous Needleleaf Forests', '4': 'Deciduous Broadleaf Forests', '5': 'Mixed Forests', '6': 'Closed Shrublands', '7': 'Open Shrublands', '8': 'Woody Savannas', '9': 'Savannas'}, measurement='Land Cover', type='classification'), one_of_schemas={'ContinuousMeasurement', 'UnitlessMeasurement', 'ClassificationMeasurement'}, discriminator_value_class_map={}), name='land_cover')], data_type=<RasterDataType.U8: 'U8'>, spatial_grid=SpatialGridDescriptor(descriptor=<SpatialGridDescriptorState.SOURCE: 'source'>, spatial_grid=SpatialGridDefinition(geo_transform=GeoTransform(origin_coordinate=Coordinate2D(x=-180.0, y=90.0), x_pixel_size=0.1, y_pixel_size=-0.1), grid_bounds=GridBoundingBox2D(bottom_right_idx=GridIdx2D(x_idx=3599, y_idx=1799), top_left_idx=GridIdx2D(x_idx=0, y_idx=0)))), spatial_reference='EPSG:4326', time=TimeInterval(end=8210266876799999, start=-8334601228800000), type='raster'), one_of_schemas={'TypedVectorResultDescriptor', 'TypedPlotResultDescriptor', 'TypedRasterResultDescriptor'}, discriminator_value_class_map={}), source_operator='GdalSource', symbology=Symbology(oneof_schema_1_validator=None, oneof_schema_2_validator=None, oneof_schema_3_validator=None, oneof_schema_4_validator=None, actual_instance=RasterSymbology(opacity=1.0, raster_colorizer=RasterColorizer(oneof_schema_1_validator=None, oneof_schema_2_validator=None, actual_instance=SingleBandRasterColorizer(band=0, band_colorizer=Colorizer(oneof_schema_1_validator=None, oneof_schema_2_validator=None, oneof_schema_3_validator=None, actual_instance=PaletteColorizer(colors={'15': [255, 255, 255, 255], '4': [159, 225, 127, 255], '8': [224, 223, 133, 255], '12': [225, 222, 127, 255], '11': [66, 128, 189, 255], '5': [125, 194, 127, 255], '7': [188, 221, 190, 255], '16': [192, 192, 192, 255], '13': [253, 2, 0, 255], '3': [157, 194, 63, 255], '1': [30, 129, 62, 255], '10': [223, 192, 125, 255], '9': [226, 221, 7, 255], '6': [195, 127, 126, 255], '14': [162, 159, 66, 255], '2': [59, 194, 212, 255], '0': [134, 201, 227, 255]}, default_color=[0, 0, 0, 0], no_data_color=[0, 0, 0, 0], type='palette'), one_of_schemas={'PaletteColorizer', 'LogarithmicGradient', 'LinearGradient'}, discriminator_value_class_map={}), type='singleBand'), one_of_schemas={'SingleBandRasterColorizer', 'MultiBandRasterColorizer'}, discriminator_value_class_map={}), type='raster'), one_of_schemas={'RasterSymbology', 'PolygonSymbology', 'LineSymbology', 'PointSymbology'}, discriminator_value_class_map={}), tags=[]),\n",
              " DatasetListing(description='A mock dataset', display_name='Mock', id='4caf511c-03f9-4745-854c-c756120256d4', name='Mock', result_descriptor=TypedResultDescriptor(oneof_schema_1_validator=None, oneof_schema_2_validator=None, oneof_schema_3_validator=None, actual_instance=TypedVectorResultDescriptor(bbox=BoundingBox2D(lower_left_coordinate=Coordinate2D(x=1.0, y=2.0), upper_right_coordinate=Coordinate2D(x=1.0, y=2.0)), columns={}, data_type=<VectorDataType.MULTIPOINT: 'MultiPoint'>, spatial_reference='EPSG:4326', time=TimeInterval(end=8210266876799999, start=-8334601228800000), type='vector'), one_of_schemas={'TypedVectorResultDescriptor', 'TypedPlotResultDescriptor', 'TypedRasterResultDescriptor'}, discriminator_value_class_map={}), source_operator='MockDatasetDataSource', symbology=None, tags=[]),\n",
              " DatasetListing(description='Ports from Natural Earth', display_name='Natural Earth 10m Ports', id='924ed058-1f8f-4b6b-95f6-da1a285fc926', name='ne_10m_ports', result_descriptor=TypedResultDescriptor(oneof_schema_1_validator=None, oneof_schema_2_validator=None, oneof_schema_3_validator=None, actual_instance=TypedVectorResultDescriptor(bbox=BoundingBox2D(lower_left_coordinate=Coordinate2D(x=-171.75795, y=-54.809444), upper_right_coordinate=Coordinate2D(x=179.309364, y=78.226111)), columns={'name': VectorColumnInfo(data_type=<FeatureDataType.TEXT: 'text'>, measurement=Measurement(oneof_schema_1_validator=None, oneof_schema_2_validator=None, oneof_schema_3_validator=None, actual_instance=UnitlessMeasurement(type='unitless'), one_of_schemas={'ContinuousMeasurement', 'UnitlessMeasurement', 'ClassificationMeasurement'}, discriminator_value_class_map={})), 'featurecla': VectorColumnInfo(data_type=<FeatureDataType.TEXT: 'text'>, measurement=Measurement(oneof_schema_1_validator=None, oneof_schema_2_validator=None, oneof_schema_3_validator=None, actual_instance=UnitlessMeasurement(type='unitless'), one_of_schemas={'ContinuousMeasurement', 'UnitlessMeasurement', 'ClassificationMeasurement'}, discriminator_value_class_map={})), 'natlscale': VectorColumnInfo(data_type=<FeatureDataType.FLOAT: 'float'>, measurement=Measurement(oneof_schema_1_validator=None, oneof_schema_2_validator=None, oneof_schema_3_validator=None, actual_instance=UnitlessMeasurement(type='unitless'), one_of_schemas={'ContinuousMeasurement', 'UnitlessMeasurement', 'ClassificationMeasurement'}, discriminator_value_class_map={})), 'scalerank': VectorColumnInfo(data_type=<FeatureDataType.INT: 'int'>, measurement=Measurement(oneof_schema_1_validator=None, oneof_schema_2_validator=None, oneof_schema_3_validator=None, actual_instance=UnitlessMeasurement(type='unitless'), one_of_schemas={'ContinuousMeasurement', 'UnitlessMeasurement', 'ClassificationMeasurement'}, discriminator_value_class_map={})), 'website': VectorColumnInfo(data_type=<FeatureDataType.TEXT: 'text'>, measurement=Measurement(oneof_schema_1_validator=None, oneof_schema_2_validator=None, oneof_schema_3_validator=None, actual_instance=UnitlessMeasurement(type='unitless'), one_of_schemas={'ContinuousMeasurement', 'UnitlessMeasurement', 'ClassificationMeasurement'}, discriminator_value_class_map={}))}, data_type=<VectorDataType.MULTIPOINT: 'MultiPoint'>, spatial_reference='EPSG:4326', time=TimeInterval(end=8210266876799999, start=-8334601228800000), type='vector'), one_of_schemas={'TypedVectorResultDescriptor', 'TypedPlotResultDescriptor', 'TypedRasterResultDescriptor'}, discriminator_value_class_map={}), source_operator='OgrSource', symbology=None, tags=[]),\n",
              " DatasetListing(description='Ports from Natural Earth reprojected to EPSG:3857', display_name='Natural Earth 10m Ports 3857', id='8e5c5846-45e5-40c7-aac4-23781d941d34', name='ne_10_ports_3857', result_descriptor=TypedResultDescriptor(oneof_schema_1_validator=None, oneof_schema_2_validator=None, oneof_schema_3_validator=None, actual_instance=TypedVectorResultDescriptor(bbox=BoundingBox2D(lower_left_coordinate=Coordinate2D(x=-19120007.589356, y=-7324970.649647), upper_right_coordinate=Coordinate2D(x=19960627.094946, y=14490886.335637)), columns={'natlscale': VectorColumnInfo(data_type=<FeatureDataType.FLOAT: 'float'>, measurement=Measurement(oneof_schema_1_validator=None, oneof_schema_2_validator=None, oneof_schema_3_validator=None, actual_instance=UnitlessMeasurement(type='unitless'), one_of_schemas={'ContinuousMeasurement', 'UnitlessMeasurement', 'ClassificationMeasurement'}, discriminator_value_class_map={})), 'scalerank': VectorColumnInfo(data_type=<FeatureDataType.INT: 'int'>, measurement=Measurement(oneof_schema_1_validator=None, oneof_schema_2_validator=None, oneof_schema_3_validator=None, actual_instance=UnitlessMeasurement(type='unitless'), one_of_schemas={'ContinuousMeasurement', 'UnitlessMeasurement', 'ClassificationMeasurement'}, discriminator_value_class_map={})), 'name': VectorColumnInfo(data_type=<FeatureDataType.TEXT: 'text'>, measurement=Measurement(oneof_schema_1_validator=None, oneof_schema_2_validator=None, oneof_schema_3_validator=None, actual_instance=UnitlessMeasurement(type='unitless'), one_of_schemas={'ContinuousMeasurement', 'UnitlessMeasurement', 'ClassificationMeasurement'}, discriminator_value_class_map={})), 'website': VectorColumnInfo(data_type=<FeatureDataType.TEXT: 'text'>, measurement=Measurement(oneof_schema_1_validator=None, oneof_schema_2_validator=None, oneof_schema_3_validator=None, actual_instance=UnitlessMeasurement(type='unitless'), one_of_schemas={'ContinuousMeasurement', 'UnitlessMeasurement', 'ClassificationMeasurement'}, discriminator_value_class_map={})), 'featurecla': VectorColumnInfo(data_type=<FeatureDataType.TEXT: 'text'>, measurement=Measurement(oneof_schema_1_validator=None, oneof_schema_2_validator=None, oneof_schema_3_validator=None, actual_instance=UnitlessMeasurement(type='unitless'), one_of_schemas={'ContinuousMeasurement', 'UnitlessMeasurement', 'ClassificationMeasurement'}, discriminator_value_class_map={}))}, data_type=<VectorDataType.MULTIPOINT: 'MultiPoint'>, spatial_reference='EPSG:3857', time=TimeInterval(end=8210266876799999, start=-8334601228800000), type='vector'), one_of_schemas={'TypedVectorResultDescriptor', 'TypedPlotResultDescriptor', 'TypedRasterResultDescriptor'}, discriminator_value_class_map={}), source_operator='OgrSource', symbology=None, tags=[]),\n",
              " DatasetListing(description='This data derived from Natural Earth 1 portrays the world environment in an idealized manner with little human influence. The softly blended colors of Natural Earth 2 are ideal for historical mapping, because it shows the world much as it looked before the modern era.', display_name='Natural Earth II – Blue', id='6a88a704-bc6c-4972-9690-1b04936de44f', name='ne2_raster_blue', result_descriptor=TypedResultDescriptor(oneof_schema_1_validator=None, oneof_schema_2_validator=None, oneof_schema_3_validator=None, actual_instance=TypedRasterResultDescriptor(bands=[RasterBandDescriptor(measurement=Measurement(oneof_schema_1_validator=None, oneof_schema_2_validator=None, oneof_schema_3_validator=None, actual_instance=UnitlessMeasurement(type='unitless'), one_of_schemas={'ContinuousMeasurement', 'UnitlessMeasurement', 'ClassificationMeasurement'}, discriminator_value_class_map={}), name='blue')], data_type=<RasterDataType.U8: 'U8'>, spatial_grid=SpatialGridDescriptor(descriptor=<SpatialGridDescriptorState.SOURCE: 'source'>, spatial_grid=SpatialGridDefinition(geo_transform=GeoTransform(origin_coordinate=Coordinate2D(x=-180.0, y=90.0), x_pixel_size=0.1, y_pixel_size=-0.1), grid_bounds=GridBoundingBox2D(bottom_right_idx=GridIdx2D(x_idx=3599, y_idx=1799), top_left_idx=GridIdx2D(x_idx=0, y_idx=0)))), spatial_reference='EPSG:4326', time=TimeInterval(end=8210266876799999, start=-8334601228800000), type='raster'), one_of_schemas={'TypedVectorResultDescriptor', 'TypedPlotResultDescriptor', 'TypedRasterResultDescriptor'}, discriminator_value_class_map={}), source_operator='GdalSource', symbology=Symbology(oneof_schema_1_validator=None, oneof_schema_2_validator=None, oneof_schema_3_validator=None, oneof_schema_4_validator=None, actual_instance=RasterSymbology(opacity=1.0, raster_colorizer=RasterColorizer(oneof_schema_1_validator=None, oneof_schema_2_validator=None, actual_instance=SingleBandRasterColorizer(band=0, band_colorizer=Colorizer(oneof_schema_1_validator=None, oneof_schema_2_validator=None, oneof_schema_3_validator=None, actual_instance=LinearGradient(breakpoints=[Breakpoint(color=[247, 251, 255, 255], value=0.0), Breakpoint(color=[106, 173, 213, 255], value=127.0), Breakpoint(color=[246, 250, 254, 255], value=255.0)], no_data_color=[0, 0, 0, 0], over_color=[246, 250, 254, 255], type='linearGradient', under_color=[247, 251, 255, 255]), one_of_schemas={'PaletteColorizer', 'LogarithmicGradient', 'LinearGradient'}, discriminator_value_class_map={}), type='singleBand'), one_of_schemas={'SingleBandRasterColorizer', 'MultiBandRasterColorizer'}, discriminator_value_class_map={}), type='raster'), one_of_schemas={'RasterSymbology', 'PolygonSymbology', 'LineSymbology', 'PointSymbology'}, discriminator_value_class_map={}), tags=[]),\n",
              " DatasetListing(description='This data derived from Natural Earth 1 portrays the world environment in an idealized manner with little human influence. The softly blended colors of Natural Earth 2 are ideal for historical mapping, because it shows the world much as it looked before the modern era.', display_name='Natural Earth II – Green', id='9ee35e48-9296-4870-910c-c1ed98c4f84b', name='ne2_raster_green', result_descriptor=TypedResultDescriptor(oneof_schema_1_validator=None, oneof_schema_2_validator=None, oneof_schema_3_validator=None, actual_instance=TypedRasterResultDescriptor(bands=[RasterBandDescriptor(measurement=Measurement(oneof_schema_1_validator=None, oneof_schema_2_validator=None, oneof_schema_3_validator=None, actual_instance=UnitlessMeasurement(type='unitless'), one_of_schemas={'ContinuousMeasurement', 'UnitlessMeasurement', 'ClassificationMeasurement'}, discriminator_value_class_map={}), name='green')], data_type=<RasterDataType.U8: 'U8'>, spatial_grid=SpatialGridDescriptor(descriptor=<SpatialGridDescriptorState.SOURCE: 'source'>, spatial_grid=SpatialGridDefinition(geo_transform=GeoTransform(origin_coordinate=Coordinate2D(x=-180.0, y=90.0), x_pixel_size=0.1, y_pixel_size=-0.1), grid_bounds=GridBoundingBox2D(bottom_right_idx=GridIdx2D(x_idx=3599, y_idx=1799), top_left_idx=GridIdx2D(x_idx=0, y_idx=0)))), spatial_reference='EPSG:4326', time=TimeInterval(end=8210266876799999, start=-8334601228800000), type='raster'), one_of_schemas={'TypedVectorResultDescriptor', 'TypedPlotResultDescriptor', 'TypedRasterResultDescriptor'}, discriminator_value_class_map={}), source_operator='GdalSource', symbology=Symbology(oneof_schema_1_validator=None, oneof_schema_2_validator=None, oneof_schema_3_validator=None, oneof_schema_4_validator=None, actual_instance=RasterSymbology(opacity=1.0, raster_colorizer=RasterColorizer(oneof_schema_1_validator=None, oneof_schema_2_validator=None, actual_instance=SingleBandRasterColorizer(band=0, band_colorizer=Colorizer(oneof_schema_1_validator=None, oneof_schema_2_validator=None, oneof_schema_3_validator=None, actual_instance=LinearGradient(breakpoints=[Breakpoint(color=[247, 252, 245, 255], value=0.0), Breakpoint(color=[115, 195, 117, 255], value=127.0), Breakpoint(color=[246, 251, 244, 255], value=255.0)], no_data_color=[0, 0, 0, 0], over_color=[246, 251, 244, 255], type='linearGradient', under_color=[247, 252, 245, 255]), one_of_schemas={'PaletteColorizer', 'LogarithmicGradient', 'LinearGradient'}, discriminator_value_class_map={}), type='singleBand'), one_of_schemas={'SingleBandRasterColorizer', 'MultiBandRasterColorizer'}, discriminator_value_class_map={}), type='raster'), one_of_schemas={'RasterSymbology', 'PolygonSymbology', 'LineSymbology', 'PointSymbology'}, discriminator_value_class_map={}), tags=[]),\n",
              " DatasetListing(description='This data derived from Natural Earth 1 portrays the world environment in an idealized manner with little human influence. The softly blended colors of Natural Earth 2 are ideal for historical mapping, because it shows the world much as it looked before the modern era.', display_name='Natural Earth II – Red', id='2a9cf54f-67c4-47f4-ad58-24e6540ee636', name='ne2_raster_red', result_descriptor=TypedResultDescriptor(oneof_schema_1_validator=None, oneof_schema_2_validator=None, oneof_schema_3_validator=None, actual_instance=TypedRasterResultDescriptor(bands=[RasterBandDescriptor(measurement=Measurement(oneof_schema_1_validator=None, oneof_schema_2_validator=None, oneof_schema_3_validator=None, actual_instance=UnitlessMeasurement(type='unitless'), one_of_schemas={'ContinuousMeasurement', 'UnitlessMeasurement', 'ClassificationMeasurement'}, discriminator_value_class_map={}), name='red')], data_type=<RasterDataType.U8: 'U8'>, spatial_grid=SpatialGridDescriptor(descriptor=<SpatialGridDescriptorState.SOURCE: 'source'>, spatial_grid=SpatialGridDefinition(geo_transform=GeoTransform(origin_coordinate=Coordinate2D(x=-180.0, y=90.0), x_pixel_size=0.1, y_pixel_size=-0.1), grid_bounds=GridBoundingBox2D(bottom_right_idx=GridIdx2D(x_idx=3599, y_idx=1799), top_left_idx=GridIdx2D(x_idx=0, y_idx=0)))), spatial_reference='EPSG:4326', time=TimeInterval(end=8210266876799999, start=-8334601228800000), type='raster'), one_of_schemas={'TypedVectorResultDescriptor', 'TypedPlotResultDescriptor', 'TypedRasterResultDescriptor'}, discriminator_value_class_map={}), source_operator='GdalSource', symbology=Symbology(oneof_schema_1_validator=None, oneof_schema_2_validator=None, oneof_schema_3_validator=None, oneof_schema_4_validator=None, actual_instance=RasterSymbology(opacity=1.0, raster_colorizer=RasterColorizer(oneof_schema_1_validator=None, oneof_schema_2_validator=None, actual_instance=SingleBandRasterColorizer(band=0, band_colorizer=Colorizer(oneof_schema_1_validator=None, oneof_schema_2_validator=None, oneof_schema_3_validator=None, actual_instance=LinearGradient(breakpoints=[Breakpoint(color=[255, 245, 240, 255], value=0.0), Breakpoint(color=[250, 105, 73, 255], value=127.0), Breakpoint(color=[254, 244, 239, 255], value=255.0)], no_data_color=[0, 0, 0, 0], over_color=[254, 244, 239, 255], type='linearGradient', under_color=[255, 245, 240, 255]), one_of_schemas={'PaletteColorizer', 'LogarithmicGradient', 'LinearGradient'}, discriminator_value_class_map={}), type='singleBand'), one_of_schemas={'SingleBandRasterColorizer', 'MultiBandRasterColorizer'}, discriminator_value_class_map={}), type='raster'), one_of_schemas={'RasterSymbology', 'PolygonSymbology', 'LineSymbology', 'PointSymbology'}, discriminator_value_class_map={}), tags=[]),\n",
              " DatasetListing(description='NDVI data from MODIS', display_name='NDVI', id='5a100cbc-723d-437c-a406-0bf8fb5155b8', name='ndvi', result_descriptor=TypedResultDescriptor(oneof_schema_1_validator=None, oneof_schema_2_validator=None, oneof_schema_3_validator=None, actual_instance=TypedRasterResultDescriptor(bands=[RasterBandDescriptor(measurement=Measurement(oneof_schema_1_validator=None, oneof_schema_2_validator=None, oneof_schema_3_validator=None, actual_instance=ContinuousMeasurement(measurement='vegetation', type='continuous', unit=None), one_of_schemas={'ContinuousMeasurement', 'UnitlessMeasurement', 'ClassificationMeasurement'}, discriminator_value_class_map={}), name='ndvi')], data_type=<RasterDataType.U8: 'U8'>, spatial_grid=SpatialGridDescriptor(descriptor=<SpatialGridDescriptorState.SOURCE: 'source'>, spatial_grid=SpatialGridDefinition(geo_transform=GeoTransform(origin_coordinate=Coordinate2D(x=-180.0, y=90.0), x_pixel_size=0.1, y_pixel_size=-0.1), grid_bounds=GridBoundingBox2D(bottom_right_idx=GridIdx2D(x_idx=3599, y_idx=1799), top_left_idx=GridIdx2D(x_idx=0, y_idx=0)))), spatial_reference='EPSG:4326', time=TimeInterval(end=1404172800000, start=1388534400000), type='raster'), one_of_schemas={'TypedVectorResultDescriptor', 'TypedPlotResultDescriptor', 'TypedRasterResultDescriptor'}, discriminator_value_class_map={}), source_operator='GdalSource', symbology=Symbology(oneof_schema_1_validator=None, oneof_schema_2_validator=None, oneof_schema_3_validator=None, oneof_schema_4_validator=None, actual_instance=RasterSymbology(opacity=1.0, raster_colorizer=RasterColorizer(oneof_schema_1_validator=None, oneof_schema_2_validator=None, actual_instance=SingleBandRasterColorizer(band=0, band_colorizer=Colorizer(oneof_schema_1_validator=None, oneof_schema_2_validator=None, oneof_schema_3_validator=None, actual_instance=PaletteColorizer(colors={'142': [104, 117, 31, 255], '188': [63, 81, 33, 255], '115': [132, 136, 45, 255], '159': [87, 104, 33, 255], '12': [227, 214, 198, 255], '249': [14, 39, 2, 255], '160': [86, 103, 33, 255], '112': [135, 138, 49, 255], '200': [52, 73, 24, 255], '173': [76, 93, 33, 255], '134': [112, 123, 31, 255], '30': [213, 198, 172, 255], '109': [139, 140, 53, 255], '81': [168, 160, 94, 255], '1': [235, 223, 214, 255], '68': [180, 169, 116, 255], '195': [57, 76, 29, 255], '148': [98, 112, 32, 255], '248': [14, 40, 2, 255], '106': [142, 142, 56, 255], '7': [231, 218, 205, 255], '208': [45, 68, 15, 255], '31': [212, 197, 171, 255], '123': [123, 131, 35, 255], '64': [184, 171, 122, 255], '23': [218, 204, 182, 255], '232': [24, 52, 1, 255], '32': [211, 196, 170, 255], '151': [95, 110, 32, 255], '154': [92, 108, 33, 255], '163': [84, 101, 33, 255], '158': [88, 105, 33, 255], '6': [231, 219, 206, 255], '203': [49, 71, 21, 255], '146': [100, 114, 32, 255], '181': [69, 87, 33, 255], '143': [103, 116, 32, 255], '102': [146, 145, 61, 255], '132': [114, 124, 30, 255], '117': [130, 135, 43, 255], '45': [200, 186, 150, 255], '157': [89, 106, 33, 255], '108': [140, 141, 54, 255], '19': [221, 207, 188, 255], '128': [118, 127, 30, 255], '246': [16, 41, 2, 255], '24': [217, 203, 181, 255], '187': [64, 82, 33, 255], '16': [224, 210, 192, 255], '238': [21, 47, 1, 255], '0': [236, 224, 215, 0], '139': [107, 119, 31, 255], '255': [0, 0, 0, 255], '223': [30, 58, 0, 255], '70': [178, 167, 112, 255], '241': [19, 45, 2, 255], '145': [101, 115, 32, 255], '67': [181, 169, 117, 255], '192': [60, 78, 32, 255], '89': [160, 154, 80, 255], '184': [67, 84, 33, 255], '166': [81, 99, 33, 255], '239': [20, 47, 2, 255], '86': [163, 156, 85, 255], '76': [172, 163, 102, 255], '116': [131, 136, 44, 255], '218': [35, 61, 5, 255], '77': [171, 162, 100, 255], '214': [39, 64, 9, 255], '211': [42, 66, 12, 255], '204': [48, 70, 20, 255], '85': [164, 157, 87, 255], '186': [65, 83, 33, 255], '169': [79, 96, 33, 255], '253': [11, 36, 3, 255], '245': [16, 42, 2, 255], '58': [189, 176, 131, 255], '21': [220, 206, 185, 255], '227': [28, 55, 0, 255], '220': [33, 60, 3, 255], '244': [17, 43, 2, 255], '198': [54, 74, 26, 255], '136': [110, 121, 31, 255], '65': [183, 171, 121, 255], '78': [170, 162, 99, 255], '236': [22, 49, 1, 255], '122': [124, 131, 36, 255], '168': [80, 97, 33, 255], '52': [194, 181, 140, 255], '25': [217, 202, 180, 255], '99': [150, 147, 65, 255], '91': [158, 153, 77, 255], '131': [115, 125, 30, 255], '55': [192, 178, 136, 255], '79': [170, 161, 97, 255], '49': [197, 183, 145, 255], '147': [99, 113, 32, 255], '202': [50, 72, 22, 255], '8': [230, 217, 204, 255], '105': [143, 143, 58, 255], '127': [119, 128, 30, 255], '121': [126, 132, 38, 255], '183': [68, 85, 33, 255], '22': [219, 205, 184, 255], '165': [82, 99, 33, 255], '155': [91, 107, 33, 255], '80': [169, 160, 95, 255], '113': [134, 138, 48, 255], '2': [234, 222, 212, 255], '206': [46, 69, 18, 255], '87': [162, 156, 84, 255], '84': [165, 158, 89, 255], '247': [15, 41, 2, 255], '215': [38, 63, 8, 255], '103': [145, 145, 60, 255], '234': [23, 50, 1, 255], '9': [229, 216, 202, 255], '90': [159, 153, 78, 255], '156': [90, 106, 33, 255], '11': [227, 214, 199, 255], '137': [109, 121, 31, 255], '235': [23, 49, 1, 255], '51': [195, 181, 142, 255], '194': [58, 77, 30, 255], '69': [179, 168, 114, 255], '88': [161, 155, 82, 255], '135': [111, 122, 31, 255], '177': [72, 90, 33, 255], '172': [76, 94, 33, 255], '228': [27, 54, 0, 255], '162': [85, 102, 33, 255], '10': [228, 215, 201, 255], '63': [185, 172, 124, 255], '72': [176, 166, 109, 255], '231': [25, 52, 1, 255], '43': [202, 188, 153, 255], '153': [93, 109, 32, 255], '104': [144, 144, 59, 255], '111': [137, 139, 50, 255], '20': [221, 207, 187, 255], '190': [62, 80, 33, 255], '82': [167, 159, 92, 255], '4': [233, 221, 209, 255], '3': [234, 221, 211, 255], '93': [156, 151, 73, 255], '94': [155, 151, 72, 255], '97': [152, 149, 68, 255], '29': [214, 199, 174, 255], '178': [72, 89, 33, 255], '130': [116, 126, 30, 255], '120': [127, 133, 39, 255], '179': [71, 88, 33, 255], '119': [128, 134, 40, 255], '5': [232, 220, 208, 255], '237': [21, 48, 1, 255], '13': [226, 213, 197, 255], '175': [74, 92, 33, 255], '60': [188, 174, 128, 255], '229': [26, 54, 1, 255], '199': [53, 74, 25, 255], '71': [177, 167, 111, 255], '28': [214, 200, 175, 255], '42': [203, 188, 155, 255], '149': [97, 112, 32, 255], '225': [29, 57, 0, 255], '14': [225, 212, 195, 255], '216': [37, 63, 7, 255], '174': [75, 92, 33, 255], '95': [154, 150, 70, 255], '98': [151, 148, 66, 255], '185': [66, 84, 33, 255], '226': [28, 56, 0, 255], '36': [208, 193, 164, 255], '107': [141, 142, 55, 255], '141': [105, 118, 31, 255], '182': [68, 86, 33, 255], '39': [205, 191, 159, 255], '171': [77, 95, 33, 255], '57': [190, 177, 133, 255], '18': [222, 208, 189, 255], '250': [13, 39, 3, 255], '54': [193, 179, 137, 255], '201': [51, 72, 23, 255], '37': [207, 192, 162, 255], '61': [187, 174, 127, 255], '114': [133, 137, 46, 255], '240': [19, 46, 2, 255], '34': [209, 195, 167, 255], '53': [193, 180, 139, 255], '17': [223, 209, 191, 255], '209': [44, 67, 14, 255], '221': [32, 59, 2, 255], '83': [166, 158, 90, 255], '15': [224, 211, 194, 255], '144': [102, 115, 32, 255], '56': [191, 177, 134, 255], '124': [122, 130, 34, 255], '176': [73, 91, 33, 255], '224': [29, 57, 0, 255], '196': [56, 76, 28, 255], '210': [43, 67, 13, 255], '252': [12, 37, 3, 255], '50': [196, 182, 143, 255], '38': [206, 192, 161, 255], '73': [175, 165, 107, 255], '233': [24, 51, 1, 255], '100': [149, 147, 64, 255], '33': [210, 195, 168, 255], '180': [70, 88, 33, 255], '26': [216, 201, 178, 255], '161': [85, 102, 33, 255], '96': [153, 149, 69, 255], '75': [173, 164, 104, 255], '212': [41, 65, 11, 255], '27': [215, 200, 177, 255], '140': [106, 118, 31, 255], '66': [182, 170, 119, 255], '170': [78, 95, 33, 255], '40': [204, 190, 158, 255], '152': [94, 109, 32, 255], '125': [121, 129, 33, 255], '251': [13, 38, 3, 255], '230': [26, 53, 1, 255], '217': [36, 62, 6, 255], '62': [186, 173, 125, 255], '48': [198, 184, 146, 255], '189': [63, 81, 33, 255], '197': [55, 75, 27, 255], '92': [157, 152, 75, 255], '150': [96, 111, 32, 255], '254': [11, 36, 3, 255], '133': [113, 124, 31, 255], '59': [188, 175, 130, 255], '74': [174, 164, 105, 255], '35': [209, 194, 165, 255], '47': [199, 185, 148, 255], '243': [18, 44, 2, 255], '222': [31, 59, 1, 255], '41': [204, 189, 156, 255], '207': [46, 69, 17, 255], '193': [59, 78, 31, 255], '205': [47, 70, 19, 255], '164': [83, 100, 33, 255], '138': [108, 120, 31, 255], '44': [201, 187, 152, 255], '129': [117, 127, 30, 255], '101': [147, 146, 63, 255], '242': [18, 44, 2, 255], '118': [129, 134, 41, 255], '219': [34, 61, 4, 255], '46': [199, 185, 149, 255], '213': [40, 65, 10, 255], '167': [81, 98, 33, 255], '191': [61, 79, 33, 255], '126': [120, 129, 31, 255], '110': [138, 140, 51, 255]}, default_color=[0, 0, 0, 0], no_data_color=[0, 0, 0, 0], type='palette'), one_of_schemas={'PaletteColorizer', 'LogarithmicGradient', 'LinearGradient'}, discriminator_value_class_map={}), type='singleBand'), one_of_schemas={'SingleBandRasterColorizer', 'MultiBandRasterColorizer'}, discriminator_value_class_map={}), type='raster'), one_of_schemas={'RasterSymbology', 'PolygonSymbology', 'LineSymbology', 'PointSymbology'}, discriminator_value_class_map={}), tags=[]),\n",
              " DatasetListing(description='NDVI data from MODIS reprojected to EPSG:3857', display_name='NDVI3857', id='bac534e6-cfc7-4a15-a625-5e8db642ede9', name='ndvi_3857', result_descriptor=TypedResultDescriptor(oneof_schema_1_validator=None, oneof_schema_2_validator=None, oneof_schema_3_validator=None, actual_instance=TypedRasterResultDescriptor(bands=[RasterBandDescriptor(measurement=Measurement(oneof_schema_1_validator=None, oneof_schema_2_validator=None, oneof_schema_3_validator=None, actual_instance=UnitlessMeasurement(type='unitless'), one_of_schemas={'ContinuousMeasurement', 'UnitlessMeasurement', 'ClassificationMeasurement'}, discriminator_value_class_map={}), name='ndvi')], data_type=<RasterDataType.U8: 'U8'>, spatial_grid=SpatialGridDescriptor(descriptor=<SpatialGridDescriptorState.SOURCE: 'source'>, spatial_grid=SpatialGridDefinition(geo_transform=GeoTransform(origin_coordinate=Coordinate2D(x=-20037508.342789244, y=19971868.880408563), x_pixel_size=14052.95025804874, y_pixel_size=-14057.881117788405), grid_bounds=GridBoundingBox2D(bottom_right_idx=GridIdx2D(x_idx=3599, y_idx=1799), top_left_idx=GridIdx2D(x_idx=0, y_idx=0)))), spatial_reference='EPSG:3857', time=TimeInterval(end=1404172800000, start=1388534400000), type='raster'), one_of_schemas={'TypedVectorResultDescriptor', 'TypedPlotResultDescriptor', 'TypedRasterResultDescriptor'}, discriminator_value_class_map={}), source_operator='GdalSource', symbology=None, tags=[]),\n",
              " DatasetListing(description='NDVI data from MODIS', display_name='NDVI as GdalMetaDataList', id='f1eb54bb-d49a-46ed-827e-d085c093da43', name='ndvi_list', result_descriptor=TypedResultDescriptor(oneof_schema_1_validator=None, oneof_schema_2_validator=None, oneof_schema_3_validator=None, actual_instance=TypedRasterResultDescriptor(bands=[RasterBandDescriptor(measurement=Measurement(oneof_schema_1_validator=None, oneof_schema_2_validator=None, oneof_schema_3_validator=None, actual_instance=UnitlessMeasurement(type='unitless'), one_of_schemas={'ContinuousMeasurement', 'UnitlessMeasurement', 'ClassificationMeasurement'}, discriminator_value_class_map={}), name='ndvi')], data_type=<RasterDataType.U8: 'U8'>, spatial_grid=SpatialGridDescriptor(descriptor=<SpatialGridDescriptorState.SOURCE: 'source'>, spatial_grid=SpatialGridDefinition(geo_transform=GeoTransform(origin_coordinate=Coordinate2D(x=-180.0, y=90.0), x_pixel_size=0.1, y_pixel_size=-0.1), grid_bounds=GridBoundingBox2D(bottom_right_idx=GridIdx2D(x_idx=3599, y_idx=1799), top_left_idx=GridIdx2D(x_idx=0, y_idx=0)))), spatial_reference='EPSG:4326', time=TimeInterval(end=1404172800000, start=1388534400000), type='raster'), one_of_schemas={'TypedVectorResultDescriptor', 'TypedPlotResultDescriptor', 'TypedRasterResultDescriptor'}, discriminator_value_class_map={}), source_operator='GdalSource', symbology=Symbology(oneof_schema_1_validator=None, oneof_schema_2_validator=None, oneof_schema_3_validator=None, oneof_schema_4_validator=None, actual_instance=RasterSymbology(opacity=1.0, raster_colorizer=RasterColorizer(oneof_schema_1_validator=None, oneof_schema_2_validator=None, actual_instance=SingleBandRasterColorizer(band=0, band_colorizer=Colorizer(oneof_schema_1_validator=None, oneof_schema_2_validator=None, oneof_schema_3_validator=None, actual_instance=PaletteColorizer(colors={'114': [133, 137, 46, 255], '182': [68, 86, 33, 255], '49': [197, 183, 145, 255], '55': [192, 178, 136, 255], '92': [157, 152, 75, 255], '115': [132, 136, 45, 255], '126': [120, 129, 31, 255], '102': [146, 145, 61, 255], '96': [153, 149, 69, 255], '172': [76, 94, 33, 255], '220': [33, 60, 3, 255], '42': [203, 188, 155, 255], '217': [36, 62, 6, 255], '137': [109, 121, 31, 255], '50': [196, 182, 143, 255], '71': [177, 167, 111, 255], '128': [118, 127, 30, 255], '142': [104, 117, 31, 255], '151': [95, 110, 32, 255], '133': [113, 124, 31, 255], '144': [102, 115, 32, 255], '214': [39, 64, 9, 255], '62': [186, 173, 125, 255], '229': [26, 54, 1, 255], '98': [151, 148, 66, 255], '85': [164, 157, 87, 255], '32': [211, 196, 170, 255], '80': [169, 160, 95, 255], '206': [46, 69, 18, 255], '112': [135, 138, 49, 255], '234': [23, 50, 1, 255], '8': [230, 217, 204, 255], '183': [68, 85, 33, 255], '127': [119, 128, 30, 255], '153': [93, 109, 32, 255], '192': [60, 78, 32, 255], '136': [110, 121, 31, 255], '116': [131, 136, 44, 255], '105': [143, 143, 58, 255], '167': [81, 98, 33, 255], '31': [212, 197, 171, 255], '201': [51, 72, 23, 255], '67': [181, 169, 117, 255], '190': [62, 80, 33, 255], '164': [83, 100, 33, 255], '25': [217, 202, 180, 255], '198': [54, 74, 26, 255], '14': [225, 212, 195, 255], '155': [91, 107, 33, 255], '184': [67, 84, 33, 255], '65': [183, 171, 121, 255], '200': [52, 73, 24, 255], '2': [234, 222, 212, 255], '219': [34, 61, 4, 255], '188': [63, 81, 33, 255], '104': [144, 144, 59, 255], '68': [180, 169, 116, 255], '26': [216, 201, 178, 255], '12': [227, 214, 198, 255], '162': [85, 102, 33, 255], '17': [223, 209, 191, 255], '94': [155, 151, 72, 255], '4': [233, 221, 209, 255], '209': [44, 67, 14, 255], '232': [24, 52, 1, 255], '34': [209, 195, 167, 255], '246': [16, 41, 2, 255], '185': [66, 84, 33, 255], '86': [163, 156, 85, 255], '87': [162, 156, 84, 255], '93': [156, 151, 73, 255], '195': [57, 76, 29, 255], '39': [205, 191, 159, 255], '19': [221, 207, 188, 255], '70': [178, 167, 112, 255], '61': [187, 174, 127, 255], '47': [199, 185, 148, 255], '148': [98, 112, 32, 255], '79': [170, 161, 97, 255], '10': [228, 215, 201, 255], '174': [75, 92, 33, 255], '222': [31, 59, 1, 255], '249': [14, 39, 2, 255], '241': [19, 45, 2, 255], '0': [236, 224, 215, 0], '212': [41, 65, 11, 255], '146': [100, 114, 32, 255], '216': [37, 63, 7, 255], '135': [111, 122, 31, 255], '52': [194, 181, 140, 255], '129': [117, 127, 30, 255], '227': [28, 55, 0, 255], '177': [72, 90, 33, 255], '58': [189, 176, 131, 255], '242': [18, 44, 2, 255], '73': [175, 165, 107, 255], '166': [81, 99, 33, 255], '56': [191, 177, 134, 255], '194': [58, 77, 30, 255], '83': [166, 158, 90, 255], '78': [170, 162, 99, 255], '159': [87, 104, 33, 255], '132': [114, 124, 30, 255], '199': [53, 74, 25, 255], '48': [198, 184, 146, 255], '108': [140, 141, 54, 255], '181': [69, 87, 33, 255], '66': [182, 170, 119, 255], '213': [40, 65, 10, 255], '189': [63, 81, 33, 255], '74': [174, 164, 105, 255], '134': [112, 123, 31, 255], '140': [106, 118, 31, 255], '203': [49, 71, 21, 255], '255': [0, 0, 0, 255], '160': [86, 103, 33, 255], '228': [27, 54, 0, 255], '175': [74, 92, 33, 255], '210': [43, 67, 13, 255], '244': [17, 43, 2, 255], '138': [108, 120, 31, 255], '178': [72, 89, 33, 255], '75': [173, 164, 104, 255], '239': [20, 47, 2, 255], '238': [21, 47, 1, 255], '207': [46, 69, 17, 255], '254': [11, 36, 3, 255], '147': [99, 113, 32, 255], '211': [42, 66, 12, 255], '253': [11, 36, 3, 255], '152': [94, 109, 32, 255], '218': [35, 61, 5, 255], '231': [25, 52, 1, 255], '196': [56, 76, 28, 255], '125': [121, 129, 33, 255], '168': [80, 97, 33, 255], '240': [19, 46, 2, 255], '179': [71, 88, 33, 255], '158': [88, 105, 33, 255], '63': [185, 172, 124, 255], '109': [139, 140, 53, 255], '54': [193, 179, 137, 255], '202': [50, 72, 22, 255], '161': [85, 102, 33, 255], '106': [142, 142, 56, 255], '60': [188, 174, 128, 255], '113': [134, 138, 48, 255], '252': [12, 37, 3, 255], '165': [82, 99, 33, 255], '28': [214, 200, 175, 255], '145': [101, 115, 32, 255], '59': [188, 175, 130, 255], '72': [176, 166, 109, 255], '99': [150, 147, 65, 255], '223': [30, 58, 0, 255], '187': [64, 82, 33, 255], '37': [207, 192, 162, 255], '44': [201, 187, 152, 255], '88': [161, 155, 82, 255], '24': [217, 203, 181, 255], '7': [231, 218, 205, 255], '171': [77, 95, 33, 255], '82': [167, 159, 92, 255], '27': [215, 200, 177, 255], '208': [45, 68, 15, 255], '111': [137, 139, 50, 255], '103': [145, 145, 60, 255], '9': [229, 216, 202, 255], '119': [128, 134, 40, 255], '64': [184, 171, 122, 255], '16': [224, 210, 192, 255], '123': [123, 131, 35, 255], '124': [122, 130, 34, 255], '117': [130, 135, 43, 255], '131': [115, 125, 30, 255], '76': [172, 163, 102, 255], '230': [26, 53, 1, 255], '30': [213, 198, 172, 255], '193': [59, 78, 31, 255], '163': [84, 101, 33, 255], '90': [159, 153, 78, 255], '46': [199, 185, 149, 255], '154': [92, 108, 33, 255], '224': [29, 57, 0, 255], '100': [149, 147, 64, 255], '248': [14, 40, 2, 255], '89': [160, 154, 80, 255], '226': [28, 56, 0, 255], '191': [61, 79, 33, 255], '15': [224, 211, 194, 255], '237': [21, 48, 1, 255], '33': [210, 195, 168, 255], '84': [165, 158, 89, 255], '221': [32, 59, 2, 255], '43': [202, 188, 153, 255], '121': [126, 132, 38, 255], '139': [107, 119, 31, 255], '107': [141, 142, 55, 255], '53': [193, 180, 139, 255], '143': [103, 116, 32, 255], '170': [78, 95, 33, 255], '197': [55, 75, 27, 255], '97': [152, 149, 68, 255], '247': [15, 41, 2, 255], '91': [158, 153, 77, 255], '205': [47, 70, 19, 255], '13': [226, 213, 197, 255], '186': [65, 83, 33, 255], '11': [227, 214, 199, 255], '77': [171, 162, 100, 255], '225': [29, 57, 0, 255], '3': [234, 221, 211, 255], '149': [97, 112, 32, 255], '130': [116, 126, 30, 255], '18': [222, 208, 189, 255], '23': [218, 204, 182, 255], '243': [18, 44, 2, 255], '156': [90, 106, 33, 255], '69': [179, 168, 114, 255], '150': [96, 111, 32, 255], '5': [232, 220, 208, 255], '57': [190, 177, 133, 255], '180': [70, 88, 33, 255], '173': [76, 93, 33, 255], '110': [138, 140, 51, 255], '157': [89, 106, 33, 255], '6': [231, 219, 206, 255], '169': [79, 96, 33, 255], '245': [16, 42, 2, 255], '36': [208, 193, 164, 255], '120': [127, 133, 39, 255], '95': [154, 150, 70, 255], '51': [195, 181, 142, 255], '45': [200, 186, 150, 255], '250': [13, 39, 3, 255], '204': [48, 70, 20, 255], '35': [209, 194, 165, 255], '20': [221, 207, 187, 255], '118': [129, 134, 41, 255], '1': [235, 223, 214, 255], '81': [168, 160, 94, 255], '40': [204, 190, 158, 255], '235': [23, 49, 1, 255], '176': [73, 91, 33, 255], '122': [124, 131, 36, 255], '22': [219, 205, 184, 255], '101': [147, 146, 63, 255], '236': [22, 49, 1, 255], '233': [24, 51, 1, 255], '141': [105, 118, 31, 255], '38': [206, 192, 161, 255], '29': [214, 199, 174, 255], '251': [13, 38, 3, 255], '215': [38, 63, 8, 255], '41': [204, 189, 156, 255], '21': [220, 206, 185, 255]}, default_color=[0, 0, 0, 0], no_data_color=[0, 0, 0, 0], type='palette'), one_of_schemas={'PaletteColorizer', 'LogarithmicGradient', 'LinearGradient'}, discriminator_value_class_map={}), type='singleBand'), one_of_schemas={'SingleBandRasterColorizer', 'MultiBandRasterColorizer'}, discriminator_value_class_map={}), type='raster'), one_of_schemas={'RasterSymbology', 'PolygonSymbology', 'LineSymbology', 'PointSymbology'}, discriminator_value_class_map={}), tags=[]),\n",
              " DatasetListing(description='NDVI data from MODIS but with flipped y-axis', display_name='NDVI flipped y-axis', id='419044c4-aa54-4530-a5f4-d2a3bd8fa15b', name='ndvi_flipped_axis', result_descriptor=TypedResultDescriptor(oneof_schema_1_validator=None, oneof_schema_2_validator=None, oneof_schema_3_validator=None, actual_instance=TypedRasterResultDescriptor(bands=[RasterBandDescriptor(measurement=Measurement(oneof_schema_1_validator=None, oneof_schema_2_validator=None, oneof_schema_3_validator=None, actual_instance=ContinuousMeasurement(measurement='vegetation', type='continuous', unit=None), one_of_schemas={'ContinuousMeasurement', 'UnitlessMeasurement', 'ClassificationMeasurement'}, discriminator_value_class_map={}), name='ndvi')], data_type=<RasterDataType.U8: 'U8'>, spatial_grid=SpatialGridDescriptor(descriptor=<SpatialGridDescriptorState.SOURCE: 'source'>, spatial_grid=SpatialGridDefinition(geo_transform=GeoTransform(origin_coordinate=Coordinate2D(x=-180.0, y=-90.0), x_pixel_size=0.1, y_pixel_size=0.1), grid_bounds=GridBoundingBox2D(bottom_right_idx=GridIdx2D(x_idx=3599, y_idx=-1), top_left_idx=GridIdx2D(x_idx=0, y_idx=-1800)))), spatial_reference='EPSG:4326', time=TimeInterval(end=1404172800000, start=1388534400000), type='raster'), one_of_schemas={'TypedVectorResultDescriptor', 'TypedPlotResultDescriptor', 'TypedRasterResultDescriptor'}, discriminator_value_class_map={}), source_operator='GdalSource', symbology=Symbology(oneof_schema_1_validator=None, oneof_schema_2_validator=None, oneof_schema_3_validator=None, oneof_schema_4_validator=None, actual_instance=RasterSymbology(opacity=1.0, raster_colorizer=RasterColorizer(oneof_schema_1_validator=None, oneof_schema_2_validator=None, actual_instance=SingleBandRasterColorizer(band=0, band_colorizer=Colorizer(oneof_schema_1_validator=None, oneof_schema_2_validator=None, oneof_schema_3_validator=None, actual_instance=PaletteColorizer(colors={'38': [206, 192, 161, 255], '97': [152, 149, 68, 255], '61': [187, 174, 127, 255], '35': [209, 194, 165, 255], '156': [90, 106, 33, 255], '93': [156, 151, 73, 255], '240': [19, 46, 2, 255], '118': [129, 134, 41, 255], '117': [130, 135, 43, 255], '125': [121, 129, 33, 255], '199': [53, 74, 25, 255], '208': [45, 68, 15, 255], '139': [107, 119, 31, 255], '124': [122, 130, 34, 255], '220': [33, 60, 3, 255], '60': [188, 174, 128, 255], '241': [19, 45, 2, 255], '175': [74, 92, 33, 255], '233': [24, 51, 1, 255], '40': [204, 190, 158, 255], '63': [185, 172, 124, 255], '25': [217, 202, 180, 255], '225': [29, 57, 0, 255], '129': [117, 127, 30, 255], '158': [88, 105, 33, 255], '236': [22, 49, 1, 255], '114': [133, 137, 46, 255], '197': [55, 75, 27, 255], '144': [102, 115, 32, 255], '153': [93, 109, 32, 255], '171': [77, 95, 33, 255], '168': [80, 97, 33, 255], '89': [160, 154, 80, 255], '111': [137, 139, 50, 255], '145': [101, 115, 32, 255], '235': [23, 49, 1, 255], '146': [100, 114, 32, 255], '204': [48, 70, 20, 255], '108': [140, 141, 54, 255], '110': [138, 140, 51, 255], '228': [27, 54, 0, 255], '43': [202, 188, 153, 255], '29': [214, 199, 174, 255], '128': [118, 127, 30, 255], '87': [162, 156, 84, 255], '255': [0, 0, 0, 255], '20': [221, 207, 187, 255], '30': [213, 198, 172, 255], '69': [179, 168, 114, 255], '234': [23, 50, 1, 255], '198': [54, 74, 26, 255], '162': [85, 102, 33, 255], '132': [114, 124, 30, 255], '77': [171, 162, 100, 255], '120': [127, 133, 39, 255], '178': [72, 89, 33, 255], '127': [119, 128, 30, 255], '176': [73, 91, 33, 255], '9': [229, 216, 202, 255], '58': [189, 176, 131, 255], '243': [18, 44, 2, 255], '216': [37, 63, 7, 255], '181': [69, 87, 33, 255], '46': [199, 185, 149, 255], '47': [199, 185, 148, 255], '193': [59, 78, 31, 255], '37': [207, 192, 162, 255], '212': [41, 65, 11, 255], '222': [31, 59, 1, 255], '84': [165, 158, 89, 255], '227': [28, 55, 0, 255], '73': [175, 165, 107, 255], '8': [230, 217, 204, 255], '5': [232, 220, 208, 255], '170': [78, 95, 33, 255], '194': [58, 77, 30, 255], '209': [44, 67, 14, 255], '92': [157, 152, 75, 255], '223': [30, 58, 0, 255], '219': [34, 61, 4, 255], '187': [64, 82, 33, 255], '207': [46, 69, 17, 255], '75': [173, 164, 104, 255], '90': [159, 153, 78, 255], '229': [26, 54, 1, 255], '107': [141, 142, 55, 255], '200': [52, 73, 24, 255], '174': [75, 92, 33, 255], '135': [111, 122, 31, 255], '19': [221, 207, 188, 255], '42': [203, 188, 155, 255], '17': [223, 209, 191, 255], '65': [183, 171, 121, 255], '211': [42, 66, 12, 255], '88': [161, 155, 82, 255], '182': [68, 86, 33, 255], '106': [142, 142, 56, 255], '119': [128, 134, 40, 255], '3': [234, 221, 211, 255], '163': [84, 101, 33, 255], '247': [15, 41, 2, 255], '131': [115, 125, 30, 255], '230': [26, 53, 1, 255], '217': [36, 62, 6, 255], '155': [91, 107, 33, 255], '140': [106, 118, 31, 255], '109': [139, 140, 53, 255], '26': [216, 201, 178, 255], '192': [60, 78, 32, 255], '27': [215, 200, 177, 255], '231': [25, 52, 1, 255], '67': [181, 169, 117, 255], '173': [76, 93, 33, 255], '64': [184, 171, 122, 255], '237': [21, 48, 1, 255], '177': [72, 90, 33, 255], '11': [227, 214, 199, 255], '249': [14, 39, 2, 255], '49': [197, 183, 145, 255], '214': [39, 64, 9, 255], '149': [97, 112, 32, 255], '151': [95, 110, 32, 255], '210': [43, 67, 13, 255], '238': [21, 47, 1, 255], '248': [14, 40, 2, 255], '142': [104, 117, 31, 255], '167': [81, 98, 33, 255], '66': [182, 170, 119, 255], '166': [81, 99, 33, 255], '253': [11, 36, 3, 255], '2': [234, 222, 212, 255], '116': [131, 136, 44, 255], '196': [56, 76, 28, 255], '147': [99, 113, 32, 255], '134': [112, 123, 31, 255], '31': [212, 197, 171, 255], '12': [227, 214, 198, 255], '24': [217, 203, 181, 255], '180': [70, 88, 33, 255], '184': [67, 84, 33, 255], '218': [35, 61, 5, 255], '68': [180, 169, 116, 255], '53': [193, 180, 139, 255], '72': [176, 166, 109, 255], '250': [13, 39, 3, 255], '190': [62, 80, 33, 255], '55': [192, 178, 136, 255], '34': [209, 195, 167, 255], '141': [105, 118, 31, 255], '45': [200, 186, 150, 255], '22': [219, 205, 184, 255], '4': [233, 221, 209, 255], '165': [82, 99, 33, 255], '246': [16, 41, 2, 255], '103': [145, 145, 60, 255], '133': [113, 124, 31, 255], '70': [178, 167, 112, 255], '80': [169, 160, 95, 255], '104': [144, 144, 59, 255], '6': [231, 219, 206, 255], '85': [164, 157, 87, 255], '143': [103, 116, 32, 255], '242': [18, 44, 2, 255], '205': [47, 70, 19, 255], '226': [28, 56, 0, 255], '76': [172, 163, 102, 255], '41': [204, 189, 156, 255], '81': [168, 160, 94, 255], '57': [190, 177, 133, 255], '244': [17, 43, 2, 255], '189': [63, 81, 33, 255], '44': [201, 187, 152, 255], '51': [195, 181, 142, 255], '78': [170, 162, 99, 255], '172': [76, 94, 33, 255], '130': [116, 126, 30, 255], '32': [211, 196, 170, 255], '101': [147, 146, 63, 255], '15': [224, 211, 194, 255], '112': [135, 138, 49, 255], '105': [143, 143, 58, 255], '28': [214, 200, 175, 255], '183': [68, 85, 33, 255], '39': [205, 191, 159, 255], '7': [231, 218, 205, 255], '169': [79, 96, 33, 255], '54': [193, 179, 137, 255], '74': [174, 164, 105, 255], '18': [222, 208, 189, 255], '56': [191, 177, 134, 255], '201': [51, 72, 23, 255], '115': [132, 136, 45, 255], '95': [154, 150, 70, 255], '79': [170, 161, 97, 255], '122': [124, 131, 36, 255], '10': [228, 215, 201, 255], '150': [96, 111, 32, 255], '160': [86, 103, 33, 255], '48': [198, 184, 146, 255], '62': [186, 173, 125, 255], '252': [12, 37, 3, 255], '206': [46, 69, 18, 255], '59': [188, 175, 130, 255], '161': [85, 102, 33, 255], '91': [158, 153, 77, 255], '245': [16, 42, 2, 255], '179': [71, 88, 33, 255], '126': [120, 129, 31, 255], '83': [166, 158, 90, 255], '195': [57, 76, 29, 255], '50': [196, 182, 143, 255], '203': [49, 71, 21, 255], '137': [109, 121, 31, 255], '96': [153, 149, 69, 255], '123': [123, 131, 35, 255], '148': [98, 112, 32, 255], '152': [94, 109, 32, 255], '154': [92, 108, 33, 255], '157': [89, 106, 33, 255], '71': [177, 167, 111, 255], '13': [226, 213, 197, 255], '186': [65, 83, 33, 255], '185': [66, 84, 33, 255], '164': [83, 100, 33, 255], '0': [236, 224, 215, 0], '159': [87, 104, 33, 255], '102': [146, 145, 61, 255], '188': [63, 81, 33, 255], '98': [151, 148, 66, 255], '224': [29, 57, 0, 255], '213': [40, 65, 10, 255], '239': [20, 47, 2, 255], '191': [61, 79, 33, 255], '215': [38, 63, 8, 255], '113': [134, 138, 48, 255], '14': [225, 212, 195, 255], '99': [150, 147, 65, 255], '202': [50, 72, 22, 255], '232': [24, 52, 1, 255], '52': [194, 181, 140, 255], '86': [163, 156, 85, 255], '121': [126, 132, 38, 255], '136': [110, 121, 31, 255], '221': [32, 59, 2, 255], '251': [13, 38, 3, 255], '23': [218, 204, 182, 255], '16': [224, 210, 192, 255], '33': [210, 195, 168, 255], '100': [149, 147, 64, 255], '21': [220, 206, 185, 255], '82': [167, 159, 92, 255], '1': [235, 223, 214, 255], '94': [155, 151, 72, 255], '36': [208, 193, 164, 255], '254': [11, 36, 3, 255], '138': [108, 120, 31, 255]}, default_color=[0, 0, 0, 0], no_data_color=[0, 0, 0, 0], type='palette'), one_of_schemas={'PaletteColorizer', 'LogarithmicGradient', 'LinearGradient'}, discriminator_value_class_map={}), type='singleBand'), one_of_schemas={'SingleBandRasterColorizer', 'MultiBandRasterColorizer'}, discriminator_value_class_map={}), type='raster'), one_of_schemas={'RasterSymbology', 'PolygonSymbology', 'LineSymbology', 'PointSymbology'}, discriminator_value_class_map={}), tags=[]),\n",
              " DatasetListing(description='Some points in Europe in 2014', display_name='Points with Time', id='9d89ea76-d398-40d3-a480-89028063c967', name='points_with_time', result_descriptor=TypedResultDescriptor(oneof_schema_1_validator=None, oneof_schema_2_validator=None, oneof_schema_3_validator=None, actual_instance=TypedVectorResultDescriptor(bbox=BoundingBox2D(lower_left_coordinate=Coordinate2D(x=3.966206, y=45.903036), upper_right_coordinate=Coordinate2D(x=19.171284, y=51.847343)), columns={}, data_type=<VectorDataType.MULTIPOINT: 'MultiPoint'>, spatial_reference='EPSG:4326', time=TimeInterval(end=1404172800000, start=1396310400000), type='vector'), one_of_schemas={'TypedVectorResultDescriptor', 'TypedPlotResultDescriptor', 'TypedRasterResultDescriptor'}, discriminator_value_class_map={}), source_operator='OgrSource', symbology=None, tags=[])]"
            ]
          },
          "execution_count": 7,
          "metadata": {},
          "output_type": "execute_result"
        }
      ],
      "source": [
        "ge.datasets.list_datasets()"
      ]
    },
    {
      "attachments": {},
      "cell_type": "markdown",
      "metadata": {},
      "source": [
        "## Verify that data is accessible for user"
      ]
    },
    {
      "cell_type": "code",
      "execution_count": 8,
      "metadata": {},
      "outputs": [
        {
          "data": {
            "text/plain": [
              "Data type:         U8\n",
              "Spatial Reference: EPSG:4326\n",
              "Spatial Grid: SpatialGridDescriptor(spatial_grid=SpatialGridDefinition(geo_transform=Origin: (-180.0, 90.0), X Pixel Size: 0.1, Y Pixel Size: -0.1, grid_bounds=GridBoundingBox2D(top_left_idx=GridIdx2D(x_idx=0, y_idx=0), bottom_right_idx=GridIdx2D(x_idx=3599, y_idx=1799))), descriptor=<SpatialGridDescriptorState.SOURCE: 'source'>) \n",
              "Time Bounds: None\n",
              "Bands:\n",
              "    band: Land Cover (0: Water Bodies, 1: Evergreen Needleleaf Forests, 10: Grasslands, 11: Permanent Wtlands, 12: Croplands, 13: Urban and Built-Up, 14: Cropland-Natural Vegetation Mosaics, 15: Snow and Ice, 16: Barren or Sparsely Vegetated, 2: Evergreen Broadleaf Forests, 3: Deciduous Needleleaf Forests, 4: Deciduous Broadleleaf Forests, 5: Mixed Forests, 6: Closed Shrublands, 7: Open Shrublands, 8: Woody Savannas, 9: Savannas)"
            ]
          },
          "execution_count": 8,
          "metadata": {},
          "output_type": "execute_result"
        }
      ],
      "source": [
        "ge.reset()\n",
        "ge.initialize(\"http://localhost:3030/api\")\n",
        "\n",
        "workflow = ge.register_workflow({\n",
        "    \"type\": \"Raster\",\n",
        "    \"operator\": {\n",
        "        \"type\": \"GdalSource\",\n",
        "        \"params\": {\n",
        "            \"data\": \"MCD12C1\",\n",
        "        }\n",
        "    }\n",
        "})\n",
        "\n",
        "workflow.get_result_descriptor()"
      ]
    },
    {
      "attachments": {},
      "cell_type": "markdown",
      "metadata": {},
      "source": [
        "## Load the data"
      ]
    },
    {
      "cell_type": "code",
      "execution_count": 9,
      "metadata": {},
      "outputs": [
        {
          "name": "stderr",
          "output_type": "stream",
          "text": [
            "/home/droenner/git/geoengine-python/env/lib/python3.12/site-packages/owslib/coverage/wcs110.py:85: FutureWarning: Truth-testing of elements was a source of confusion and will always return True in future versions. Use specific 'len(elem)' or 'elem is not None' test instead.\n",
            "  elem = self._capabilities.find(self.ns.OWS('ServiceProvider')) or self._capabilities.find(self.ns.OWS('ServiceProvider'))  # noqa\n"
          ]
        },
        {
          "data": {
            "text/plain": [
              "<matplotlib.collections.QuadMesh at 0x7846d64af290>"
            ]
          },
          "execution_count": 9,
          "metadata": {},
          "output_type": "execute_result"
        },
        {
          "data": {
            "image/png": "[encoded data removed]",
            "text/plain": [
              "<Figure size 640x480 with 2 Axes>"
            ]
          },
          "metadata": {},
          "output_type": "display_data"
        }
      ],
      "source": [
        "time = datetime.strptime(\n",
        "    '2014-04-01T12:00:00.000Z', \"%Y-%m-%dT%H:%M:%S.%f%z\")\n",
        "\n",
        "data = workflow.get_xarray(\n",
        "    ge.QueryRectangle(\n",
        "        ge.BoundingBox2D(-18.0, -9.0, 18.0, 9.0),\n",
        "        ge.TimeInterval(time, time),\n",
        "        # NOTE: this processes the dataset at its full resolution!\n",
        "    )\n",
        ")\n",
        "\n",
        "data.plot()"
      ]
    },
    {
      "attachments": {},
      "cell_type": "markdown",
      "metadata": {},
      "source": [
        "## Delete the dataset"
      ]
    },
    {
      "cell_type": "code",
      "execution_count": 10,
      "metadata": {},
      "outputs": [],
      "source": [
        "ge.reset()\n",
        "ge.initialize(\"http://localhost:3030/api\", (\"admin@localhost\", \"adminadmin\"))\n",
        "\n",
        "ge.delete_dataset(dataset_name)"
      ]
    },
    {
      "attachments": {},
      "cell_type": "markdown",
      "metadata": {},
      "source": [
        "## Verify the dataset was deleted"
      ]
    },
    {
      "cell_type": "code",
      "execution_count": 11,
      "metadata": {},
      "outputs": [
        {
          "name": "stdout",
          "output_type": "stream",
          "text": [
            "{\"error\":\"UnknownDatasetName\",\"message\":\"Dataset name 'MCD12C1' does not exist\"}\n"
          ]
        },
        {
          "name": "stderr",
          "output_type": "stream",
          "text": [
            "/home/droenner/git/geoengine-python/env/lib/python3.12/site-packages/owslib/coverage/wcs110.py:85: FutureWarning: Truth-testing of elements was a source of confusion and will always return True in future versions. Use specific 'len(elem)' or 'elem is not None' test instead.\n",
            "  elem = self._capabilities.find(self.ns.OWS('ServiceProvider')) or self._capabilities.find(self.ns.OWS('ServiceProvider'))  # noqa\n"
          ]
        }
      ],
      "source": [
        "try:\n",
        "    data = workflow.get_xarray(\n",
        "        ge.QueryRectangle(\n",
        "            ge.BoundingBox2D(-180.0, -90.0, 180.0, 90.0),\n",
        "            ge.TimeInterval(time, time),\n",
        "            resolution=ge.SpatialResolution(360. / 16, 180. / 16),\n",
        "        )\n",
        "    )\n",
        "except Exception as e:\n",
        "    print(e)"
      ]
    }
  ],
  "metadata": {
    "kernelspec": {
      "display_name": "env",
      "language": "python",
      "name": "python3"
    },
    "language_info": {
      "codemirror_mode": {
        "name": "ipython",
        "version": 3
      },
      "file_extension": ".py",
      "mimetype": "text/x-python",
      "name": "python",
      "nbconvert_exporter": "python",
      "pygments_lexer": "ipython3",
      "version": "3.12.3"
    },
    "orig_nbformat": 4,
    "vscode": {
      "interpreter": {
        "hash": "7a10ca932ff03f4c637e11f8207fe4e003ad6532d0070b911d37acf855f595fc"
      }
    }
  },
  "nbformat": 4,
  "nbformat_minor": 2
}
