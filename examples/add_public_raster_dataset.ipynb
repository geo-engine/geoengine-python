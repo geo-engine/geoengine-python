{
 "cells": [
  {
   "attachments": {},
   "cell_type": "markdown",
   "metadata": {},
   "source": [
    "# Add Public Raster Dataset"
   ]
  },
  {
   "cell_type": "code",
   "execution_count": 1,
   "metadata": {},
   "outputs": [],
   "source": [
    "from datetime import datetime\n",
    "\n",
    "import geoengine_openapi_client\n",
    "\n",
    "import geoengine as ge\n",
    "from geoengine.types import RasterBandDescriptor"
   ]
  },
  {
   "attachments": {},
   "cell_type": "markdown",
   "metadata": {},
   "source": [
    "## Initialize Geo Engine as Admin"
   ]
  },
  {
   "cell_type": "code",
   "execution_count": 2,
   "metadata": {},
   "outputs": [],
   "source": [
    "ge.initialize(\"http://localhost:3030/api\", (\"admin@localhost\", \"adminadmin\"))"
   ]
  },
  {
   "attachments": {},
   "cell_type": "markdown",
   "metadata": {},
   "source": [
    "## List volumes"
   ]
  },
  {
   "cell_type": "code",
   "execution_count": 3,
   "metadata": {},
   "outputs": [
    {
     "data": {
      "text/plain": [
       "[Volume(name='test_data', path='test_data/')]"
      ]
     },
     "execution_count": 3,
     "metadata": {},
     "output_type": "execute_result"
    }
   ],
   "source": [
    "volumes = ge.volumes()\n",
    "volumes"
   ]
  },
  {
   "cell_type": "markdown",
   "metadata": {},
   "source": [
    "## Select volume"
   ]
  },
  {
   "cell_type": "code",
   "execution_count": 4,
   "metadata": {},
   "outputs": [
    {
     "data": {
      "text/plain": [
       "Volume(name='test_data', path='test_data/')"
      ]
     },
     "execution_count": 4,
     "metadata": {},
     "output_type": "execute_result"
    }
   ],
   "source": [
    "volume = ge.volume_by_name(\"test_data\")\n",
    "volume"
   ]
  },
  {
   "attachments": {},
   "cell_type": "markdown",
   "metadata": {},
   "source": [
    "## Define metadata"
   ]
  },
  {
   "cell_type": "code",
   "execution_count": 5,
   "metadata": {},
   "outputs": [
    {
     "data": {
      "text/plain": [
       "GdalMetaDataStatic(cache_ttl=None, params=GdalDatasetParameters(allow_alphaband_as_mask=True, file_not_found_handling=<FileNotFoundHandling.NODATA: 'NoData'>, file_path='raster/landcover/landcover.tif', gdal_config_options=None, gdal_open_options=None, geo_transform=GdalDatasetGeoTransform(origin_coordinate=Coordinate2D(x=-180.0, y=90.0), x_pixel_size=0.1, y_pixel_size=-0.1), height=1800, no_data_value=None, properties_mapping=None, rasterband_channel=1, width=3600), result_descriptor=RasterResultDescriptor(bands=[RasterBandDescriptor(measurement=Measurement(oneof_schema_1_validator=None, oneof_schema_2_validator=None, oneof_schema_3_validator=None, actual_instance=ClassificationMeasurement(classes={'0': 'Water Bodies', '1': 'Evergreen Needleleaf Forests', '2': 'Evergreen Broadleaf Forests', '3': 'Deciduous Needleleaf Forests', '4': 'Deciduous Broadleleaf Forests', '5': 'Mixed Forests', '6': 'Closed Shrublands', '7': 'Open Shrublands', '8': 'Woody Savannas', '9': 'Savannas', '10': 'Grasslands', '11': 'Permanent Wtlands', '12': 'Croplands', '13': 'Urban and Built-Up', '14': 'Cropland-Natural Vegetation Mosaics', '15': 'Snow and Ice', '16': 'Barren or Sparsely Vegetated'}, measurement='Land Cover', type='classification'), one_of_schemas={'UnitlessMeasurement', 'ContinuousMeasurement', 'ClassificationMeasurement'}, discriminator_value_class_map={}), name='band')], bbox=SpatialPartition2D(lower_right_coordinate=Coordinate2D(x=180.0, y=-90.0), upper_left_coordinate=Coordinate2D(x=-180.0, y=90.0)), data_type=<RasterDataType.U8: 'U8'>, resolution=SpatialResolution(x=0.1, y=0.1), spatial_reference='EPSG:4326', time=None), time=None, type='GdalStatic')"
      ]
     },
     "execution_count": 5,
     "metadata": {},
     "output_type": "execute_result"
    }
   ],
   "source": [
    "file_path = \"raster/landcover/landcover.tif\"  # specify file path relative to volume path\n",
    "\n",
    "rasterband_channel = 1\n",
    "\n",
    "origin = [-180.0, 90.0]\n",
    "x_pixel_size = 0.1\n",
    "y_pixel_size = -0.1\n",
    "geo_transform = ge.GeoTransform(\n",
    "    x_min=origin[0],\n",
    "    y_max=origin[1],\n",
    "    x_pixel_size=x_pixel_size,\n",
    "    y_pixel_size=y_pixel_size,\n",
    ")\n",
    "\n",
    "width = 3600\n",
    "height = 1800\n",
    "\n",
    "file_not_found_handling = geoengine_openapi_client.FileNotFoundHandling.NODATA\n",
    "\n",
    "gdal_params = geoengine_openapi_client.GdalDatasetParameters.from_dict(\n",
    "    {\n",
    "        \"filePath\": file_path,\n",
    "        \"rasterbandChannel\": rasterband_channel,\n",
    "        \"geoTransform\": geo_transform.to_api_dict(),\n",
    "        \"width\": width,\n",
    "        \"height\": height,\n",
    "        \"fileNotFoundHandling\": file_not_found_handling,\n",
    "        \"noDataValue\": None,\n",
    "        \"propertiesMapping\": None,\n",
    "        \"gdalOpenOptions\": None,\n",
    "        \"gdalConfigOptions\": None,\n",
    "        \"allowAlphabandAsMask\": True,\n",
    "    }\n",
    ")\n",
    "\n",
    "result_descriptor_measurement = ge.ClassificationMeasurement(\n",
    "    measurement=\"Land Cover\",\n",
    "    classes={\n",
    "        \"0\": \"Water Bodies\",\n",
    "        \"1\": \"Evergreen Needleleaf Forests\",\n",
    "        \"2\": \"Evergreen Broadleaf Forests\",\n",
    "        \"3\": \"Deciduous Needleleaf Forests\",\n",
    "        \"4\": \"Deciduous Broadleleaf Forests\",\n",
    "        \"5\": \"Mixed Forests\",\n",
    "        \"6\": \"Closed Shrublands\",\n",
    "        \"7\": \"Open Shrublands\",\n",
    "        \"8\": \"Woody Savannas\",\n",
    "        \"9\": \"Savannas\",\n",
    "        \"10\": \"Grasslands\",\n",
    "        \"11\": \"Permanent Wtlands\",\n",
    "        \"12\": \"Croplands\",\n",
    "        \"13\": \"Urban and Built-Up\",\n",
    "        \"14\": \"Cropland-Natural Vegetation Mosaics\",\n",
    "        \"15\": \"Snow and Ice\",\n",
    "        \"16\": \"Barren or Sparsely Vegetated\",\n",
    "    },\n",
    ")\n",
    "\n",
    "\n",
    "result_descriptor = ge.RasterResultDescriptor(\n",
    "    \"U8\",\n",
    "    [RasterBandDescriptor(\"band\", result_descriptor_measurement)],\n",
    "    \"EPSG:4326\",\n",
    "    spatial_bounds=ge.SpatialPartition2D(-180.0, -90.0, 180.0, 90.0),\n",
    "    spatial_resolution=ge.SpatialResolution(0.1, 0.1),\n",
    ")\n",
    "\n",
    "meta_data = geoengine_openapi_client.GdalMetaDataStatic.from_dict(\n",
    "    {\n",
    "        \"type\": \"GdalStatic\",\n",
    "        \"time\": None,\n",
    "        \"params\": gdal_params,\n",
    "        \"resultDescriptor\": result_descriptor.to_api_dict().to_dict(),\n",
    "    }\n",
    ")\n",
    "\n",
    "meta_data"
   ]
  },
  {
   "cell_type": "code",
   "execution_count": 6,
   "metadata": {},
   "outputs": [
    {
     "data": {
      "text/plain": [
       "AddDataset(description='Land Cover', display_name='Land Cover', name='MCD12C1', provenance=[Provenance(citation='The data was obtained from <https://lpdaac.usgs.gov/products/mcd12c1v006>. The layer Majority_Land_Cover_Type_1 was extracted, downscaled and saved as landcover.tif.', license='All data distributed by the LP DAAC contain no restrictions on the data reuse. (https://lpdaac.usgs.gov/resources/faqs/#am-i-allowed-to-reuse-lp-daac-data).', uri='https://lpdaac.usgs.gov/products/mcd12c1v006/')], source_operator='GdalSource', symbology=Symbology(oneof_schema_1_validator=None, oneof_schema_2_validator=None, oneof_schema_3_validator=None, oneof_schema_4_validator=None, actual_instance=RasterSymbology(opacity=1.0, raster_colorizer=RasterColorizer(oneof_schema_1_validator=None, oneof_schema_2_validator=None, actual_instance=SingleBandRasterColorizer(band=0, band_colorizer=Colorizer(oneof_schema_1_validator=None, oneof_schema_2_validator=None, oneof_schema_3_validator=None, actual_instance=LinearGradient(breakpoints=[Breakpoint(color=[0, 0, 255, 255], value=0), Breakpoint(color=[0, 255, 0, 255], value=8), Breakpoint(color=[255, 0, 0, 255], value=16)], no_data_color=[0, 0, 0, 0], over_color=[0, 0, 0, 0], type='linearGradient', under_color=[0, 0, 0, 0]), one_of_schemas={'LogarithmicGradient', 'LinearGradient', 'PaletteColorizer'}, discriminator_value_class_map={}), type='singleBand'), one_of_schemas={'SingleBandRasterColorizer', 'MultiBandRasterColorizer'}, discriminator_value_class_map={}), type='raster'), one_of_schemas={'RasterSymbology', 'PointSymbology', 'PolygonSymbology', 'LineSymbology'}, discriminator_value_class_map={}), tags=None)"
      ]
     },
     "execution_count": 6,
     "metadata": {},
     "output_type": "execute_result"
    }
   ],
   "source": [
    "add_dataset_properties = ge.AddDatasetProperties(\n",
    "    name=\"MCD12C1\",\n",
    "    display_name=\"Land Cover\",\n",
    "    source_operator=\"GdalSource\",\n",
    "    description=\"Land Cover\",\n",
    "    symbology=ge.RasterSymbology(\n",
    "        opacity=1.0,\n",
    "        raster_colorizer=ge.SingleBandRasterColorizer(\n",
    "            band=0,\n",
    "            band_colorizer=ge.LinearGradientColorizer(\n",
    "                breakpoints=[\n",
    "                    ge.ColorBreakpoint(value=0, color=(0, 0, 255, 255)),\n",
    "                    ge.ColorBreakpoint(value=8, color=(0, 255, 0, 255)),\n",
    "                    ge.ColorBreakpoint(value=16, color=(255, 0, 0, 255)),\n",
    "                ],\n",
    "                no_data_color=(0, 0, 0, 0),\n",
    "                over_color=(0, 0, 0, 0),\n",
    "                under_color=(0, 0, 0, 0),\n",
    "            ),\n",
    "        ),\n",
    "    ),\n",
    "    provenance=[\n",
    "        ge.Provenance(\n",
    "            citation=\"The data was obtained from <https://lpdaac.usgs.gov/products/mcd12c1v006>. The layer Majority_Land_Cover_Type_1 was extracted, downscaled and saved as landcover.tif.\",  # noqa: E501\n",
    "            uri=\"https://lpdaac.usgs.gov/products/mcd12c1v006/\",\n",
    "            license=\"All data distributed by the LP DAAC contain no restrictions on the data reuse. (https://lpdaac.usgs.gov/resources/faqs/#am-i-allowed-to-reuse-lp-daac-data).\",\n",
    "        )\n",
    "    ],\n",
    ")\n",
    "\n",
    "add_dataset_properties.to_api_dict()"
   ]
  },
  {
   "attachments": {},
   "cell_type": "markdown",
   "metadata": {},
   "source": [
    "## Add raster dataset to the first volume"
   ]
  },
  {
   "cell_type": "code",
   "execution_count": 7,
   "metadata": {},
   "outputs": [
    {
     "data": {
      "text/plain": [
       "MCD12C1"
      ]
     },
     "execution_count": 7,
     "metadata": {},
     "output_type": "execute_result"
    }
   ],
   "source": [
    "dataset_name = ge.add_dataset(\n",
    "    volume,\n",
    "    add_dataset_properties,\n",
    "    geoengine_openapi_client.MetaDataDefinition(\n",
    "        meta_data,\n",
    "    ),\n",
    ")\n",
    "\n",
    "dataset_name"
   ]
  },
  {
   "attachments": {},
   "cell_type": "markdown",
   "metadata": {},
   "source": [
    "## Lookup dataset in listing"
   ]
  },
  {
   "cell_type": "code",
   "execution_count": 8,
   "metadata": {},
   "outputs": [
    {
     "data": {
      "text/plain": [
       "<generator object list_datasets at 0x7588edf06510>"
      ]
     },
     "execution_count": 8,
     "metadata": {},
     "output_type": "execute_result"
    }
   ],
   "source": [
    "ge.datasets.list_datasets(name_filter=\"MCD12C1\")"
   ]
  },
  {
   "attachments": {},
   "cell_type": "markdown",
   "metadata": {},
   "source": [
    "## Verify that data is accessible for user"
   ]
  },
  {
   "cell_type": "code",
   "execution_count": 9,
   "metadata": {},
   "outputs": [
    {
     "data": {
      "text/plain": [
       "Data type:         U8\n",
       "Spatial Reference: EPSG:4326\n",
       "Bands:\n",
       "    band: Land Cover (0: Water Bodies, 1: Evergreen Needleleaf Forests, 10: Grasslands, 11: Permanent Wtlands, 12: Croplands, 13: Urban and Built-Up, 14: Cropland-Natural Vegetation Mosaics, 15: Snow and Ice, 16: Barren or Sparsely Vegetated, 2: Evergreen Broadleaf Forests, 3: Deciduous Needleleaf Forests, 4: Deciduous Broadleleaf Forests, 5: Mixed Forests, 6: Closed Shrublands, 7: Open Shrublands, 8: Woody Savannas, 9: Savannas)"
      ]
     },
     "execution_count": 9,
     "metadata": {},
     "output_type": "execute_result"
    }
   ],
   "source": [
    "ge.reset()\n",
    "ge.initialize(\"http://localhost:3030/api\")\n",
    "\n",
    "workflow = ge.register_workflow(\n",
    "    {\n",
    "        \"type\": \"Raster\",\n",
    "        \"operator\": {\n",
    "            \"type\": \"GdalSource\",\n",
    "            \"params\": {\n",
    "                \"data\": \"MCD12C1\",\n",
    "            },\n",
    "        },\n",
    "    }\n",
    ")\n",
    "\n",
    "workflow.get_result_descriptor()"
   ]
  },
  {
   "attachments": {},
   "cell_type": "markdown",
   "metadata": {},
   "source": [
    "## Load the data"
   ]
  },
  {
   "cell_type": "code",
   "execution_count": 10,
   "metadata": {},
   "outputs": [
    {
     "name": "stderr",
     "output_type": "stream",
     "text": [
      "/home/droenner/git/geoengine-python2/env/lib/python3.12/site-packages/owslib/coverage/wcs110.py:86: FutureWarning: Truth-testing of elements was a source of confusion and will always return True in future versions. Use specific 'len(elem)' or 'elem is not None' test instead.\n",
      "  elem = self._capabilities.find(self.ns.OWS('ServiceProvider')) or self._capabilities.find(self.ns.OWS('ServiceProvider'))  # noqa\n"
     ]
    },
    {
     "data": {
      "text/plain": [
       "<matplotlib.collections.QuadMesh at 0x7589574f10d0>"
      ]
     },
     "execution_count": 10,
     "metadata": {},
     "output_type": "execute_result"
    },
    {
     "data": {
      "image/png": "[encoded data removed]",
      "text/plain": [
       "<Figure size 640x480 with 2 Axes>"
      ]
     },
     "metadata": {},
     "output_type": "display_data"
    }
   ],
   "source": [
    "time = datetime.strptime(\"2014-04-01T12:00:00.000Z\", \"%Y-%m-%dT%H:%M:%S.%f%z\")\n",
    "\n",
    "data = workflow.get_xarray(\n",
    "    ge.QueryRectangle(\n",
    "        ge.BoundingBox2D(-180.0, -90.0, 180.0, 90.0),\n",
    "        ge.TimeInterval(time, time),\n",
    "        resolution=ge.SpatialResolution(360.0 / 16, 180.0 / 16),\n",
    "    )\n",
    ")\n",
    "\n",
    "data.plot()"
   ]
  },
  {
   "attachments": {},
   "cell_type": "markdown",
   "metadata": {},
   "source": [
    "## Delete the dataset"
   ]
  },
  {
   "cell_type": "code",
   "execution_count": 11,
   "metadata": {},
   "outputs": [],
   "source": [
    "ge.reset()\n",
    "ge.initialize(\"http://localhost:3030/api\", (\"admin@localhost\", \"adminadmin\"))\n",
    "\n",
    "ge.delete_dataset(dataset_name)"
   ]
  },
  {
   "attachments": {},
   "cell_type": "markdown",
   "metadata": {},
   "source": [
    "## Verify the dataset was deleted"
   ]
  },
  {
   "cell_type": "code",
   "execution_count": 12,
   "metadata": {},
   "outputs": [
    {
     "name": "stdout",
     "output_type": "stream",
     "text": [
      "{\"error\":\"UnknownDatasetName\",\"message\":\"Dataset name 'MCD12C1' does not exist\"}\n"
     ]
    },
    {
     "name": "stderr",
     "output_type": "stream",
     "text": [
      "/home/droenner/git/geoengine-python2/env/lib/python3.12/site-packages/owslib/coverage/wcs110.py:86: FutureWarning: Truth-testing of elements was a source of confusion and will always return True in future versions. Use specific 'len(elem)' or 'elem is not None' test instead.\n",
      "  elem = self._capabilities.find(self.ns.OWS('ServiceProvider')) or self._capabilities.find(self.ns.OWS('ServiceProvider'))  # noqa\n"
     ]
    }
   ],
   "source": [
    "try:\n",
    "    data = workflow.get_xarray(\n",
    "        ge.QueryRectangle(\n",
    "            ge.BoundingBox2D(-180.0, -90.0, 180.0, 90.0),\n",
    "            ge.TimeInterval(time, time),\n",
    "            resolution=ge.SpatialResolution(360.0 / 16, 180.0 / 16),\n",
    "        )\n",
    "    )\n",
    "except Exception as e:\n",
    "    print(e)"
   ]
  }
 ],
 "metadata": {
  "kernelspec": {
   "display_name": "env",
   "language": "python",
   "name": "python3"
  },
  "language_info": {
   "codemirror_mode": {
    "name": "ipython",
    "version": 3
   },
   "file_extension": ".py",
   "mimetype": "text/x-python",
   "name": "python",
   "nbconvert_exporter": "python",
   "pygments_lexer": "ipython3",
   "version": "3.12.3"
  },
  "orig_nbformat": 4,
  "vscode": {
   "interpreter": {
    "hash": "7a10ca932ff03f4c637e11f8207fe4e003ad6532d0070b911d37acf855f595fc"
   }
  }
 },
 "nbformat": 4,
 "nbformat_minor": 2
}
