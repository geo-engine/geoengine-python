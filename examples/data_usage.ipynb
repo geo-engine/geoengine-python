{
 "cells": [
  {
   "cell_type": "markdown",
   "metadata": {},
   "source": [
    "# Access Usage Log as Data Producer"
   ]
  },
  {
   "cell_type": "markdown",
   "metadata": {},
   "source": [
    "## Dependencies"
   ]
  },
  {
   "cell_type": "code",
   "execution_count": 1,
   "metadata": {},
   "outputs": [],
   "source": [
    "import geoengine as ge\n",
    "import matplotlib.pyplot as plt\n",
    "import pandas as pd"
   ]
  },
  {
   "cell_type": "markdown",
   "metadata": {},
   "source": [
    "## Note\n",
    "\n",
    "1. It is important that the Geo Engine is running with\n",
    "```toml\n",
    "[quota]\n",
    "mode = \"track\"\n",
    "```\n",
    "\n",
    "2. You have to do some work beforehand to get the data from the log.\n",
    "\n",
    "This is a simple example to show how to access the log."
   ]
  },
  {
   "cell_type": "markdown",
   "metadata": {},
   "source": [
    "## Connect to Geo Engine"
   ]
  },
  {
   "cell_type": "code",
   "execution_count": null,
   "metadata": {},
   "outputs": [],
   "source": [
    "ge.initialize(\"http://localhost:3030/api\", (\"admin@localhost\", \"adminadmin\"))"
   ]
  },
  {
   "cell_type": "markdown",
   "metadata": {},
   "source": [
    "## Access Usage Log"
   ]
  },
  {
   "cell_type": "code",
   "execution_count": 3,
   "metadata": {},
   "outputs": [
    {
     "data": {
      "text/html": [
       "<div>\n",
       "<style scoped>\n",
       "    .dataframe tbody tr th:only-of-type {\n",
       "        vertical-align: middle;\n",
       "    }\n",
       "\n",
       "    .dataframe tbody tr th {\n",
       "        vertical-align: top;\n",
       "    }\n",
       "\n",
       "    .dataframe thead th {\n",
       "        text-align: right;\n",
       "    }\n",
       "</style>\n",
       "<table border=\"1\" class=\"dataframe\">\n",
       "  <thead>\n",
       "    <tr style=\"text-align: right;\">\n",
       "      <th></th>\n",
       "      <th>computationId</th>\n",
       "      <th>count</th>\n",
       "      <th>data</th>\n",
       "      <th>timestamp</th>\n",
       "      <th>userId</th>\n",
       "    </tr>\n",
       "  </thead>\n",
       "  <tbody>\n",
       "    <tr>\n",
       "      <th>0</th>\n",
       "      <td>ca82e727-b1a5-4f0a-963d-e4379da4bcf3</td>\n",
       "      <td>6</td>\n",
       "      <td>GdalSource</td>\n",
       "      <td>2024-11-28 15:48:23.003000+00:00</td>\n",
       "      <td>d5d3b34c-360c-4ed0-aedc-69c289222e7f</td>\n",
       "    </tr>\n",
       "    <tr>\n",
       "      <th>1</th>\n",
       "      <td>ca82e727-b1a5-4f0a-963d-e4379da4bcf3</td>\n",
       "      <td>1</td>\n",
       "      <td>OgrSource</td>\n",
       "      <td>2024-11-28 15:48:13.003000+00:00</td>\n",
       "      <td>d5d3b34c-360c-4ed0-aedc-69c289222e7f</td>\n",
       "    </tr>\n",
       "    <tr>\n",
       "      <th>2</th>\n",
       "      <td>0017ed59-a369-4869-8945-0eecf5f09bf5</td>\n",
       "      <td>1</td>\n",
       "      <td>OgrSource</td>\n",
       "      <td>2024-11-28 15:39:12.932000+00:00</td>\n",
       "      <td>d5d3b34c-360c-4ed0-aedc-69c289222e7f</td>\n",
       "    </tr>\n",
       "    <tr>\n",
       "      <th>3</th>\n",
       "      <td>21799f3d-2a70-474b-8c09-079292113867</td>\n",
       "      <td>2</td>\n",
       "      <td>GdalSource</td>\n",
       "      <td>2024-11-28 15:39:12.932000+00:00</td>\n",
       "      <td>d5d3b34c-360c-4ed0-aedc-69c289222e7f</td>\n",
       "    </tr>\n",
       "    <tr>\n",
       "      <th>4</th>\n",
       "      <td>35208ed7-f6f2-4f26-a85f-c3b1f8b6d9d9</td>\n",
       "      <td>2</td>\n",
       "      <td>GdalSource</td>\n",
       "      <td>2024-11-28 15:39:12.932000+00:00</td>\n",
       "      <td>d5d3b34c-360c-4ed0-aedc-69c289222e7f</td>\n",
       "    </tr>\n",
       "    <tr>\n",
       "      <th>5</th>\n",
       "      <td>3d2e3da4-f678-4b6f-bbe3-329ba7ab3870</td>\n",
       "      <td>4</td>\n",
       "      <td>GdalSource</td>\n",
       "      <td>2024-11-28 15:39:12.932000+00:00</td>\n",
       "      <td>d5d3b34c-360c-4ed0-aedc-69c289222e7f</td>\n",
       "    </tr>\n",
       "    <tr>\n",
       "      <th>6</th>\n",
       "      <td>47661177-49e7-4fc7-95af-6112b3707b3e</td>\n",
       "      <td>4</td>\n",
       "      <td>GdalSource</td>\n",
       "      <td>2024-11-28 15:39:12.932000+00:00</td>\n",
       "      <td>d5d3b34c-360c-4ed0-aedc-69c289222e7f</td>\n",
       "    </tr>\n",
       "    <tr>\n",
       "      <th>7</th>\n",
       "      <td>5e58efe5-6d56-4369-b396-a5d36b632717</td>\n",
       "      <td>2</td>\n",
       "      <td>GdalSource</td>\n",
       "      <td>2024-11-28 15:39:12.932000+00:00</td>\n",
       "      <td>d5d3b34c-360c-4ed0-aedc-69c289222e7f</td>\n",
       "    </tr>\n",
       "    <tr>\n",
       "      <th>8</th>\n",
       "      <td>6a0d85c8-ab99-4fef-b9ef-cefcaa5e0f9c</td>\n",
       "      <td>2</td>\n",
       "      <td>GdalSource</td>\n",
       "      <td>2024-11-28 15:39:12.932000+00:00</td>\n",
       "      <td>d5d3b34c-360c-4ed0-aedc-69c289222e7f</td>\n",
       "    </tr>\n",
       "    <tr>\n",
       "      <th>9</th>\n",
       "      <td>6a5239be-f9a8-44fc-a9da-02d7ab1c02bc</td>\n",
       "      <td>2</td>\n",
       "      <td>GdalSource</td>\n",
       "      <td>2024-11-28 15:39:12.932000+00:00</td>\n",
       "      <td>d5d3b34c-360c-4ed0-aedc-69c289222e7f</td>\n",
       "    </tr>\n",
       "  </tbody>\n",
       "</table>\n",
       "</div>"
      ],
      "text/plain": [
       "                          computationId  count        data  \\\n",
       "0  ca82e727-b1a5-4f0a-963d-e4379da4bcf3      6  GdalSource   \n",
       "1  ca82e727-b1a5-4f0a-963d-e4379da4bcf3      1   OgrSource   \n",
       "2  0017ed59-a369-4869-8945-0eecf5f09bf5      1   OgrSource   \n",
       "3  21799f3d-2a70-474b-8c09-079292113867      2  GdalSource   \n",
       "4  35208ed7-f6f2-4f26-a85f-c3b1f8b6d9d9      2  GdalSource   \n",
       "5  3d2e3da4-f678-4b6f-bbe3-329ba7ab3870      4  GdalSource   \n",
       "6  47661177-49e7-4fc7-95af-6112b3707b3e      4  GdalSource   \n",
       "7  5e58efe5-6d56-4369-b396-a5d36b632717      2  GdalSource   \n",
       "8  6a0d85c8-ab99-4fef-b9ef-cefcaa5e0f9c      2  GdalSource   \n",
       "9  6a5239be-f9a8-44fc-a9da-02d7ab1c02bc      2  GdalSource   \n",
       "\n",
       "                         timestamp                                userId  \n",
       "0 2024-11-28 15:48:23.003000+00:00  d5d3b34c-360c-4ed0-aedc-69c289222e7f  \n",
       "1 2024-11-28 15:48:13.003000+00:00  d5d3b34c-360c-4ed0-aedc-69c289222e7f  \n",
       "2 2024-11-28 15:39:12.932000+00:00  d5d3b34c-360c-4ed0-aedc-69c289222e7f  \n",
       "3 2024-11-28 15:39:12.932000+00:00  d5d3b34c-360c-4ed0-aedc-69c289222e7f  \n",
       "4 2024-11-28 15:39:12.932000+00:00  d5d3b34c-360c-4ed0-aedc-69c289222e7f  \n",
       "5 2024-11-28 15:39:12.932000+00:00  d5d3b34c-360c-4ed0-aedc-69c289222e7f  \n",
       "6 2024-11-28 15:39:12.932000+00:00  d5d3b34c-360c-4ed0-aedc-69c289222e7f  \n",
       "7 2024-11-28 15:39:12.932000+00:00  d5d3b34c-360c-4ed0-aedc-69c289222e7f  \n",
       "8 2024-11-28 15:39:12.932000+00:00  d5d3b34c-360c-4ed0-aedc-69c289222e7f  \n",
       "9 2024-11-28 15:39:12.932000+00:00  d5d3b34c-360c-4ed0-aedc-69c289222e7f  "
      ]
     },
     "execution_count": 3,
     "metadata": {},
     "output_type": "execute_result"
    }
   ],
   "source": [
    "usage = ge.data_usage(0, 10)\n",
    "usage"
   ]
  },
  {
   "cell_type": "markdown",
   "metadata": {},
   "source": [
    "## Access Usage Summary"
   ]
  },
  {
   "cell_type": "code",
   "execution_count": 4,
   "metadata": {},
   "outputs": [
    {
     "data": {
      "text/html": [
       "<div>\n",
       "<style scoped>\n",
       "    .dataframe tbody tr th:only-of-type {\n",
       "        vertical-align: middle;\n",
       "    }\n",
       "\n",
       "    .dataframe tbody tr th {\n",
       "        vertical-align: top;\n",
       "    }\n",
       "\n",
       "    .dataframe thead th {\n",
       "        text-align: right;\n",
       "    }\n",
       "</style>\n",
       "<table border=\"1\" class=\"dataframe\">\n",
       "  <thead>\n",
       "    <tr style=\"text-align: right;\">\n",
       "      <th></th>\n",
       "      <th>count</th>\n",
       "      <th>dataset</th>\n",
       "      <th>timestamp</th>\n",
       "    </tr>\n",
       "  </thead>\n",
       "  <tbody>\n",
       "    <tr>\n",
       "      <th>0</th>\n",
       "      <td>6</td>\n",
       "      <td>GdalSource</td>\n",
       "      <td>2024-11-28 15:48:00+00:00</td>\n",
       "    </tr>\n",
       "    <tr>\n",
       "      <th>1</th>\n",
       "      <td>1</td>\n",
       "      <td>OgrSource</td>\n",
       "      <td>2024-11-28 15:48:00+00:00</td>\n",
       "    </tr>\n",
       "    <tr>\n",
       "      <th>2</th>\n",
       "      <td>30</td>\n",
       "      <td>GdalSource</td>\n",
       "      <td>2024-11-28 15:39:00+00:00</td>\n",
       "    </tr>\n",
       "    <tr>\n",
       "      <th>3</th>\n",
       "      <td>1</td>\n",
       "      <td>OgrSource</td>\n",
       "      <td>2024-11-28 15:39:00+00:00</td>\n",
       "    </tr>\n",
       "  </tbody>\n",
       "</table>\n",
       "</div>"
      ],
      "text/plain": [
       "   count     dataset                 timestamp\n",
       "0      6  GdalSource 2024-11-28 15:48:00+00:00\n",
       "1      1   OgrSource 2024-11-28 15:48:00+00:00\n",
       "2     30  GdalSource 2024-11-28 15:39:00+00:00\n",
       "3      1   OgrSource 2024-11-28 15:39:00+00:00"
      ]
     },
     "execution_count": 4,
     "metadata": {},
     "output_type": "execute_result"
    }
   ],
   "source": [
    "usage_summary = ge.data_usage_summary(ge.UsageSummaryGranularity.MINUTES)\n",
    "usage_summary\n"
   ]
  },
  {
   "cell_type": "markdown",
   "metadata": {},
   "source": [
    "## Plot usage summary"
   ]
  },
  {
   "cell_type": "code",
   "execution_count": null,
   "metadata": {},
   "outputs": [
    {
     "data": {
      "image/png": "[encoded data removed]",
      "text/plain": [
       "<Figure size 1000x600 with 1 Axes>"
      ]
     },
     "metadata": {},
     "output_type": "display_data"
    }
   ],
   "source": [
    "df = ge.data_usage_summary(ge.UsageSummaryGranularity.MINUTES)\n",
    "if df.empty:\n",
    "    print('No data usage found')\n",
    "    exit()\n",
    "df['timestamp'] = pd.to_datetime(df['timestamp']).dt.tz_localize(None)\n",
    "\n",
    "pivot_df = df.pivot(index='timestamp', columns='data', values='count').fillna(0)\n",
    "pivot_df.plot(kind='bar', figsize=(10, 6))\n",
    "\n",
    "plt.title('Data Usage by Data over time')\n",
    "plt.xlabel('Timestamp')\n",
    "plt.ylabel('Count')\n",
    "plt.xticks(rotation=45)\n",
    "plt.legend(title='Data')\n",
    "plt.show()"
   ]
  }
 ],
 "metadata": {
  "kernelspec": {
   "display_name": "env",
   "language": "python",
   "name": "python3"
  },
  "language_info": {
   "codemirror_mode": {
    "name": "ipython",
    "version": 3
   },
   "file_extension": ".py",
   "mimetype": "text/x-python",
   "name": "python",
   "nbconvert_exporter": "python",
   "pygments_lexer": "ipython3",
   "version": "3.10.12"
  }
 },
 "nbformat": 4,
 "nbformat_minor": 2
}
