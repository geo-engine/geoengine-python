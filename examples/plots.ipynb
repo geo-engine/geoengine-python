{
 "cells": [
  {
   "attachments": {},
   "cell_type": "markdown",
   "metadata": {},
   "source": [
    "# Load raster data via WMS"
   ]
  },
  {
   "cell_type": "code",
   "execution_count": 3,
   "metadata": {},
   "outputs": [],
   "source": [
    "from datetime import datetime\n",
    "\n",
    "import geoengine as ge"
   ]
  },
  {
   "attachments": {},
   "cell_type": "markdown",
   "metadata": {},
   "source": [
    "## Initialize Geo Engine"
   ]
  },
  {
   "cell_type": "code",
   "execution_count": 4,
   "metadata": {},
   "outputs": [],
   "source": [
    "client = ge.create_client(\"http://localhost:3030/api\")"
   ]
  },
  {
   "cell_type": "code",
   "execution_count": 5,
   "metadata": {},
   "outputs": [
    {
     "data": {
      "text/plain": [
       "Server:              http://localhost:3030/api\n",
       "User Id:             a5f4b68c-f766-4674-a38c-1557c0fff98f\n",
       "Session Id:          94b8f705-d723-4079-a427-8aadcab31d3f\n",
       "Session valid until: 2023-12-01T15:08:57.799Z"
      ]
     },
     "execution_count": 5,
     "metadata": {},
     "output_type": "execute_result"
    }
   ],
   "source": [
    "client.get_session()"
   ]
  },
  {
   "attachments": {},
   "cell_type": "markdown",
   "metadata": {},
   "source": [
    "## Define workflow of MODIS NDVI raster"
   ]
  },
  {
   "cell_type": "code",
   "execution_count": 6,
   "metadata": {},
   "outputs": [
    {
     "data": {
      "text/plain": [
       "80c1417d-b2fa-56bc-90cf-d9651ba8ec37"
      ]
     },
     "execution_count": 6,
     "metadata": {},
     "output_type": "execute_result"
    }
   ],
   "source": [
    "workflow = client.workflow_register({\n",
    "\t\"type\": \"Plot\",\n",
    "\t\"operator\": {\n",
    "\t\t\"type\": \"Histogram\",\n",
    "\t\t\"params\": {\n",
    "\t\t\t\"bounds\": \"data\",\n",
    "\t\t\t\"buckets\": {\n",
    "\t\t\t\t\"type\": \"number\",\n",
    "\t\t\t\t\"value\": 20\n",
    "\t\t\t}\n",
    "\t\t},\n",
    "\t\t\"sources\": {\n",
    "\t\t\t\"source\": {\n",
    "\t\t\t\t\"type\": \"GdalSource\",\n",
    "\t\t\t\t\"params\": {\n",
    "\t\t\t\t\t\"data\": \"ndvi\"\n",
    "\t\t\t\t}\n",
    "\t\t\t}\n",
    "\t\t}\n",
    "\t}\n",
    "})\n",
    "    \n",
    "workflow"
   ]
  },
  {
   "cell_type": "code",
   "execution_count": 7,
   "metadata": {},
   "outputs": [
    {
     "data": {
      "text/plain": [
       "Plot Result"
      ]
     },
     "execution_count": 7,
     "metadata": {},
     "output_type": "execute_result"
    }
   ],
   "source": [
    "workflow.get_result_descriptor()"
   ]
  },
  {
   "attachments": {},
   "cell_type": "markdown",
   "metadata": {},
   "source": [
    "## Load plot via API and display with Vega"
   ]
  },
  {
   "cell_type": "code",
   "execution_count": 8,
   "metadata": {},
   "outputs": [
    {
     "data": {
      "application/javascript": "const spec = {\"$schema\": \"https://vega.github.io/schema/vega-lite/v4.json\", \"data\": {\"values\": [{\"Frequency\": 11243, \"binEnd\": 13.7, \"binStart\": 1.0}, {\"Frequency\": 295370, \"binEnd\": 26.4, \"binStart\": 13.7}, {\"Frequency\": 66337, \"binEnd\": 39.099999999999994, \"binStart\": 26.4}, {\"Frequency\": 101637, \"binEnd\": 51.8, \"binStart\": 39.099999999999994}, {\"Frequency\": 144761, \"binEnd\": 64.5, \"binStart\": 51.8}, {\"Frequency\": 90730, \"binEnd\": 77.2, \"binStart\": 64.5}, {\"Frequency\": 90168, \"binEnd\": 89.9, \"binStart\": 77.2}, {\"Frequency\": 91465, \"binEnd\": 102.60000000000001, \"binStart\": 89.9}, {\"Frequency\": 75286, \"binEnd\": 115.30000000000001, \"binStart\": 102.60000000000001}, {\"Frequency\": 62159, \"binEnd\": 128.0, \"binStart\": 115.30000000000001}, {\"Frequency\": 66335, \"binEnd\": 140.7, \"binStart\": 128.0}, {\"Frequency\": 68688, \"binEnd\": 153.39999999999998, \"binStart\": 140.7}, {\"Frequency\": 66999, \"binEnd\": 166.09999999999997, \"binStart\": 153.39999999999998}, {\"Frequency\": 59499, \"binEnd\": 178.79999999999995, \"binStart\": 166.09999999999997}, {\"Frequency\": 64618, \"binEnd\": 191.49999999999994, \"binStart\": 178.79999999999995}, {\"Frequency\": 70166, \"binEnd\": 204.19999999999993, \"binStart\": 191.49999999999994}, {\"Frequency\": 65502, \"binEnd\": 216.89999999999992, \"binStart\": 204.19999999999993}, {\"Frequency\": 50421, \"binEnd\": 229.5999999999999, \"binStart\": 216.89999999999992}, {\"Frequency\": 29428, \"binEnd\": 242.2999999999999, \"binStart\": 229.5999999999999}, {\"Frequency\": 4908781, \"binEnd\": 254.9999999999999, \"binStart\": 242.2999999999999}]}, \"encoding\": {\"x\": {\"axis\": {\"title\": \"vegetation\"}, \"bin\": {\"binned\": true, \"step\": 12.7}, \"field\": \"binStart\"}, \"x2\": {\"field\": \"binEnd\"}, \"y\": {\"field\": \"Frequency\", \"type\": \"quantitative\"}}, \"mark\": \"bar\"};\nconst opt = {};\nconst type = \"vega-lite\";\nconst id = \"b9f4719b-1b6b-4ad0-be3d-eba23571ccaf\";\n\nconst output_area = this;\n\nrequire([\"jupyter-vega\"], function(vega) {\n  const target = document.createElement(\"div\");\n  target.id = id;\n  target.className = \"vega-embed\";\n\n  const style = document.createElement(\"style\");\n  style.textContent = [\n    \".vega-embed .error p {\",\n    \"  color: firebrick;\",\n    \"  font-size: 14px;\",\n    \"}\",\n  ].join(\"\\\\n\");\n\n  // element is a jQuery wrapped DOM element inside the output area\n  // see http://ipython.readthedocs.io/en/stable/api/generated/\\\n  // IPython.display.html#IPython.display.Javascript.__init__\n  element[0].appendChild(target);\n  element[0].appendChild(style);\n\n  vega.render(`#$b9f4719b-1b6b-4ad0-be3d-eba23571ccaf`, spec, type, opt, output_area);\n}, function (err) {\n  if (err.requireType !== \"scripterror\") {\n    throw(err);\n  }\n});\n",
      "text/plain": [
       "<vega.vegalite.VegaLite at 0x7fa79886d960>"
      ]
     },
     "execution_count": 8,
     "metadata": {
      "jupyter-vega": "#b9f4719b-1b6b-4ad0-be3d-eba23571ccaf"
     },
     "output_type": "execute_result"
    }
   ],
   "source": [
    "time = datetime.strptime(\n",
    "    '2014-04-01T12:00:00.000Z', \"%Y-%m-%dT%H:%M:%S.%f%z\")\n",
    "\n",
    "client.workflow_plot_chart(\n",
    "    workflow,\n",
    "    ge.QueryRectangle(\n",
    "        ge.BoundingBox2D(-180.0, -90.0, 180.0, 90.0),\n",
    "        ge.TimeInterval(time, time),\n",
    "        ge.SpatialResolution(0.1, 0.1)\n",
    "    )\n",
    ")"
   ]
  }
 ],
 "metadata": {
  "kernelspec": {
   "display_name": "env",
   "language": "python",
   "name": "python3"
  },
  "language_info": {
   "codemirror_mode": {
    "name": "ipython",
    "version": 3
   },
   "file_extension": ".py",
   "mimetype": "text/x-python",
   "name": "python",
   "nbconvert_exporter": "python",
   "pygments_lexer": "ipython3",
   "version": "3.10.12"
  },
  "vscode": {
   "interpreter": {
    "hash": "7a10ca932ff03f4c637e11f8207fe4e003ad6532d0070b911d37acf855f595fc"
   }
  }
 },
 "nbformat": 4,
 "nbformat_minor": 2
}
