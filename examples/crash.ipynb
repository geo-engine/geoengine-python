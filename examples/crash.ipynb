{
 "cells": [
  {
   "cell_type": "code",
   "execution_count": 1,
   "metadata": {},
   "outputs": [],
   "source": [
    "import geoengine as ge\n",
    "from geoengine.workflow_builder.operators import GdalSource, TemporalRasterAggregation, RasterStacker, RenameBands, \\\n",
    "    Expression,RasterTypeConversion, RasterBandDescriptor\n",
    "import matplotlib.pyplot as plt\n",
    "import numpy as np\n",
    "import json"
   ]
  },
  {
   "cell_type": "code",
   "execution_count": 2,
   "metadata": {},
   "outputs": [],
   "source": [
    "ge.initialize(\"http://localhost:3030/api\")"
   ]
  },
  {
   "cell_type": "code",
   "execution_count": 3,
   "metadata": {},
   "outputs": [],
   "source": [
    "marburg_center_utm = [483843.45952547, 5628614.821735]\n",
    "bbox = ge.BoundingBox2D(\n",
    "    xmin=marburg_center_utm[0] - 10 * 512,\n",
    "    xmax=marburg_center_utm[0] + 10 * 512,\n",
    "    ymin=marburg_center_utm[1] - 10 * 512,\n",
    "    ymax=marburg_center_utm[1] + 10 * 512,\n",
    ")\n",
    "query_rectangle=ge.QueryRectangle(\n",
    "    spatial_bounds=bbox,\n",
    "    time_interval=ge.TimeInterval(np.datetime64(\"2022-07-01T00:00:00\")),\n",
    "    srs='EPSG:32632',\n",
    "    resolution=ge.SpatialResolution(10, 10),\n",
    ")"
   ]
  },
  {
   "cell_type": "code",
   "execution_count": 4,
   "metadata": {},
   "outputs": [
    {
     "name": "stdout",
     "output_type": "stream",
     "text": [
      "{\n",
      "  \"type\": \"Raster\",\n",
      "  \"operator\": {\n",
      "    \"type\": \"TemporalRasterAggregation\",\n",
      "    \"params\": {\n",
      "      \"aggregation\": {\n",
      "        \"type\": \"max\",\n",
      "        \"ignoreNoData\": true,\n",
      "        \"percentile\": null\n",
      "      },\n",
      "      \"window\": {\n",
      "        \"granularity\": \"days\",\n",
      "        \"step\": 3\n",
      "      },\n",
      "      \"windowReference\": null,\n",
      "      \"outputType\": null\n",
      "    },\n",
      "    \"sources\": {\n",
      "      \"raster\": {\n",
      "        \"type\": \"Expression\",\n",
      "        \"params\": {\n",
      "          \"expression\": \"\\n            if C >= 8 {\\n                NODATA\\n            } else if (A-B)/(A+B) > 0.3 {\\n                1\\n            } else {\\n                0\\n            }\\n        \",\n",
      "          \"outputType\": \"U8\",\n",
      "          \"mapNoData\": false,\n",
      "          \"outputBand\": {\n",
      "            \"measurement\": {\n",
      "              \"classes\": {\n",
      "                \"0\": \"no water\",\n",
      "                \"1\": \"water\"\n",
      "              },\n",
      "              \"measurement\": \"water bodies\",\n",
      "              \"type\": \"classification\"\n",
      "            },\n",
      "            \"name\": \"waterbodies\"\n",
      "          }\n",
      "        },\n",
      "        \"sources\": {\n",
      "          \"raster\": {\n",
      "            \"type\": \"RasterStacker\",\n",
      "            \"params\": {\n",
      "              \"renameBands\": {\n",
      "                \"type\": \"default\"\n",
      "              }\n",
      "            },\n",
      "            \"sources\": {\n",
      "              \"rasters\": [\n",
      "                {\n",
      "                  \"type\": \"GdalSource\",\n",
      "                  \"params\": {\n",
      "                    \"data\": \"_:5779494c-f3a2-48b3-8a2d-5fbba8c5b6c5:`UTM32N:B03`\"\n",
      "                  }\n",
      "                },\n",
      "                {\n",
      "                  \"type\": \"GdalSource\",\n",
      "                  \"params\": {\n",
      "                    \"data\": \"_:5779494c-f3a2-48b3-8a2d-5fbba8c5b6c5:`UTM32N:B08`\"\n",
      "                  }\n",
      "                },\n",
      "                {\n",
      "                  \"type\": \"RasterTypeConversion\",\n",
      "                  \"params\": {\n",
      "                    \"outputDataType\": \"U16\"\n",
      "                  },\n",
      "                  \"sources\": {\n",
      "                    \"raster\": {\n",
      "                      \"type\": \"GdalSource\",\n",
      "                      \"params\": {\n",
      "                        \"data\": \"_:5779494c-f3a2-48b3-8a2d-5fbba8c5b6c5:`UTM32N:SCL`\"\n",
      "                      }\n",
      "                    }\n",
      "                  }\n",
      "                }\n",
      "              ]\n",
      "            }\n",
      "          }\n",
      "        }\n",
      "      }\n",
      "    }\n",
      "  }\n",
      "}\n"
     ]
    },
    {
     "data": {
      "text/plain": [
       "a4391791-82b5-5451-a5a9-f771ab3ad5e0"
      ]
     },
     "execution_count": 4,
     "metadata": {},
     "output_type": "execute_result"
    }
   ],
   "source": [
    "workflow = TemporalRasterAggregation(\n",
    "    aggregation_type='max',\n",
    "    granularity='days',\n",
    "    window_size=3,\n",
    "    ignore_no_data=True,\n",
    "    source=Expression(\n",
    "        expression='''\n",
    "            if C >= 8 {\n",
    "                NODATA\n",
    "            } else if (A-B)/(A+B) > 0.3 {\n",
    "                1\n",
    "            } else {\n",
    "                0\n",
    "            }\n",
    "        ''',\n",
    "        output_type='U8',\n",
    "        output_band=RasterBandDescriptor(\n",
    "            \"waterbodies\",\n",
    "            measurement=ge.ClassificationMeasurement(\n",
    "                \"water bodies\",\n",
    "                classes={\n",
    "                    0: 'no water',\n",
    "                    1: 'water',\n",
    "                }\n",
    "            ),\n",
    "        ),\n",
    "        source=\n",
    "            RasterStacker(\n",
    "                sources=[\n",
    "                    GdalSource(\"_:5779494c-f3a2-48b3-8a2d-5fbba8c5b6c5:`UTM32N:B03`\"),\n",
    "                    GdalSource(\"_:5779494c-f3a2-48b3-8a2d-5fbba8c5b6c5:`UTM32N:B08`\"),\n",
    "                    RasterTypeConversion(\n",
    "                        GdalSource(\"_:5779494c-f3a2-48b3-8a2d-5fbba8c5b6c5:`UTM32N:SCL`\"),\n",
    "                        output_data_type='U16',\n",
    "                    ),\n",
    "                ],\n",
    "            ),\n",
    "    ),\n",
    ")\n",
    "\n",
    "print(json.dumps(workflow.to_workflow_dict(), indent=2))\n",
    "\n",
    "workflow = ge.register_workflow(workflow)\n",
    "\n",
    "workflow"
   ]
  },
  {
   "cell_type": "code",
   "execution_count": 5,
   "metadata": {},
   "outputs": [
    {
     "name": "stdout",
     "output_type": "stream",
     "text": [
      "b'\\n<?xml version=\"1.0\" encoding=\"UTF-8\"?>\\n    <ServiceExceptionReport version=\"1.3.0\" xmlns=\"http://www.opengis.net/ogc\" xmlns:xsi=\"http://www.w3.org/2001/XMLSchema-instance\" xsi:schemaLocation=\"http://www.opengis.net/ogc https://cdc.dwd.de/geoserver/schemas/wms/1.3.0/exceptions_1_3_0.xsd\">\\n    <ServiceException>\\n        Serde json error: unknown variant `linearGradient`, expected `singleBand` at line 1 column 642\\n    </ServiceException>\\n</ServiceExceptionReport>'\n"
     ]
    },
    {
     "ename": "UnidentifiedImageError",
     "evalue": "cannot identify image file <_io.BytesIO object at 0x7b57ed0c62f0>",
     "output_type": "error",
     "traceback": [
      "\u001b[0;31m---------------------------------------------------------------------------\u001b[0m",
      "\u001b[0;31mUnidentifiedImageError\u001b[0m                    Traceback (most recent call last)",
      "Cell \u001b[0;32mIn[5], line 1\u001b[0m\n\u001b[0;32m----> 1\u001b[0m data_array \u001b[38;5;241m=\u001b[39m \u001b[43mworkflow\u001b[49m\u001b[38;5;241;43m.\u001b[39;49m\u001b[43mwms_get_map_as_image\u001b[49m\u001b[43m(\u001b[49m\n\u001b[1;32m      2\u001b[0m \u001b[43m    \u001b[49m\u001b[43mbbox\u001b[49m\u001b[38;5;241;43m=\u001b[39;49m\u001b[43mquery_rectangle\u001b[49m\u001b[43m,\u001b[49m\n\u001b[1;32m      3\u001b[0m \u001b[43m    \u001b[49m\u001b[43mcolorizer\u001b[49m\u001b[38;5;241;43m=\u001b[39;49m\u001b[43mge\u001b[49m\u001b[38;5;241;43m.\u001b[39;49m\u001b[43mColorizer\u001b[49m\u001b[38;5;241;43m.\u001b[39;49m\u001b[43mlinear_with_mpl_cmap\u001b[49m\u001b[43m(\u001b[49m\u001b[38;5;124;43m'\u001b[39;49m\u001b[38;5;124;43mviridis\u001b[39;49m\u001b[38;5;124;43m'\u001b[39;49m\u001b[43m,\u001b[49m\u001b[43m \u001b[49m\u001b[43m(\u001b[49m\u001b[38;5;241;43m0\u001b[39;49m\u001b[43m,\u001b[49m\u001b[43m \u001b[49m\u001b[38;5;241;43m3\u001b[39;49m\u001b[43m)\u001b[49m\u001b[43m)\u001b[49m\n\u001b[1;32m      4\u001b[0m \u001b[43m)\u001b[49m\n\u001b[1;32m      6\u001b[0m data_array\n",
      "File \u001b[0;32m~/git/geoengine-python/geoengine/workflow.py:288\u001b[0m, in \u001b[0;36mWorkflow.wms_get_map_as_image\u001b[0;34m(self, bbox, colorizer)\u001b[0m\n\u001b[1;32m    271\u001b[0m     response \u001b[38;5;241m=\u001b[39m wms_api\u001b[38;5;241m.\u001b[39mwms_map_handler(\n\u001b[1;32m    272\u001b[0m         workflow\u001b[38;5;241m=\u001b[39m\u001b[38;5;28mstr\u001b[39m(\u001b[38;5;28mself\u001b[39m),\n\u001b[1;32m    273\u001b[0m         version\u001b[38;5;241m=\u001b[39mgeoengine_openapi_client\u001b[38;5;241m.\u001b[39mWmsVersion(geoengine_openapi_client\u001b[38;5;241m.\u001b[39mWmsVersion\u001b[38;5;241m.\u001b[39mENUM_1_DOT_3_DOT_0),\n\u001b[0;32m   (...)\u001b[0m\n\u001b[1;32m    283\u001b[0m         time\u001b[38;5;241m=\u001b[39mbbox\u001b[38;5;241m.\u001b[39mtime_str\n\u001b[1;32m    284\u001b[0m     )\n\u001b[1;32m    286\u001b[0m \u001b[38;5;28mprint\u001b[39m(response)\n\u001b[0;32m--> 288\u001b[0m \u001b[38;5;28;01mreturn\u001b[39;00m \u001b[43mImage\u001b[49m\u001b[38;5;241;43m.\u001b[39;49m\u001b[43mopen\u001b[49m\u001b[43m(\u001b[49m\u001b[43mBytesIO\u001b[49m\u001b[43m(\u001b[49m\u001b[43mresponse\u001b[49m\u001b[43m)\u001b[49m\u001b[43m)\u001b[49m\n",
      "File \u001b[0;32m~/git/geoengine-python/env/lib/python3.10/site-packages/PIL/Image.py:3298\u001b[0m, in \u001b[0;36mopen\u001b[0;34m(fp, mode, formats)\u001b[0m\n\u001b[1;32m   3296\u001b[0m     warnings\u001b[38;5;241m.\u001b[39mwarn(message)\n\u001b[1;32m   3297\u001b[0m msg \u001b[38;5;241m=\u001b[39m \u001b[38;5;124m\"\u001b[39m\u001b[38;5;124mcannot identify image file \u001b[39m\u001b[38;5;132;01m%r\u001b[39;00m\u001b[38;5;124m\"\u001b[39m \u001b[38;5;241m%\u001b[39m (filename \u001b[38;5;28;01mif\u001b[39;00m filename \u001b[38;5;28;01melse\u001b[39;00m fp)\n\u001b[0;32m-> 3298\u001b[0m \u001b[38;5;28;01mraise\u001b[39;00m UnidentifiedImageError(msg)\n",
      "\u001b[0;31mUnidentifiedImageError\u001b[0m: cannot identify image file <_io.BytesIO object at 0x7b57ed0c62f0>"
     ]
    }
   ],
   "source": [
    "\n",
    "data_array = workflow.wms_get_map_as_image(\n",
    "    bbox=query_rectangle,\n",
    "    colorizer=ge.Colorizer.linear_with_mpl_cmap('viridis', (0, 3))\n",
    ")\n",
    "\n",
    "data_array"
   ]
  }
 ],
 "metadata": {
  "kernelspec": {
   "display_name": "env",
   "language": "python",
   "name": "python3"
  },
  "language_info": {
   "codemirror_mode": {
    "name": "ipython",
    "version": 3
   },
   "file_extension": ".py",
   "mimetype": "text/x-python",
   "name": "python",
   "nbconvert_exporter": "python",
   "pygments_lexer": "ipython3",
   "version": "3.10.12"
  }
 },
 "nbformat": 4,
 "nbformat_minor": 2
}
