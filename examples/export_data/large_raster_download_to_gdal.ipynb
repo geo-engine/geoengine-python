{
 "cells": [
  {
   "cell_type": "code",
   "execution_count": 1,
   "metadata": {},
   "outputs": [],
   "source": [
    "import geoengine as ge\n",
    "import math\n",
    "from datetime import datetime\n",
    "import os\n"
   ]
  },
  {
   "cell_type": "markdown",
   "metadata": {},
   "source": [
    "## Connect to the Geo Engine"
   ]
  },
  {
   "cell_type": "code",
   "execution_count": 2,
   "metadata": {},
   "outputs": [],
   "source": [
    "ge.initialize(\"http://localhost:3030/api\")"
   ]
  },
  {
   "cell_type": "code",
   "execution_count": 3,
   "metadata": {},
   "outputs": [
    {
     "data": {
      "text/plain": [
       "Server:              http://localhost:3030/api\n",
       "User Id:             2d51feaa-2291-45f5-81d0-5dc49523e6b9\n",
       "Session Id:          98701831-87ba-4b7f-8f50-e5918a00e1f6\n",
       "Session valid until: 2024-08-15T11:02:11.232Z"
      ]
     },
     "execution_count": 3,
     "metadata": {},
     "output_type": "execute_result"
    }
   ],
   "source": [
    "session = ge.get_session()\n",
    "user_id = session.user_id\n",
    "session"
   ]
  },
  {
   "cell_type": "markdown",
   "metadata": {},
   "source": [
    "Some information about the bands we want to use:"
   ]
  },
  {
   "cell_type": "code",
   "execution_count": 4,
   "metadata": {},
   "outputs": [
    {
     "data": {
      "text/plain": [
       "10.0"
      ]
     },
     "execution_count": 4,
     "metadata": {},
     "output_type": "execute_result"
    }
   ],
   "source": [
    "band_resolutions = {\n",
    "    \"10\": [\"B02\", \"B03\", \"B04\", \"B08\"],    \n",
    "    \"20\": [\"B11\", \"B12\", \"SCL\"]\n",
    "}\n",
    "\n",
    "band_names = [\"B02\", \"B03\", \"B04\", \"B08\", \"B11\", \"B12\"]\n",
    "scl_name = \"SCL\"\n",
    "\n",
    "def get_band_resolution(band_name):\n",
    "    if band_name ==\"NDVI\":\n",
    "        return 10\n",
    "\n",
    "    for (res, bands) in band_resolutions.items():\n",
    "        if band_name in bands:\n",
    "            return float(res)\n",
    "    return None\n",
    "\n",
    "def get_resoluton_bands(res):\n",
    "    return band_resolutions[res]\n",
    "\n",
    "get_band_resolution(\"B02\")"
   ]
  },
  {
   "cell_type": "markdown",
   "metadata": {},
   "source": [
    "The tiles we want to use and way to modify the bounds to match the pixel resolution of the band (also use a power of 2 because it is nice)"
   ]
  },
  {
   "cell_type": "code",
   "execution_count": 5,
   "metadata": {},
   "outputs": [
    {
     "name": "stdout",
     "output_type": "stream",
     "text": [
      "1 [677000, 5888000, 678280, 5889280]\n",
      "1 1280 1280\n"
     ]
    }
   ],
   "source": [
    "def next_power_of_2(x):\n",
    "    return 1 if x == 0 else 2**math.ceil(math.log2(x))\n",
    "\n",
    "def better_tile_bounds(xmin, ymin, xmax, ymax, res):\n",
    "    size_x = xmax - xmin\n",
    "    size_y = ymax - ymin\n",
    "    x_start = int(xmin/res)*res\n",
    "    y_start = int(ymin/res)*res\n",
    "    x_end = x_start + next_power_of_2(size_x/res)*res\n",
    "    y_end = y_start + next_power_of_2(size_y/res)*res\n",
    "    return [x_start, y_start, x_end, y_end]\n",
    "\n",
    "\n",
    "tiles = {\n",
    "    \"1\": [677000.0, 5888000.0, 678000.0, 5889000.0], # 1\n",
    "    \n",
    "}\n",
    "\n",
    "max_pixel_size = int(get_band_resolution(\"B12\"))\n",
    "\n",
    "better_tiles = {b: better_tile_bounds(*tiles[b], max_pixel_size) for b in tiles}\n",
    "\n",
    "for (tile, tile_bounds) in better_tiles.items():\n",
    "    print(tile, tile_bounds)\n",
    "    [xmin, ymin, xmax, ymax] = tile_bounds\n",
    "    size_x = xmax - xmin\n",
    "    size_y = ymax - ymin\n",
    "    print(tile, size_x, size_y)"
   ]
  },
  {
   "cell_type": "markdown",
   "metadata": {},
   "source": [
    "For convenience, the tiles are stored as different datasets. Here is a simple way to resolve there names:"
   ]
  },
  {
   "cell_type": "code",
   "execution_count": 6,
   "metadata": {},
   "outputs": [
    {
     "data": {
      "text/plain": [
       "'2d51feaa-2291-45f5-81d0-5dc49523e6b9:large_raster_download_sentinel2_10m_tile_10_band_B02_2022_2023'"
      ]
     },
     "execution_count": 6,
     "metadata": {},
     "output_type": "execute_result"
    }
   ],
   "source": [
    "def get_dataset_name(user_id, tile, band):\n",
    "    band_resolution = int(get_band_resolution(band))\n",
    "    return f\"{user_id}:large_raster_download_sentinel2_{band_resolution}m_tile_{tile}_band_{band}_2022_2023\"\n",
    "\n",
    "get_dataset_name(user_id, \"10\", \"B02\")"
   ]
  },
  {
   "cell_type": "markdown",
   "metadata": {},
   "source": [
    "The Geo Engine uses a `QueryRectangle` to request the data. It specifies the bounding box of the area of interest and the time range. (The resolution is also specified here, but this will change in the near future)\n"
   ]
  },
  {
   "cell_type": "code",
   "execution_count": 7,
   "metadata": {},
   "outputs": [
    {
     "data": {
      "text/plain": [
       "QueryRectangle( \n",
       "    BoundingBox2D(xmin=677000, ymin=5888000, xmax=678280, ymax=5889280)\n",
       "    TimeInterval(start=2022-01-01T00:00:00.000000, end=2023-01-01T00:00:00.000000)\n",
       "    SpatialResolution(x=10.0, y=10.0)\n",
       "    srs=EPSG:32632 \n",
       ")"
      ]
     },
     "execution_count": 7,
     "metadata": {},
     "output_type": "execute_result"
    }
   ],
   "source": [
    "def create_query(bounds, resolution, time_start, time_end):\n",
    "    [xmin, ymin, xmax, ymax] = bounds\n",
    "    return ge.QueryRectangle(\n",
    "        spatial_bounds=ge.BoundingBox2D(xmin, ymin, xmax, ymax),\n",
    "        time_interval=ge.TimeInterval(time_start, time_end),\n",
    "        resolution=ge.SpatialResolution(resolution, resolution),\n",
    "        srs=\"EPSG:32632\"\n",
    "    )\n",
    "\n",
    "time_start = datetime(2022, 1, 1)\n",
    "time_end = datetime(2023, 1, 1)\n",
    "    \n",
    "create_query(better_tiles[\"1\"], 10.0, time_start, time_end)"
   ]
  },
  {
   "cell_type": "markdown",
   "metadata": {},
   "source": [
    "## download raw data"
   ]
  },
  {
   "cell_type": "code",
   "execution_count": 8,
   "metadata": {},
   "outputs": [],
   "source": [
    "\n",
    "download_dir = \"./test/raw_data\"\n",
    "for (i, (tile, tb)) in enumerate(better_tiles.items()):\n",
    "    for band in band_names + [scl_name]:\n",
    "        dataset_name = get_dataset_name(user_id, tile, band)\n",
    "        workflow = ge.workflow_builder.blueprints.sentinel2_band(band_name=band)\n",
    "        reg_workflow = ge.register_workflow(workflow)\n",
    "\n",
    "        query = create_query(tb, get_band_resolution(band), time_start, time_end)\n",
    "\n",
    "        if not os.path.exists(f\"{download_dir}{dataset_name[37:]}/\"):\n",
    "            os.makedirs(f\"{download_dir}/{dataset_name[37:]}/\", exist_ok=True)\n",
    "\n",
    "        writer = ge.RasterWorkflowRioWriter(f\"{download_dir}/{dataset_name[37:]}/\", reg_workflow, no_data_value=0)\n",
    "\n",
    "        await writer.query_and_write(query)"
   ]
  },
  {
   "cell_type": "markdown",
   "metadata": {},
   "source": [
    "## Download scaled, cloud free data"
   ]
  },
  {
   "cell_type": "code",
   "execution_count": 9,
   "metadata": {},
   "outputs": [],
   "source": [
    "test_mode = True\n",
    "download_dir = \"./test/scaled_cloud_free\"\n",
    "\n",
    "def create_cloud_free_scaled_workflow(_user_id, _tile, band):\n",
    "    #dataset_name = get_dataset_name(user_id, tile, band)\n",
    "    #scl_dataset_name = get_dataset_name(user_id, tile, scl_name)\n",
    "    workflow =ge.workflow_builder.blueprints.sentinel2_cloud_free_band(\n",
    "        band_name=band\n",
    "    )\n",
    "    workflow = ge.workflow_builder.operators.RasterTypeConversion(workflow, output_data_type=\"F32\") # to float\n",
    "    workflow = ge.workflow_builder.operators.RasterScaling(workflow, slope=0.00001, offset=0.0) # to reflectance    \n",
    "    return workflow\n",
    "\n",
    "for (i, (tile, tb)) in enumerate(better_tiles.items()):\n",
    "    scl_dataset_name = get_dataset_name(user_id, tile, scl_name)\n",
    "\n",
    "    if test_mode and i > 0:\n",
    "        break\n",
    "    for band in band_names:\n",
    "        if test_mode and i > 0:\n",
    "            break\n",
    "        dataset_name = get_dataset_name(user_id, tile, band)\n",
    "\n",
    "        workflow = create_cloud_free_scaled_workflow(user_id, tile, band)\n",
    "        reg_workflow = ge.register_workflow(workflow)\n",
    "\n",
    "        query = create_query(tb, get_band_resolution(band), time_start, time_end)\n",
    "\n",
    "        if not os.path.exists(f\"{download_dir}{dataset_name[37:]}/\"):\n",
    "            os.makedirs(f\"{download_dir}/{dataset_name[37:]}/\", exist_ok=True)\n",
    "\n",
    "        writer = ge.RasterWorkflowRioWriter(f\"{download_dir}/{dataset_name[37:]}/\", reg_workflow, no_data_value=0)\n",
    "\n",
    "        await writer.query_and_write(query)"
   ]
  },
  {
   "cell_type": "markdown",
   "metadata": {},
   "source": [
    "## Download weekly scaled data + NDVI"
   ]
  },
  {
   "cell_type": "code",
   "execution_count": 11,
   "metadata": {},
   "outputs": [],
   "source": [
    "download_dir = \"./test/scaled_cloud_free_7days\"\n",
    "\n",
    "def create_cloud_free_scaled_workflow(_user_id, _tile, band):\n",
    "    # dataset_name = get_dataset_name(user_id, tile, band)\n",
    "    # scl_dataset_name = get_dataset_name(user_id, tile, scl_name)\n",
    "    workflow =ge.workflow_builder.blueprints.sentinel2_cloud_free_band(\n",
    "        band_name = band\n",
    "    )\n",
    "    workflow = ge.workflow_builder.operators.RasterTypeConversion(workflow, output_data_type=\"F32\") # to float\n",
    "    workflow = ge.workflow_builder.operators.RasterScaling(workflow, slope=0.0001, offset=0.0) # to reflectance    \n",
    "    return workflow\n",
    "\n",
    "def create_cloud_free_scaled_workflow_7day_mean(user_id, tile, band):\n",
    "    workflow = create_cloud_free_scaled_workflow(user_id, tile, band)\n",
    "    workflow = ge.workflow_builder.operators.TemporalRasterAggregation(workflow, aggregation_type=\"mean\", granularity='days', window_size=7, ignore_no_data=True)\n",
    "    return workflow\n",
    "\n",
    "def create_cloud_free_scaled_workflow_7day_mean_ndvi(_user_id, _tile):\n",
    "    #nir_workflow = create_cloud_free_scaled_workflow_7day_mean(user_id, tile, \"B08\")\n",
    "    #red_workflow = create_cloud_free_scaled_workflow_7day_mean(user_id, tile, \"B04\")\n",
    "    #stacked_workflow = ge.workflow_builder.operators.RasterStacker([nir_workflow, red_workflow])\n",
    "    #ndvi_workflow = ge.workflow_builder.operators.Expression(\"(A-B)/(A+B)\", stacked_workflow, \"F32\", map_no_data=False)\n",
    "    ndvi_workflow = ge.workflow_builder.blueprints.sentinel2_cloud_free_ndvi()\n",
    "    workflow = ge.workflow_builder.operators.TemporalRasterAggregation(ndvi_workflow, aggregation_type=\"mean\", granularity='days', window_size=7, ignore_no_data=True)\n",
    "    return workflow\n",
    "\n",
    "\n",
    "for (i, (tile, tb)) in enumerate(better_tiles.items()):\n",
    "    scl_dataset_name = get_dataset_name(user_id, tile, scl_name)\n",
    "    \n",
    "    for band in band_names:        \n",
    "        dataset_name = get_dataset_name(user_id, tile, band)\n",
    "\n",
    "        workflow = create_cloud_free_scaled_workflow_7day_mean(user_id, tile, band)\n",
    "        reg_workflow = ge.register_workflow(workflow)\n",
    "        query = create_query(tb, get_band_resolution(band), time_start, time_end)\n",
    "\n",
    "        if not os.path.exists(f\"{download_dir}{dataset_name[37:]}/\"):\n",
    "            os.makedirs(f\"{download_dir}/{dataset_name[37:]}/\", exist_ok=True)\n",
    "\n",
    "        writer = ge.RasterWorkflowRioWriter(f\"{download_dir}/{dataset_name[37:]}/\", reg_workflow, no_data_value=0)\n",
    "        await writer.query_and_write(query)\n",
    "\n",
    "    # ndvi workflow    \n",
    "    workflow = create_cloud_free_scaled_workflow_7day_mean_ndvi(user_id, tile)\n",
    "    reg_workflow = ge.register_workflow(workflow)\n",
    "    query = create_query(tb, 10, time_start, time_end)\n",
    "    dataset_name = get_dataset_name(user_id, tile, \"NDVI\")\n",
    "\n",
    "    if not os.path.exists(f\"{download_dir}/ndvi/\"):\n",
    "        os.makedirs(f\"{download_dir}/ndvi/\", exist_ok=True)\n",
    "        \n",
    "    writer = ge.RasterWorkflowRioWriter(f\"{download_dir}/ndvi/\", reg_workflow, no_data_value=-2)\n",
    "    await writer.query_and_write(query)\n",
    "        "
   ]
  },
  {
   "cell_type": "code",
   "execution_count": null,
   "metadata": {},
   "outputs": [],
   "source": []
  }
 ],
 "metadata": {
  "kernelspec": {
   "display_name": "Python 3 (ipykernel)",
   "language": "python",
   "name": "python3"
  },
  "language_info": {
   "codemirror_mode": {
    "name": "ipython",
    "version": 3
   },
   "file_extension": ".py",
   "mimetype": "text/x-python",
   "name": "python",
   "nbconvert_exporter": "python",
   "pygments_lexer": "ipython3",
   "version": "3.10.12"
  }
 },
 "nbformat": 4,
 "nbformat_minor": 4
}
