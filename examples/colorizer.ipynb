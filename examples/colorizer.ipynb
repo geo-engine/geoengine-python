{
 "cells": [
  {
   "attachments": {},
   "cell_type": "markdown",
   "metadata": {},
   "source": [
    "# Create Intermediate Raster Result"
   ]
  },
  {
   "cell_type": "code",
   "execution_count": 1,
   "metadata": {},
   "outputs": [],
   "source": [
    "from datetime import datetime\n",
    "\n",
    "import matplotlib.pyplot as plt\n",
    "import numpy as np\n",
    "from matplotlib import cm\n",
    "from matplotlib.colors import ListedColormap\n",
    "\n",
    "import geoengine as ge\n",
    "from geoengine.colorizer import Colorizer"
   ]
  },
  {
   "attachments": {},
   "cell_type": "markdown",
   "metadata": {},
   "source": [
    "## Initialize Geo Engine"
   ]
  },
  {
   "cell_type": "code",
   "execution_count": 2,
   "metadata": {},
   "outputs": [],
   "source": [
    "ge.initialize(\"http://localhost:3030/api\")"
   ]
  },
  {
   "cell_type": "code",
   "execution_count": 3,
   "metadata": {},
   "outputs": [
    {
     "data": {
      "text/plain": [
       "Server:              http://localhost:3030/api\n",
       "User Id:             3b9c2ac4-38f8-4847-8d9b-2d816c9f565b\n",
       "Session Id:          5de463a1-dbce-4730-8e8a-5a03df3ea129\n",
       "Session valid until: 2024-10-26T13:44:11.244Z"
      ]
     },
     "execution_count": 3,
     "metadata": {},
     "output_type": "execute_result"
    }
   ],
   "source": [
    "session = ge.get_session()\n",
    "session"
   ]
  },
  {
   "attachments": {},
   "cell_type": "markdown",
   "metadata": {},
   "source": [
    "## Define workflow of MODIS NDVI raster"
   ]
  },
  {
   "cell_type": "code",
   "execution_count": 4,
   "metadata": {},
   "outputs": [
    {
     "data": {
      "text/plain": [
       "1e415c9c-55f3-51a2-b50b-b5053d1debbb"
      ]
     },
     "execution_count": 4,
     "metadata": {},
     "output_type": "execute_result"
    }
   ],
   "source": [
    "workflow = ge.register_workflow(\n",
    "    {\n",
    "        \"type\": \"Raster\",\n",
    "        \"operator\": {\n",
    "            \"type\": \"GdalSource\",\n",
    "            \"params\": {\n",
    "                \"data\": \"ndvi\"\n",
    "            },\n",
    "        },\n",
    "    }\n",
    ")\n",
    "workflow"
   ]
  },
  {
   "cell_type": "code",
   "execution_count": 5,
   "metadata": {},
   "outputs": [],
   "source": [
    "# this method is only used to display the results a bit more concise.\n",
    "def plot_geoengine_img(colorizer: list):\n",
    "    time = datetime.strptime(\"2014-04-01T12:00:00.000Z\", \"%Y-%m-%dT%H:%M:%S.%f%z\")\n",
    "\n",
    "    # create horizontal subplots\n",
    "    fig, axs = plt.subplots(1, len(colorizer), figsize=(10, 5))\n",
    "\n",
    "    imgs = []\n",
    "    for col in colorizer:\n",
    "        img = workflow.wms_get_map_as_image(\n",
    "            ge.QueryRectangle(\n",
    "                ge.BoundingBox2D(-180.0, -90.0, 180.0, 90.0),\n",
    "                ge.TimeInterval(time, time),\n",
    "                resolution=ge.SpatialResolution(1.8, 1.8),\n",
    "            ),\n",
    "            col,\n",
    "        )\n",
    "\n",
    "        imgs.append(img)\n",
    "\n",
    "    for (ax, img) in zip(axs, imgs):\n",
    "        ax.imshow(img)"
   ]
  },
  {
   "attachments": {},
   "cell_type": "markdown",
   "metadata": {},
   "source": [
    "## General Creation of a Colorizer Instance with Default Values"
   ]
  },
  {
   "cell_type": "code",
   "execution_count": 6,
   "metadata": {},
   "outputs": [],
   "source": [
    "# note: you have to specify a min/max range for your colormap calls\n",
    "# and the name of the colormap\n",
    "co = Colorizer.linear_with_mpl_cmap(color_map=\"viridis\", min_max=(0, 255))"
   ]
  },
  {
   "attachments": {},
   "cell_type": "markdown",
   "metadata": {},
   "source": [
    "## Using Default Colormaps"
   ]
  },
  {
   "cell_type": "code",
   "execution_count": 7,
   "metadata": {},
   "outputs": [
    {
     "ename": "UnidentifiedImageError",
     "evalue": "cannot identify image file <_io.BytesIO object at 0x7d60789a9210>",
     "output_type": "error",
     "traceback": [
      "\u001b[0;31m---------------------------------------------------------------------------\u001b[0m",
      "\u001b[0;31mUnidentifiedImageError\u001b[0m                    Traceback (most recent call last)",
      "Cell \u001b[0;32mIn[7], line 5\u001b[0m\n\u001b[1;32m      1\u001b[0m colors \u001b[38;5;241m=\u001b[39m [\n\u001b[1;32m      2\u001b[0m     Colorizer\u001b[38;5;241m.\u001b[39mlinear_with_mpl_cmap(color_map\u001b[38;5;241m=\u001b[39m\u001b[38;5;124m\"\u001b[39m\u001b[38;5;124mviridis\u001b[39m\u001b[38;5;124m\"\u001b[39m, min_max\u001b[38;5;241m=\u001b[39m(\u001b[38;5;241m0\u001b[39m, \u001b[38;5;241m255\u001b[39m)),\n\u001b[1;32m      3\u001b[0m     Colorizer\u001b[38;5;241m.\u001b[39mlinear_with_mpl_cmap(color_map\u001b[38;5;241m=\u001b[39m\u001b[38;5;124m\"\u001b[39m\u001b[38;5;124mmagma\u001b[39m\u001b[38;5;124m\"\u001b[39m, min_max\u001b[38;5;241m=\u001b[39m(\u001b[38;5;241m0\u001b[39m, \u001b[38;5;241m255\u001b[39m)),\n\u001b[1;32m      4\u001b[0m ]\n\u001b[0;32m----> 5\u001b[0m \u001b[43mplot_geoengine_img\u001b[49m\u001b[43m(\u001b[49m\u001b[43mcolors\u001b[49m\u001b[43m)\u001b[49m\n",
      "Cell \u001b[0;32mIn[5], line 10\u001b[0m, in \u001b[0;36mplot_geoengine_img\u001b[0;34m(colorizer)\u001b[0m\n\u001b[1;32m      8\u001b[0m imgs \u001b[38;5;241m=\u001b[39m []\n\u001b[1;32m      9\u001b[0m \u001b[38;5;28;01mfor\u001b[39;00m col \u001b[38;5;129;01min\u001b[39;00m colorizer:\n\u001b[0;32m---> 10\u001b[0m     img \u001b[38;5;241m=\u001b[39m \u001b[43mworkflow\u001b[49m\u001b[38;5;241;43m.\u001b[39;49m\u001b[43mwms_get_map_as_image\u001b[49m\u001b[43m(\u001b[49m\n\u001b[1;32m     11\u001b[0m \u001b[43m        \u001b[49m\u001b[43mge\u001b[49m\u001b[38;5;241;43m.\u001b[39;49m\u001b[43mQueryRectangle\u001b[49m\u001b[43m(\u001b[49m\n\u001b[1;32m     12\u001b[0m \u001b[43m            \u001b[49m\u001b[43mge\u001b[49m\u001b[38;5;241;43m.\u001b[39;49m\u001b[43mBoundingBox2D\u001b[49m\u001b[43m(\u001b[49m\u001b[38;5;241;43m-\u001b[39;49m\u001b[38;5;241;43m180.0\u001b[39;49m\u001b[43m,\u001b[49m\u001b[43m \u001b[49m\u001b[38;5;241;43m-\u001b[39;49m\u001b[38;5;241;43m90.0\u001b[39;49m\u001b[43m,\u001b[49m\u001b[43m \u001b[49m\u001b[38;5;241;43m180.0\u001b[39;49m\u001b[43m,\u001b[49m\u001b[43m \u001b[49m\u001b[38;5;241;43m90.0\u001b[39;49m\u001b[43m)\u001b[49m\u001b[43m,\u001b[49m\n\u001b[1;32m     13\u001b[0m \u001b[43m            \u001b[49m\u001b[43mge\u001b[49m\u001b[38;5;241;43m.\u001b[39;49m\u001b[43mTimeInterval\u001b[49m\u001b[43m(\u001b[49m\u001b[43mtime\u001b[49m\u001b[43m,\u001b[49m\u001b[43m \u001b[49m\u001b[43mtime\u001b[49m\u001b[43m)\u001b[49m\u001b[43m,\u001b[49m\n\u001b[1;32m     14\u001b[0m \u001b[43m            \u001b[49m\u001b[43mresolution\u001b[49m\u001b[38;5;241;43m=\u001b[39;49m\u001b[43mge\u001b[49m\u001b[38;5;241;43m.\u001b[39;49m\u001b[43mSpatialResolution\u001b[49m\u001b[43m(\u001b[49m\u001b[38;5;241;43m1.8\u001b[39;49m\u001b[43m,\u001b[49m\u001b[43m \u001b[49m\u001b[38;5;241;43m1.8\u001b[39;49m\u001b[43m)\u001b[49m\u001b[43m,\u001b[49m\n\u001b[1;32m     15\u001b[0m \u001b[43m        \u001b[49m\u001b[43m)\u001b[49m\u001b[43m,\u001b[49m\n\u001b[1;32m     16\u001b[0m \u001b[43m        \u001b[49m\u001b[43mcol\u001b[49m\u001b[43m,\u001b[49m\n\u001b[1;32m     17\u001b[0m \u001b[43m    \u001b[49m\u001b[43m)\u001b[49m\n\u001b[1;32m     19\u001b[0m     imgs\u001b[38;5;241m.\u001b[39mappend(img)\n\u001b[1;32m     21\u001b[0m \u001b[38;5;28;01mfor\u001b[39;00m (ax, img) \u001b[38;5;129;01min\u001b[39;00m \u001b[38;5;28mzip\u001b[39m(axs, imgs):\n",
      "File \u001b[0;32m~/git/geoengine-python/geoengine/workflow.py:286\u001b[0m, in \u001b[0;36mWorkflow.wms_get_map_as_image\u001b[0;34m(self, bbox, colorizer)\u001b[0m\n\u001b[1;32m    270\u001b[0m     wms_api \u001b[38;5;241m=\u001b[39m geoengine_openapi_client\u001b[38;5;241m.\u001b[39mOGCWMSApi(api_client)\n\u001b[1;32m    271\u001b[0m     response \u001b[38;5;241m=\u001b[39m wms_api\u001b[38;5;241m.\u001b[39mwms_map_handler(\n\u001b[1;32m    272\u001b[0m         workflow\u001b[38;5;241m=\u001b[39m\u001b[38;5;28mstr\u001b[39m(\u001b[38;5;28mself\u001b[39m),\n\u001b[1;32m    273\u001b[0m         version\u001b[38;5;241m=\u001b[39mgeoengine_openapi_client\u001b[38;5;241m.\u001b[39mWmsVersion(geoengine_openapi_client\u001b[38;5;241m.\u001b[39mWmsVersion\u001b[38;5;241m.\u001b[39mENUM_1_DOT_3_DOT_0),\n\u001b[0;32m   (...)\u001b[0m\n\u001b[1;32m    283\u001b[0m         time\u001b[38;5;241m=\u001b[39mbbox\u001b[38;5;241m.\u001b[39mtime_str\n\u001b[1;32m    284\u001b[0m     )\n\u001b[0;32m--> 286\u001b[0m \u001b[38;5;28;01mreturn\u001b[39;00m \u001b[43mImage\u001b[49m\u001b[38;5;241;43m.\u001b[39;49m\u001b[43mopen\u001b[49m\u001b[43m(\u001b[49m\u001b[43mBytesIO\u001b[49m\u001b[43m(\u001b[49m\u001b[43mresponse\u001b[49m\u001b[43m)\u001b[49m\u001b[43m)\u001b[49m\n",
      "File \u001b[0;32m~/git/geoengine-python/env/lib/python3.10/site-packages/PIL/Image.py:3298\u001b[0m, in \u001b[0;36mopen\u001b[0;34m(fp, mode, formats)\u001b[0m\n\u001b[1;32m   3296\u001b[0m     warnings\u001b[38;5;241m.\u001b[39mwarn(message)\n\u001b[1;32m   3297\u001b[0m msg \u001b[38;5;241m=\u001b[39m \u001b[38;5;124m\"\u001b[39m\u001b[38;5;124mcannot identify image file \u001b[39m\u001b[38;5;132;01m%r\u001b[39;00m\u001b[38;5;124m\"\u001b[39m \u001b[38;5;241m%\u001b[39m (filename \u001b[38;5;28;01mif\u001b[39;00m filename \u001b[38;5;28;01melse\u001b[39;00m fp)\n\u001b[0;32m-> 3298\u001b[0m \u001b[38;5;28;01mraise\u001b[39;00m UnidentifiedImageError(msg)\n",
      "\u001b[0;31mUnidentifiedImageError\u001b[0m: cannot identify image file <_io.BytesIO object at 0x7d60789a9210>"
     ]
    },
    {
     "data": {
      "image/png": "[encoded data removed]",
      "text/plain": [
       "<Figure size 1000x500 with 2 Axes>"
      ]
     },
     "metadata": {},
     "output_type": "display_data"
    }
   ],
   "source": [
    "colors = [\n",
    "    Colorizer.linear_with_mpl_cmap(color_map=\"viridis\", min_max=(0, 255)),\n",
    "    Colorizer.linear_with_mpl_cmap(color_map=\"magma\", min_max=(0, 255)),\n",
    "]\n",
    "plot_geoengine_img(colors)"
   ]
  },
  {
   "attachments": {},
   "cell_type": "markdown",
   "metadata": {},
   "source": [
    "## Configuring the Number of Steps"
   ]
  },
  {
   "cell_type": "code",
   "execution_count": null,
   "metadata": {},
   "outputs": [],
   "source": [
    "colors = [\n",
    "    Colorizer.linear_with_mpl_cmap(color_map=\"magma\", min_max=(0, 255), n_steps=2),\n",
    "    Colorizer.linear_with_mpl_cmap(color_map=\"magma\", min_max=(0, 255), n_steps=20),\n",
    "]\n",
    "plot_geoengine_img(colors)"
   ]
  },
  {
   "attachments": {},
   "cell_type": "markdown",
   "metadata": {},
   "source": [
    "## Configuring the Value Range"
   ]
  },
  {
   "cell_type": "code",
   "execution_count": null,
   "metadata": {},
   "outputs": [],
   "source": [
    "# note: 1st map shows, that the defaults set earlier are overriden (for that map)\n",
    "colors = [\n",
    "    Colorizer.linear_with_mpl_cmap(color_map=\"magma\", min_max=(50, 200)),\n",
    "    Colorizer.linear_with_mpl_cmap(color_map=\"magma\", min_max=(0, 255)),\n",
    "]\n",
    "plot_geoengine_img(colors)"
   ]
  },
  {
   "attachments": {},
   "cell_type": "markdown",
   "metadata": {},
   "source": [
    "## Using Custom Maps"
   ]
  },
  {
   "cell_type": "code",
   "execution_count": null,
   "metadata": {},
   "outputs": [],
   "source": [
    "custom_map = ListedColormap([\"darkorange\", \"gold\", \"lawngreen\", \"lightseagreen\"])\n",
    "colors = [\n",
    "    Colorizer.linear_with_mpl_cmap(color_map=custom_map, min_max=(0, 255)),  # default\n",
    "    Colorizer.linear_with_mpl_cmap(\n",
    "        color_map=custom_map, n_steps=2, min_max=(50, 150)\n",
    "    ),  # with options\n",
    "]\n",
    "plot_geoengine_img(colors)"
   ]
  },
  {
   "attachments": {},
   "cell_type": "markdown",
   "metadata": {},
   "source": [
    "## Using over/under colors"
   ]
  },
  {
   "cell_type": "code",
   "execution_count": null,
   "metadata": {},
   "outputs": [],
   "source": [
    "# we need to cut off the extreme values in order to show the over/under colors\n",
    "colors = [\n",
    "    Colorizer.linear_with_mpl_cmap(color_map=\"viridis\", min_max=(0, 255)),\n",
    "    Colorizer.linear_with_mpl_cmap(\n",
    "        color_map=\"viridis\",\n",
    "        min_max=(20, 254),\n",
    "        over_color=(0, 0, 255, 255),\n",
    "        under_color=(255, 0, 0, 255),\n",
    "    ),\n",
    "]\n",
    "plot_geoengine_img(colors)"
   ]
  },
  {
   "attachments": {},
   "cell_type": "markdown",
   "metadata": {},
   "source": [
    "# Using the Palette Colorizer\n",
    "We need a different dataset, so let's define a new workflow."
   ]
  },
  {
   "cell_type": "code",
   "execution_count": null,
   "metadata": {},
   "outputs": [],
   "source": [
    "workflow = ge.register_workflow(\n",
    "    {\n",
    "        \"type\": \"Raster\",\n",
    "        \"operator\": {\n",
    "            \"type\": \"GdalSource\",\n",
    "            \"params\": {\n",
    "                \"data\": \"land_cover\"\n",
    "            },\n",
    "        },\n",
    "    }\n",
    ")\n",
    "workflow"
   ]
  },
  {
   "attachments": {},
   "cell_type": "markdown",
   "metadata": {},
   "source": [
    "## Different Ways to Setup the Colorizer"
   ]
  },
  {
   "cell_type": "code",
   "execution_count": null,
   "metadata": {},
   "outputs": [],
   "source": [
    "colors = [\n",
    "    # Use an explicit mapping of values and colors\n",
    "    Colorizer.palette(\n",
    "        color_mapping={\n",
    "            0.0: [134, 201, 227, 255],\n",
    "            1.0: [30, 129, 62, 255],\n",
    "            2.0: [59, 194, 212, 255],\n",
    "            3.0: [157, 194, 63, 255],\n",
    "            4.0: [159, 225, 127, 255],\n",
    "            5.0: [125, 194, 127, 255],\n",
    "            6.0: [195, 127, 126, 255],\n",
    "            7.0: [188, 221, 190, 255],\n",
    "            8.0: [224, 223, 133, 255],\n",
    "            9.0: [226, 221, 7, 255],\n",
    "            10.0: [223, 192, 125, 255],\n",
    "            11.0: [66, 128, 189, 255],\n",
    "            12.0: [225, 222, 127, 255],\n",
    "            13.0: [253, 2, 0, 255],\n",
    "            14.0: [162, 159, 66, 255],\n",
    "            15.0: [255, 255, 255, 255],\n",
    "            16.0: [192, 192, 192, 255],\n",
    "        }\n",
    "    ),\n",
    "    # only pass the values you want to be colorized, defaults to a gray scale\n",
    "    Colorizer.palette_with_colormap(values=np.arange(0.0, 17.0).tolist(), color_map=\"gray\"),\n",
    "]\n",
    "\n",
    "plot_geoengine_img(colors)\n",
    "\n",
    "colors = [\n",
    "    # pass a continuous mpl colormap, the values will be discretized\n",
    "    Colorizer.palette_with_colormap(\n",
    "        values=np.arange(0.0, 17.0).tolist(), color_map=\"viridis\"\n",
    "    ),\n",
    "    # pass a discrete mpl colormap. Keep the number of colors of the given map in mind while choosing!\n",
    "    Colorizer.palette_with_colormap(\n",
    "        values=np.arange(0.0, 17.0).tolist(), color_map=\"tab20\"\n",
    "    ),\n",
    "]\n",
    "plot_geoengine_img(colors)"
   ]
  }
 ],
 "metadata": {
  "kernelspec": {
   "display_name": "Python 3 (ipykernel)",
   "language": "python",
   "name": "python3"
  },
  "language_info": {
   "codemirror_mode": {
    "name": "ipython",
    "version": 3
   },
   "file_extension": ".py",
   "mimetype": "text/x-python",
   "name": "python",
   "nbconvert_exporter": "python",
   "pygments_lexer": "ipython3",
   "version": "3.10.12"
  },
  "vscode": {
   "interpreter": {
    "hash": "7a10ca932ff03f4c637e11f8207fe4e003ad6532d0070b911d37acf855f595fc"
   }
  }
 },
 "nbformat": 4,
 "nbformat_minor": 4
}
