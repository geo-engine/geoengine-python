{
 "cells": [
  {
   "attachments": {},
   "cell_type": "markdown",
   "metadata": {},
   "source": [
    "# Examples of different raster colorizers"
   ]
  },
  {
   "cell_type": "code",
   "execution_count": null,
   "metadata": {},
   "outputs": [],
   "source": [
    "import matplotlib.pyplot as plt\n",
    "import numpy as np\n",
    "from matplotlib import cm\n",
    "from matplotlib.colors import ListedColormap\n",
    "\n",
    "import geoengine as ge\n",
    "from geoengine.colorizer import Colorizer"
   ]
  },
  {
   "attachments": {},
   "cell_type": "markdown",
   "metadata": {},
   "source": [
    "## Initialize Geo Engine"
   ]
  },
  {
   "cell_type": "code",
   "execution_count": null,
   "metadata": {},
   "outputs": [],
   "source": [
    "ge.initialize(\"http://localhost:3030/api\")"
   ]
  },
  {
   "cell_type": "code",
   "execution_count": null,
   "metadata": {},
   "outputs": [],
   "source": [
    "session = ge.get_session()\n",
    "session"
   ]
  },
  {
   "attachments": {},
   "cell_type": "markdown",
   "metadata": {},
   "source": [
    "## Define workflow of MODIS NDVI raster"
   ]
  },
  {
   "cell_type": "code",
   "execution_count": null,
   "metadata": {},
   "outputs": [],
   "source": [
    "workflow = ge.register_workflow({\n",
    "        \"type\": \"Raster\",\n",
    "        \"operator\": {\n",
    "            \"type\": \"GdalSource\",\n",
    "            \"params\": {\n",
    "                \"data\": \"ndvi\"\n",
    "            },\n",
    "        },\n",
    "})\n",
    "workflow"
   ]
  },
  {
   "cell_type": "code",
   "execution_count": null,
   "metadata": {},
   "outputs": [],
   "source": [
    "# this method is only used to display the results a bit more concise.\n",
    "def plot_geoengine_img(colorizer: list):\n",
    "    # create horizontal subplots\n",
    "    fig, axs = plt.subplots(1, len(colorizer), figsize=(10, 5))\n",
    "\n",
    "    imgs = []\n",
    "    for col in colorizer:\n",
    "        img = workflow.wms_get_map_as_image(\n",
    "            ge.QueryRectangleWithResolution(\n",
    "                ge.BoundingBox2D(-180.0, -90.0, 180.0, 90.0),\n",
    "                ge.TimeInterval(np.datetime64('2014-04-01T12:00:00')),\n",
    "                resolution=ge.SpatialResolution(1.8, 1.8),\n",
    "            ),\n",
    "            ge.SingleBandRasterColorizer(0, col),\n",
    "        )\n",
    "\n",
    "        imgs.append(img)\n",
    "\n",
    "    for (ax, img) in zip(axs, imgs):\n",
    "        ax.imshow(img)"
   ]
  },
  {
   "attachments": {},
   "cell_type": "markdown",
   "metadata": {},
   "source": [
    "## General Creation of a Colorizer Instance with Default Values"
   ]
  },
  {
   "cell_type": "code",
   "execution_count": null,
   "metadata": {},
   "outputs": [],
   "source": [
    "# note: you have to specify a min/max range for your colormap calls\n",
    "# and the name of the colormap\n",
    "co = Colorizer.linear_with_mpl_cmap(color_map=\"viridis\", min_max=(0, 255))"
   ]
  },
  {
   "attachments": {},
   "cell_type": "markdown",
   "metadata": {},
   "source": [
    "## Using Default Colormaps"
   ]
  },
  {
   "cell_type": "code",
   "execution_count": null,
   "metadata": {},
   "outputs": [],
   "source": [
    "colors = [\n",
    "    Colorizer.linear_with_mpl_cmap(color_map=\"viridis\", min_max=(0, 255)),\n",
    "    Colorizer.linear_with_mpl_cmap(color_map=\"magma\", min_max=(0, 255)),\n",
    "]\n",
    "plot_geoengine_img(colors)"
   ]
  },
  {
   "attachments": {},
   "cell_type": "markdown",
   "metadata": {},
   "source": [
    "## Configuring the Number of Steps"
   ]
  },
  {
   "cell_type": "code",
   "execution_count": null,
   "metadata": {},
   "outputs": [],
   "source": [
    "colors = [\n",
    "    Colorizer.linear_with_mpl_cmap(color_map=\"magma\", min_max=(0, 255), n_steps=2),\n",
    "    Colorizer.linear_with_mpl_cmap(color_map=\"magma\", min_max=(0, 255), n_steps=20),\n",
    "]\n",
    "plot_geoengine_img(colors)"
   ]
  },
  {
   "attachments": {},
   "cell_type": "markdown",
   "metadata": {},
   "source": [
    "## Configuring the Value Range"
   ]
  },
  {
   "cell_type": "code",
   "execution_count": null,
   "metadata": {},
   "outputs": [],
   "source": [
    "# note: 1st map shows, that the defaults set earlier are overriden (for that map)\n",
    "colors = [\n",
    "    Colorizer.linear_with_mpl_cmap(color_map=\"magma\", min_max=(50, 200)),\n",
    "    Colorizer.linear_with_mpl_cmap(color_map=\"magma\", min_max=(0, 255)),\n",
    "]\n",
    "plot_geoengine_img(colors)"
   ]
  },
  {
   "attachments": {},
   "cell_type": "markdown",
   "metadata": {},
   "source": [
    "## Using Custom Maps"
   ]
  },
  {
   "cell_type": "code",
   "execution_count": null,
   "metadata": {},
   "outputs": [],
   "source": [
    "custom_map = ListedColormap([\"darkorange\", \"gold\", \"lawngreen\", \"lightseagreen\"])\n",
    "colors = [\n",
    "    Colorizer.linear_with_mpl_cmap(color_map=custom_map, min_max=(0, 255)),  # default\n",
    "    Colorizer.linear_with_mpl_cmap(\n",
    "        color_map=custom_map, n_steps=2, min_max=(50, 150)\n",
    "    ),  # with options\n",
    "]\n",
    "plot_geoengine_img(colors)"
   ]
  },
  {
   "attachments": {},
   "cell_type": "markdown",
   "metadata": {},
   "source": [
    "## Using over/under colors"
   ]
  },
  {
   "cell_type": "code",
   "execution_count": null,
   "metadata": {},
   "outputs": [],
   "source": [
    "# we need to cut off the extreme values in order to show the over/under colors\n",
    "colors = [\n",
    "    Colorizer.linear_with_mpl_cmap(color_map=\"viridis\", min_max=(0, 255)),\n",
    "    Colorizer.linear_with_mpl_cmap(\n",
    "        color_map=\"viridis\",\n",
    "        min_max=(20, 254),\n",
    "        over_color=(0, 0, 255, 255),\n",
    "        under_color=(255, 0, 0, 255),\n",
    "    ),\n",
    "]\n",
    "plot_geoengine_img(colors)"
   ]
  },
  {
   "attachments": {},
   "cell_type": "markdown",
   "metadata": {},
   "source": [
    "# Using the Palette Colorizer\n",
    "We need a different dataset, so let's define a new workflow."
   ]
  },
  {
   "cell_type": "code",
   "execution_count": null,
   "metadata": {},
   "outputs": [],
   "source": [
    "workflow = ge.register_workflow(\n",
    "    {\n",
    "        \"type\": \"Raster\",\n",
    "        \"operator\": {\n",
    "            \"type\": \"GdalSource\",\n",
    "            \"params\": {\n",
    "                \"data\": \"land_cover\"\n",
    "            },\n",
    "        },\n",
    "    }\n",
    ")\n",
    "workflow"
   ]
  },
  {
   "attachments": {},
   "cell_type": "markdown",
   "metadata": {},
   "source": [
    "## Different Ways to Setup the Colorizer"
   ]
  },
  {
   "cell_type": "code",
   "execution_count": null,
   "metadata": {},
   "outputs": [],
   "source": [
    "colors = [\n",
    "    # Use an explicit mapping of values and colors\n",
    "    Colorizer.palette(\n",
    "        color_mapping={\n",
    "            0.0: [134, 201, 227, 255],\n",
    "            1.0: [30, 129, 62, 255],\n",
    "            2.0: [59, 194, 212, 255],\n",
    "            3.0: [157, 194, 63, 255],\n",
    "            4.0: [159, 225, 127, 255],\n",
    "            5.0: [125, 194, 127, 255],\n",
    "            6.0: [195, 127, 126, 255],\n",
    "            7.0: [188, 221, 190, 255],\n",
    "            8.0: [224, 223, 133, 255],\n",
    "            9.0: [226, 221, 7, 255],\n",
    "            10.0: [223, 192, 125, 255],\n",
    "            11.0: [66, 128, 189, 255],\n",
    "            12.0: [225, 222, 127, 255],\n",
    "            13.0: [253, 2, 0, 255],\n",
    "            14.0: [162, 159, 66, 255],\n",
    "            15.0: [255, 255, 255, 255],\n",
    "            16.0: [192, 192, 192, 255],\n",
    "        }\n",
    "    ),\n",
    "    # only pass the values you want to be colorized, defaults to a gray scale\n",
    "    Colorizer.palette_with_colormap(values=np.arange(0.0, 17.0).tolist(), color_map=\"gray\"),\n",
    "]\n",
    "\n",
    "plot_geoengine_img(colors)\n",
    "\n",
    "colors = [\n",
    "    # pass a continuous mpl colormap, the values will be discretized\n",
    "    Colorizer.palette_with_colormap(\n",
    "        values=np.arange(0.0, 17.0).tolist(), color_map=\"viridis\"\n",
    "    ),\n",
    "    # pass a discrete mpl colormap. Keep the number of colors of the given map in mind while choosing!\n",
    "    Colorizer.palette_with_colormap(\n",
    "        values=np.arange(0.0, 17.0).tolist(), color_map=\"tab20\"\n",
    "    ),\n",
    "]\n",
    "plot_geoengine_img(colors)"
   ]
  },
  {
   "cell_type": "markdown",
   "metadata": {},
   "source": [
    "## Multiband colorizer"
   ]
  },
  {
   "cell_type": "code",
   "execution_count": null,
   "metadata": {},
   "outputs": [],
   "source": [
    "ge.register_workflow(\n",
    "    ge.workflow_builder.operators.RasterStacker(\n",
    "        sources=[\n",
    "            ge.workflow_builder.operators.GdalSource('ne2_raster_blue'),\n",
    "            ge.workflow_builder.operators.GdalSource('ne2_raster_green'),\n",
    "            ge.workflow_builder.operators.GdalSource('ne2_raster_red'),\n",
    "        ],\n",
    "    )\n",
    ").wms_get_map_as_image(\n",
    "    ge.QueryRectangleWithResolution(\n",
    "        ge.BoundingBox2D(-180.0, -90.0, 180.0, 90.0),\n",
    "        ge.TimeInterval(np.datetime64('2014-04-01T12:00:00')),\n",
    "        resolution=ge.SpatialResolution(0.5, 0.5),\n",
    "    ),\n",
    "    ge.MultiBandRasterColorizer(\n",
    "        red_band=2,\n",
    "        green_band=1,\n",
    "        blue_band=0,\n",
    "        red_min=0,\n",
    "        red_max=255,\n",
    "        red_scale=1,\n",
    "        green_min=0,\n",
    "        green_max=255,\n",
    "        green_scale=1,\n",
    "        blue_min=0,\n",
    "        blue_max=255,\n",
    "        blue_scale=1,\n",
    "    ),\n",
    ")\n"
   ]
  }
 ],
 "metadata": {
  "kernelspec": {
   "display_name": "env",
   "language": "python",
   "name": "python3"
  },
  "language_info": {
   "codemirror_mode": {
    "name": "ipython",
    "version": 3
   },
   "file_extension": ".py",
   "mimetype": "text/x-python",
   "name": "python",
   "nbconvert_exporter": "python",
   "pygments_lexer": "ipython3",
   "version": "3.12.3"
  },
  "vscode": {
   "interpreter": {
    "hash": "7a10ca932ff03f4c637e11f8207fe4e003ad6532d0070b911d37acf855f595fc"
   }
  }
 },
 "nbformat": 4,
 "nbformat_minor": 4
}
