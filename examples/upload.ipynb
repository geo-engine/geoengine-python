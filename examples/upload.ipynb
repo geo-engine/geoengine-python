{
 "cells": [
  {
   "cell_type": "markdown",
   "source": [
    "# Upload custom data"
   ],
   "metadata": {}
  },
  {
   "cell_type": "code",
   "execution_count": 1,
   "source": [
    "import geoengine as ge\n",
    "import pandas as pd\n",
    "import geopandas\n",
    "from datetime import datetime"
   ],
   "outputs": [],
   "metadata": {}
  },
  {
   "cell_type": "markdown",
   "source": [
    "## Initialize Geo Engine"
   ],
   "metadata": {}
  },
  {
   "cell_type": "code",
   "execution_count": 2,
   "source": [
    "ge.initialize(\"http://localhost:3030\")"
   ],
   "outputs": [],
   "metadata": {}
  },
  {
   "cell_type": "markdown",
   "source": [
    "## Define dataframe"
   ],
   "metadata": {}
  },
  {
   "cell_type": "code",
   "execution_count": 3,
   "source": [
    "df = pd.DataFrame(\n",
    "    {\n",
    "        'label': ['NA', 'DE'],\n",
    "        'index': [0, 1],\n",
    "        'rnd': [34.34, 567.547]\n",
    "    })\n",
    "\n",
    "polygons = ['Polygon((-121.46484375 47.109375, -99.31640625 17.2265625, -56.42578125 52.03125,-121.46484375 47.109375))',\n",
    "            'Polygon((4.74609375 53.61328125, 5.09765625 43.06640625, 15.1171875 43.76953125, 15.1171875 54.4921875, 4.74609375 53.61328125))']\n",
    "\n",
    "gdf = geopandas.GeoDataFrame(\n",
    "    df, geometry=geopandas.GeoSeries.from_wkt(polygons), crs=\"EPSG:4326\")\n",
    "\n",
    "gdf"
   ],
   "outputs": [
    {
     "output_type": "execute_result",
     "data": {
      "text/plain": [
       "  label  index      rnd                                           geometry\n",
       "0    NA      0   34.340  POLYGON ((-121.46484 47.10938, -99.31641 17.22...\n",
       "1    DE      1  567.547  POLYGON ((4.74609 53.61328, 5.09766 43.06641, ..."
      ],
      "text/html": [
       "<div>\n",
       "<style scoped>\n",
       "    .dataframe tbody tr th:only-of-type {\n",
       "        vertical-align: middle;\n",
       "    }\n",
       "\n",
       "    .dataframe tbody tr th {\n",
       "        vertical-align: top;\n",
       "    }\n",
       "\n",
       "    .dataframe thead th {\n",
       "        text-align: right;\n",
       "    }\n",
       "</style>\n",
       "<table border=\"1\" class=\"dataframe\">\n",
       "  <thead>\n",
       "    <tr style=\"text-align: right;\">\n",
       "      <th></th>\n",
       "      <th>label</th>\n",
       "      <th>index</th>\n",
       "      <th>rnd</th>\n",
       "      <th>geometry</th>\n",
       "    </tr>\n",
       "  </thead>\n",
       "  <tbody>\n",
       "    <tr>\n",
       "      <th>0</th>\n",
       "      <td>NA</td>\n",
       "      <td>0</td>\n",
       "      <td>34.340</td>\n",
       "      <td>POLYGON ((-121.46484 47.10938, -99.31641 17.22...</td>\n",
       "    </tr>\n",
       "    <tr>\n",
       "      <th>1</th>\n",
       "      <td>DE</td>\n",
       "      <td>1</td>\n",
       "      <td>567.547</td>\n",
       "      <td>POLYGON ((4.74609 53.61328, 5.09766 43.06641, ...</td>\n",
       "    </tr>\n",
       "  </tbody>\n",
       "</table>\n",
       "</div>"
      ]
     },
     "metadata": {},
     "execution_count": 3
    }
   ],
   "metadata": {}
  },
  {
   "cell_type": "markdown",
   "source": [
    "## Upload"
   ],
   "metadata": {}
  },
  {
   "cell_type": "code",
   "execution_count": 4,
   "source": [
    "id = ge.upload_dataframe(gdf)\n",
    "\n",
    "id"
   ],
   "outputs": [
    {
     "output_type": "execute_result",
     "data": {
      "text/plain": [
       "71ca1d59-af86-4abb-9b11-79569a65171e"
      ]
     },
     "metadata": {},
     "execution_count": 4
    }
   ],
   "metadata": {}
  },
  {
   "cell_type": "markdown",
   "source": [
    "## TODO: do something cool with the data"
   ],
   "metadata": {}
  },
  {
   "cell_type": "markdown",
   "source": [
    "## Check data"
   ],
   "metadata": {}
  },
  {
   "cell_type": "code",
   "execution_count": 5,
   "source": [
    "workflow = ge.register_workflow({\n",
    "    \"type\": \"Vector\",\n",
    "    \"operator\": {\n",
    "        \"type\": \"OgrSource\",\n",
    "        \"params\": {\n",
    "            \"dataset\": id.to_dict(),\n",
    "            \"attributeProjection\": None\n",
    "        }\n",
    "    }\n",
    "})\n",
    "\n",
    "workflow.get_result_descriptor()"
   ],
   "outputs": [
    {
     "output_type": "execute_result",
     "data": {
      "text/plain": [
       "Data type:         MultiPolygon\n",
       "Spatial Reference: EPSG:4326\n",
       "Columns:           rnd: float\n",
       "                   label: text\n",
       "                   index: int"
      ]
     },
     "metadata": {},
     "execution_count": 5
    }
   ],
   "metadata": {}
  },
  {
   "cell_type": "markdown",
   "source": [
    "## Load data"
   ],
   "metadata": {}
  },
  {
   "cell_type": "code",
   "execution_count": 6,
   "source": [
    "time = datetime.strptime('2014-04-01T12:00:00.000Z', \"%Y-%m-%dT%H:%M:%S.%f%z\")\n",
    "\n",
    "data = workflow.get_dataframe(\n",
    "    ge.QueryRectangle(\n",
    "        [-180., -90., 180., 90.],\n",
    "        [time, time]\n",
    "        )\n",
    "    )\n",
    "\n",
    "data"
   ],
   "outputs": [
    {
     "output_type": "execute_result",
     "data": {
      "text/plain": [
       "  label  index      rnd                                           geometry  \\\n",
       "0    NA      0   34.340  POLYGON ((-121.46484 47.10938, -99.31641 17.22...   \n",
       "1    DE      1  567.547  POLYGON ((4.74609 53.61328, 5.09766 43.06641, ...   \n",
       "\n",
       "  start end  \n",
       "0   NaT NaT  \n",
       "1   NaT NaT  "
      ],
      "text/html": [
       "<div>\n",
       "<style scoped>\n",
       "    .dataframe tbody tr th:only-of-type {\n",
       "        vertical-align: middle;\n",
       "    }\n",
       "\n",
       "    .dataframe tbody tr th {\n",
       "        vertical-align: top;\n",
       "    }\n",
       "\n",
       "    .dataframe thead th {\n",
       "        text-align: right;\n",
       "    }\n",
       "</style>\n",
       "<table border=\"1\" class=\"dataframe\">\n",
       "  <thead>\n",
       "    <tr style=\"text-align: right;\">\n",
       "      <th></th>\n",
       "      <th>label</th>\n",
       "      <th>index</th>\n",
       "      <th>rnd</th>\n",
       "      <th>geometry</th>\n",
       "      <th>start</th>\n",
       "      <th>end</th>\n",
       "    </tr>\n",
       "  </thead>\n",
       "  <tbody>\n",
       "    <tr>\n",
       "      <th>0</th>\n",
       "      <td>NA</td>\n",
       "      <td>0</td>\n",
       "      <td>34.340</td>\n",
       "      <td>POLYGON ((-121.46484 47.10938, -99.31641 17.22...</td>\n",
       "      <td>NaT</td>\n",
       "      <td>NaT</td>\n",
       "    </tr>\n",
       "    <tr>\n",
       "      <th>1</th>\n",
       "      <td>DE</td>\n",
       "      <td>1</td>\n",
       "      <td>567.547</td>\n",
       "      <td>POLYGON ((4.74609 53.61328, 5.09766 43.06641, ...</td>\n",
       "      <td>NaT</td>\n",
       "      <td>NaT</td>\n",
       "    </tr>\n",
       "  </tbody>\n",
       "</table>\n",
       "</div>"
      ]
     },
     "metadata": {},
     "execution_count": 6
    }
   ],
   "metadata": {}
  },
  {
   "cell_type": "markdown",
   "source": [],
   "metadata": {}
  }
 ],
 "metadata": {
  "interpreter": {
   "hash": "d9a58577022e5a7861b3c8ea3505ccc75c3f73de469fb598a66268b17ea40dc4"
  },
  "kernelspec": {
   "name": "python3",
   "display_name": "Python 3.8.10 64-bit ('env': venv)"
  },
  "language_info": {
   "codemirror_mode": {
    "name": "ipython",
    "version": 3
   },
   "file_extension": ".py",
   "mimetype": "text/x-python",
   "name": "python",
   "nbconvert_exporter": "python",
   "pygments_lexer": "ipython3",
   "version": "3.8.10"
  },
  "orig_nbformat": 4
 },
 "nbformat": 4,
 "nbformat_minor": 2
}