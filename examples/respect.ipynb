{
 "cells": [
  {
   "cell_type": "code",
   "execution_count": 60,
   "metadata": {},
   "outputs": [],
   "source": [
    "import geoengine as ge\n",
    "from datetime import datetime"
   ]
  },
  {
   "cell_type": "code",
   "execution_count": 6,
   "metadata": {},
   "outputs": [
    {
     "data": {
      "text/plain": [
       "Server:              https://respect.app.geoengine.io/api\n",
       "Session Id:          687bc96c-9dfb-4b2c-ac23-5510c20191b7\n",
       "Session valid until: 2022-09-26T14:11:31.983Z"
      ]
     },
     "execution_count": 6,
     "metadata": {},
     "output_type": "execute_result"
    }
   ],
   "source": [
    "ge.initialize('https://respect.app.geoengine.io/api')\n",
    "ge.get_session()"
   ]
  },
  {
   "cell_type": "code",
   "execution_count": 7,
   "metadata": {},
   "outputs": [],
   "source": [
    "def create_workflow(id):\n",
    "    workflow = ge.register_workflow({\n",
    "                \"type\": \"Raster\",\n",
    "                \"operator\": {\n",
    "                    \"type\": \"GdalSource\",\n",
    "                    \"params\": {\n",
    "                        \"data\": {\n",
    "                            \"type\": \"internal\",\n",
    "                            \"datasetId\": id\n",
    "                        }\n",
    "                    }\n",
    "                }\n",
    "            })\n",
    "    return workflow\n"
   ]
  },
  {
   "cell_type": "code",
   "execution_count": 99,
   "metadata": {},
   "outputs": [
    {
     "name": "stdout",
     "output_type": "stream",
     "text": [
      "a5c1bcc1-ef50-52b1-bb68-3ca6b08819c5\n",
      "9c09a2bd-f8a5-5684-8d13-e04a5d67071a\n"
     ]
    },
    {
     "data": {
      "text/plain": [
       "Data type:         I16\n",
       "Spatial Reference: EPSG:4326\n",
       "Measurement:       unitless"
      ]
     },
     "execution_count": 99,
     "metadata": {},
     "output_type": "execute_result"
    }
   ],
   "source": [
    "surface_pressure = create_workflow(\"886bdac6-e72a-4601-b14d-f82e3e921bcb\")\n",
    "\n",
    "# TODO: remove shift\n",
    "surface_pressure = ge.register_workflow({\n",
    "  \"type\": \"Raster\",\n",
    "  \"operator\": {\n",
    "    \"type\": \"TimeShift\",\n",
    "    \"params\": {\n",
    "      \"type\": \"relative\",\n",
    "      \"granularity\": \"years\",\n",
    "      \"value\": -1\n",
    "    },\n",
    "    \"sources\": {\n",
    "      \"source\": surface_pressure.workflow_definition()['operator']\n",
    "    }\n",
    "  }\n",
    "})\n",
    "\n",
    "print(surface_pressure)\n",
    "\n",
    "# TODO: use offset and scale operator\n",
    "surface_pressure = ge.register_workflow({\n",
    "  \"type\": \"Raster\",\n",
    "  \"operator\": {\n",
    "    \"type\": \"Expression\",\n",
    "    \"params\": {\n",
    "        \"expression\": \"\"\"\n",
    "          let offset = 82468.7504592748;\n",
    "          let scale = 0.600643950376146;\n",
    "          let hPa = 0.01;\n",
    "          ((A * scale) + offset) * hPa\n",
    "        \"\"\",\n",
    "        \"outputType\": \"I16\",\n",
    "        \"mapNoData\": False\n",
    "    },\n",
    "    \"sources\": {\n",
    "      \"a\": surface_pressure.workflow_definition()['operator']\n",
    "    }\n",
    "  }\n",
    "})\n",
    "\n",
    "print(surface_pressure)\n",
    "surface_pressure.get_result_descriptor()"
   ]
  },
  {
   "cell_type": "code",
   "execution_count": 42,
   "metadata": {},
   "outputs": [
    {
     "data": {
      "text/plain": [
       "Data type:         I16\n",
       "Spatial Reference: EPSG:4326\n",
       "Measurement:       unitless"
      ]
     },
     "execution_count": 42,
     "metadata": {},
     "output_type": "execute_result"
    }
   ],
   "source": [
    "air_temperature = {\n",
    "    300: create_workflow(\"7c9cc95e-b3ed-461a-ae0e-21b2520d3391\"),\n",
    "    350: create_workflow(\"3f76b90b-2eff-48fa-bb63-c6d5078392e7\"),\n",
    "    400: create_workflow(\"105ad9f8-67f3-4cb0-b439-a92fb8443d22\"),\n",
    "    450: create_workflow(\"37042fee-e7ff-40dd-9195-a04708e31a97\"),\n",
    "    500: create_workflow(\"35e37da3-8c09-4471-988b-8a78cd4515b0\"),\n",
    "    550: create_workflow(\"28a33e1a-9c7c-4d74-8b48-3941f4ac94e6\"),\n",
    "    600: create_workflow(\"3fd40dd3-c89d-4ccc-a162-6ada9383735a\"),\n",
    "    650: create_workflow(\"0a0acfdb-ac58-4d94-a07c-76e8db0c8c2f\"),\n",
    "    700: create_workflow(\"88673023-2087-4282-acc8-8214bf2fb557\"),\n",
    "    750: create_workflow(\"58fd9e61-1a4f-4b45-badd-c6a8f013de8a\"),\n",
    "    775: create_workflow(\"68df526b-1dfc-49c4-aef7-035755ac491f\"),\n",
    "    800: create_workflow(\"745398ab-c114-442d-af00-e6faeeb43f01\"),\n",
    "    825: create_workflow(\"c6dd1a0f-7d8e-4435-bd59-4f6ea130f76e\"),\n",
    "    850: create_workflow(\"8ce7ea1a-ec10-4048-b248-2570f304afe7\"),\n",
    "    875: create_workflow(\"5ada9cec-1983-42a7-99d7-a41f2cb9963c\"),\n",
    "    900: create_workflow(\"fd72b75f-7c67-4dbd-b82c-c313bfef2e18\"),\n",
    "    925: create_workflow(\"ce768c83-b7a4-4b72-8a24-4a793eb53ccb\"),\n",
    "    950: create_workflow(\"8835b0f1-6106-4ee2-b91b-5a136142fc58\"),\n",
    "    975: create_workflow(\"d0135d9c-d1ce-495d-9d6e-41462ce93150\"),\n",
    "    1000: create_workflow(\"06589b99-c9e4-4bb3-bde2-e425745c6255\"),\n",
    "}\n",
    "air_temperature[300].get_result_descriptor()"
   ]
  },
  {
   "cell_type": "code",
   "execution_count": 100,
   "metadata": {},
   "outputs": [
    {
     "data": {
      "text/plain": [
       "Data type:         I16\n",
       "Spatial Reference: EPSG:4326\n",
       "Measurement:       unitless"
      ]
     },
     "execution_count": 100,
     "metadata": {},
     "output_type": "execute_result"
    }
   ],
   "source": [
    "expression_1 = ge.register_workflow({\n",
    "                \"type\": \"Raster\",\n",
    "                \"operator\": {\n",
    "                    \"type\": \"Expression\",\n",
    "                    \"params\": {\n",
    "                        \"expression\": \"\"\"\n",
    "                            if A < 250 { NODATA }\n",
    "                            else if A < 325 { B }\n",
    "                            else if A < 375 { C }\n",
    "                            else if A < 425 { D }\n",
    "                            else if A < 475 { E }\n",
    "                            else if A < 525 { F }\n",
    "                            else if A < 575 { G }\n",
    "                            else if A < 625 { H }\n",
    "                            else { NODATA }\n",
    "                        \"\"\",\n",
    "                        \"outputType\": \"I16\",\n",
    "                        \"mapNoData\": True\n",
    "                    },\n",
    "                    \"sources\": {\n",
    "                        \"a\": surface_pressure.workflow_definition()['operator'],\n",
    "                        \"b\": air_temperature[300].workflow_definition()['operator'],\n",
    "                        \"c\": air_temperature[350].workflow_definition()['operator'],\n",
    "                        \"d\": air_temperature[400].workflow_definition()['operator'],\n",
    "                        \"e\": air_temperature[450].workflow_definition()['operator'],\n",
    "                        \"f\": air_temperature[500].workflow_definition()['operator'],\n",
    "                        \"g\": air_temperature[550].workflow_definition()['operator'],\n",
    "                        \"h\": air_temperature[600].workflow_definition()['operator'],\n",
    "                    }\n",
    "                },\n",
    "            })\n",
    "expression_1.get_result_descriptor()"
   ]
  },
  {
   "cell_type": "code",
   "execution_count": 101,
   "metadata": {},
   "outputs": [
    {
     "data": {
      "text/plain": [
       "Data type:         I16\n",
       "Spatial Reference: EPSG:4326\n",
       "Measurement:       unitless"
      ]
     },
     "execution_count": 101,
     "metadata": {},
     "output_type": "execute_result"
    }
   ],
   "source": [
    "expression_2 = ge.register_workflow({\n",
    "                \"type\": \"Raster\",\n",
    "                \"operator\": {\n",
    "                    \"type\": \"Expression\",\n",
    "                    \"params\": {\n",
    "                        \"expression\": \"\"\"\n",
    "                            if A < 625 { NODATA }\n",
    "                            else if A < 675 { B }\n",
    "                            else if A < 725 { C }\n",
    "                            else if A < 763 { D }\n",
    "                            else if A < 788 { E }\n",
    "                            else if A < 813 { F }\n",
    "                            else if A < 838 { G }\n",
    "                            else if A < 863 { H }\n",
    "                            else { NODATA }\n",
    "                        \"\"\",\n",
    "                        \"outputType\": \"I16\",\n",
    "                        \"mapNoData\": True\n",
    "                    },\n",
    "                    \"sources\": {\n",
    "                        \"a\": surface_pressure.workflow_definition()['operator'],\n",
    "                        \"b\": air_temperature[650].workflow_definition()['operator'],\n",
    "                        \"c\": air_temperature[700].workflow_definition()['operator'],\n",
    "                        \"d\": air_temperature[750].workflow_definition()['operator'],\n",
    "                        \"e\": air_temperature[775].workflow_definition()['operator'],\n",
    "                        \"f\": air_temperature[800].workflow_definition()['operator'],\n",
    "                        \"g\": air_temperature[825].workflow_definition()['operator'],\n",
    "                        \"h\": air_temperature[850].workflow_definition()['operator'],\n",
    "                    }\n",
    "                },\n",
    "            })\n",
    "expression_2.get_result_descriptor()"
   ]
  },
  {
   "cell_type": "code",
   "execution_count": 102,
   "metadata": {},
   "outputs": [
    {
     "data": {
      "text/plain": [
       "Data type:         I16\n",
       "Spatial Reference: EPSG:4326\n",
       "Measurement:       unitless"
      ]
     },
     "execution_count": 102,
     "metadata": {},
     "output_type": "execute_result"
    }
   ],
   "source": [
    "expression_3 = ge.register_workflow({\n",
    "                \"type\": \"Raster\",\n",
    "                \"operator\": {\n",
    "                    \"type\": \"Expression\",\n",
    "                    \"params\": {\n",
    "                        \"expression\": \"\"\"\n",
    "                            if A < 863 { NODATA }\n",
    "                            else if A < 888 { B }\n",
    "                            else if A < 913 { C }\n",
    "                            else if A < 938 { D }\n",
    "                            else if A < 963 { E }\n",
    "                            else if A < 988 { F }\n",
    "                            else if A < 1013 { G }\n",
    "                            else { NODATA }\n",
    "                        \"\"\",\n",
    "                        \"outputType\": \"I16\",\n",
    "                        \"mapNoData\": True\n",
    "                    },\n",
    "                    \"sources\": {\n",
    "                        \"a\": surface_pressure.workflow_definition()['operator'],\n",
    "                        \"b\": air_temperature[875].workflow_definition()['operator'],\n",
    "                        \"c\": air_temperature[900].workflow_definition()['operator'],\n",
    "                        \"d\": air_temperature[925].workflow_definition()['operator'],\n",
    "                        \"e\": air_temperature[950].workflow_definition()['operator'],\n",
    "                        \"f\": air_temperature[975].workflow_definition()['operator'],\n",
    "                        \"g\": air_temperature[1000].workflow_definition()['operator'],\n",
    "                    }\n",
    "                },\n",
    "            })\n",
    "expression_3.get_result_descriptor()"
   ]
  },
  {
   "cell_type": "code",
   "execution_count": 106,
   "metadata": {},
   "outputs": [
    {
     "name": "stdout",
     "output_type": "stream",
     "text": [
      "f864985d-5f99-5599-8987-2a6458643973\n"
     ]
    },
    {
     "data": {
      "text/plain": [
       "Data type:         I16\n",
       "Spatial Reference: EPSG:4326\n",
       "Measurement:       Air Temperatur at ground level"
      ]
     },
     "execution_count": 106,
     "metadata": {},
     "output_type": "execute_result"
    }
   ],
   "source": [
    "expression_combined = ge.register_workflow({\n",
    "                \"type\": \"Raster\",\n",
    "                \"operator\": {\n",
    "                    \"type\": \"Expression\",\n",
    "                    \"params\": {\n",
    "                        \"expression\": \"\"\"\n",
    "                            if A != NODATA { A }\n",
    "                            else if B != NODATA { B }\n",
    "                            else if C != NODATA { C }\n",
    "                            else { NODATA }\n",
    "                        \"\"\",\n",
    "                        \"outputType\": \"I16\",\n",
    "                        \"mapNoData\": True,\n",
    "                        \"outputMeasurement\": {\n",
    "                            \"type\": \"continuous\",\n",
    "                            \"measurement\": \"Air Temperatur at ground level\",\n",
    "                            # \"unit\": \"°C\" // TODO: which unit?\n",
    "                        }\n",
    "                    },\n",
    "                    \"sources\": {\n",
    "                        \"a\": expression_1.workflow_definition()['operator'],\n",
    "                        \"b\": expression_2.workflow_definition()['operator'],\n",
    "                        \"c\": expression_3.workflow_definition()['operator'],\n",
    "                    }\n",
    "                },\n",
    "            })\n",
    "print(expression_combined)\n",
    "expression_combined.get_result_descriptor()"
   ]
  },
  {
   "cell_type": "code",
   "execution_count": 104,
   "metadata": {},
   "outputs": [
    {
     "data": {
      "image/png": "[encoded data removed]",
      "text/plain": [
       "<PIL.PngImagePlugin.PngImageFile image mode=RGBA size=512x529>"
      ]
     },
     "execution_count": 104,
     "metadata": {},
     "output_type": "execute_result"
    }
   ],
   "source": [
    "time = datetime.strptime('2019-04-01T12:00:00.000Z', \"%Y-%m-%dT%H:%M:%S.%f%z\")\n",
    "bbox = [-82.3980406333363, -5.293227102564487, -74.8394468833363, 2.5290385224355134]\n",
    "\n",
    "width = 512\n",
    "x_resolution = (bbox[2] - bbox[0]) / width\n",
    "\n",
    "expression_combined.wms_get_map_as_image(\n",
    "    ge.QueryRectangle(\n",
    "        bbox,\n",
    "        [time, time],\n",
    "        resolution=(x_resolution, x_resolution)\n",
    "    ),\n",
    "    colorizer=ge.Colorizer(map_name=\"viridis\", min_max=(-32766,-30760)),\n",
    ")"
   ]
  },
  {
   "cell_type": "code",
   "execution_count": 105,
   "metadata": {},
   "outputs": [
    {
     "data": {
      "image/png": "[encoded data removed]",
      "text/plain": [
       "<PIL.PngImagePlugin.PngImageFile image mode=RGBA size=512x529>"
      ]
     },
     "execution_count": 105,
     "metadata": {},
     "output_type": "execute_result"
    }
   ],
   "source": [
    "surface_pressure.wms_get_map_as_image(\n",
    "    ge.QueryRectangle(\n",
    "        bbox,\n",
    "        [time, time],\n",
    "        resolution=(x_resolution, x_resolution)\n",
    "    ),\n",
    "    colorizer=ge.Colorizer(map_name=\"viridis\", min_max=(629,1020)),\n",
    ")"
   ]
  }
 ],
 "metadata": {
  "kernelspec": {
   "display_name": "Python 3.8.10 ('env': venv)",
   "language": "python",
   "name": "python3"
  },
  "language_info": {
   "codemirror_mode": {
    "name": "ipython",
    "version": 3
   },
   "file_extension": ".py",
   "mimetype": "text/x-python",
   "name": "python",
   "nbconvert_exporter": "python",
   "pygments_lexer": "ipython3",
   "version": "3.8.10"
  },
  "orig_nbformat": 4,
  "vscode": {
   "interpreter": {
    "hash": "8f2d394a8963745260d673b0ce4a9113a8a87eb715b140f62b67b68f351e1742"
   }
  }
 },
 "nbformat": 4,
 "nbformat_minor": 2
}
